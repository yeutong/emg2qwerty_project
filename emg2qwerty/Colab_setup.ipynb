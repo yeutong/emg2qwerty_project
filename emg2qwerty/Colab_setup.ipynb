{
  "nbformat": 4,
  "nbformat_minor": 0,
  "metadata": {
    "colab": {
      "provenance": [],
      "gpuType": "T4"
    },
    "kernelspec": {
      "name": "python3",
      "display_name": "Python 3"
    },
    "language_info": {
      "name": "python"
    },
    "accelerator": "GPU"
  },
  "cells": [
    {
      "cell_type": "markdown",
      "source": [
        "### Step 1: Mount the Google Drive\n",
        "\n",
        "Remember to use GPU runtime before mounting your account. (Runtime --> Change runtime type)."
      ],
      "metadata": {
        "id": "IvxJOJu4XUIW"
      }
    },
    {
      "cell_type": "code",
      "execution_count": null,
      "metadata": {
        "id": "SCSU4HrvkVDq"
      },
      "outputs": [],
      "source": [
        "from google.colab import drive\n",
        "drive.mount('/content/drive')"
      ]
    },
    {
      "cell_type": "markdown",
      "source": [
        "### Step 2: Open the project directory\n",
        "\n",
        "Replace `Your_Dir` with your own path."
      ],
      "metadata": {
        "id": "FyoSL1U8Xbjh"
      }
    },
    {
      "cell_type": "code",
      "source": [
        "cd Your_Dir/emg2qwerty-main"
      ],
      "metadata": {
        "id": "-gfQ17SmkfOK"
      },
      "execution_count": null,
      "outputs": []
    },
    {
      "cell_type": "markdown",
      "source": [
        "### Step 3: Install required packages\n",
        "\n",
        "After installing them, Colab will require you to restart the session."
      ],
      "metadata": {
        "id": "eTzYfAOEYN4C"
      }
    },
    {
      "cell_type": "code",
      "source": [
        "!pip install -r requirements.txt"
      ],
      "metadata": {
        "id": "HFFKvhs4tAp5"
      },
      "execution_count": null,
      "outputs": []
    },
    {
      "cell_type": "markdown",
      "source": [
        "### Step 4: Start your experiments!\n",
        "\n",
        "- Remember to download the dataset here: `Your_Dir/emg2qwerty-main/data`.\n",
        "- You may now start your experiments with any scripts.\n",
        "- Below is an example of single-user training."
      ],
      "metadata": {
        "id": "nSoRzGXCfUtz"
      }
    },
    {
      "cell_type": "code",
      "source": [
        "!python -m emg2qwerty.train \\\n",
        "  user=\"glob(single_user)\" \\\n",
        "  trainer.accelerator=gpu trainer.devices=1 \\\n",
        "  --multirun"
      ],
      "metadata": {
        "id": "n84M6KLmkp2i"
      },
      "execution_count": null,
      "outputs": []
    }
  ]
}