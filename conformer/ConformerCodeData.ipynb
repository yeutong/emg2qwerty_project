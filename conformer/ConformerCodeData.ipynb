{
 "cells": [
  {
   "cell_type": "code",
   "execution_count": 1,
   "metadata": {},
   "outputs": [],
   "source": [
    "%load_ext autoreload\n",
    "%autoreload 2"
   ]
  },
  {
   "cell_type": "code",
   "execution_count": 2,
   "metadata": {},
   "outputs": [
    {
     "name": "stdout",
     "output_type": "stream",
     "text": [
      "Requirement already satisfied: unidecode in c:\\users\\aisha\\appdata\\local\\packages\\pythonsoftwarefoundation.python.3.11_qbz5n2kfra8p0\\localcache\\local-packages\\python311\\site-packages (1.3.8)\n"
     ]
    },
    {
     "name": "stderr",
     "output_type": "stream",
     "text": [
      "\n",
      "[notice] A new release of pip is available: 24.0 -> 25.0.1\n",
      "[notice] To update, run: C:\\Users\\aisha\\AppData\\Local\\Microsoft\\WindowsApps\\PythonSoftwareFoundation.Python.3.11_qbz5n2kfra8p0\\python.exe -m pip install --upgrade pip\n"
     ]
    }
   ],
   "source": [
    "!pip install unidecode\n",
    "# !pip install -r requirements.txt"
   ]
  },
  {
   "cell_type": "code",
   "execution_count": 3,
   "metadata": {},
   "outputs": [
    {
     "name": "stdout",
     "output_type": "stream",
     "text": [
      "Created train_loader with 30713 windows\n",
      "Created val_loader with 1698 windows\n",
      "Created test_loader with 2251 windows\n"
     ]
    }
   ],
   "source": [
    "import yaml\n",
    "from pathlib import Path\n",
    "import torch\n",
    "from torch.utils.data import DataLoader, ConcatDataset, Subset\n",
    "from emg2qwerty.data import WindowedEMGDataset\n",
    "from emg2qwerty.transforms import Compose, ToTensor, LogSpectrogram, SpecAugment, RandomBandRotation, TemporalAlignmentJitter\n",
    "\n",
    "\n",
    "batch_size = 32\n",
    "num_workers = 2\n",
    "\n",
    "# 1. Load the configuration file\n",
    "config_path = Path(\"config/user/single_user.yaml\")\n",
    "with open(config_path, 'r') as f:\n",
    "    first_line = f.readline()\n",
    "    if first_line.startswith('# @package'):\n",
    "        cfg = yaml.safe_load(f)\n",
    "    else:\n",
    "        f.seek(0)\n",
    "        cfg = yaml.safe_load(f)\n",
    "\n",
    "# 2. Set the data root path\n",
    "data_root = Path(\"data\")\n",
    "\n",
    "# 3. Create transforms\n",
    "# Training transforms with augmentation\n",
    "train_transform = Compose([\n",
    "    ToTensor(),\n",
    "    LogSpectrogram(),\n",
    "    SpecAugment(),\n",
    "    RandomBandRotation()\n",
    "])\n",
    "\n",
    "# Validation/test transforms without augmentation\n",
    "eval_transform = Compose([\n",
    "    ToTensor(),\n",
    "    LogSpectrogram()\n",
    "])\n",
    "\n",
    "# 4. Create datasets\n",
    "train_datasets = []\n",
    "for session_info in cfg['dataset']['train']:\n",
    "    session_id = session_info['session']\n",
    "    file_path = data_root / f\"{session_id}.hdf5\"\n",
    "\n",
    "    dataset = WindowedEMGDataset(\n",
    "        hdf5_path=file_path,\n",
    "        window_length=2000,  # 1 second at 2kHz\n",
    "        stride=1000,         # 50% overlap\n",
    "        padding=(200, 200),  # 100ms context on each side\n",
    "        jitter=True,         # Apply jitter for training\n",
    "        transform=train_transform\n",
    "    )\n",
    "    train_datasets.append(dataset)\n",
    "\n",
    "val_datasets = []\n",
    "for session_info in cfg['dataset']['val']:\n",
    "    session_id = session_info['session']\n",
    "    file_path = data_root / f\"{session_id}.hdf5\"\n",
    "\n",
    "    dataset = WindowedEMGDataset(\n",
    "        hdf5_path=file_path,\n",
    "        window_length=2000,\n",
    "        stride=1000,\n",
    "        padding=(200, 200),\n",
    "        jitter=False,  # No jitter for validation\n",
    "        transform=eval_transform\n",
    "    )\n",
    "    val_datasets.append(dataset)\n",
    "\n",
    "test_datasets = []\n",
    "for session_info in cfg['dataset']['test']:\n",
    "    session_id = session_info['session']\n",
    "    file_path = data_root / f\"{session_id}.hdf5\"\n",
    "\n",
    "    dataset = WindowedEMGDataset(\n",
    "        hdf5_path=file_path,\n",
    "        window_length=2000,\n",
    "        stride=1000,\n",
    "        padding=(200, 200),\n",
    "        jitter=False,  # No jitter for testing\n",
    "        transform=eval_transform\n",
    "    )\n",
    "    test_datasets.append(dataset)\n",
    "\n",
    "# 5. Combine datasets and create DataLoaders\n",
    "train_dataset = ConcatDataset(train_datasets)\n",
    "val_dataset = ConcatDataset(val_datasets)\n",
    "test_dataset = ConcatDataset(test_datasets)\n",
    "\n",
    "train_loader = DataLoader(\n",
    "    train_dataset,\n",
    "    batch_size=batch_size,\n",
    "    shuffle=True,\n",
    "    collate_fn=WindowedEMGDataset.collate,\n",
    "    num_workers=num_workers\n",
    ")\n",
    "\n",
    "\n",
    "val_loader = DataLoader(\n",
    "    val_dataset,\n",
    "    batch_size=batch_size,\n",
    "    shuffle=False,  # No shuffle for validation\n",
    "    collate_fn=WindowedEMGDataset.collate,\n",
    "    num_workers=num_workers\n",
    ")\n",
    "\n",
    "test_loader = DataLoader(\n",
    "    test_dataset,\n",
    "    batch_size=batch_size,\n",
    "    shuffle=False,  # No shuffle for testing\n",
    "    collate_fn=WindowedEMGDataset.collate,\n",
    "    num_workers=num_workers\n",
    ")\n",
    "\n",
    "# for debugging\n",
    "small_train_loader = DataLoader(\n",
    "    Subset(train_dataset, list(range(100))),\n",
    "    batch_size=batch_size,\n",
    "    shuffle=True,\n",
    "    collate_fn=WindowedEMGDataset.collate,\n",
    "    num_workers=num_workers\n",
    ")\n",
    "\n",
    "small_val_loader = DataLoader(\n",
    "    Subset(val_dataset, list(range(100))),\n",
    "    batch_size=batch_size,\n",
    "    shuffle=False,  # No shuffle for validation\n",
    "    collate_fn=WindowedEMGDataset.collate,\n",
    "    num_workers=num_workers\n",
    ")\n",
    "\n",
    "print(f\"Created train_loader with {len(train_dataset)} windows\")\n",
    "print(f\"Created val_loader with {len(val_dataset)} windows\")\n",
    "print(f\"Created test_loader with {len(test_dataset)} windows\")\n"
   ]
  },
  {
   "cell_type": "code",
   "execution_count": 4,
   "metadata": {},
   "outputs": [
    {
     "name": "stdout",
     "output_type": "stream",
     "text": [
      "        user                                            session  \\\n",
      "0   89335547  2021-06-03-1622765527-keystrokes-dca-study@1-0...   \n",
      "1   89335547  2021-06-02-1622681518-keystrokes-dca-study@1-0...   \n",
      "2   89335547  2021-06-04-1622863166-keystrokes-dca-study@1-0...   \n",
      "3   89335547  2021-07-22-1627003020-keystrokes-dca-study@1-0...   \n",
      "4   89335547  2021-07-21-1626916256-keystrokes-dca-study@1-0...   \n",
      "5   89335547  2021-07-22-1627004019-keystrokes-dca-study@1-0...   \n",
      "6   89335547  2021-06-05-1622885888-keystrokes-dca-study@1-0...   \n",
      "7   89335547  2021-06-02-1622679967-keystrokes-dca-study@1-0...   \n",
      "8   89335547  2021-06-03-1622764398-keystrokes-dca-study@1-0...   \n",
      "9   89335547  2021-07-21-1626917264-keystrokes-dca-study@1-0...   \n",
      "10  89335547  2021-06-05-1622889105-keystrokes-dca-study@1-0...   \n",
      "11  89335547  2021-06-03-1622766673-keystrokes-dca-study@1-0...   \n",
      "12  89335547  2021-06-04-1622861066-keystrokes-dca-study@1-0...   \n",
      "13  89335547  2021-07-22-1627001995-keystrokes-dca-study@1-0...   \n",
      "14  89335547  2021-06-05-1622884635-keystrokes-dca-study@1-0...   \n",
      "15  89335547  2021-07-21-1626915176-keystrokes-dca-study@1-0...   \n",
      "16  89335547  2021-06-04-1622862148-keystrokes-dca-study@1-0...   \n",
      "17  89335547  2021-06-02-1622682789-keystrokes-dca-study@1-0...   \n",
      "\n",
      "    duration_mins  duration_hours  num_keystrokes  num_prompts  split  \n",
      "0       16.055175        0.267586            4667          154  train  \n",
      "1       18.069472        0.301158            4591          154  train  \n",
      "2       14.921639        0.248694            4695          154  train  \n",
      "3       15.145979        0.252433            4438          154  train  \n",
      "4       15.131067        0.252184            4504          154  train  \n",
      "5       14.922270        0.248705            4432          154  train  \n",
      "6       17.357376        0.289290            4636          154  train  \n",
      "7       19.807583        0.330126            4690          154  train  \n",
      "8       15.610410        0.260173            4532          154  train  \n",
      "9       14.662873        0.244381            4450          154  train  \n",
      "10      16.961649        0.282694            4558          154  train  \n",
      "11      15.617070        0.260285            4480          154  train  \n",
      "12      14.928824        0.248814            4569          154  train  \n",
      "13      14.546556        0.242443            4383          154  train  \n",
      "14      17.746499        0.295775            4647          154  train  \n",
      "15      14.518713        0.241979            4375          154  train  \n",
      "16      14.165903        0.236098            4524          153    val  \n",
      "17      18.768094        0.312802            4627          154   test  \n",
      "Overall statistics:\n",
      "Number of sessions: 18\n",
      "Total duration (hours): 4.82\n",
      "Total keystrokes: 81798\n",
      "Total prompts: 2771\n",
      "\n",
      "Statistics by split:\n",
      "       count  duration_hours  num_keystrokes  num_prompts\n",
      "split                                                    \n",
      "test       1        0.312802            4627          154\n",
      "train     16        4.266719           72647         2464\n",
      "val        1        0.236098            4524          153\n",
      "\n",
      "Train set statistics:\n",
      "Number of sessions: 16\n",
      "Total duration (hours): 4.27\n",
      "Total keystrokes: 72647\n",
      "Total prompts: 2464\n",
      "\n",
      "Val set statistics:\n",
      "Number of sessions: 1\n",
      "Total duration (hours): 0.24\n",
      "Total keystrokes: 4524\n",
      "Total prompts: 153\n",
      "\n",
      "Test set statistics:\n",
      "Number of sessions: 1\n",
      "Total duration (hours): 0.31\n",
      "Total keystrokes: 4627\n",
      "Total prompts: 154\n"
     ]
    }
   ],
   "source": [
    "import pandas as pd\n",
    "import h5py\n",
    "from pathlib import Path\n",
    "import yaml\n",
    "import json\n",
    "\n",
    "# Load the configuration file\n",
    "config_path = Path(\"C:/Users/aisha/OneDrive/Documents/cs247_project/config/user/single_user.yaml\")\n",
    "with open(config_path, 'r') as f:\n",
    "    # Skip the first line which contains \"# @package _global_\"\n",
    "    first_line = f.readline()\n",
    "    if first_line.startswith('# @package'):\n",
    "        cfg = yaml.safe_load(f)\n",
    "    else:\n",
    "        # If the first line doesn't have the package declaration, reset to beginning of file\n",
    "        f.seek(0)\n",
    "        cfg = yaml.safe_load(f)\n",
    "\n",
    "# Set the data root path (adjust this to your actual data location)\n",
    "data_root = Path(\"C:/Users/aisha/OneDrive/Documents/cs247_project/data\")  # Update this to your actual data path\n",
    "\n",
    "# Function to extract metadata from a session file\n",
    "def extract_session_metadata(file_path):\n",
    "    try:\n",
    "        with h5py.File(file_path, 'r') as f:\n",
    "            emg2qwerty_group = f['emg2qwerty']\n",
    "\n",
    "            # Get metadata attributes\n",
    "            metadata = {}\n",
    "            for key, val in emg2qwerty_group.attrs.items():\n",
    "                if key in ['keystrokes', 'prompts']:\n",
    "                    try:\n",
    "                        metadata[key] = json.loads(val)\n",
    "                    except json.JSONDecodeError:\n",
    "                        # Fall back to yaml if json fails\n",
    "                        metadata[key] = yaml.safe_load(val)\n",
    "                else:\n",
    "                    metadata[key] = val\n",
    "\n",
    "            # Calculate basic statistics\n",
    "            session_stats = {\n",
    "                'user': metadata.get('user', 'unknown'),\n",
    "                'session': metadata.get('session_name', 'unknown'),\n",
    "                'duration_mins': metadata.get('duration_mins', 0),\n",
    "                'duration_hours': metadata.get('duration_mins', 0) / 60.0,\n",
    "                'num_keystrokes': len(metadata.get('keystrokes', [])),\n",
    "                'num_prompts': len(metadata.get('prompts', [])),\n",
    "                'split': 'unknown'  # Will be set later\n",
    "            }\n",
    "\n",
    "            return session_stats\n",
    "    except Exception as e:\n",
    "        print(f\"Error processing {file_path}: {str(e)}\")\n",
    "        return None\n",
    "\n",
    "# Collect all sessions from config\n",
    "all_sessions = []\n",
    "splits = ['train', 'val', 'test']\n",
    "\n",
    "for split in splits:\n",
    "    if split in cfg['dataset']:\n",
    "        for session_info in cfg['dataset'][split]:\n",
    "            session_info_dict = {\n",
    "                'user': session_info['user'],\n",
    "                'session': session_info['session'],\n",
    "                'split': split\n",
    "            }\n",
    "            all_sessions.append(session_info_dict)\n",
    "\n",
    "# Process each session to get metadata\n",
    "session_stats = []\n",
    "\n",
    "for session_info in all_sessions:\n",
    "    user_id = session_info['user']\n",
    "    session_id = session_info['session']\n",
    "    split = session_info['split']\n",
    "    file_path = data_root / f\"{session_id}.hdf5\"\n",
    "\n",
    "    if file_path.exists():\n",
    "        stats = extract_session_metadata(file_path)\n",
    "        if stats:\n",
    "            stats['split'] = split  # Add which split this session belongs to\n",
    "            session_stats.append(stats)\n",
    "    else:\n",
    "        print(f\"Warning: File not found: {file_path}\")\n",
    "\n",
    "# Create a DataFrame from the collected statistics\n",
    "df = pd.DataFrame(session_stats)\n",
    "print(df)\n",
    "\n",
    "# Calculate aggregated statistics per split\n",
    "split_stats = df.groupby('split').agg({\n",
    "    'session': 'count',\n",
    "    'duration_hours': 'sum',\n",
    "    'num_keystrokes': 'sum',\n",
    "    'num_prompts': 'sum'\n",
    "}).rename(columns={'session': 'count'})\n",
    "\n",
    "# Calculate overall statistics\n",
    "num_sessions = len(df)\n",
    "total_duration_hours = df[\"duration_hours\"].sum()\n",
    "total_keystrokes = df[\"num_keystrokes\"].sum()\n",
    "total_prompts = df[\"num_prompts\"].sum()\n",
    "\n",
    "# Print the results\n",
    "print(\"Overall statistics:\")\n",
    "print(f\"Number of sessions: {num_sessions}\")\n",
    "print(f\"Total duration (hours): {total_duration_hours:.2f}\")\n",
    "print(f\"Total keystrokes: {total_keystrokes}\")\n",
    "print(f\"Total prompts: {total_prompts}\")\n",
    "\n",
    "print(\"\\nStatistics by split:\")\n",
    "print(split_stats)\n",
    "\n",
    "# Also print individual statistics for train, val, and test sets\n",
    "for split in splits:\n",
    "    if split in df['split'].values:\n",
    "        split_df = df[df['split'] == split]\n",
    "        print(f\"\\n{split.capitalize()} set statistics:\")\n",
    "        print(f\"Number of sessions: {len(split_df)}\")\n",
    "        print(f\"Total duration (hours): {split_df['duration_hours'].sum():.2f}\")\n",
    "        print(f\"Total keystrokes: {split_df['num_keystrokes'].sum()}\")\n",
    "        print(f\"Total prompts: {split_df['num_prompts'].sum()}\")\n",
    "\n",
    "# Save to CSV files\n",
    "df.to_csv(\"all_session_metadata.csv\", index=False)\n",
    "split_stats.to_csv(\"split_statistics.csv\")\n"
   ]
  },
  {
   "cell_type": "code",
   "execution_count": 5,
   "metadata": {},
   "outputs": [],
   "source": [
    "import torch\n",
    "import torch.nn as nn\n",
    "import torch.nn.functional as F\n",
    "import torch.optim as optim\n",
    "import math\n",
    "import numpy as np\n",
    "from tqdm import tqdm\n",
    "from pathlib import Path\n",
    "import matplotlib.pyplot as plt\n",
    "from emg2qwerty.charset import charset"
   ]
  },
  {
   "cell_type": "code",
   "execution_count": 6,
   "metadata": {},
   "outputs": [],
   "source": [
    "class PositionalEncoding(nn.Module):\n",
    "    def __init__(self, d_model, max_len=5000):\n",
    "        super().__init__()\n",
    "        # Create position encodings\n",
    "        pe = torch.zeros(max_len, d_model)\n",
    "        position = torch.arange(0, max_len, dtype=torch.float).unsqueeze(1)\n",
    "        div_term = torch.exp(torch.arange(0, d_model, 2).float() * (-math.log(10000.0) / d_model))\n",
    "        pe[:, 0::2] = torch.sin(position * div_term)\n",
    "        pe[:, 1::2] = torch.cos(position * div_term)\n",
    "        pe = pe.unsqueeze(0).transpose(0, 1)\n",
    "        self.register_buffer('pe', pe)\n",
    "\n",
    "    def forward(self, x):\n",
    "        # x is [seq_len, batch, features]\n",
    "        return x + self.pe[:x.size(0), :]"
   ]
  },
  {
   "cell_type": "code",
   "execution_count": 7,
   "metadata": {},
   "outputs": [],
   "source": [
    "class ConvModule(nn.Module):\n",
    "    def __init__(self, d_model, kernel_size=15, expansion_factor=2, dropout=0.1):\n",
    "        super().__init__()\n",
    "\n",
    "        # Pointwise Conv -> Depthwise Conv -> Pointwise Conv\n",
    "        self.layer_norm = nn.LayerNorm(d_model)\n",
    "        self.pointwise_conv1 = nn.Conv1d(d_model, d_model * expansion_factor, kernel_size=1)\n",
    "        self.glu = nn.GLU(dim=1)\n",
    "        self.depthwise_conv = nn.Conv1d(\n",
    "            d_model, d_model,\n",
    "            kernel_size=kernel_size,\n",
    "            padding=(kernel_size-1)//2,\n",
    "            groups=d_model\n",
    "        )\n",
    "        self.batch_norm = nn.BatchNorm1d(d_model)\n",
    "        self.swish = nn.SiLU()\n",
    "        self.pointwise_conv2 = nn.Conv1d(d_model, d_model, kernel_size=1)\n",
    "        self.dropout = nn.Dropout(dropout)\n",
    "\n",
    "    def forward(self, x):\n",
    "        # x is [batch, seq_len, d_model]\n",
    "        residual = x\n",
    "\n",
    "        # Layer norm\n",
    "        x = self.layer_norm(x)\n",
    "\n",
    "        # Transpose to [batch, d_model, seq_len] for Conv1d\n",
    "        x = x.transpose(1, 2)\n",
    "\n",
    "        # Pointwise conv and GLU activation\n",
    "        x = self.pointwise_conv1(x)\n",
    "        x = self.glu(x)\n",
    "\n",
    "        # Depthwise conv\n",
    "        x = self.depthwise_conv(x)\n",
    "        x = self.batch_norm(x)\n",
    "        x = self.swish(x)\n",
    "\n",
    "        # Pointwise conv\n",
    "        x = self.pointwise_conv2(x)\n",
    "        x = self.dropout(x)\n",
    "\n",
    "        # Transpose back to [batch, seq_len, d_model]\n",
    "        x = x.transpose(1, 2)\n",
    "\n",
    "        # Residual connection\n",
    "        return x + residual"
   ]
  },
  {
   "cell_type": "code",
   "execution_count": 8,
   "metadata": {},
   "outputs": [],
   "source": [
    "class FeedForwardModule(nn.Module):\n",
    "    def __init__(self, d_model, expansion_factor=4, dropout=0.1):\n",
    "        super().__init__()\n",
    "\n",
    "        self.layer_norm = nn.LayerNorm(d_model)\n",
    "        self.linear1 = nn.Linear(d_model, d_model * expansion_factor)\n",
    "        self.swish = nn.SiLU()\n",
    "        self.dropout1 = nn.Dropout(dropout)\n",
    "        self.linear2 = nn.Linear(d_model * expansion_factor, d_model)\n",
    "        self.dropout2 = nn.Dropout(dropout)\n",
    "\n",
    "    def forward(self, x):\n",
    "        residual = x\n",
    "\n",
    "        x = self.layer_norm(x)\n",
    "        x = self.linear1(x)\n",
    "        x = self.swish(x)\n",
    "        x = self.dropout1(x)\n",
    "        x = self.linear2(x)\n",
    "        x = self.dropout2(x)\n",
    "\n",
    "        return x + residual"
   ]
  },
  {
   "cell_type": "code",
   "execution_count": 9,
   "metadata": {},
   "outputs": [],
   "source": [
    "class ConformerBlock(nn.Module):\n",
    "    def __init__(self, d_model, nhead=8, dropout=0.1, kernel_size=15):\n",
    "        super().__init__()\n",
    "\n",
    "        # First feed-forward module (half-step)\n",
    "        self.feed_forward1 = FeedForwardModule(d_model, dropout=dropout)\n",
    "\n",
    "        # Multi-headed self-attention\n",
    "        self.self_attn_layer_norm = nn.LayerNorm(d_model)\n",
    "        self.self_attn = nn.MultiheadAttention(d_model, nhead, dropout=dropout, batch_first=False)\n",
    "        self.self_attn_dropout = nn.Dropout(dropout)\n",
    "\n",
    "        # Convolution module\n",
    "        self.conv_module = ConvModule(d_model, kernel_size=kernel_size, dropout=dropout)\n",
    "\n",
    "        # Second feed-forward module (half-step)\n",
    "        self.feed_forward2 = FeedForwardModule(d_model, dropout=dropout)\n",
    "\n",
    "        # Final layer norm\n",
    "        self.final_layer_norm = nn.LayerNorm(d_model)\n",
    "\n",
    "    def forward(self, x, attention_mask=None):\n",
    "        \"\"\"\n",
    "        Args:\n",
    "            x: input tensor of shape [seq_len, batch, d_model]\n",
    "            attention_mask: mask for self-attention of shape [batch, seq_len]\n",
    "        \"\"\"\n",
    "        # Apply first FFN (half step)\n",
    "        x = x + 0.5 * self.feed_forward1(x)\n",
    "\n",
    "        # Apply self-attention\n",
    "        residual = x\n",
    "        x = self.self_attn_layer_norm(x)\n",
    "\n",
    "        # For PyTorch's MultiheadAttention when batch_first=False:\n",
    "        # x shape should be [seq_len, batch, d_model]\n",
    "        # key_padding_mask should be [batch, seq_len]\n",
    "        attn_output, _ = self.self_attn(\n",
    "            x, x, x,\n",
    "            key_padding_mask=attention_mask  # Already in correct shape [batch, seq_len]\n",
    "        )\n",
    "\n",
    "        x = residual + self.self_attn_dropout(attn_output)\n",
    "\n",
    "        # Apply convolution module\n",
    "        residual = x\n",
    "        x_t = x.transpose(0, 1)  # [batch, seq_len, d_model]\n",
    "        x_t = self.conv_module(x_t)\n",
    "        x = residual + x_t.transpose(0, 1)  # [seq_len, batch, d_model]\n",
    "\n",
    "        # Apply second FFN (half step)\n",
    "        x = x + 0.5 * self.feed_forward2(x)\n",
    "\n",
    "        # Final layer norm\n",
    "        x = self.final_layer_norm(x)\n",
    "\n",
    "        return x"
   ]
  },
  {
   "cell_type": "code",
   "execution_count": 10,
   "metadata": {},
   "outputs": [],
   "source": [
    "class EMGConformer(nn.Module):\n",
    "    def __init__(self, num_classes=99, d_model=256, nhead=8, num_layers=4, dropout=0.3):\n",
    "        super().__init__()\n",
    "        \n",
    "        # Input EMG signal dimensions\n",
    "        self.features = 1056  # 2 bands * 16 channels * 33 frequencies\n",
    "        \n",
    "        # CNN feature extraction with output channels = cnn_output_dim\n",
    "        cnn_output_dim = 256  # This should match your last CNN layer's output channels\n",
    "        \n",
    "        self.conv_layers = nn.Sequential(\n",
    "            nn.Conv1d(self.features, 512, kernel_size=3, stride=1, padding=1),\n",
    "            nn.BatchNorm1d(512),\n",
    "            nn.ReLU(),\n",
    "            nn.Dropout(dropout),\n",
    "            \n",
    "            nn.Conv1d(512, cnn_output_dim, kernel_size=3, stride=1, padding=1),\n",
    "            nn.BatchNorm1d(cnn_output_dim),\n",
    "            nn.ReLU(),\n",
    "            nn.MaxPool1d(kernel_size=2, stride=2),\n",
    "            nn.Dropout(dropout)\n",
    "        )\n",
    "        \n",
    "        # Add projection layer to ensure dimensions match\n",
    "        self.projection = nn.Linear(cnn_output_dim, d_model) if cnn_output_dim != d_model else nn.Identity()\n",
    "        \n",
    "        # Positional encoding\n",
    "        self.pos_encoder = PositionalEncoding(d_model)\n",
    "        \n",
    "        # Conformer blocks\n",
    "        self.conformer_blocks = nn.ModuleList([\n",
    "            ConformerBlock(d_model, nhead, dropout, kernel_size=15)\n",
    "            for _ in range(num_layers)\n",
    "        ])\n",
    "        \n",
    "        # Classification head\n",
    "        self.classifier = nn.Linear(d_model, num_classes)\n",
    "    \n",
    "    def forward(self, x, input_lengths=None):\n",
    "        # x shape: [T, N, B, C, F] - [time, batch, bands, channels, freq]\n",
    "        T, N, B, C, F = x.shape\n",
    "        device = x.device\n",
    "        \n",
    "        # Flatten features and prepare for Conv1d\n",
    "        x = x.reshape(T, N, B*C*F).permute(1, 2, 0)  # [N, B*C*F, T]\n",
    "        \n",
    "        # Apply CNN layers\n",
    "        x = self.conv_layers(x)  # [N, cnn_output_dim, T//2]\n",
    "        \n",
    "        # Calculate new sequence lengths after CNN pooling \n",
    "        if input_lengths is not None:\n",
    "            new_lengths = torch.div(input_lengths, 2, rounding_mode='floor')\n",
    "            new_lengths = torch.clamp(new_lengths, min=1)\n",
    "            # Create padding mask for transformer\n",
    "            max_len = x.size(2)\n",
    "            padding_mask = (torch.arange(max_len, device=device).expand(N, max_len) \n",
    "                           >= new_lengths.unsqueeze(1))\n",
    "        else:\n",
    "            padding_mask = None\n",
    "        \n",
    "        # Prepare for conformer: [T//2, N, cnn_output_dim]\n",
    "        x = x.permute(2, 0, 1)\n",
    "        \n",
    "        # Apply projection if needed\n",
    "        x = self.projection(x)  # [T//2, N, d_model]\n",
    "        \n",
    "        # Apply positional encoding\n",
    "        x = self.pos_encoder(x)\n",
    "        \n",
    "        # Apply conformer blocks\n",
    "        for block in self.conformer_blocks:\n",
    "            x = block(x, padding_mask)\n",
    "        \n",
    "        # Apply classifier\n",
    "        x = self.classifier(x)\n",
    "        \n",
    "        return x"
   ]
  },
  {
   "cell_type": "code",
   "execution_count": 11,
   "metadata": {},
   "outputs": [],
   "source": [
    "def calculate_cer(predictions, targets):\n",
    "    \"\"\"\n",
    "    Calculate Character Error Rate\n",
    "    \"\"\"\n",
    "    total_edits = 0\n",
    "    total_length = 0\n",
    "\n",
    "    for pred, target in zip(predictions, targets):\n",
    "        # Remove blank tokens and duplicates\n",
    "        filtered_pred = []\n",
    "        prev = None\n",
    "        for p in pred:\n",
    "            if p != charset().null_class and p != prev:\n",
    "                filtered_pred.append(p)\n",
    "            prev = p\n",
    "\n",
    "        # Calculate edit distance\n",
    "        edit_distance = levenshtein_distance(filtered_pred, target)\n",
    "\n",
    "        total_edits += edit_distance\n",
    "        total_length += len(target)\n",
    "\n",
    "    # Return CER\n",
    "    return total_edits / max(1, total_length)\n",
    "\n",
    "def levenshtein_distance(s1, s2):\n",
    "    \"\"\"\n",
    "    Calculate Levenshtein distance between two sequences\n",
    "    \"\"\"\n",
    "    if len(s1) < len(s2):\n",
    "        return levenshtein_distance(s2, s1)\n",
    "\n",
    "    if len(s2) == 0:\n",
    "        return len(s1)\n",
    "\n",
    "    previous_row = range(len(s2) + 1)\n",
    "    for i, c1 in enumerate(s1):\n",
    "        current_row = [i + 1]\n",
    "        for j, c2 in enumerate(s2):\n",
    "            insertions = previous_row[j + 1] + 1\n",
    "            deletions = current_row[j] + 1\n",
    "            substitutions = previous_row[j] + (c1 != c2)\n",
    "            current_row.append(min(insertions, deletions, substitutions))\n",
    "        previous_row = current_row\n",
    "\n",
    "    return previous_row[-1]"
   ]
  },
  {
   "cell_type": "code",
   "execution_count": 12,
   "metadata": {},
   "outputs": [],
   "source": [
    "def decode_predictions(log_probs, input_lengths):\n",
    "    \"\"\"Perform CTC greedy decoding on log probabilities\"\"\"\n",
    "    predictions = log_probs.argmax(dim=2)\n",
    "    decoded = []\n",
    "    \n",
    "    for i in range(predictions.size(1)):  # Loop through batch\n",
    "        pred_len = input_lengths[i].item()\n",
    "        pred = predictions[:pred_len, i].tolist()\n",
    "        \n",
    "        # Remove consecutive duplicates and blanks (CTC decoding)\n",
    "        result = []\n",
    "        prev = None\n",
    "        for p in pred:\n",
    "            if p != 0:  # Not blank\n",
    "                if p != prev:  # Not a duplicate\n",
    "                    result.append(p)\n",
    "            prev = p\n",
    "        \n",
    "        decoded.append(result)\n",
    "    \n",
    "    return decoded"
   ]
  },
  {
   "cell_type": "code",
   "execution_count": 13,
   "metadata": {},
   "outputs": [],
   "source": [
    "def create_data_subsets(train_dataset, percentages=[0.1, 0.25, 0.5, 0.75, 1.0]):\n",
    "    \"\"\"\n",
    "    Create subsets of the training data with different percentages of the full dataset.\n",
    "    \n",
    "    Args:\n",
    "        train_dataset: The full training dataset\n",
    "        percentages: List of fractions of data to use\n",
    "    \n",
    "    Returns:\n",
    "        Dictionary mapping percentage to DataLoader\n",
    "    \"\"\"\n",
    "    subset_loaders = {}\n",
    "    dataset_size = len(train_dataset)\n",
    "    \n",
    "    for pct in percentages:\n",
    "        subset_size = int(dataset_size * pct)\n",
    "        # Create a random subset of the data\n",
    "        indices = torch.randperm(dataset_size)[:subset_size]\n",
    "        subset = Subset(train_dataset, indices)\n",
    "        \n",
    "        # Create a DataLoader for this subset\n",
    "        subset_loader = DataLoader(\n",
    "            subset,\n",
    "            batch_size=32,  # Keep same batch size\n",
    "            shuffle=True,\n",
    "            collate_fn=WindowedEMGDataset.collate,\n",
    "            num_workers=2\n",
    "        )\n",
    "        \n",
    "        subset_loaders[pct] = subset_loader\n",
    "        print(f\"Created {pct*100}% data subset with {subset_size} windows\")\n",
    "    \n",
    "    return subset_loaders"
   ]
  },
  {
   "cell_type": "code",
   "execution_count": 14,
   "metadata": {},
   "outputs": [],
   "source": [
    "def train_model(model, train_loader, val_loader, device, epochs=100, lr=0.001, weight_decay=1e-4):\n",
    "    \"\"\"\n",
    "    Train the Conformer model on EMG data\n",
    "    \"\"\"\n",
    "    model = model.to(device)\n",
    "\n",
    "    # CTC loss for sequence prediction\n",
    "    criterion = nn.CTCLoss(blank=0, reduction='mean', zero_infinity=True)\n",
    "\n",
    "    # Adam optimizer with improved parameters\n",
    "    optimizer = optim.AdamW(model.parameters(), lr=lr, weight_decay=weight_decay, betas=(0.9, 0.999), eps=1e-8)\n",
    "\n",
    "    # Learning rate scheduler with warmup\n",
    "    scheduler = optim.lr_scheduler.OneCycleLR(\n",
    "        optimizer,\n",
    "        max_lr=0.002,  # Lower max learning rate\n",
    "        steps_per_epoch=len(train_loader),\n",
    "        epochs=epochs,\n",
    "        pct_start=0.1,  # 10% warmup\n",
    "        div_factor=10,  # Initial lr = max_lr/div_factor\n",
    "        final_div_factor=100  # Final lr = initial_lr/final_div_factor\n",
    "    )\n",
    "    \n",
    "    # Training history\n",
    "    history = {\n",
    "        'train_loss': [],\n",
    "        'val_loss': [],\n",
    "        'val_cer': [],\n",
    "        'all_predictions': [],\n",
    "        'all_targets': []\n",
    "    }\n",
    "\n",
    "    # Training loop\n",
    "    for epoch in range(epochs):\n",
    "        # Training phase\n",
    "        model.train()\n",
    "        train_loss = 0.0\n",
    "        train_batches = 0\n",
    "\n",
    "        progress_bar = tqdm(train_loader, desc=f'Epoch {epoch+1}/{epochs} [Train]')\n",
    "        for batch_idx, batch in enumerate(progress_bar):\n",
    "            inputs = batch['inputs'].to(device)\n",
    "            targets = batch['targets'].to(device)\n",
    "            input_lengths = batch['input_lengths'].to(device)\n",
    "            target_lengths = batch['target_lengths'].to(device)\n",
    "\n",
    "            # Forward pass\n",
    "            outputs = model(inputs, input_lengths)\n",
    "\n",
    "            # Compute log probabilities\n",
    "            log_probs = outputs.log_softmax(2)\n",
    "\n",
    "            # Adjust input lengths for downsampling in the model\n",
    "            # We only have one pooling layer with stride 2\n",
    "            input_lengths = torch.div(input_lengths, 2, rounding_mode='floor')\n",
    "            input_lengths = torch.clamp(input_lengths, min=1)  # Ensure no zero lengths\n",
    "\n",
    "            # Compute loss\n",
    "            loss = criterion(log_probs, targets.T, input_lengths, target_lengths)\n",
    "\n",
    "            # Backward and optimize\n",
    "            optimizer.zero_grad()\n",
    "            loss.backward()\n",
    "\n",
    "            # Gradient clipping to prevent exploding gradients\n",
    "            torch.nn.utils.clip_grad_norm_(model.parameters(), max_norm=5.0)\n",
    "\n",
    "            optimizer.step()\n",
    "            scheduler.step()\n",
    "\n",
    "            # Update statistics\n",
    "            train_loss += loss.item()\n",
    "            train_batches += 1\n",
    "\n",
    "            # Update progress bar\n",
    "            progress_bar.set_postfix({'loss': loss.item()})\n",
    "\n",
    "        avg_train_loss = train_loss / train_batches\n",
    "        history['train_loss'].append(avg_train_loss)\n",
    "\n",
    "        # Validation phase\n",
    "        model.eval()\n",
    "        val_loss = 0.0\n",
    "        val_batches = 0\n",
    "        all_predictions = []\n",
    "        all_targets = []\n",
    "\n",
    "        with torch.no_grad():\n",
    "            progress_bar = tqdm(val_loader, desc=f'Epoch {epoch+1}/{epochs} [Val]')\n",
    "            for batch_idx, batch in enumerate(progress_bar):\n",
    "                inputs = batch['inputs'].to(device)\n",
    "                targets = batch['targets'].to(device)\n",
    "                input_lengths = batch['input_lengths'].to(device)\n",
    "                target_lengths = batch['target_lengths'].to(device)\n",
    "\n",
    "                # Forward pass\n",
    "                outputs = model(inputs, input_lengths)\n",
    "\n",
    "                # Compute log probabilities\n",
    "                log_probs = outputs.log_softmax(2)\n",
    "\n",
    "                # Adjust input lengths for downsampling in the model\n",
    "                input_lengths = torch.div(input_lengths, 2, rounding_mode='floor')\n",
    "                input_lengths = torch.clamp(input_lengths, min=1)  # Ensure no zero lengths\n",
    "\n",
    "                # Compute loss\n",
    "                loss = criterion(log_probs, targets.T, input_lengths, target_lengths)\n",
    "\n",
    "                # Update statistics\n",
    "                val_loss += loss.item()\n",
    "                val_batches += 1\n",
    "\n",
    "                # Decode predictions using proper CTC decoding\n",
    "                predictions = decode_predictions(log_probs.cpu(), input_lengths.cpu())\n",
    "                targets_np = targets.cpu().numpy()\n",
    "\n",
    "                # Store predictions and targets for CER calculation\n",
    "                for i in range(inputs.size(1)):  # Loop through batch\n",
    "                    target_seq = targets_np[:target_lengths[i].item(), i]\n",
    "                    all_predictions.append(predictions[i])  # Already processed by decode_predictions\n",
    "                    all_targets.append(target_seq)\n",
    "\n",
    "                # Update progress bar\n",
    "                progress_bar.set_postfix({'loss': loss.item()})\n",
    "\n",
    "        avg_val_loss = val_loss / val_batches\n",
    "        history['val_loss'].append(avg_val_loss)\n",
    "\n",
    "        # Calculate Character Error Rate\n",
    "        cer = calculate_cer(all_predictions, all_targets)\n",
    "        history['val_cer'].append(cer)\n",
    "        history['all_predictions'].append(all_predictions)\n",
    "        history['all_targets'].append(all_targets)\n",
    "\n",
    "        # Print epoch summary\n",
    "        print(f'Epoch {epoch+1}/{epochs}:')\n",
    "        print(f'  Train Loss: {avg_train_loss:.4f}')\n",
    "        print(f'  Val Loss: {avg_val_loss:.4f}, Val CER: {cer:.4f}')\n",
    "\n",
    "    return history"
   ]
  },
  {
   "cell_type": "code",
   "execution_count": 15,
   "metadata": {},
   "outputs": [],
   "source": [
    "def test_data_amounts(train_dataset, val_loader, device, percentages=[0.1, 0.25, 0.5, 0.75, 1.0], epochs=30):\n",
    "    \"\"\"\n",
    "    Test EMGConformer with different amounts of training data.\n",
    "    \n",
    "    Args:\n",
    "        train_dataset: Full training dataset\n",
    "        val_loader: Validation data loader\n",
    "        device: Device to run the model on\n",
    "        percentages: List of fractions of data to use\n",
    "        epochs: Number of epochs to train each model\n",
    "    \n",
    "    Returns:\n",
    "        Dictionary with results for each data amount\n",
    "    \"\"\"\n",
    "    results = {}\n",
    "    \n",
    "    # Create data subset loaders\n",
    "    subset_loaders = create_data_subsets(train_dataset, percentages)\n",
    "    \n",
    "    for pct, subset_loader in subset_loaders.items():\n",
    "        print(f\"\\nTesting with {pct*100}% of training data...\")\n",
    "        \n",
    "        # Initialize model with fixed architecture\n",
    "        model = EMGConformer(\n",
    "            num_classes=99,\n",
    "            d_model=256,\n",
    "            nhead=8,\n",
    "            num_layers=4,\n",
    "            dropout=0.3\n",
    "        )\n",
    "        \n",
    "        # Train model\n",
    "        history = train_model(\n",
    "            model=model,\n",
    "            train_loader=subset_loader,\n",
    "            val_loader=val_loader,\n",
    "            device=device,\n",
    "            epochs=epochs,\n",
    "            lr=0.001,\n",
    "            weight_decay=1e-4\n",
    "        )\n",
    "        \n",
    "        # Store results\n",
    "        results[pct] = {\n",
    "            'train_loss': history['train_loss'],\n",
    "            'val_loss': history['val_loss'],\n",
    "            'val_cer': history['val_cer'],\n",
    "            'final_cer': history['val_cer'][-1]\n",
    "        }\n",
    "        \n",
    "        # Save model checkpoint\n",
    "        torch.save(model.state_dict(), f\"emg_conformer_data_{int(pct*100)}pct.pth\")\n",
    "    \n",
    "    return results"
   ]
  },
  {
   "cell_type": "code",
   "execution_count": 16,
   "metadata": {},
   "outputs": [
    {
     "name": "stdout",
     "output_type": "stream",
     "text": [
      "Using device: cuda\n",
      "Created 10.0% data subset with 3071 windows\n",
      "Created 25.0% data subset with 7678 windows\n",
      "Created 50.0% data subset with 15356 windows\n",
      "Created 75.0% data subset with 23034 windows\n",
      "Created 100.0% data subset with 30713 windows\n",
      "\n",
      "Testing with 10.0% of training data...\n"
     ]
    },
    {
     "name": "stderr",
     "output_type": "stream",
     "text": [
      "Epoch 1/30 [Train]: 100%|██████████| 96/96 [00:05<00:00, 18.48it/s, loss=2.52]\n",
      "Epoch 1/30 [Val]: 100%|██████████| 54/54 [00:03<00:00, 15.91it/s, loss=3.04]\n"
     ]
    },
    {
     "name": "stdout",
     "output_type": "stream",
     "text": [
      "Epoch 1/30:\n",
      "  Train Loss: 6.4806\n",
      "  Val Loss: 2.8023, Val CER: 1.0000\n"
     ]
    },
    {
     "name": "stderr",
     "output_type": "stream",
     "text": [
      "Epoch 2/30 [Train]: 100%|██████████| 96/96 [00:05<00:00, 19.12it/s, loss=2.23]\n",
      "Epoch 2/30 [Val]: 100%|██████████| 54/54 [00:03<00:00, 15.76it/s, loss=3.01]\n"
     ]
    },
    {
     "name": "stdout",
     "output_type": "stream",
     "text": [
      "Epoch 2/30:\n",
      "  Train Loss: 2.5390\n",
      "  Val Loss: 2.2915, Val CER: 0.9453\n"
     ]
    },
    {
     "name": "stderr",
     "output_type": "stream",
     "text": [
      "Epoch 3/30 [Train]: 100%|██████████| 96/96 [00:04<00:00, 19.37it/s, loss=1.94]\n",
      "Epoch 3/30 [Val]: 100%|██████████| 54/54 [00:03<00:00, 15.85it/s, loss=2.89]\n"
     ]
    },
    {
     "name": "stdout",
     "output_type": "stream",
     "text": [
      "Epoch 3/30:\n",
      "  Train Loss: 1.9363\n",
      "  Val Loss: 1.9470, Val CER: 0.7123\n"
     ]
    },
    {
     "name": "stderr",
     "output_type": "stream",
     "text": [
      "Epoch 4/30 [Train]: 100%|██████████| 96/96 [00:04<00:00, 19.37it/s, loss=1.71]\n",
      "Epoch 4/30 [Val]: 100%|██████████| 54/54 [00:03<00:00, 15.75it/s, loss=2.53] \n"
     ]
    },
    {
     "name": "stdout",
     "output_type": "stream",
     "text": [
      "Epoch 4/30:\n",
      "  Train Loss: 1.6754\n",
      "  Val Loss: 1.5730, Val CER: 0.6442\n"
     ]
    },
    {
     "name": "stderr",
     "output_type": "stream",
     "text": [
      "Epoch 5/30 [Train]: 100%|██████████| 96/96 [00:04<00:00, 19.56it/s, loss=1.56]\n",
      "Epoch 5/30 [Val]: 100%|██████████| 54/54 [00:03<00:00, 15.88it/s, loss=2.51] \n"
     ]
    },
    {
     "name": "stdout",
     "output_type": "stream",
     "text": [
      "Epoch 5/30:\n",
      "  Train Loss: 1.5848\n",
      "  Val Loss: 1.5745, Val CER: 0.6548\n"
     ]
    },
    {
     "name": "stderr",
     "output_type": "stream",
     "text": [
      "Epoch 6/30 [Train]: 100%|██████████| 96/96 [00:04<00:00, 19.44it/s, loss=1.26] \n",
      "Epoch 6/30 [Val]: 100%|██████████| 54/54 [00:03<00:00, 15.68it/s, loss=2.16] \n"
     ]
    },
    {
     "name": "stdout",
     "output_type": "stream",
     "text": [
      "Epoch 6/30:\n",
      "  Train Loss: 1.4329\n",
      "  Val Loss: 1.3124, Val CER: 0.5341\n"
     ]
    },
    {
     "name": "stderr",
     "output_type": "stream",
     "text": [
      "Epoch 7/30 [Train]: 100%|██████████| 96/96 [00:04<00:00, 19.36it/s, loss=1.17] \n",
      "Epoch 7/30 [Val]: 100%|██████████| 54/54 [00:03<00:00, 15.83it/s, loss=2.3]  \n"
     ]
    },
    {
     "name": "stdout",
     "output_type": "stream",
     "text": [
      "Epoch 7/30:\n",
      "  Train Loss: 1.2979\n",
      "  Val Loss: 1.3694, Val CER: 0.5374\n"
     ]
    },
    {
     "name": "stderr",
     "output_type": "stream",
     "text": [
      "Epoch 8/30 [Train]: 100%|██████████| 96/96 [00:04<00:00, 19.28it/s, loss=0.888]\n",
      "Epoch 8/30 [Val]: 100%|██████████| 54/54 [00:03<00:00, 15.72it/s, loss=1.85] \n"
     ]
    },
    {
     "name": "stdout",
     "output_type": "stream",
     "text": [
      "Epoch 8/30:\n",
      "  Train Loss: 1.1967\n",
      "  Val Loss: 1.7640, Val CER: 0.6646\n"
     ]
    },
    {
     "name": "stderr",
     "output_type": "stream",
     "text": [
      "Epoch 9/30 [Train]: 100%|██████████| 96/96 [00:04<00:00, 19.43it/s, loss=0.745]\n",
      "Epoch 9/30 [Val]: 100%|██████████| 54/54 [00:03<00:00, 15.72it/s, loss=1.69] \n"
     ]
    },
    {
     "name": "stdout",
     "output_type": "stream",
     "text": [
      "Epoch 9/30:\n",
      "  Train Loss: 1.1257\n",
      "  Val Loss: 1.1951, Val CER: 0.5336\n"
     ]
    },
    {
     "name": "stderr",
     "output_type": "stream",
     "text": [
      "Epoch 10/30 [Train]: 100%|██████████| 96/96 [00:04<00:00, 19.44it/s, loss=0.803]\n",
      "Epoch 10/30 [Val]: 100%|██████████| 54/54 [00:03<00:00, 16.11it/s, loss=2.27] \n"
     ]
    },
    {
     "name": "stdout",
     "output_type": "stream",
     "text": [
      "Epoch 10/30:\n",
      "  Train Loss: 1.0669\n",
      "  Val Loss: 1.2338, Val CER: 0.5368\n"
     ]
    },
    {
     "name": "stderr",
     "output_type": "stream",
     "text": [
      "Epoch 11/30 [Train]: 100%|██████████| 96/96 [00:05<00:00, 19.14it/s, loss=0.972]\n",
      "Epoch 11/30 [Val]: 100%|██████████| 54/54 [00:03<00:00, 16.23it/s, loss=1.93] \n"
     ]
    },
    {
     "name": "stdout",
     "output_type": "stream",
     "text": [
      "Epoch 11/30:\n",
      "  Train Loss: 1.0434\n",
      "  Val Loss: 1.0710, Val CER: 0.5077\n"
     ]
    },
    {
     "name": "stderr",
     "output_type": "stream",
     "text": [
      "Epoch 12/30 [Train]: 100%|██████████| 96/96 [00:04<00:00, 19.27it/s, loss=0.891]\n",
      "Epoch 12/30 [Val]: 100%|██████████| 54/54 [00:03<00:00, 15.91it/s, loss=1.74] \n"
     ]
    },
    {
     "name": "stdout",
     "output_type": "stream",
     "text": [
      "Epoch 12/30:\n",
      "  Train Loss: 1.0075\n",
      "  Val Loss: 0.9499, Val CER: 0.4593\n"
     ]
    },
    {
     "name": "stderr",
     "output_type": "stream",
     "text": [
      "Epoch 13/30 [Train]: 100%|██████████| 96/96 [00:05<00:00, 19.07it/s, loss=0.981]\n",
      "Epoch 13/30 [Val]: 100%|██████████| 54/54 [00:03<00:00, 15.70it/s, loss=1.28] \n"
     ]
    },
    {
     "name": "stdout",
     "output_type": "stream",
     "text": [
      "Epoch 13/30:\n",
      "  Train Loss: 0.9189\n",
      "  Val Loss: 0.9603, Val CER: 0.4706\n"
     ]
    },
    {
     "name": "stderr",
     "output_type": "stream",
     "text": [
      "Epoch 14/30 [Train]: 100%|██████████| 96/96 [00:04<00:00, 19.36it/s, loss=1.2]  \n",
      "Epoch 14/30 [Val]: 100%|██████████| 54/54 [00:03<00:00, 15.79it/s, loss=2.15]   \n"
     ]
    },
    {
     "name": "stdout",
     "output_type": "stream",
     "text": [
      "Epoch 14/30:\n",
      "  Train Loss: 0.8786\n",
      "  Val Loss: 0.9551, Val CER: 0.4500\n"
     ]
    },
    {
     "name": "stderr",
     "output_type": "stream",
     "text": [
      "Epoch 15/30 [Train]: 100%|██████████| 96/96 [00:04<00:00, 19.26it/s, loss=0.531]\n",
      "Epoch 15/30 [Val]: 100%|██████████| 54/54 [00:03<00:00, 16.08it/s, loss=1.75]   \n"
     ]
    },
    {
     "name": "stdout",
     "output_type": "stream",
     "text": [
      "Epoch 15/30:\n",
      "  Train Loss: 0.8401\n",
      "  Val Loss: 0.8126, Val CER: 0.4269\n"
     ]
    },
    {
     "name": "stderr",
     "output_type": "stream",
     "text": [
      "Epoch 16/30 [Train]: 100%|██████████| 96/96 [00:04<00:00, 19.63it/s, loss=0.637]\n",
      "Epoch 16/30 [Val]: 100%|██████████| 54/54 [00:03<00:00, 16.17it/s, loss=1.79]  \n"
     ]
    },
    {
     "name": "stdout",
     "output_type": "stream",
     "text": [
      "Epoch 16/30:\n",
      "  Train Loss: 0.8167\n",
      "  Val Loss: 0.9003, Val CER: 0.4361\n"
     ]
    },
    {
     "name": "stderr",
     "output_type": "stream",
     "text": [
      "Epoch 17/30 [Train]: 100%|██████████| 96/96 [00:04<00:00, 19.37it/s, loss=0.664]\n",
      "Epoch 17/30 [Val]: 100%|██████████| 54/54 [00:03<00:00, 16.00it/s, loss=1.34]  \n"
     ]
    },
    {
     "name": "stdout",
     "output_type": "stream",
     "text": [
      "Epoch 17/30:\n",
      "  Train Loss: 0.7597\n",
      "  Val Loss: 0.8013, Val CER: 0.4311\n"
     ]
    },
    {
     "name": "stderr",
     "output_type": "stream",
     "text": [
      "Epoch 18/30 [Train]: 100%|██████████| 96/96 [00:04<00:00, 19.27it/s, loss=0.867]\n",
      "Epoch 18/30 [Val]: 100%|██████████| 54/54 [00:03<00:00, 15.93it/s, loss=0.793]  \n"
     ]
    },
    {
     "name": "stdout",
     "output_type": "stream",
     "text": [
      "Epoch 18/30:\n",
      "  Train Loss: 0.7151\n",
      "  Val Loss: 0.8038, Val CER: 0.4286\n"
     ]
    },
    {
     "name": "stderr",
     "output_type": "stream",
     "text": [
      "Epoch 19/30 [Train]: 100%|██████████| 96/96 [00:05<00:00, 18.76it/s, loss=0.715]\n",
      "Epoch 19/30 [Val]: 100%|██████████| 54/54 [00:03<00:00, 15.88it/s, loss=1.13]  \n"
     ]
    },
    {
     "name": "stdout",
     "output_type": "stream",
     "text": [
      "Epoch 19/30:\n",
      "  Train Loss: 0.6907\n",
      "  Val Loss: 0.7544, Val CER: 0.4100\n"
     ]
    },
    {
     "name": "stderr",
     "output_type": "stream",
     "text": [
      "Epoch 20/30 [Train]: 100%|██████████| 96/96 [00:05<00:00, 19.10it/s, loss=0.803]\n",
      "Epoch 20/30 [Val]: 100%|██████████| 54/54 [00:03<00:00, 15.79it/s, loss=0.85]   \n"
     ]
    },
    {
     "name": "stdout",
     "output_type": "stream",
     "text": [
      "Epoch 20/30:\n",
      "  Train Loss: 0.6289\n",
      "  Val Loss: 0.6984, Val CER: 0.3994\n"
     ]
    },
    {
     "name": "stderr",
     "output_type": "stream",
     "text": [
      "Epoch 21/30 [Train]: 100%|██████████| 96/96 [00:05<00:00, 19.16it/s, loss=0.34] \n",
      "Epoch 21/30 [Val]: 100%|██████████| 54/54 [00:03<00:00, 15.64it/s, loss=0.993] \n"
     ]
    },
    {
     "name": "stdout",
     "output_type": "stream",
     "text": [
      "Epoch 21/30:\n",
      "  Train Loss: 0.5959\n",
      "  Val Loss: 0.6928, Val CER: 0.3922\n"
     ]
    },
    {
     "name": "stderr",
     "output_type": "stream",
     "text": [
      "Epoch 22/30 [Train]: 100%|██████████| 96/96 [00:04<00:00, 19.35it/s, loss=0.335] \n",
      "Epoch 22/30 [Val]: 100%|██████████| 54/54 [00:03<00:00, 16.03it/s, loss=1.1]   \n"
     ]
    },
    {
     "name": "stdout",
     "output_type": "stream",
     "text": [
      "Epoch 22/30:\n",
      "  Train Loss: 0.5677\n",
      "  Val Loss: 0.6866, Val CER: 0.3922\n"
     ]
    },
    {
     "name": "stderr",
     "output_type": "stream",
     "text": [
      "Epoch 23/30 [Train]: 100%|██████████| 96/96 [00:05<00:00, 18.86it/s, loss=0.663]\n",
      "Epoch 23/30 [Val]: 100%|██████████| 54/54 [00:03<00:00, 15.79it/s, loss=0.769] \n"
     ]
    },
    {
     "name": "stdout",
     "output_type": "stream",
     "text": [
      "Epoch 23/30:\n",
      "  Train Loss: 0.5427\n",
      "  Val Loss: 0.6620, Val CER: 0.3832\n"
     ]
    },
    {
     "name": "stderr",
     "output_type": "stream",
     "text": [
      "Epoch 24/30 [Train]: 100%|██████████| 96/96 [00:05<00:00, 19.03it/s, loss=0.309]  \n",
      "Epoch 24/30 [Val]: 100%|██████████| 54/54 [00:03<00:00, 16.07it/s, loss=0.879] \n"
     ]
    },
    {
     "name": "stdout",
     "output_type": "stream",
     "text": [
      "Epoch 24/30:\n",
      "  Train Loss: 0.5366\n",
      "  Val Loss: 0.6530, Val CER: 0.3770\n"
     ]
    },
    {
     "name": "stderr",
     "output_type": "stream",
     "text": [
      "Epoch 25/30 [Train]: 100%|██████████| 96/96 [00:04<00:00, 19.30it/s, loss=0.681] \n",
      "Epoch 25/30 [Val]: 100%|██████████| 54/54 [00:03<00:00, 15.93it/s, loss=0.698] \n"
     ]
    },
    {
     "name": "stdout",
     "output_type": "stream",
     "text": [
      "Epoch 25/30:\n",
      "  Train Loss: 0.5032\n",
      "  Val Loss: 0.6539, Val CER: 0.3774\n"
     ]
    },
    {
     "name": "stderr",
     "output_type": "stream",
     "text": [
      "Epoch 26/30 [Train]: 100%|██████████| 96/96 [00:04<00:00, 19.26it/s, loss=0.455]  \n",
      "Epoch 26/30 [Val]: 100%|██████████| 54/54 [00:03<00:00, 16.18it/s, loss=0.825] \n"
     ]
    },
    {
     "name": "stdout",
     "output_type": "stream",
     "text": [
      "Epoch 26/30:\n",
      "  Train Loss: 0.4839\n",
      "  Val Loss: 0.6466, Val CER: 0.3714\n"
     ]
    },
    {
     "name": "stderr",
     "output_type": "stream",
     "text": [
      "Epoch 27/30 [Train]: 100%|██████████| 96/96 [00:05<00:00, 19.20it/s, loss=0.237] \n",
      "Epoch 27/30 [Val]: 100%|██████████| 54/54 [00:03<00:00, 16.10it/s, loss=0.781] \n"
     ]
    },
    {
     "name": "stdout",
     "output_type": "stream",
     "text": [
      "Epoch 27/30:\n",
      "  Train Loss: 0.4672\n",
      "  Val Loss: 0.6448, Val CER: 0.3714\n"
     ]
    },
    {
     "name": "stderr",
     "output_type": "stream",
     "text": [
      "Epoch 28/30 [Train]: 100%|██████████| 96/96 [00:04<00:00, 19.31it/s, loss=0.385] \n",
      "Epoch 28/30 [Val]: 100%|██████████| 54/54 [00:03<00:00, 15.88it/s, loss=0.801] \n"
     ]
    },
    {
     "name": "stdout",
     "output_type": "stream",
     "text": [
      "Epoch 28/30:\n",
      "  Train Loss: 0.4520\n",
      "  Val Loss: 0.6368, Val CER: 0.3688\n"
     ]
    },
    {
     "name": "stderr",
     "output_type": "stream",
     "text": [
      "Epoch 29/30 [Train]: 100%|██████████| 96/96 [00:04<00:00, 19.23it/s, loss=0.475]  \n",
      "Epoch 29/30 [Val]: 100%|██████████| 54/54 [00:03<00:00, 15.55it/s, loss=0.799] \n"
     ]
    },
    {
     "name": "stdout",
     "output_type": "stream",
     "text": [
      "Epoch 29/30:\n",
      "  Train Loss: 0.4636\n",
      "  Val Loss: 0.6434, Val CER: 0.3702\n"
     ]
    },
    {
     "name": "stderr",
     "output_type": "stream",
     "text": [
      "Epoch 30/30 [Train]: 100%|██████████| 96/96 [00:04<00:00, 19.38it/s, loss=0.248]  \n",
      "Epoch 30/30 [Val]: 100%|██████████| 54/54 [00:03<00:00, 15.94it/s, loss=0.836] \n"
     ]
    },
    {
     "name": "stdout",
     "output_type": "stream",
     "text": [
      "Epoch 30/30:\n",
      "  Train Loss: 0.4627\n",
      "  Val Loss: 0.6436, Val CER: 0.3709\n",
      "\n",
      "Testing with 25.0% of training data...\n"
     ]
    },
    {
     "name": "stderr",
     "output_type": "stream",
     "text": [
      "Epoch 1/30 [Train]: 100%|██████████| 240/240 [00:10<00:00, 23.45it/s, loss=2.27]\n",
      "Epoch 1/30 [Val]: 100%|██████████| 54/54 [00:03<00:00, 15.54it/s, loss=2.6] \n"
     ]
    },
    {
     "name": "stdout",
     "output_type": "stream",
     "text": [
      "Epoch 1/30:\n",
      "  Train Loss: 3.8401\n",
      "  Val Loss: 2.0848, Val CER: 0.8649\n"
     ]
    },
    {
     "name": "stderr",
     "output_type": "stream",
     "text": [
      "Epoch 2/30 [Train]: 100%|██████████| 240/240 [00:10<00:00, 23.91it/s, loss=1.95]\n",
      "Epoch 2/30 [Val]: 100%|██████████| 54/54 [00:03<00:00, 16.17it/s, loss=1.97] \n"
     ]
    },
    {
     "name": "stdout",
     "output_type": "stream",
     "text": [
      "Epoch 2/30:\n",
      "  Train Loss: 1.6400\n",
      "  Val Loss: 1.4172, Val CER: 0.5756\n"
     ]
    },
    {
     "name": "stderr",
     "output_type": "stream",
     "text": [
      "Epoch 3/30 [Train]: 100%|██████████| 240/240 [00:10<00:00, 23.64it/s, loss=0.874]\n",
      "Epoch 3/30 [Val]: 100%|██████████| 54/54 [00:03<00:00, 15.88it/s, loss=1.71] \n"
     ]
    },
    {
     "name": "stdout",
     "output_type": "stream",
     "text": [
      "Epoch 3/30:\n",
      "  Train Loss: 1.3701\n",
      "  Val Loss: 1.3156, Val CER: 0.5829\n"
     ]
    },
    {
     "name": "stderr",
     "output_type": "stream",
     "text": [
      "Epoch 4/30 [Train]: 100%|██████████| 240/240 [00:10<00:00, 23.73it/s, loss=1.21] \n",
      "Epoch 4/30 [Val]: 100%|██████████| 54/54 [00:03<00:00, 15.63it/s, loss=1.66] \n"
     ]
    },
    {
     "name": "stdout",
     "output_type": "stream",
     "text": [
      "Epoch 4/30:\n",
      "  Train Loss: 1.1907\n",
      "  Val Loss: 1.0746, Val CER: 0.4853\n"
     ]
    },
    {
     "name": "stderr",
     "output_type": "stream",
     "text": [
      "Epoch 5/30 [Train]: 100%|██████████| 240/240 [00:10<00:00, 23.22it/s, loss=0.869]\n",
      "Epoch 5/30 [Val]: 100%|██████████| 54/54 [00:03<00:00, 15.39it/s, loss=1.2]   \n"
     ]
    },
    {
     "name": "stdout",
     "output_type": "stream",
     "text": [
      "Epoch 5/30:\n",
      "  Train Loss: 1.0540\n",
      "  Val Loss: 0.9314, Val CER: 0.4630\n"
     ]
    },
    {
     "name": "stderr",
     "output_type": "stream",
     "text": [
      "Epoch 6/30 [Train]: 100%|██████████| 240/240 [00:10<00:00, 23.67it/s, loss=1.32] \n",
      "Epoch 6/30 [Val]: 100%|██████████| 54/54 [00:03<00:00, 15.65it/s, loss=1.15]  \n"
     ]
    },
    {
     "name": "stdout",
     "output_type": "stream",
     "text": [
      "Epoch 6/30:\n",
      "  Train Loss: 0.9438\n",
      "  Val Loss: 0.7923, Val CER: 0.4207\n"
     ]
    },
    {
     "name": "stderr",
     "output_type": "stream",
     "text": [
      "Epoch 7/30 [Train]: 100%|██████████| 240/240 [00:10<00:00, 23.61it/s, loss=1.33] \n",
      "Epoch 7/30 [Val]: 100%|██████████| 54/54 [00:03<00:00, 15.52it/s, loss=0.591]\n"
     ]
    },
    {
     "name": "stdout",
     "output_type": "stream",
     "text": [
      "Epoch 7/30:\n",
      "  Train Loss: 0.8560\n",
      "  Val Loss: 0.8399, Val CER: 0.4437\n"
     ]
    },
    {
     "name": "stderr",
     "output_type": "stream",
     "text": [
      "Epoch 8/30 [Train]: 100%|██████████| 240/240 [00:10<00:00, 23.85it/s, loss=0.466]\n",
      "Epoch 8/30 [Val]: 100%|██████████| 54/54 [00:03<00:00, 15.82it/s, loss=0.564]  \n"
     ]
    },
    {
     "name": "stdout",
     "output_type": "stream",
     "text": [
      "Epoch 8/30:\n",
      "  Train Loss: 0.8169\n",
      "  Val Loss: 0.6112, Val CER: 0.3900\n"
     ]
    },
    {
     "name": "stderr",
     "output_type": "stream",
     "text": [
      "Epoch 9/30 [Train]: 100%|██████████| 240/240 [00:10<00:00, 23.67it/s, loss=0.531]\n",
      "Epoch 9/30 [Val]: 100%|██████████| 54/54 [00:03<00:00, 15.88it/s, loss=0.623]  \n"
     ]
    },
    {
     "name": "stdout",
     "output_type": "stream",
     "text": [
      "Epoch 9/30:\n",
      "  Train Loss: 0.7877\n",
      "  Val Loss: 0.7224, Val CER: 0.4054\n"
     ]
    },
    {
     "name": "stderr",
     "output_type": "stream",
     "text": [
      "Epoch 10/30 [Train]: 100%|██████████| 240/240 [00:10<00:00, 23.74it/s, loss=0.995] \n",
      "Epoch 10/30 [Val]: 100%|██████████| 54/54 [00:03<00:00, 15.74it/s, loss=1]      \n"
     ]
    },
    {
     "name": "stdout",
     "output_type": "stream",
     "text": [
      "Epoch 10/30:\n",
      "  Train Loss: 0.7120\n",
      "  Val Loss: 0.6204, Val CER: 0.3842\n"
     ]
    },
    {
     "name": "stderr",
     "output_type": "stream",
     "text": [
      "Epoch 11/30 [Train]: 100%|██████████| 240/240 [00:10<00:00, 23.40it/s, loss=0.669] \n",
      "Epoch 11/30 [Val]: 100%|██████████| 54/54 [00:03<00:00, 15.82it/s, loss=0.852] \n"
     ]
    },
    {
     "name": "stdout",
     "output_type": "stream",
     "text": [
      "Epoch 11/30:\n",
      "  Train Loss: 0.6699\n",
      "  Val Loss: 0.7567, Val CER: 0.4227\n"
     ]
    },
    {
     "name": "stderr",
     "output_type": "stream",
     "text": [
      "Epoch 12/30 [Train]: 100%|██████████| 240/240 [00:10<00:00, 23.53it/s, loss=1.01] \n",
      "Epoch 12/30 [Val]: 100%|██████████| 54/54 [00:03<00:00, 15.90it/s, loss=0.865] \n"
     ]
    },
    {
     "name": "stdout",
     "output_type": "stream",
     "text": [
      "Epoch 12/30:\n",
      "  Train Loss: 0.6624\n",
      "  Val Loss: 0.6956, Val CER: 0.4021\n"
     ]
    },
    {
     "name": "stderr",
     "output_type": "stream",
     "text": [
      "Epoch 13/30 [Train]: 100%|██████████| 240/240 [00:10<00:00, 23.99it/s, loss=1.25]  \n",
      "Epoch 13/30 [Val]: 100%|██████████| 54/54 [00:03<00:00, 15.79it/s, loss=0.888] \n"
     ]
    },
    {
     "name": "stdout",
     "output_type": "stream",
     "text": [
      "Epoch 13/30:\n",
      "  Train Loss: 0.6152\n",
      "  Val Loss: 0.5651, Val CER: 0.3574\n"
     ]
    },
    {
     "name": "stderr",
     "output_type": "stream",
     "text": [
      "Epoch 14/30 [Train]: 100%|██████████| 240/240 [00:10<00:00, 23.81it/s, loss=0.642]\n",
      "Epoch 14/30 [Val]: 100%|██████████| 54/54 [00:03<00:00, 16.36it/s, loss=0.466]   \n"
     ]
    },
    {
     "name": "stdout",
     "output_type": "stream",
     "text": [
      "Epoch 14/30:\n",
      "  Train Loss: 0.5561\n",
      "  Val Loss: 0.5076, Val CER: 0.3423\n"
     ]
    },
    {
     "name": "stderr",
     "output_type": "stream",
     "text": [
      "Epoch 15/30 [Train]: 100%|██████████| 240/240 [00:10<00:00, 23.60it/s, loss=0.468]  \n",
      "Epoch 15/30 [Val]: 100%|██████████| 54/54 [00:03<00:00, 15.88it/s, loss=0.163] \n"
     ]
    },
    {
     "name": "stdout",
     "output_type": "stream",
     "text": [
      "Epoch 15/30:\n",
      "  Train Loss: 0.5023\n",
      "  Val Loss: 0.4743, Val CER: 0.3327\n"
     ]
    },
    {
     "name": "stderr",
     "output_type": "stream",
     "text": [
      "Epoch 16/30 [Train]: 100%|██████████| 240/240 [00:10<00:00, 23.59it/s, loss=0.319]  \n",
      "Epoch 16/30 [Val]: 100%|██████████| 54/54 [00:03<00:00, 15.78it/s, loss=0.536] \n"
     ]
    },
    {
     "name": "stdout",
     "output_type": "stream",
     "text": [
      "Epoch 16/30:\n",
      "  Train Loss: 0.4856\n",
      "  Val Loss: 0.4859, Val CER: 0.3292\n"
     ]
    },
    {
     "name": "stderr",
     "output_type": "stream",
     "text": [
      "Epoch 17/30 [Train]: 100%|██████████| 240/240 [00:10<00:00, 23.84it/s, loss=0.276] \n",
      "Epoch 17/30 [Val]: 100%|██████████| 54/54 [00:03<00:00, 16.06it/s, loss=0.852] \n"
     ]
    },
    {
     "name": "stdout",
     "output_type": "stream",
     "text": [
      "Epoch 17/30:\n",
      "  Train Loss: 0.4390\n",
      "  Val Loss: 0.5823, Val CER: 0.3351\n"
     ]
    },
    {
     "name": "stderr",
     "output_type": "stream",
     "text": [
      "Epoch 18/30 [Train]: 100%|██████████| 240/240 [00:09<00:00, 24.20it/s, loss=0.424]   \n",
      "Epoch 18/30 [Val]: 100%|██████████| 54/54 [00:03<00:00, 15.98it/s, loss=0.598]   \n"
     ]
    },
    {
     "name": "stdout",
     "output_type": "stream",
     "text": [
      "Epoch 18/30:\n",
      "  Train Loss: 0.4061\n",
      "  Val Loss: 0.4517, Val CER: 0.3228\n"
     ]
    },
    {
     "name": "stderr",
     "output_type": "stream",
     "text": [
      "Epoch 19/30 [Train]: 100%|██████████| 240/240 [00:09<00:00, 24.03it/s, loss=0.176]  \n",
      "Epoch 19/30 [Val]: 100%|██████████| 54/54 [00:03<00:00, 16.21it/s, loss=0.444]  \n"
     ]
    },
    {
     "name": "stdout",
     "output_type": "stream",
     "text": [
      "Epoch 19/30:\n",
      "  Train Loss: 0.3766\n",
      "  Val Loss: 0.4433, Val CER: 0.3211\n"
     ]
    },
    {
     "name": "stderr",
     "output_type": "stream",
     "text": [
      "Epoch 20/30 [Train]: 100%|██████████| 240/240 [00:10<00:00, 23.49it/s, loss=0.773]  \n",
      "Epoch 20/30 [Val]: 100%|██████████| 54/54 [00:03<00:00, 15.73it/s, loss=0.659]  \n"
     ]
    },
    {
     "name": "stdout",
     "output_type": "stream",
     "text": [
      "Epoch 20/30:\n",
      "  Train Loss: 0.3410\n",
      "  Val Loss: 0.3726, Val CER: 0.3001\n"
     ]
    },
    {
     "name": "stderr",
     "output_type": "stream",
     "text": [
      "Epoch 21/30 [Train]: 100%|██████████| 240/240 [00:10<00:00, 23.67it/s, loss=0.12]   \n",
      "Epoch 21/30 [Val]: 100%|██████████| 54/54 [00:03<00:00, 15.79it/s, loss=0.732]  \n"
     ]
    },
    {
     "name": "stdout",
     "output_type": "stream",
     "text": [
      "Epoch 21/30:\n",
      "  Train Loss: 0.3189\n",
      "  Val Loss: 0.3788, Val CER: 0.3076\n"
     ]
    },
    {
     "name": "stderr",
     "output_type": "stream",
     "text": [
      "Epoch 22/30 [Train]: 100%|██████████| 240/240 [00:10<00:00, 23.89it/s, loss=-0.0322]\n",
      "Epoch 22/30 [Val]: 100%|██████████| 54/54 [00:03<00:00, 15.88it/s, loss=1.11]   \n"
     ]
    },
    {
     "name": "stdout",
     "output_type": "stream",
     "text": [
      "Epoch 22/30:\n",
      "  Train Loss: 0.2697\n",
      "  Val Loss: 0.3584, Val CER: 0.2950\n"
     ]
    },
    {
     "name": "stderr",
     "output_type": "stream",
     "text": [
      "Epoch 23/30 [Train]: 100%|██████████| 240/240 [00:10<00:00, 23.95it/s, loss=0.41]    \n",
      "Epoch 23/30 [Val]: 100%|██████████| 54/54 [00:03<00:00, 16.05it/s, loss=0.971]  \n"
     ]
    },
    {
     "name": "stdout",
     "output_type": "stream",
     "text": [
      "Epoch 23/30:\n",
      "  Train Loss: 0.2569\n",
      "  Val Loss: 0.3767, Val CER: 0.2982\n"
     ]
    },
    {
     "name": "stderr",
     "output_type": "stream",
     "text": [
      "Epoch 24/30 [Train]: 100%|██████████| 240/240 [00:10<00:00, 23.82it/s, loss=0.127]  \n",
      "Epoch 24/30 [Val]: 100%|██████████| 54/54 [00:03<00:00, 15.79it/s, loss=0.678] \n"
     ]
    },
    {
     "name": "stdout",
     "output_type": "stream",
     "text": [
      "Epoch 24/30:\n",
      "  Train Loss: 0.2380\n",
      "  Val Loss: 0.3531, Val CER: 0.2900\n"
     ]
    },
    {
     "name": "stderr",
     "output_type": "stream",
     "text": [
      "Epoch 25/30 [Train]: 100%|██████████| 240/240 [00:10<00:00, 23.98it/s, loss=0.131]    \n",
      "Epoch 25/30 [Val]: 100%|██████████| 54/54 [00:03<00:00, 15.93it/s, loss=0.701] \n"
     ]
    },
    {
     "name": "stdout",
     "output_type": "stream",
     "text": [
      "Epoch 25/30:\n",
      "  Train Loss: 0.2069\n",
      "  Val Loss: 0.3631, Val CER: 0.2937\n"
     ]
    },
    {
     "name": "stderr",
     "output_type": "stream",
     "text": [
      "Epoch 26/30 [Train]: 100%|██████████| 240/240 [00:10<00:00, 23.46it/s, loss=-0.0878]\n",
      "Epoch 26/30 [Val]: 100%|██████████| 54/54 [00:03<00:00, 15.89it/s, loss=0.547] \n"
     ]
    },
    {
     "name": "stdout",
     "output_type": "stream",
     "text": [
      "Epoch 26/30:\n",
      "  Train Loss: 0.1932\n",
      "  Val Loss: 0.3456, Val CER: 0.2856\n"
     ]
    },
    {
     "name": "stderr",
     "output_type": "stream",
     "text": [
      "Epoch 27/30 [Train]: 100%|██████████| 240/240 [00:10<00:00, 23.84it/s, loss=0.53]   \n",
      "Epoch 27/30 [Val]: 100%|██████████| 54/54 [00:03<00:00, 15.98it/s, loss=0.531] \n"
     ]
    },
    {
     "name": "stdout",
     "output_type": "stream",
     "text": [
      "Epoch 27/30:\n",
      "  Train Loss: 0.2027\n",
      "  Val Loss: 0.3395, Val CER: 0.2854\n"
     ]
    },
    {
     "name": "stderr",
     "output_type": "stream",
     "text": [
      "Epoch 28/30 [Train]: 100%|██████████| 240/240 [00:10<00:00, 23.63it/s, loss=0.369]    \n",
      "Epoch 28/30 [Val]: 100%|██████████| 54/54 [00:03<00:00, 15.57it/s, loss=0.535] \n"
     ]
    },
    {
     "name": "stdout",
     "output_type": "stream",
     "text": [
      "Epoch 28/30:\n",
      "  Train Loss: 0.1904\n",
      "  Val Loss: 0.3470, Val CER: 0.2891\n"
     ]
    },
    {
     "name": "stderr",
     "output_type": "stream",
     "text": [
      "Epoch 29/30 [Train]: 100%|██████████| 240/240 [00:10<00:00, 23.70it/s, loss=0.0317]  \n",
      "Epoch 29/30 [Val]: 100%|██████████| 54/54 [00:03<00:00, 16.07it/s, loss=0.536] \n"
     ]
    },
    {
     "name": "stdout",
     "output_type": "stream",
     "text": [
      "Epoch 29/30:\n",
      "  Train Loss: 0.1773\n",
      "  Val Loss: 0.3401, Val CER: 0.2869\n"
     ]
    },
    {
     "name": "stderr",
     "output_type": "stream",
     "text": [
      "Epoch 30/30 [Train]: 100%|██████████| 240/240 [00:10<00:00, 23.90it/s, loss=0.0932]  \n",
      "Epoch 30/30 [Val]: 100%|██████████| 54/54 [00:03<00:00, 16.13it/s, loss=0.529] \n"
     ]
    },
    {
     "name": "stdout",
     "output_type": "stream",
     "text": [
      "Epoch 30/30:\n",
      "  Train Loss: 0.1780\n",
      "  Val Loss: 0.3389, Val CER: 0.2865\n",
      "\n",
      "Testing with 50.0% of training data...\n"
     ]
    },
    {
     "name": "stderr",
     "output_type": "stream",
     "text": [
      "Epoch 1/30 [Train]: 100%|██████████| 480/480 [00:18<00:00, 25.99it/s, loss=1.54] \n",
      "Epoch 1/30 [Val]: 100%|██████████| 54/54 [00:03<00:00, 15.61it/s, loss=1.75] \n"
     ]
    },
    {
     "name": "stdout",
     "output_type": "stream",
     "text": [
      "Epoch 1/30:\n",
      "  Train Loss: 2.7291\n",
      "  Val Loss: 1.2146, Val CER: 0.5615\n"
     ]
    },
    {
     "name": "stderr",
     "output_type": "stream",
     "text": [
      "Epoch 2/30 [Train]: 100%|██████████| 480/480 [00:18<00:00, 26.64it/s, loss=0.845]\n",
      "Epoch 2/30 [Val]: 100%|██████████| 54/54 [00:03<00:00, 16.08it/s, loss=1.39] \n"
     ]
    },
    {
     "name": "stdout",
     "output_type": "stream",
     "text": [
      "Epoch 2/30:\n",
      "  Train Loss: 1.2204\n",
      "  Val Loss: 0.9955, Val CER: 0.4764\n"
     ]
    },
    {
     "name": "stderr",
     "output_type": "stream",
     "text": [
      "Epoch 3/30 [Train]: 100%|██████████| 480/480 [00:17<00:00, 26.68it/s, loss=0.889]\n",
      "Epoch 3/30 [Val]: 100%|██████████| 54/54 [00:03<00:00, 15.85it/s, loss=2.05] \n"
     ]
    },
    {
     "name": "stdout",
     "output_type": "stream",
     "text": [
      "Epoch 3/30:\n",
      "  Train Loss: 1.1340\n",
      "  Val Loss: 0.9977, Val CER: 0.4718\n"
     ]
    },
    {
     "name": "stderr",
     "output_type": "stream",
     "text": [
      "Epoch 4/30 [Train]: 100%|██████████| 480/480 [00:18<00:00, 26.58it/s, loss=1.05] \n",
      "Epoch 4/30 [Val]: 100%|██████████| 54/54 [00:03<00:00, 15.84it/s, loss=0.727]  \n"
     ]
    },
    {
     "name": "stdout",
     "output_type": "stream",
     "text": [
      "Epoch 4/30:\n",
      "  Train Loss: 0.9550\n",
      "  Val Loss: 0.6803, Val CER: 0.3862\n"
     ]
    },
    {
     "name": "stderr",
     "output_type": "stream",
     "text": [
      "Epoch 5/30 [Train]: 100%|██████████| 480/480 [00:17<00:00, 26.84it/s, loss=0.609] \n",
      "Epoch 5/30 [Val]: 100%|██████████| 54/54 [00:03<00:00, 15.85it/s, loss=0.752]  \n"
     ]
    },
    {
     "name": "stdout",
     "output_type": "stream",
     "text": [
      "Epoch 5/30:\n",
      "  Train Loss: 0.8374\n",
      "  Val Loss: 0.7518, Val CER: 0.4253\n"
     ]
    },
    {
     "name": "stderr",
     "output_type": "stream",
     "text": [
      "Epoch 6/30 [Train]: 100%|██████████| 480/480 [00:17<00:00, 26.91it/s, loss=0.684]\n",
      "Epoch 6/30 [Val]: 100%|██████████| 54/54 [00:03<00:00, 15.69it/s, loss=0.973]\n"
     ]
    },
    {
     "name": "stdout",
     "output_type": "stream",
     "text": [
      "Epoch 6/30:\n",
      "  Train Loss: 0.7503\n",
      "  Val Loss: 0.6438, Val CER: 0.3966\n"
     ]
    },
    {
     "name": "stderr",
     "output_type": "stream",
     "text": [
      "Epoch 7/30 [Train]: 100%|██████████| 480/480 [00:17<00:00, 26.67it/s, loss=0.922]\n",
      "Epoch 7/30 [Val]: 100%|██████████| 54/54 [00:03<00:00, 15.93it/s, loss=1.8]   \n"
     ]
    },
    {
     "name": "stdout",
     "output_type": "stream",
     "text": [
      "Epoch 7/30:\n",
      "  Train Loss: 0.6954\n",
      "  Val Loss: 0.7117, Val CER: 0.4139\n"
     ]
    },
    {
     "name": "stderr",
     "output_type": "stream",
     "text": [
      "Epoch 8/30 [Train]: 100%|██████████| 480/480 [00:17<00:00, 26.90it/s, loss=0.846] \n",
      "Epoch 8/30 [Val]: 100%|██████████| 54/54 [00:03<00:00, 16.25it/s, loss=0.36]  \n"
     ]
    },
    {
     "name": "stdout",
     "output_type": "stream",
     "text": [
      "Epoch 8/30:\n",
      "  Train Loss: 0.6590\n",
      "  Val Loss: 0.5093, Val CER: 0.3526\n"
     ]
    },
    {
     "name": "stderr",
     "output_type": "stream",
     "text": [
      "Epoch 9/30 [Train]: 100%|██████████| 480/480 [00:17<00:00, 26.75it/s, loss=0.525]  \n",
      "Epoch 9/30 [Val]: 100%|██████████| 54/54 [00:03<00:00, 16.02it/s, loss=0.59]  \n"
     ]
    },
    {
     "name": "stdout",
     "output_type": "stream",
     "text": [
      "Epoch 9/30:\n",
      "  Train Loss: 0.6051\n",
      "  Val Loss: 0.4802, Val CER: 0.3451\n"
     ]
    },
    {
     "name": "stderr",
     "output_type": "stream",
     "text": [
      "Epoch 10/30 [Train]: 100%|██████████| 480/480 [00:18<00:00, 26.39it/s, loss=0.344]  \n",
      "Epoch 10/30 [Val]: 100%|██████████| 54/54 [00:03<00:00, 16.01it/s, loss=1.27]    \n"
     ]
    },
    {
     "name": "stdout",
     "output_type": "stream",
     "text": [
      "Epoch 10/30:\n",
      "  Train Loss: 0.5646\n",
      "  Val Loss: 0.4562, Val CER: 0.3259\n"
     ]
    },
    {
     "name": "stderr",
     "output_type": "stream",
     "text": [
      "Epoch 11/30 [Train]: 100%|██████████| 480/480 [00:18<00:00, 26.54it/s, loss=0.4]     \n",
      "Epoch 11/30 [Val]: 100%|██████████| 54/54 [00:03<00:00, 15.99it/s, loss=0.602]  \n"
     ]
    },
    {
     "name": "stdout",
     "output_type": "stream",
     "text": [
      "Epoch 11/30:\n",
      "  Train Loss: 0.5137\n",
      "  Val Loss: 0.4685, Val CER: 0.3323\n"
     ]
    },
    {
     "name": "stderr",
     "output_type": "stream",
     "text": [
      "Epoch 12/30 [Train]: 100%|██████████| 480/480 [00:17<00:00, 26.74it/s, loss=0.533] \n",
      "Epoch 12/30 [Val]: 100%|██████████| 54/54 [00:03<00:00, 15.86it/s, loss=1.22]    \n"
     ]
    },
    {
     "name": "stdout",
     "output_type": "stream",
     "text": [
      "Epoch 12/30:\n",
      "  Train Loss: 0.5131\n",
      "  Val Loss: 0.4434, Val CER: 0.3181\n"
     ]
    },
    {
     "name": "stderr",
     "output_type": "stream",
     "text": [
      "Epoch 13/30 [Train]: 100%|██████████| 480/480 [00:17<00:00, 26.69it/s, loss=0.0774] \n",
      "Epoch 13/30 [Val]: 100%|██████████| 54/54 [00:03<00:00, 15.94it/s, loss=0.197] \n"
     ]
    },
    {
     "name": "stdout",
     "output_type": "stream",
     "text": [
      "Epoch 13/30:\n",
      "  Train Loss: 0.4665\n",
      "  Val Loss: 0.3565, Val CER: 0.3056\n"
     ]
    },
    {
     "name": "stderr",
     "output_type": "stream",
     "text": [
      "Epoch 14/30 [Train]: 100%|██████████| 480/480 [00:17<00:00, 26.67it/s, loss=0.379]  \n",
      "Epoch 14/30 [Val]: 100%|██████████| 54/54 [00:03<00:00, 16.00it/s, loss=1.13]  \n"
     ]
    },
    {
     "name": "stdout",
     "output_type": "stream",
     "text": [
      "Epoch 14/30:\n",
      "  Train Loss: 0.4425\n",
      "  Val Loss: 0.4206, Val CER: 0.3138\n"
     ]
    },
    {
     "name": "stderr",
     "output_type": "stream",
     "text": [
      "Epoch 15/30 [Train]: 100%|██████████| 480/480 [00:18<00:00, 26.29it/s, loss=0.568]  \n",
      "Epoch 15/30 [Val]: 100%|██████████| 54/54 [00:03<00:00, 15.70it/s, loss=0.775]  \n"
     ]
    },
    {
     "name": "stdout",
     "output_type": "stream",
     "text": [
      "Epoch 15/30:\n",
      "  Train Loss: 0.3997\n",
      "  Val Loss: 0.3344, Val CER: 0.2971\n"
     ]
    },
    {
     "name": "stderr",
     "output_type": "stream",
     "text": [
      "Epoch 16/30 [Train]: 100%|██████████| 480/480 [00:18<00:00, 26.39it/s, loss=0.354]   \n",
      "Epoch 16/30 [Val]: 100%|██████████| 54/54 [00:03<00:00, 15.94it/s, loss=0.559]  \n"
     ]
    },
    {
     "name": "stdout",
     "output_type": "stream",
     "text": [
      "Epoch 16/30:\n",
      "  Train Loss: 0.3590\n",
      "  Val Loss: 0.3579, Val CER: 0.3075\n"
     ]
    },
    {
     "name": "stderr",
     "output_type": "stream",
     "text": [
      "Epoch 17/30 [Train]: 100%|██████████| 480/480 [00:18<00:00, 26.39it/s, loss=0.133]    \n",
      "Epoch 17/30 [Val]: 100%|██████████| 54/54 [00:03<00:00, 16.07it/s, loss=0.83]   \n"
     ]
    },
    {
     "name": "stdout",
     "output_type": "stream",
     "text": [
      "Epoch 17/30:\n",
      "  Train Loss: 0.3392\n",
      "  Val Loss: 0.3360, Val CER: 0.2905\n"
     ]
    },
    {
     "name": "stderr",
     "output_type": "stream",
     "text": [
      "Epoch 18/30 [Train]: 100%|██████████| 480/480 [00:18<00:00, 26.54it/s, loss=0.338]   \n",
      "Epoch 18/30 [Val]: 100%|██████████| 54/54 [00:03<00:00, 15.62it/s, loss=0.462]  \n"
     ]
    },
    {
     "name": "stdout",
     "output_type": "stream",
     "text": [
      "Epoch 18/30:\n",
      "  Train Loss: 0.3052\n",
      "  Val Loss: 0.2959, Val CER: 0.2834\n"
     ]
    },
    {
     "name": "stderr",
     "output_type": "stream",
     "text": [
      "Epoch 19/30 [Train]: 100%|██████████| 480/480 [00:18<00:00, 25.96it/s, loss=0.448]   \n",
      "Epoch 19/30 [Val]: 100%|██████████| 54/54 [00:03<00:00, 15.47it/s, loss=0.709]   \n"
     ]
    },
    {
     "name": "stdout",
     "output_type": "stream",
     "text": [
      "Epoch 19/30:\n",
      "  Train Loss: 0.2721\n",
      "  Val Loss: 0.3288, Val CER: 0.2899\n"
     ]
    },
    {
     "name": "stderr",
     "output_type": "stream",
     "text": [
      "Epoch 20/30 [Train]: 100%|██████████| 480/480 [00:18<00:00, 26.52it/s, loss=0.238]   \n",
      "Epoch 20/30 [Val]: 100%|██████████| 54/54 [00:03<00:00, 15.81it/s, loss=0.556] \n"
     ]
    },
    {
     "name": "stdout",
     "output_type": "stream",
     "text": [
      "Epoch 20/30:\n",
      "  Train Loss: 0.2510\n",
      "  Val Loss: 0.3405, Val CER: 0.2856\n"
     ]
    },
    {
     "name": "stderr",
     "output_type": "stream",
     "text": [
      "Epoch 21/30 [Train]: 100%|██████████| 480/480 [00:18<00:00, 26.48it/s, loss=0.151]   \n",
      "Epoch 21/30 [Val]: 100%|██████████| 54/54 [00:03<00:00, 15.65it/s, loss=0.34]    \n"
     ]
    },
    {
     "name": "stdout",
     "output_type": "stream",
     "text": [
      "Epoch 21/30:\n",
      "  Train Loss: 0.2250\n",
      "  Val Loss: 0.2690, Val CER: 0.2748\n"
     ]
    },
    {
     "name": "stderr",
     "output_type": "stream",
     "text": [
      "Epoch 22/30 [Train]: 100%|██████████| 480/480 [00:18<00:00, 26.36it/s, loss=0.482]   \n",
      "Epoch 22/30 [Val]: 100%|██████████| 54/54 [00:03<00:00, 15.97it/s, loss=0.385]   \n"
     ]
    },
    {
     "name": "stdout",
     "output_type": "stream",
     "text": [
      "Epoch 22/30:\n",
      "  Train Loss: 0.1975\n",
      "  Val Loss: 0.2819, Val CER: 0.2748\n"
     ]
    },
    {
     "name": "stderr",
     "output_type": "stream",
     "text": [
      "Epoch 23/30 [Train]: 100%|██████████| 480/480 [00:18<00:00, 26.19it/s, loss=0.179]   \n",
      "Epoch 23/30 [Val]: 100%|██████████| 54/54 [00:03<00:00, 15.56it/s, loss=0.439]  \n"
     ]
    },
    {
     "name": "stdout",
     "output_type": "stream",
     "text": [
      "Epoch 23/30:\n",
      "  Train Loss: 0.1701\n",
      "  Val Loss: 0.2848, Val CER: 0.2726\n"
     ]
    },
    {
     "name": "stderr",
     "output_type": "stream",
     "text": [
      "Epoch 24/30 [Train]: 100%|██████████| 480/480 [00:18<00:00, 26.47it/s, loss=0.0673]  \n",
      "Epoch 24/30 [Val]: 100%|██████████| 54/54 [00:03<00:00, 15.74it/s, loss=0.326]   \n"
     ]
    },
    {
     "name": "stdout",
     "output_type": "stream",
     "text": [
      "Epoch 24/30:\n",
      "  Train Loss: 0.1524\n",
      "  Val Loss: 0.2696, Val CER: 0.2642\n"
     ]
    },
    {
     "name": "stderr",
     "output_type": "stream",
     "text": [
      "Epoch 25/30 [Train]: 100%|██████████| 480/480 [00:18<00:00, 26.58it/s, loss=0.117]   \n",
      "Epoch 25/30 [Val]: 100%|██████████| 54/54 [00:03<00:00, 15.74it/s, loss=0.338]  \n"
     ]
    },
    {
     "name": "stdout",
     "output_type": "stream",
     "text": [
      "Epoch 25/30:\n",
      "  Train Loss: 0.1346\n",
      "  Val Loss: 0.2685, Val CER: 0.2644\n"
     ]
    },
    {
     "name": "stderr",
     "output_type": "stream",
     "text": [
      "Epoch 26/30 [Train]: 100%|██████████| 480/480 [00:18<00:00, 26.23it/s, loss=0.00342] \n",
      "Epoch 26/30 [Val]: 100%|██████████| 54/54 [00:03<00:00, 15.77it/s, loss=0.233]  \n"
     ]
    },
    {
     "name": "stdout",
     "output_type": "stream",
     "text": [
      "Epoch 26/30:\n",
      "  Train Loss: 0.1126\n",
      "  Val Loss: 0.2524, Val CER: 0.2630\n"
     ]
    },
    {
     "name": "stderr",
     "output_type": "stream",
     "text": [
      "Epoch 27/30 [Train]: 100%|██████████| 480/480 [00:18<00:00, 25.95it/s, loss=0.458]   \n",
      "Epoch 27/30 [Val]: 100%|██████████| 54/54 [00:03<00:00, 15.53it/s, loss=0.269]  \n"
     ]
    },
    {
     "name": "stdout",
     "output_type": "stream",
     "text": [
      "Epoch 27/30:\n",
      "  Train Loss: 0.1070\n",
      "  Val Loss: 0.2603, Val CER: 0.2648\n"
     ]
    },
    {
     "name": "stderr",
     "output_type": "stream",
     "text": [
      "Epoch 28/30 [Train]: 100%|██████████| 480/480 [00:18<00:00, 26.30it/s, loss=-0.0476] \n",
      "Epoch 28/30 [Val]: 100%|██████████| 54/54 [00:03<00:00, 15.57it/s, loss=0.229]  \n"
     ]
    },
    {
     "name": "stdout",
     "output_type": "stream",
     "text": [
      "Epoch 28/30:\n",
      "  Train Loss: 0.1066\n",
      "  Val Loss: 0.2608, Val CER: 0.2645\n"
     ]
    },
    {
     "name": "stderr",
     "output_type": "stream",
     "text": [
      "Epoch 29/30 [Train]: 100%|██████████| 480/480 [00:18<00:00, 26.18it/s, loss=0.224]   \n",
      "Epoch 29/30 [Val]: 100%|██████████| 54/54 [00:03<00:00, 15.84it/s, loss=0.262]   \n"
     ]
    },
    {
     "name": "stdout",
     "output_type": "stream",
     "text": [
      "Epoch 29/30:\n",
      "  Train Loss: 0.0968\n",
      "  Val Loss: 0.2696, Val CER: 0.2658\n"
     ]
    },
    {
     "name": "stderr",
     "output_type": "stream",
     "text": [
      "Epoch 30/30 [Train]: 100%|██████████| 480/480 [00:18<00:00, 26.08it/s, loss=-0.108]  \n",
      "Epoch 30/30 [Val]: 100%|██████████| 54/54 [00:03<00:00, 15.99it/s, loss=0.279]   \n"
     ]
    },
    {
     "name": "stdout",
     "output_type": "stream",
     "text": [
      "Epoch 30/30:\n",
      "  Train Loss: 0.0948\n",
      "  Val Loss: 0.2687, Val CER: 0.2660\n",
      "\n",
      "Testing with 75.0% of training data...\n"
     ]
    },
    {
     "name": "stderr",
     "output_type": "stream",
     "text": [
      "Epoch 1/30 [Train]: 100%|██████████| 720/720 [00:27<00:00, 26.66it/s, loss=1.8]  \n",
      "Epoch 1/30 [Val]: 100%|██████████| 54/54 [00:03<00:00, 15.33it/s, loss=1.47] \n"
     ]
    },
    {
     "name": "stdout",
     "output_type": "stream",
     "text": [
      "Epoch 1/30:\n",
      "  Train Loss: 2.2763\n",
      "  Val Loss: 1.0336, Val CER: 0.5228\n"
     ]
    },
    {
     "name": "stderr",
     "output_type": "stream",
     "text": [
      "Epoch 2/30 [Train]: 100%|██████████| 720/720 [00:26<00:00, 27.58it/s, loss=0.904]\n",
      "Epoch 2/30 [Val]: 100%|██████████| 54/54 [00:03<00:00, 15.62it/s, loss=1.53]     \n"
     ]
    },
    {
     "name": "stdout",
     "output_type": "stream",
     "text": [
      "Epoch 2/30:\n",
      "  Train Loss: 1.0754\n",
      "  Val Loss: 0.8663, Val CER: 0.4395\n"
     ]
    },
    {
     "name": "stderr",
     "output_type": "stream",
     "text": [
      "Epoch 3/30 [Train]: 100%|██████████| 720/720 [00:26<00:00, 27.51it/s, loss=0.853]\n",
      "Epoch 3/30 [Val]: 100%|██████████| 54/54 [00:03<00:00, 15.46it/s, loss=1.49] \n"
     ]
    },
    {
     "name": "stdout",
     "output_type": "stream",
     "text": [
      "Epoch 3/30:\n",
      "  Train Loss: 0.9721\n",
      "  Val Loss: 0.8265, Val CER: 0.4416\n"
     ]
    },
    {
     "name": "stderr",
     "output_type": "stream",
     "text": [
      "Epoch 4/30 [Train]: 100%|██████████| 720/720 [00:26<00:00, 27.47it/s, loss=0.689]\n",
      "Epoch 4/30 [Val]: 100%|██████████| 54/54 [00:03<00:00, 15.20it/s, loss=0.668] \n"
     ]
    },
    {
     "name": "stdout",
     "output_type": "stream",
     "text": [
      "Epoch 4/30:\n",
      "  Train Loss: 0.8005\n",
      "  Val Loss: 0.6043, Val CER: 0.3782\n"
     ]
    },
    {
     "name": "stderr",
     "output_type": "stream",
     "text": [
      "Epoch 5/30 [Train]: 100%|██████████| 720/720 [00:26<00:00, 27.67it/s, loss=1.06]  \n",
      "Epoch 5/30 [Val]: 100%|██████████| 54/54 [00:03<00:00, 15.72it/s, loss=1.28]  \n"
     ]
    },
    {
     "name": "stdout",
     "output_type": "stream",
     "text": [
      "Epoch 5/30:\n",
      "  Train Loss: 0.6801\n",
      "  Val Loss: 0.6934, Val CER: 0.3957\n"
     ]
    },
    {
     "name": "stderr",
     "output_type": "stream",
     "text": [
      "Epoch 6/30 [Train]: 100%|██████████| 720/720 [00:26<00:00, 27.53it/s, loss=0.851]  \n",
      "Epoch 6/30 [Val]: 100%|██████████| 54/54 [00:03<00:00, 15.58it/s, loss=0.29]   \n"
     ]
    },
    {
     "name": "stdout",
     "output_type": "stream",
     "text": [
      "Epoch 6/30:\n",
      "  Train Loss: 0.6153\n",
      "  Val Loss: 0.4088, Val CER: 0.3222\n"
     ]
    },
    {
     "name": "stderr",
     "output_type": "stream",
     "text": [
      "Epoch 7/30 [Train]: 100%|██████████| 720/720 [00:26<00:00, 27.57it/s, loss=0.954] \n",
      "Epoch 7/30 [Val]: 100%|██████████| 54/54 [00:03<00:00, 15.70it/s, loss=0.688] \n"
     ]
    },
    {
     "name": "stdout",
     "output_type": "stream",
     "text": [
      "Epoch 7/30:\n",
      "  Train Loss: 0.5870\n",
      "  Val Loss: 0.4676, Val CER: 0.3450\n"
     ]
    },
    {
     "name": "stderr",
     "output_type": "stream",
     "text": [
      "Epoch 8/30 [Train]: 100%|██████████| 720/720 [00:26<00:00, 27.19it/s, loss=0.457]   \n",
      "Epoch 8/30 [Val]: 100%|██████████| 54/54 [00:03<00:00, 15.52it/s, loss=0.502]  \n"
     ]
    },
    {
     "name": "stdout",
     "output_type": "stream",
     "text": [
      "Epoch 8/30:\n",
      "  Train Loss: 0.5282\n",
      "  Val Loss: 0.4081, Val CER: 0.3114\n"
     ]
    },
    {
     "name": "stderr",
     "output_type": "stream",
     "text": [
      "Epoch 9/30 [Train]: 100%|██████████| 720/720 [00:26<00:00, 27.18it/s, loss=0.549]   \n",
      "Epoch 9/30 [Val]: 100%|██████████| 54/54 [00:03<00:00, 15.64it/s, loss=0.665]  \n"
     ]
    },
    {
     "name": "stdout",
     "output_type": "stream",
     "text": [
      "Epoch 9/30:\n",
      "  Train Loss: 0.4802\n",
      "  Val Loss: 0.4118, Val CER: 0.3229\n"
     ]
    },
    {
     "name": "stderr",
     "output_type": "stream",
     "text": [
      "Epoch 10/30 [Train]: 100%|██████████| 720/720 [00:26<00:00, 26.79it/s, loss=0.164]  \n",
      "Epoch 10/30 [Val]: 100%|██████████| 54/54 [00:03<00:00, 15.67it/s, loss=0.401] \n"
     ]
    },
    {
     "name": "stdout",
     "output_type": "stream",
     "text": [
      "Epoch 10/30:\n",
      "  Train Loss: 0.4484\n",
      "  Val Loss: 0.3543, Val CER: 0.3111\n"
     ]
    },
    {
     "name": "stderr",
     "output_type": "stream",
     "text": [
      "Epoch 11/30 [Train]: 100%|██████████| 720/720 [00:26<00:00, 27.45it/s, loss=0.54]    \n",
      "Epoch 11/30 [Val]: 100%|██████████| 54/54 [00:03<00:00, 15.65it/s, loss=0.173] \n"
     ]
    },
    {
     "name": "stdout",
     "output_type": "stream",
     "text": [
      "Epoch 11/30:\n",
      "  Train Loss: 0.4102\n",
      "  Val Loss: 0.2950, Val CER: 0.2876\n"
     ]
    },
    {
     "name": "stderr",
     "output_type": "stream",
     "text": [
      "Epoch 12/30 [Train]: 100%|██████████| 720/720 [00:26<00:00, 27.43it/s, loss=0.467]   \n",
      "Epoch 12/30 [Val]: 100%|██████████| 54/54 [00:03<00:00, 15.49it/s, loss=0.507]   \n"
     ]
    },
    {
     "name": "stdout",
     "output_type": "stream",
     "text": [
      "Epoch 12/30:\n",
      "  Train Loss: 0.3738\n",
      "  Val Loss: 0.3673, Val CER: 0.3066\n"
     ]
    },
    {
     "name": "stderr",
     "output_type": "stream",
     "text": [
      "Epoch 13/30 [Train]: 100%|██████████| 720/720 [00:26<00:00, 26.97it/s, loss=0.388]    \n",
      "Epoch 13/30 [Val]: 100%|██████████| 54/54 [00:03<00:00, 15.37it/s, loss=0.66]    \n"
     ]
    },
    {
     "name": "stdout",
     "output_type": "stream",
     "text": [
      "Epoch 13/30:\n",
      "  Train Loss: 0.3423\n",
      "  Val Loss: 0.3455, Val CER: 0.2888\n"
     ]
    },
    {
     "name": "stderr",
     "output_type": "stream",
     "text": [
      "Epoch 14/30 [Train]: 100%|██████████| 720/720 [00:26<00:00, 27.26it/s, loss=0.395]   \n",
      "Epoch 14/30 [Val]: 100%|██████████| 54/54 [00:03<00:00, 15.52it/s, loss=0.674]  \n"
     ]
    },
    {
     "name": "stdout",
     "output_type": "stream",
     "text": [
      "Epoch 14/30:\n",
      "  Train Loss: 0.3214\n",
      "  Val Loss: 0.3739, Val CER: 0.2974\n"
     ]
    },
    {
     "name": "stderr",
     "output_type": "stream",
     "text": [
      "Epoch 15/30 [Train]: 100%|██████████| 720/720 [00:26<00:00, 27.23it/s, loss=-0.0459] \n",
      "Epoch 15/30 [Val]: 100%|██████████| 54/54 [00:03<00:00, 15.54it/s, loss=0.572]  \n"
     ]
    },
    {
     "name": "stdout",
     "output_type": "stream",
     "text": [
      "Epoch 15/30:\n",
      "  Train Loss: 0.2951\n",
      "  Val Loss: 0.2853, Val CER: 0.2748\n"
     ]
    },
    {
     "name": "stderr",
     "output_type": "stream",
     "text": [
      "Epoch 16/30 [Train]: 100%|██████████| 720/720 [00:26<00:00, 26.97it/s, loss=0.201]   \n",
      "Epoch 16/30 [Val]: 100%|██████████| 54/54 [00:03<00:00, 15.42it/s, loss=0.667]   \n"
     ]
    },
    {
     "name": "stdout",
     "output_type": "stream",
     "text": [
      "Epoch 16/30:\n",
      "  Train Loss: 0.2547\n",
      "  Val Loss: 0.3414, Val CER: 0.3034\n"
     ]
    },
    {
     "name": "stderr",
     "output_type": "stream",
     "text": [
      "Epoch 17/30 [Train]: 100%|██████████| 720/720 [00:26<00:00, 27.13it/s, loss=0.0354]   \n",
      "Epoch 17/30 [Val]: 100%|██████████| 54/54 [00:03<00:00, 15.50it/s, loss=0.438]  \n"
     ]
    },
    {
     "name": "stdout",
     "output_type": "stream",
     "text": [
      "Epoch 17/30:\n",
      "  Train Loss: 0.2201\n",
      "  Val Loss: 0.2688, Val CER: 0.2728\n"
     ]
    },
    {
     "name": "stderr",
     "output_type": "stream",
     "text": [
      "Epoch 18/30 [Train]: 100%|██████████| 720/720 [00:26<00:00, 27.22it/s, loss=-0.11]   \n",
      "Epoch 18/30 [Val]: 100%|██████████| 54/54 [00:03<00:00, 15.46it/s, loss=0.518]  \n"
     ]
    },
    {
     "name": "stdout",
     "output_type": "stream",
     "text": [
      "Epoch 18/30:\n",
      "  Train Loss: 0.1983\n",
      "  Val Loss: 0.2506, Val CER: 0.2627\n"
     ]
    },
    {
     "name": "stderr",
     "output_type": "stream",
     "text": [
      "Epoch 19/30 [Train]: 100%|██████████| 720/720 [00:26<00:00, 27.64it/s, loss=-0.147]  \n",
      "Epoch 19/30 [Val]: 100%|██████████| 54/54 [00:03<00:00, 15.43it/s, loss=0.434]  \n"
     ]
    },
    {
     "name": "stdout",
     "output_type": "stream",
     "text": [
      "Epoch 19/30:\n",
      "  Train Loss: 0.1709\n",
      "  Val Loss: 0.2087, Val CER: 0.2577\n"
     ]
    },
    {
     "name": "stderr",
     "output_type": "stream",
     "text": [
      "Epoch 20/30 [Train]: 100%|██████████| 720/720 [00:26<00:00, 27.39it/s, loss=-0.16]   \n",
      "Epoch 20/30 [Val]: 100%|██████████| 54/54 [00:03<00:00, 15.36it/s, loss=0.244]  \n"
     ]
    },
    {
     "name": "stdout",
     "output_type": "stream",
     "text": [
      "Epoch 20/30:\n",
      "  Train Loss: 0.1373\n",
      "  Val Loss: 0.2327, Val CER: 0.2603\n"
     ]
    },
    {
     "name": "stderr",
     "output_type": "stream",
     "text": [
      "Epoch 21/30 [Train]: 100%|██████████| 720/720 [00:26<00:00, 27.43it/s, loss=-0.3]    \n",
      "Epoch 21/30 [Val]: 100%|██████████| 54/54 [00:03<00:00, 15.60it/s, loss=0.526]   \n"
     ]
    },
    {
     "name": "stdout",
     "output_type": "stream",
     "text": [
      "Epoch 21/30:\n",
      "  Train Loss: 0.1144\n",
      "  Val Loss: 0.2590, Val CER: 0.2606\n"
     ]
    },
    {
     "name": "stderr",
     "output_type": "stream",
     "text": [
      "Epoch 22/30 [Train]: 100%|██████████| 720/720 [00:26<00:00, 27.27it/s, loss=0.114]    \n",
      "Epoch 22/30 [Val]: 100%|██████████| 54/54 [00:03<00:00, 15.74it/s, loss=0.445]  \n"
     ]
    },
    {
     "name": "stdout",
     "output_type": "stream",
     "text": [
      "Epoch 22/30:\n",
      "  Train Loss: 0.0897\n",
      "  Val Loss: 0.3296, Val CER: 0.2887\n"
     ]
    },
    {
     "name": "stderr",
     "output_type": "stream",
     "text": [
      "Epoch 23/30 [Train]: 100%|██████████| 720/720 [00:26<00:00, 27.12it/s, loss=0.0251]   \n",
      "Epoch 23/30 [Val]: 100%|██████████| 54/54 [00:03<00:00, 15.61it/s, loss=0.391]  \n"
     ]
    },
    {
     "name": "stdout",
     "output_type": "stream",
     "text": [
      "Epoch 23/30:\n",
      "  Train Loss: 0.0744\n",
      "  Val Loss: 0.2493, Val CER: 0.2645\n"
     ]
    },
    {
     "name": "stderr",
     "output_type": "stream",
     "text": [
      "Epoch 24/30 [Train]: 100%|██████████| 720/720 [00:26<00:00, 27.14it/s, loss=-0.0348]  \n",
      "Epoch 24/30 [Val]: 100%|██████████| 54/54 [00:03<00:00, 15.53it/s, loss=0.353]  \n"
     ]
    },
    {
     "name": "stdout",
     "output_type": "stream",
     "text": [
      "Epoch 24/30:\n",
      "  Train Loss: 0.0509\n",
      "  Val Loss: 0.2862, Val CER: 0.2663\n"
     ]
    },
    {
     "name": "stderr",
     "output_type": "stream",
     "text": [
      "Epoch 25/30 [Train]: 100%|██████████| 720/720 [00:26<00:00, 27.46it/s, loss=0.0148]   \n",
      "Epoch 25/30 [Val]: 100%|██████████| 54/54 [00:03<00:00, 15.32it/s, loss=0.306]    \n"
     ]
    },
    {
     "name": "stdout",
     "output_type": "stream",
     "text": [
      "Epoch 25/30:\n",
      "  Train Loss: 0.0329\n",
      "  Val Loss: 0.2881, Val CER: 0.2692\n"
     ]
    },
    {
     "name": "stderr",
     "output_type": "stream",
     "text": [
      "Epoch 26/30 [Train]: 100%|██████████| 720/720 [00:26<00:00, 27.40it/s, loss=-0.0235] \n",
      "Epoch 26/30 [Val]: 100%|██████████| 54/54 [00:03<00:00, 15.56it/s, loss=0.207]  \n"
     ]
    },
    {
     "name": "stdout",
     "output_type": "stream",
     "text": [
      "Epoch 26/30:\n",
      "  Train Loss: 0.0306\n",
      "  Val Loss: 0.2594, Val CER: 0.2626\n"
     ]
    },
    {
     "name": "stderr",
     "output_type": "stream",
     "text": [
      "Epoch 27/30 [Train]: 100%|██████████| 720/720 [00:26<00:00, 27.11it/s, loss=0.297]    \n",
      "Epoch 27/30 [Val]: 100%|██████████| 54/54 [00:03<00:00, 15.70it/s, loss=0.321]  \n"
     ]
    },
    {
     "name": "stdout",
     "output_type": "stream",
     "text": [
      "Epoch 27/30:\n",
      "  Train Loss: 0.0255\n",
      "  Val Loss: 0.2769, Val CER: 0.2658\n"
     ]
    },
    {
     "name": "stderr",
     "output_type": "stream",
     "text": [
      "Epoch 28/30 [Train]: 100%|██████████| 720/720 [00:26<00:00, 27.44it/s, loss=0.0574]   \n",
      "Epoch 28/30 [Val]: 100%|██████████| 54/54 [00:03<00:00, 15.31it/s, loss=0.297]   \n"
     ]
    },
    {
     "name": "stdout",
     "output_type": "stream",
     "text": [
      "Epoch 28/30:\n",
      "  Train Loss: 0.0171\n",
      "  Val Loss: 0.2815, Val CER: 0.2699\n"
     ]
    },
    {
     "name": "stderr",
     "output_type": "stream",
     "text": [
      "Epoch 29/30 [Train]: 100%|██████████| 720/720 [00:26<00:00, 27.38it/s, loss=0.156]    \n",
      "Epoch 29/30 [Val]: 100%|██████████| 54/54 [00:03<00:00, 15.58it/s, loss=0.283]  \n"
     ]
    },
    {
     "name": "stdout",
     "output_type": "stream",
     "text": [
      "Epoch 29/30:\n",
      "  Train Loss: 0.0155\n",
      "  Val Loss: 0.2654, Val CER: 0.2618\n"
     ]
    },
    {
     "name": "stderr",
     "output_type": "stream",
     "text": [
      "Epoch 30/30 [Train]: 100%|██████████| 720/720 [00:26<00:00, 27.17it/s, loss=-0.0631] \n",
      "Epoch 30/30 [Val]: 100%|██████████| 54/54 [00:03<00:00, 15.55it/s, loss=0.254]  \n"
     ]
    },
    {
     "name": "stdout",
     "output_type": "stream",
     "text": [
      "Epoch 30/30:\n",
      "  Train Loss: 0.0116\n",
      "  Val Loss: 0.2715, Val CER: 0.2644\n",
      "\n",
      "Testing with 100.0% of training data...\n"
     ]
    },
    {
     "name": "stderr",
     "output_type": "stream",
     "text": [
      "Epoch 1/30 [Train]: 100%|██████████| 960/960 [00:34<00:00, 27.66it/s, loss=1.18] \n",
      "Epoch 1/30 [Val]: 100%|██████████| 54/54 [00:03<00:00, 15.61it/s, loss=1.65] \n"
     ]
    },
    {
     "name": "stdout",
     "output_type": "stream",
     "text": [
      "Epoch 1/30:\n",
      "  Train Loss: 2.0694\n",
      "  Val Loss: 1.0849, Val CER: 0.5296\n"
     ]
    },
    {
     "name": "stderr",
     "output_type": "stream",
     "text": [
      "Epoch 2/30 [Train]: 100%|██████████| 960/960 [00:34<00:00, 27.94it/s, loss=0.963]\n",
      "Epoch 2/30 [Val]: 100%|██████████| 54/54 [00:03<00:00, 15.60it/s, loss=1.51]  \n"
     ]
    },
    {
     "name": "stdout",
     "output_type": "stream",
     "text": [
      "Epoch 2/30:\n",
      "  Train Loss: 0.9920\n",
      "  Val Loss: 0.7541, Val CER: 0.4056\n"
     ]
    },
    {
     "name": "stderr",
     "output_type": "stream",
     "text": [
      "Epoch 3/30 [Train]: 100%|██████████| 960/960 [00:34<00:00, 27.68it/s, loss=0.694]\n",
      "Epoch 3/30 [Val]: 100%|██████████| 54/54 [00:03<00:00, 14.87it/s, loss=2.95]   \n"
     ]
    },
    {
     "name": "stdout",
     "output_type": "stream",
     "text": [
      "Epoch 3/30:\n",
      "  Train Loss: 0.8922\n",
      "  Val Loss: 0.9955, Val CER: 0.4703\n"
     ]
    },
    {
     "name": "stderr",
     "output_type": "stream",
     "text": [
      "Epoch 4/30 [Train]: 100%|██████████| 960/960 [00:34<00:00, 27.67it/s, loss=0.644]  \n",
      "Epoch 4/30 [Val]: 100%|██████████| 54/54 [00:03<00:00, 15.43it/s, loss=1.19]  \n"
     ]
    },
    {
     "name": "stdout",
     "output_type": "stream",
     "text": [
      "Epoch 4/30:\n",
      "  Train Loss: 0.7279\n",
      "  Val Loss: 0.5528, Val CER: 0.3516\n"
     ]
    },
    {
     "name": "stderr",
     "output_type": "stream",
     "text": [
      "Epoch 5/30 [Train]: 100%|██████████| 960/960 [00:34<00:00, 27.70it/s, loss=0.956]   \n",
      "Epoch 5/30 [Val]: 100%|██████████| 54/54 [00:03<00:00, 15.53it/s, loss=1]     \n"
     ]
    },
    {
     "name": "stdout",
     "output_type": "stream",
     "text": [
      "Epoch 5/30:\n",
      "  Train Loss: 0.6219\n",
      "  Val Loss: 0.4954, Val CER: 0.3487\n"
     ]
    },
    {
     "name": "stderr",
     "output_type": "stream",
     "text": [
      "Epoch 6/30 [Train]: 100%|██████████| 960/960 [00:34<00:00, 27.76it/s, loss=0.68]   \n",
      "Epoch 6/30 [Val]: 100%|██████████| 54/54 [00:03<00:00, 16.12it/s, loss=0.736]  \n"
     ]
    },
    {
     "name": "stdout",
     "output_type": "stream",
     "text": [
      "Epoch 6/30:\n",
      "  Train Loss: 0.5730\n",
      "  Val Loss: 0.4809, Val CER: 0.3351\n"
     ]
    },
    {
     "name": "stderr",
     "output_type": "stream",
     "text": [
      "Epoch 7/30 [Train]: 100%|██████████| 960/960 [00:34<00:00, 27.99it/s, loss=0.444]   \n",
      "Epoch 7/30 [Val]: 100%|██████████| 54/54 [00:03<00:00, 15.46it/s, loss=0.869] \n"
     ]
    },
    {
     "name": "stdout",
     "output_type": "stream",
     "text": [
      "Epoch 7/30:\n",
      "  Train Loss: 0.5349\n",
      "  Val Loss: 0.4261, Val CER: 0.3211\n"
     ]
    },
    {
     "name": "stderr",
     "output_type": "stream",
     "text": [
      "Epoch 8/30 [Train]: 100%|██████████| 960/960 [00:34<00:00, 27.72it/s, loss=0.588]  \n",
      "Epoch 8/30 [Val]: 100%|██████████| 54/54 [00:03<00:00, 15.32it/s, loss=1.13]  \n"
     ]
    },
    {
     "name": "stdout",
     "output_type": "stream",
     "text": [
      "Epoch 8/30:\n",
      "  Train Loss: 0.4777\n",
      "  Val Loss: 0.4434, Val CER: 0.3184\n"
     ]
    },
    {
     "name": "stderr",
     "output_type": "stream",
     "text": [
      "Epoch 9/30 [Train]: 100%|██████████| 960/960 [00:35<00:00, 27.32it/s, loss=0.232]  \n",
      "Epoch 9/30 [Val]: 100%|██████████| 54/54 [00:03<00:00, 15.77it/s, loss=0.575]  \n"
     ]
    },
    {
     "name": "stdout",
     "output_type": "stream",
     "text": [
      "Epoch 9/30:\n",
      "  Train Loss: 0.4543\n",
      "  Val Loss: 0.4004, Val CER: 0.3031\n"
     ]
    },
    {
     "name": "stderr",
     "output_type": "stream",
     "text": [
      "Epoch 10/30 [Train]: 100%|██████████| 960/960 [00:34<00:00, 28.04it/s, loss=0.337]   \n",
      "Epoch 10/30 [Val]: 100%|██████████| 54/54 [00:03<00:00, 15.71it/s, loss=0.531]   \n"
     ]
    },
    {
     "name": "stdout",
     "output_type": "stream",
     "text": [
      "Epoch 10/30:\n",
      "  Train Loss: 0.4432\n",
      "  Val Loss: 0.3762, Val CER: 0.3116\n"
     ]
    },
    {
     "name": "stderr",
     "output_type": "stream",
     "text": [
      "Epoch 11/30 [Train]: 100%|██████████| 960/960 [00:34<00:00, 27.93it/s, loss=0.228]   \n",
      "Epoch 11/30 [Val]: 100%|██████████| 54/54 [00:03<00:00, 15.29it/s, loss=1.08]   \n"
     ]
    },
    {
     "name": "stdout",
     "output_type": "stream",
     "text": [
      "Epoch 11/30:\n",
      "  Train Loss: 0.3926\n",
      "  Val Loss: 0.3342, Val CER: 0.2954\n"
     ]
    },
    {
     "name": "stderr",
     "output_type": "stream",
     "text": [
      "Epoch 12/30 [Train]: 100%|██████████| 960/960 [00:34<00:00, 27.93it/s, loss=0.00336]  \n",
      "Epoch 12/30 [Val]: 100%|██████████| 54/54 [00:03<00:00, 15.91it/s, loss=0.581]  \n"
     ]
    },
    {
     "name": "stdout",
     "output_type": "stream",
     "text": [
      "Epoch 12/30:\n",
      "  Train Loss: 0.3528\n",
      "  Val Loss: 0.3563, Val CER: 0.2959\n"
     ]
    },
    {
     "name": "stderr",
     "output_type": "stream",
     "text": [
      "Epoch 13/30 [Train]: 100%|██████████| 960/960 [00:33<00:00, 28.28it/s, loss=0.49]    \n",
      "Epoch 13/30 [Val]: 100%|██████████| 54/54 [00:03<00:00, 15.47it/s, loss=0.364]  \n"
     ]
    },
    {
     "name": "stdout",
     "output_type": "stream",
     "text": [
      "Epoch 13/30:\n",
      "  Train Loss: 0.3151\n",
      "  Val Loss: 0.3192, Val CER: 0.2853\n"
     ]
    },
    {
     "name": "stderr",
     "output_type": "stream",
     "text": [
      "Epoch 14/30 [Train]: 100%|██████████| 960/960 [00:35<00:00, 27.26it/s, loss=0.362]   \n",
      "Epoch 14/30 [Val]: 100%|██████████| 54/54 [00:03<00:00, 16.27it/s, loss=0.618]  \n"
     ]
    },
    {
     "name": "stdout",
     "output_type": "stream",
     "text": [
      "Epoch 14/30:\n",
      "  Train Loss: 0.2893\n",
      "  Val Loss: 0.2904, Val CER: 0.2834\n"
     ]
    },
    {
     "name": "stderr",
     "output_type": "stream",
     "text": [
      "Epoch 15/30 [Train]: 100%|██████████| 960/960 [00:41<00:00, 22.97it/s, loss=0.21]     \n",
      "Epoch 15/30 [Val]: 100%|██████████| 54/54 [00:03<00:00, 15.83it/s, loss=0.499]  \n"
     ]
    },
    {
     "name": "stdout",
     "output_type": "stream",
     "text": [
      "Epoch 15/30:\n",
      "  Train Loss: 0.2682\n",
      "  Val Loss: 0.2718, Val CER: 0.2748\n"
     ]
    },
    {
     "name": "stderr",
     "output_type": "stream",
     "text": [
      "Epoch 16/30 [Train]: 100%|██████████| 960/960 [00:42<00:00, 22.54it/s, loss=0.372]    \n",
      "Epoch 16/30 [Val]: 100%|██████████| 54/54 [00:03<00:00, 15.93it/s, loss=0.486]  \n"
     ]
    },
    {
     "name": "stdout",
     "output_type": "stream",
     "text": [
      "Epoch 16/30:\n",
      "  Train Loss: 0.2359\n",
      "  Val Loss: 0.2513, Val CER: 0.2744\n"
     ]
    },
    {
     "name": "stderr",
     "output_type": "stream",
     "text": [
      "Epoch 17/30 [Train]: 100%|██████████| 960/960 [00:41<00:00, 23.03it/s, loss=0.216]   \n",
      "Epoch 17/30 [Val]: 100%|██████████| 54/54 [00:03<00:00, 15.84it/s, loss=0.204]  \n"
     ]
    },
    {
     "name": "stdout",
     "output_type": "stream",
     "text": [
      "Epoch 17/30:\n",
      "  Train Loss: 0.2038\n",
      "  Val Loss: 0.2276, Val CER: 0.2635\n"
     ]
    },
    {
     "name": "stderr",
     "output_type": "stream",
     "text": [
      "Epoch 18/30 [Train]: 100%|██████████| 960/960 [00:41<00:00, 22.94it/s, loss=0.613]    \n",
      "Epoch 18/30 [Val]: 100%|██████████| 54/54 [00:03<00:00, 15.88it/s, loss=0.877]  \n"
     ]
    },
    {
     "name": "stdout",
     "output_type": "stream",
     "text": [
      "Epoch 18/30:\n",
      "  Train Loss: 0.1740\n",
      "  Val Loss: 0.2462, Val CER: 0.2632\n"
     ]
    },
    {
     "name": "stderr",
     "output_type": "stream",
     "text": [
      "Epoch 19/30 [Train]: 100%|██████████| 960/960 [00:41<00:00, 23.06it/s, loss=0.688]   \n",
      "Epoch 19/30 [Val]: 100%|██████████| 54/54 [00:03<00:00, 16.51it/s, loss=0.207]  \n"
     ]
    },
    {
     "name": "stdout",
     "output_type": "stream",
     "text": [
      "Epoch 19/30:\n",
      "  Train Loss: 0.1553\n",
      "  Val Loss: 0.3007, Val CER: 0.2797\n"
     ]
    },
    {
     "name": "stderr",
     "output_type": "stream",
     "text": [
      "Epoch 20/30 [Train]: 100%|██████████| 960/960 [00:41<00:00, 22.93it/s, loss=0.334]    \n",
      "Epoch 20/30 [Val]: 100%|██████████| 54/54 [00:03<00:00, 16.30it/s, loss=0.451]   \n"
     ]
    },
    {
     "name": "stdout",
     "output_type": "stream",
     "text": [
      "Epoch 20/30:\n",
      "  Train Loss: 0.1210\n",
      "  Val Loss: 0.2480, Val CER: 0.2607\n"
     ]
    },
    {
     "name": "stderr",
     "output_type": "stream",
     "text": [
      "Epoch 21/30 [Train]: 100%|██████████| 960/960 [00:41<00:00, 23.05it/s, loss=0.111]    \n",
      "Epoch 21/30 [Val]: 100%|██████████| 54/54 [00:03<00:00, 15.03it/s, loss=0.164]    \n"
     ]
    },
    {
     "name": "stdout",
     "output_type": "stream",
     "text": [
      "Epoch 21/30:\n",
      "  Train Loss: 0.1094\n",
      "  Val Loss: 0.2081, Val CER: 0.2490\n"
     ]
    },
    {
     "name": "stderr",
     "output_type": "stream",
     "text": [
      "Epoch 22/30 [Train]: 100%|██████████| 960/960 [00:42<00:00, 22.57it/s, loss=-0.0664]  \n",
      "Epoch 22/30 [Val]: 100%|██████████| 54/54 [00:03<00:00, 16.38it/s, loss=0.258]   \n"
     ]
    },
    {
     "name": "stdout",
     "output_type": "stream",
     "text": [
      "Epoch 22/30:\n",
      "  Train Loss: 0.0815\n",
      "  Val Loss: 0.2224, Val CER: 0.2515\n"
     ]
    },
    {
     "name": "stderr",
     "output_type": "stream",
     "text": [
      "Epoch 23/30 [Train]: 100%|██████████| 960/960 [00:42<00:00, 22.67it/s, loss=-0.0532]  \n",
      "Epoch 23/30 [Val]: 100%|██████████| 54/54 [00:03<00:00, 16.03it/s, loss=0.178]  \n"
     ]
    },
    {
     "name": "stdout",
     "output_type": "stream",
     "text": [
      "Epoch 23/30:\n",
      "  Train Loss: 0.0629\n",
      "  Val Loss: 0.2284, Val CER: 0.2525\n"
     ]
    },
    {
     "name": "stderr",
     "output_type": "stream",
     "text": [
      "Epoch 24/30 [Train]: 100%|██████████| 960/960 [00:42<00:00, 22.71it/s, loss=0.0528]  \n",
      "Epoch 24/30 [Val]: 100%|██████████| 54/54 [00:03<00:00, 15.20it/s, loss=0.0378] \n"
     ]
    },
    {
     "name": "stdout",
     "output_type": "stream",
     "text": [
      "Epoch 24/30:\n",
      "  Train Loss: 0.0484\n",
      "  Val Loss: 0.2359, Val CER: 0.2544\n"
     ]
    },
    {
     "name": "stderr",
     "output_type": "stream",
     "text": [
      "Epoch 25/30 [Train]: 100%|██████████| 960/960 [00:43<00:00, 22.20it/s, loss=-0.0788] \n",
      "Epoch 25/30 [Val]: 100%|██████████| 54/54 [00:03<00:00, 16.54it/s, loss=0.187]  \n"
     ]
    },
    {
     "name": "stdout",
     "output_type": "stream",
     "text": [
      "Epoch 25/30:\n",
      "  Train Loss: 0.0271\n",
      "  Val Loss: 0.2461, Val CER: 0.2514\n"
     ]
    },
    {
     "name": "stderr",
     "output_type": "stream",
     "text": [
      "Epoch 26/30 [Train]: 100%|██████████| 960/960 [00:41<00:00, 23.03it/s, loss=0.0685]   \n",
      "Epoch 26/30 [Val]: 100%|██████████| 54/54 [00:03<00:00, 16.37it/s, loss=0.099]  \n"
     ]
    },
    {
     "name": "stdout",
     "output_type": "stream",
     "text": [
      "Epoch 26/30:\n",
      "  Train Loss: 0.0163\n",
      "  Val Loss: 0.2375, Val CER: 0.2524\n"
     ]
    },
    {
     "name": "stderr",
     "output_type": "stream",
     "text": [
      "Epoch 27/30 [Train]: 100%|██████████| 960/960 [00:39<00:00, 24.50it/s, loss=0.66]    \n",
      "Epoch 27/30 [Val]: 100%|██████████| 54/54 [00:03<00:00, 15.48it/s, loss=0.0253] \n"
     ]
    },
    {
     "name": "stdout",
     "output_type": "stream",
     "text": [
      "Epoch 27/30:\n",
      "  Train Loss: 0.0173\n",
      "  Val Loss: 0.2220, Val CER: 0.2468\n"
     ]
    },
    {
     "name": "stderr",
     "output_type": "stream",
     "text": [
      "Epoch 28/30 [Train]: 100%|██████████| 960/960 [00:39<00:00, 24.33it/s, loss=0.185]    \n",
      "Epoch 28/30 [Val]: 100%|██████████| 54/54 [00:03<00:00, 15.38it/s, loss=0.0774]  \n"
     ]
    },
    {
     "name": "stdout",
     "output_type": "stream",
     "text": [
      "Epoch 28/30:\n",
      "  Train Loss: 0.0039\n",
      "  Val Loss: 0.2309, Val CER: 0.2485\n"
     ]
    },
    {
     "name": "stderr",
     "output_type": "stream",
     "text": [
      "Epoch 29/30 [Train]: 100%|██████████| 960/960 [00:38<00:00, 24.84it/s, loss=-0.00468] \n",
      "Epoch 29/30 [Val]: 100%|██████████| 54/54 [00:03<00:00, 16.41it/s, loss=0.0569] \n"
     ]
    },
    {
     "name": "stdout",
     "output_type": "stream",
     "text": [
      "Epoch 29/30:\n",
      "  Train Loss: 0.0007\n",
      "  Val Loss: 0.2406, Val CER: 0.2483\n"
     ]
    },
    {
     "name": "stderr",
     "output_type": "stream",
     "text": [
      "Epoch 30/30 [Train]: 100%|██████████| 960/960 [00:39<00:00, 24.52it/s, loss=-0.0444]  \n",
      "Epoch 30/30 [Val]: 100%|██████████| 54/54 [00:03<00:00, 15.71it/s, loss=0.0387] \n"
     ]
    },
    {
     "name": "stdout",
     "output_type": "stream",
     "text": [
      "Epoch 30/30:\n",
      "  Train Loss: 0.0046\n",
      "  Val Loss: 0.2336, Val CER: 0.2493\n"
     ]
    },
    {
     "data": {
      "image/png": "[encoded data removed]",
      "text/plain": [
       "<Figure size 1000x600 with 1 Axes>"
      ]
     },
     "metadata": {},
     "output_type": "display_data"
    },
    {
     "name": "stdout",
     "output_type": "stream",
     "text": [
      "Final CER for different amounts of training data:\n",
      "10% data: 0.3709\n",
      "25% data: 0.2865\n",
      "50% data: 0.2660\n",
      "75% data: 0.2644\n",
      "100% data: 0.2493\n"
     ]
    },
    {
     "data": {
      "image/png": "[encoded data removed]",
      "text/plain": [
       "<Figure size 800x500 with 1 Axes>"
      ]
     },
     "metadata": {},
     "output_type": "display_data"
    }
   ],
   "source": [
    "# Set device\n",
    "device = torch.device('cuda' if torch.cuda.is_available() else 'cpu')\n",
    "print(f\"Using device: {device}\")\n",
    "\n",
    "# Run data amount experiments\n",
    "data_percentages = [0.1, 0.25, 0.5, 0.75, 1.0]  # 10%, 25%, 50%, 75%, 100% of data\n",
    "data_results = test_data_amounts(\n",
    "    train_dataset=train_dataset,\n",
    "    val_loader=val_loader,\n",
    "    device=device,\n",
    "    percentages=data_percentages,\n",
    "    epochs=30  # Reduced epochs to save time across multiple experiments\n",
    ")\n",
    "\n",
    "# Plot results\n",
    "plt.figure(figsize=(10, 6))\n",
    "for pct, result in data_results.items():\n",
    "    plt.plot(result['val_cer'], label=f'{int(pct*100)}% data')\n",
    "plt.xlabel('Epoch')\n",
    "plt.ylabel('Character Error Rate (CER)')\n",
    "plt.title('Effect of Training Data Amount on CER')\n",
    "plt.legend()\n",
    "plt.grid(True)\n",
    "plt.savefig('data_amount_cer.png')\n",
    "plt.show()\n",
    "\n",
    "# Print final CERs\n",
    "print(\"Final CER for different amounts of training data:\")\n",
    "for pct, result in sorted(data_results.items()):\n",
    "    print(f\"{int(pct*100)}% data: {result['final_cer']:.4f}\")\n",
    "\n",
    "# Plot the relationship between data amount and final CER\n",
    "plt.figure(figsize=(8, 5))\n",
    "x_vals = [pct*100 for pct in sorted(data_results.keys())]\n",
    "y_vals = [data_results[pct]['final_cer'] for pct in sorted(data_results.keys())]\n",
    "plt.plot(x_vals, y_vals, 'o-', linewidth=2)\n",
    "plt.xlabel('Percentage of Training Data (%)')\n",
    "plt.ylabel('Final Character Error Rate (CER)')\n",
    "plt.title('Relationship Between Training Data Amount and CER')\n",
    "plt.grid(True)\n",
    "plt.savefig('data_amount_relationship.png')\n",
    "plt.show()"
   ]
  },
  {
   "cell_type": "code",
   "execution_count": null,
   "metadata": {},
   "outputs": [
    {
     "name": "stdout",
     "output_type": "stream",
     "text": [
      "Using device: cuda\n",
      "EMGConformer(\n",
      "  (conv_layers): Sequential(\n",
      "    (0): Conv1d(1056, 512, kernel_size=(3,), stride=(1,), padding=(1,))\n",
      "    (1): BatchNorm1d(512, eps=1e-05, momentum=0.1, affine=True, track_running_stats=True)\n",
      "    (2): ReLU()\n",
      "    (3): Dropout(p=0.3, inplace=False)\n",
      "    (4): Conv1d(512, 256, kernel_size=(3,), stride=(1,), padding=(1,))\n",
      "    (5): BatchNorm1d(256, eps=1e-05, momentum=0.1, affine=True, track_running_stats=True)\n",
      "    (6): ReLU()\n",
      "    (7): MaxPool1d(kernel_size=2, stride=2, padding=0, dilation=1, ceil_mode=False)\n",
      "    (8): Dropout(p=0.3, inplace=False)\n",
      "  )\n",
      "  (projection): Identity()\n",
      "  (pos_encoder): PositionalEncoding()\n",
      "  (conformer_blocks): ModuleList(\n",
      "    (0-3): 4 x ConformerBlock(\n",
      "      (feed_forward1): FeedForwardModule(\n",
      "        (layer_norm): LayerNorm((256,), eps=1e-05, elementwise_affine=True)\n",
      "        (linear1): Linear(in_features=256, out_features=1024, bias=True)\n",
      "        (swish): SiLU()\n",
      "        (dropout1): Dropout(p=0.3, inplace=False)\n",
      "        (linear2): Linear(in_features=1024, out_features=256, bias=True)\n",
      "        (dropout2): Dropout(p=0.3, inplace=False)\n",
      "      )\n",
      "      (self_attn_layer_norm): LayerNorm((256,), eps=1e-05, elementwise_affine=True)\n",
      "      (self_attn): MultiheadAttention(\n",
      "        (out_proj): NonDynamicallyQuantizableLinear(in_features=256, out_features=256, bias=True)\n",
      "      )\n",
      "      (self_attn_dropout): Dropout(p=0.3, inplace=False)\n",
      "      (conv_module): ConvModule(\n",
      "        (layer_norm): LayerNorm((256,), eps=1e-05, elementwise_affine=True)\n",
      "        (pointwise_conv1): Conv1d(256, 512, kernel_size=(1,), stride=(1,))\n",
      "        (glu): GLU(dim=1)\n",
      "        (depthwise_conv): Conv1d(256, 256, kernel_size=(15,), stride=(1,), padding=(7,), groups=256)\n",
      "        (batch_norm): BatchNorm1d(256, eps=1e-05, momentum=0.1, affine=True, track_running_stats=True)\n",
      "        (swish): SiLU()\n",
      "        (pointwise_conv2): Conv1d(256, 256, kernel_size=(1,), stride=(1,))\n",
      "        (dropout): Dropout(p=0.3, inplace=False)\n",
      "      )\n",
      "      (feed_forward2): FeedForwardModule(\n",
      "        (layer_norm): LayerNorm((256,), eps=1e-05, elementwise_affine=True)\n",
      "        (linear1): Linear(in_features=256, out_features=1024, bias=True)\n",
      "        (swish): SiLU()\n",
      "        (dropout1): Dropout(p=0.3, inplace=False)\n",
      "        (linear2): Linear(in_features=1024, out_features=256, bias=True)\n",
      "        (dropout2): Dropout(p=0.3, inplace=False)\n",
      "      )\n",
      "      (final_layer_norm): LayerNorm((256,), eps=1e-05, elementwise_affine=True)\n",
      "    )\n",
      "  )\n",
      "  (classifier): Linear(in_features=256, out_features=99, bias=True)\n",
      ")\n",
      "Total parameters: 8,118,371\n",
      "Testing model with a small batch...\n",
      "Forward pass successful! Output shape: torch.Size([73, 32, 99])\n",
      "Starting training...\n"
     ]
    },
    {
     "name": "stderr",
     "output_type": "stream",
     "text": [
      "Epoch 1/100 [Train]: 100%|██████████| 960/960 [00:32<00:00, 29.88it/s, loss=0.802]\n",
      "Epoch 1/100 [Val]: 100%|██████████| 54/54 [00:03<00:00, 16.07it/s, loss=1.57] \n"
     ]
    },
    {
     "name": "stdout",
     "output_type": "stream",
     "text": [
      "Epoch 1/100:\n",
      "  Train Loss: 2.0919\n",
      "  Val Loss: 0.8590, Val CER: 0.4465\n"
     ]
    },
    {
     "name": "stderr",
     "output_type": "stream",
     "text": [
      "Epoch 2/100 [Train]: 100%|██████████| 960/960 [00:32<00:00, 29.23it/s, loss=1.07] \n",
      "Epoch 2/100 [Val]: 100%|██████████| 54/54 [00:03<00:00, 15.91it/s, loss=1.01]  \n"
     ]
    },
    {
     "name": "stdout",
     "output_type": "stream",
     "text": [
      "Epoch 2/100:\n",
      "  Train Loss: 0.9006\n",
      "  Val Loss: 0.6811, Val CER: 0.4057\n"
     ]
    },
    {
     "name": "stderr",
     "output_type": "stream",
     "text": [
      "Epoch 3/100 [Train]: 100%|██████████| 960/960 [00:33<00:00, 28.98it/s, loss=0.582] \n",
      "Epoch 3/100 [Val]: 100%|██████████| 54/54 [00:03<00:00, 15.94it/s, loss=0.573] \n"
     ]
    },
    {
     "name": "stdout",
     "output_type": "stream",
     "text": [
      "Epoch 3/100:\n",
      "  Train Loss: 0.7435\n",
      "  Val Loss: 0.6030, Val CER: 0.3648\n"
     ]
    },
    {
     "name": "stderr",
     "output_type": "stream",
     "text": [
      "Epoch 4/100 [Train]: 100%|██████████| 960/960 [00:33<00:00, 28.93it/s, loss=0.328]  \n",
      "Epoch 4/100 [Val]: 100%|██████████| 54/54 [00:03<00:00, 15.59it/s, loss=1]      \n"
     ]
    },
    {
     "name": "stdout",
     "output_type": "stream",
     "text": [
      "Epoch 4/100:\n",
      "  Train Loss: 0.7000\n",
      "  Val Loss: 0.6387, Val CER: 0.3820\n"
     ]
    },
    {
     "name": "stderr",
     "output_type": "stream",
     "text": [
      "Epoch 5/100 [Train]: 100%|██████████| 960/960 [00:33<00:00, 29.01it/s, loss=0.575] \n",
      "Epoch 5/100 [Val]: 100%|██████████| 54/54 [00:03<00:00, 15.88it/s, loss=0.669] \n"
     ]
    },
    {
     "name": "stdout",
     "output_type": "stream",
     "text": [
      "Epoch 5/100:\n",
      "  Train Loss: 0.6858\n",
      "  Val Loss: 0.5925, Val CER: 0.3611\n"
     ]
    },
    {
     "name": "stderr",
     "output_type": "stream",
     "text": [
      "Epoch 6/100 [Train]: 100%|██████████| 960/960 [00:33<00:00, 28.82it/s, loss=0.963]  \n",
      "Epoch 6/100 [Val]: 100%|██████████| 54/54 [00:03<00:00, 15.72it/s, loss=1.44]  \n"
     ]
    },
    {
     "name": "stdout",
     "output_type": "stream",
     "text": [
      "Epoch 6/100:\n",
      "  Train Loss: 0.6549\n",
      "  Val Loss: 0.6599, Val CER: 0.3918\n"
     ]
    },
    {
     "name": "stderr",
     "output_type": "stream",
     "text": [
      "Epoch 7/100 [Train]: 100%|██████████| 960/960 [00:33<00:00, 29.02it/s, loss=0.877]  \n",
      "Epoch 7/100 [Val]: 100%|██████████| 54/54 [00:03<00:00, 15.37it/s, loss=0.611] \n"
     ]
    },
    {
     "name": "stdout",
     "output_type": "stream",
     "text": [
      "Epoch 7/100:\n",
      "  Train Loss: 0.6352\n",
      "  Val Loss: 0.5112, Val CER: 0.3410\n"
     ]
    },
    {
     "name": "stderr",
     "output_type": "stream",
     "text": [
      "Epoch 8/100 [Train]: 100%|██████████| 960/960 [00:33<00:00, 28.60it/s, loss=0.424]  \n",
      "Epoch 8/100 [Val]: 100%|██████████| 54/54 [00:03<00:00, 15.13it/s, loss=0.603] \n"
     ]
    },
    {
     "name": "stdout",
     "output_type": "stream",
     "text": [
      "Epoch 8/100:\n",
      "  Train Loss: 0.5908\n",
      "  Val Loss: 0.5604, Val CER: 0.3744\n"
     ]
    },
    {
     "name": "stderr",
     "output_type": "stream",
     "text": [
      "Epoch 9/100 [Train]: 100%|██████████| 960/960 [00:33<00:00, 28.93it/s, loss=0.347]  \n",
      "Epoch 9/100 [Val]: 100%|██████████| 54/54 [00:03<00:00, 15.51it/s, loss=0.812]  \n"
     ]
    },
    {
     "name": "stdout",
     "output_type": "stream",
     "text": [
      "Epoch 9/100:\n",
      "  Train Loss: 0.5650\n",
      "  Val Loss: 0.4639, Val CER: 0.3392\n"
     ]
    },
    {
     "name": "stderr",
     "output_type": "stream",
     "text": [
      "Epoch 10/100 [Train]: 100%|██████████| 960/960 [00:33<00:00, 28.76it/s, loss=0.45]   \n",
      "Epoch 10/100 [Val]: 100%|██████████| 54/54 [00:03<00:00, 15.77it/s, loss=0.581]  \n"
     ]
    },
    {
     "name": "stdout",
     "output_type": "stream",
     "text": [
      "Epoch 10/100:\n",
      "  Train Loss: 0.5257\n",
      "  Val Loss: 0.4269, Val CER: 0.3234\n"
     ]
    },
    {
     "name": "stderr",
     "output_type": "stream",
     "text": [
      "Epoch 11/100 [Train]: 100%|██████████| 960/960 [00:33<00:00, 28.78it/s, loss=0.537]   \n",
      "Epoch 11/100 [Val]: 100%|██████████| 54/54 [00:03<00:00, 15.85it/s, loss=0.415]  \n"
     ]
    },
    {
     "name": "stdout",
     "output_type": "stream",
     "text": [
      "Epoch 11/100:\n",
      "  Train Loss: 0.4922\n",
      "  Val Loss: 0.3781, Val CER: 0.3016\n"
     ]
    },
    {
     "name": "stderr",
     "output_type": "stream",
     "text": [
      "Epoch 12/100 [Train]: 100%|██████████| 960/960 [00:33<00:00, 28.83it/s, loss=0.258]   \n",
      "Epoch 12/100 [Val]: 100%|██████████| 54/54 [00:03<00:00, 15.68it/s, loss=1.57]  \n"
     ]
    },
    {
     "name": "stdout",
     "output_type": "stream",
     "text": [
      "Epoch 12/100:\n",
      "  Train Loss: 0.4730\n",
      "  Val Loss: 0.4046, Val CER: 0.3119\n"
     ]
    },
    {
     "name": "stderr",
     "output_type": "stream",
     "text": [
      "Epoch 13/100 [Train]: 100%|██████████| 960/960 [00:33<00:00, 28.75it/s, loss=0.624]   \n",
      "Epoch 13/100 [Val]: 100%|██████████| 54/54 [00:03<00:00, 15.77it/s, loss=0.189] \n"
     ]
    },
    {
     "name": "stdout",
     "output_type": "stream",
     "text": [
      "Epoch 13/100:\n",
      "  Train Loss: 0.4221\n",
      "  Val Loss: 0.4031, Val CER: 0.3128\n"
     ]
    },
    {
     "name": "stderr",
     "output_type": "stream",
     "text": [
      "Epoch 14/100 [Train]: 100%|██████████| 960/960 [00:32<00:00, 29.22it/s, loss=0.358]   \n",
      "Epoch 14/100 [Val]: 100%|██████████| 54/54 [00:03<00:00, 16.03it/s, loss=0.487]  \n"
     ]
    },
    {
     "name": "stdout",
     "output_type": "stream",
     "text": [
      "Epoch 14/100:\n",
      "  Train Loss: 0.4247\n",
      "  Val Loss: 0.3061, Val CER: 0.2791\n"
     ]
    },
    {
     "name": "stderr",
     "output_type": "stream",
     "text": [
      "Epoch 15/100 [Train]: 100%|██████████| 960/960 [00:32<00:00, 29.10it/s, loss=0.354]  \n",
      "Epoch 15/100 [Val]: 100%|██████████| 54/54 [00:03<00:00, 15.85it/s, loss=0.297]   \n"
     ]
    },
    {
     "name": "stdout",
     "output_type": "stream",
     "text": [
      "Epoch 15/100:\n",
      "  Train Loss: 0.3867\n",
      "  Val Loss: 0.3147, Val CER: 0.2918\n"
     ]
    },
    {
     "name": "stderr",
     "output_type": "stream",
     "text": [
      "Epoch 16/100 [Train]: 100%|██████████| 960/960 [00:33<00:00, 28.90it/s, loss=0.352]    \n",
      "Epoch 16/100 [Val]: 100%|██████████| 54/54 [00:03<00:00, 15.79it/s, loss=1.04]   \n"
     ]
    },
    {
     "name": "stdout",
     "output_type": "stream",
     "text": [
      "Epoch 16/100:\n",
      "  Train Loss: 0.3778\n",
      "  Val Loss: 0.3716, Val CER: 0.2887\n"
     ]
    },
    {
     "name": "stderr",
     "output_type": "stream",
     "text": [
      "Epoch 17/100 [Train]: 100%|██████████| 960/960 [00:33<00:00, 29.00it/s, loss=0.463]   \n",
      "Epoch 17/100 [Val]: 100%|██████████| 54/54 [00:03<00:00, 15.71it/s, loss=0.232]  \n"
     ]
    },
    {
     "name": "stdout",
     "output_type": "stream",
     "text": [
      "Epoch 17/100:\n",
      "  Train Loss: 0.3547\n",
      "  Val Loss: 0.3575, Val CER: 0.2912\n"
     ]
    },
    {
     "name": "stderr",
     "output_type": "stream",
     "text": [
      "Epoch 18/100 [Train]: 100%|██████████| 960/960 [00:32<00:00, 29.11it/s, loss=0.152]   \n",
      "Epoch 18/100 [Val]: 100%|██████████| 54/54 [00:03<00:00, 15.94it/s, loss=0.598]  \n"
     ]
    },
    {
     "name": "stdout",
     "output_type": "stream",
     "text": [
      "Epoch 18/100:\n",
      "  Train Loss: 0.3239\n",
      "  Val Loss: 0.3399, Val CER: 0.2919\n"
     ]
    },
    {
     "name": "stderr",
     "output_type": "stream",
     "text": [
      "Epoch 19/100 [Train]: 100%|██████████| 960/960 [00:33<00:00, 28.76it/s, loss=0.486]   \n",
      "Epoch 19/100 [Val]: 100%|██████████| 54/54 [00:03<00:00, 15.74it/s, loss=0.692]  \n"
     ]
    },
    {
     "name": "stdout",
     "output_type": "stream",
     "text": [
      "Epoch 19/100:\n",
      "  Train Loss: 0.3465\n",
      "  Val Loss: 0.3082, Val CER: 0.2795\n"
     ]
    },
    {
     "name": "stderr",
     "output_type": "stream",
     "text": [
      "Epoch 20/100 [Train]: 100%|██████████| 960/960 [00:33<00:00, 28.93it/s, loss=0.084]    \n",
      "Epoch 20/100 [Val]: 100%|██████████| 54/54 [00:03<00:00, 15.88it/s, loss=0.404]  \n"
     ]
    },
    {
     "name": "stdout",
     "output_type": "stream",
     "text": [
      "Epoch 20/100:\n",
      "  Train Loss: 0.3056\n",
      "  Val Loss: 0.3156, Val CER: 0.2914\n"
     ]
    },
    {
     "name": "stderr",
     "output_type": "stream",
     "text": [
      "Epoch 21/100 [Train]: 100%|██████████| 960/960 [00:33<00:00, 28.92it/s, loss=-0.143]  \n",
      "Epoch 21/100 [Val]: 100%|██████████| 54/54 [00:03<00:00, 15.94it/s, loss=0.226]  \n"
     ]
    },
    {
     "name": "stdout",
     "output_type": "stream",
     "text": [
      "Epoch 21/100:\n",
      "  Train Loss: 0.2867\n",
      "  Val Loss: 0.2574, Val CER: 0.2691\n"
     ]
    },
    {
     "name": "stderr",
     "output_type": "stream",
     "text": [
      "Epoch 22/100 [Train]: 100%|██████████| 960/960 [00:33<00:00, 28.88it/s, loss=-0.13]   \n",
      "Epoch 22/100 [Val]: 100%|██████████| 54/54 [00:03<00:00, 15.84it/s, loss=0.353]   \n"
     ]
    },
    {
     "name": "stdout",
     "output_type": "stream",
     "text": [
      "Epoch 22/100:\n",
      "  Train Loss: 0.2773\n",
      "  Val Loss: 0.2350, Val CER: 0.2666\n"
     ]
    },
    {
     "name": "stderr",
     "output_type": "stream",
     "text": [
      "Epoch 23/100 [Train]: 100%|██████████| 960/960 [00:33<00:00, 28.65it/s, loss=0.106]   \n",
      "Epoch 23/100 [Val]: 100%|██████████| 54/54 [00:03<00:00, 15.70it/s, loss=0.236]  \n"
     ]
    },
    {
     "name": "stdout",
     "output_type": "stream",
     "text": [
      "Epoch 23/100:\n",
      "  Train Loss: 0.2585\n",
      "  Val Loss: 0.2809, Val CER: 0.2741\n"
     ]
    },
    {
     "name": "stderr",
     "output_type": "stream",
     "text": [
      "Epoch 24/100 [Train]: 100%|██████████| 960/960 [00:32<00:00, 29.17it/s, loss=0.266]    \n",
      "Epoch 24/100 [Val]: 100%|██████████| 54/54 [00:03<00:00, 15.95it/s, loss=0.62]   \n"
     ]
    },
    {
     "name": "stdout",
     "output_type": "stream",
     "text": [
      "Epoch 24/100:\n",
      "  Train Loss: 0.2656\n",
      "  Val Loss: 0.3732, Val CER: 0.3061\n"
     ]
    },
    {
     "name": "stderr",
     "output_type": "stream",
     "text": [
      "Epoch 25/100 [Train]: 100%|██████████| 960/960 [00:33<00:00, 28.68it/s, loss=0.221]    \n",
      "Epoch 25/100 [Val]: 100%|██████████| 54/54 [00:03<00:00, 15.77it/s, loss=0.456]  \n"
     ]
    },
    {
     "name": "stdout",
     "output_type": "stream",
     "text": [
      "Epoch 25/100:\n",
      "  Train Loss: 0.2379\n",
      "  Val Loss: 0.3002, Val CER: 0.2629\n"
     ]
    },
    {
     "name": "stderr",
     "output_type": "stream",
     "text": [
      "Epoch 26/100 [Train]: 100%|██████████| 960/960 [00:33<00:00, 28.74it/s, loss=0.282]   \n",
      "Epoch 26/100 [Val]: 100%|██████████| 54/54 [00:03<00:00, 15.69it/s, loss=0.266]   \n"
     ]
    },
    {
     "name": "stdout",
     "output_type": "stream",
     "text": [
      "Epoch 26/100:\n",
      "  Train Loss: 0.2252\n",
      "  Val Loss: 0.2587, Val CER: 0.2582\n"
     ]
    },
    {
     "name": "stderr",
     "output_type": "stream",
     "text": [
      "Epoch 27/100 [Train]: 100%|██████████| 960/960 [00:33<00:00, 28.99it/s, loss=0.204]   \n",
      "Epoch 27/100 [Val]: 100%|██████████| 54/54 [00:03<00:00, 15.84it/s, loss=0.479]  \n"
     ]
    },
    {
     "name": "stdout",
     "output_type": "stream",
     "text": [
      "Epoch 27/100:\n",
      "  Train Loss: 0.2191\n",
      "  Val Loss: 0.2563, Val CER: 0.2508\n"
     ]
    },
    {
     "name": "stderr",
     "output_type": "stream",
     "text": [
      "Epoch 28/100 [Train]: 100%|██████████| 960/960 [00:32<00:00, 29.24it/s, loss=0.127]    \n",
      "Epoch 28/100 [Val]: 100%|██████████| 54/54 [00:03<00:00, 15.85it/s, loss=0.571]  \n"
     ]
    },
    {
     "name": "stdout",
     "output_type": "stream",
     "text": [
      "Epoch 28/100:\n",
      "  Train Loss: 0.2143\n",
      "  Val Loss: 0.3056, Val CER: 0.2729\n"
     ]
    },
    {
     "name": "stderr",
     "output_type": "stream",
     "text": [
      "Epoch 29/100 [Train]: 100%|██████████| 960/960 [00:33<00:00, 28.97it/s, loss=0.347]    \n",
      "Epoch 29/100 [Val]: 100%|██████████| 54/54 [00:03<00:00, 16.12it/s, loss=0.432]   \n"
     ]
    },
    {
     "name": "stdout",
     "output_type": "stream",
     "text": [
      "Epoch 29/100:\n",
      "  Train Loss: 0.1933\n",
      "  Val Loss: 0.2843, Val CER: 0.2600\n"
     ]
    },
    {
     "name": "stderr",
     "output_type": "stream",
     "text": [
      "Epoch 30/100 [Train]: 100%|██████████| 960/960 [00:33<00:00, 28.96it/s, loss=-0.0618] \n",
      "Epoch 30/100 [Val]: 100%|██████████| 54/54 [00:03<00:00, 16.21it/s, loss=1.01]    \n"
     ]
    },
    {
     "name": "stdout",
     "output_type": "stream",
     "text": [
      "Epoch 30/100:\n",
      "  Train Loss: 0.1945\n",
      "  Val Loss: 0.3115, Val CER: 0.2698\n"
     ]
    },
    {
     "name": "stderr",
     "output_type": "stream",
     "text": [
      "Epoch 31/100 [Train]: 100%|██████████| 960/960 [00:33<00:00, 28.73it/s, loss=0.212]    \n",
      "Epoch 31/100 [Val]: 100%|██████████| 54/54 [00:03<00:00, 15.49it/s, loss=1.25]   \n"
     ]
    },
    {
     "name": "stdout",
     "output_type": "stream",
     "text": [
      "Epoch 31/100:\n",
      "  Train Loss: 0.1804\n",
      "  Val Loss: 0.2398, Val CER: 0.2606\n"
     ]
    },
    {
     "name": "stderr",
     "output_type": "stream",
     "text": [
      "Epoch 32/100 [Train]: 100%|██████████| 960/960 [00:33<00:00, 28.90it/s, loss=0.339]    \n",
      "Epoch 32/100 [Val]: 100%|██████████| 54/54 [00:03<00:00, 15.79it/s, loss=0.525]   \n"
     ]
    },
    {
     "name": "stdout",
     "output_type": "stream",
     "text": [
      "Epoch 32/100:\n",
      "  Train Loss: 0.1642\n",
      "  Val Loss: 0.2707, Val CER: 0.2680\n"
     ]
    },
    {
     "name": "stderr",
     "output_type": "stream",
     "text": [
      "Epoch 33/100 [Train]: 100%|██████████| 960/960 [00:33<00:00, 29.01it/s, loss=0.0815]  \n",
      "Epoch 33/100 [Val]: 100%|██████████| 54/54 [00:03<00:00, 15.43it/s, loss=0.743]   \n"
     ]
    },
    {
     "name": "stdout",
     "output_type": "stream",
     "text": [
      "Epoch 33/100:\n",
      "  Train Loss: 0.1535\n",
      "  Val Loss: 0.2571, Val CER: 0.2585\n"
     ]
    },
    {
     "name": "stderr",
     "output_type": "stream",
     "text": [
      "Epoch 34/100 [Train]: 100%|██████████| 960/960 [00:33<00:00, 28.82it/s, loss=0.227]   \n",
      "Epoch 34/100 [Val]: 100%|██████████| 54/54 [00:03<00:00, 15.74it/s, loss=0.578]  \n"
     ]
    },
    {
     "name": "stdout",
     "output_type": "stream",
     "text": [
      "Epoch 34/100:\n",
      "  Train Loss: 0.1485\n",
      "  Val Loss: 0.2947, Val CER: 0.2671\n"
     ]
    },
    {
     "name": "stderr",
     "output_type": "stream",
     "text": [
      "Epoch 35/100 [Train]: 100%|██████████| 960/960 [00:33<00:00, 29.03it/s, loss=0.513]    \n",
      "Epoch 35/100 [Val]: 100%|██████████| 54/54 [00:03<00:00, 15.79it/s, loss=0.889]  \n"
     ]
    },
    {
     "name": "stdout",
     "output_type": "stream",
     "text": [
      "Epoch 35/100:\n",
      "  Train Loss: 0.1352\n",
      "  Val Loss: 0.3688, Val CER: 0.2748\n"
     ]
    },
    {
     "name": "stderr",
     "output_type": "stream",
     "text": [
      "Epoch 36/100 [Train]: 100%|██████████| 960/960 [00:32<00:00, 29.16it/s, loss=-0.0376]  \n",
      "Epoch 36/100 [Val]: 100%|██████████| 54/54 [00:03<00:00, 15.71it/s, loss=0.834]  \n"
     ]
    },
    {
     "name": "stdout",
     "output_type": "stream",
     "text": [
      "Epoch 36/100:\n",
      "  Train Loss: 0.1291\n",
      "  Val Loss: 0.2855, Val CER: 0.2668\n"
     ]
    },
    {
     "name": "stderr",
     "output_type": "stream",
     "text": [
      "Epoch 37/100 [Train]: 100%|██████████| 960/960 [00:32<00:00, 29.38it/s, loss=0.461]    \n",
      "Epoch 37/100 [Val]: 100%|██████████| 54/54 [00:03<00:00, 16.11it/s, loss=0.756]   \n"
     ]
    },
    {
     "name": "stdout",
     "output_type": "stream",
     "text": [
      "Epoch 37/100:\n",
      "  Train Loss: 0.1148\n",
      "  Val Loss: 0.3257, Val CER: 0.2667\n"
     ]
    },
    {
     "name": "stderr",
     "output_type": "stream",
     "text": [
      "Epoch 38/100 [Train]: 100%|██████████| 960/960 [00:32<00:00, 29.13it/s, loss=0.142]    \n",
      "Epoch 38/100 [Val]: 100%|██████████| 54/54 [00:03<00:00, 15.88it/s, loss=0.633]  \n"
     ]
    },
    {
     "name": "stdout",
     "output_type": "stream",
     "text": [
      "Epoch 38/100:\n",
      "  Train Loss: 0.1052\n",
      "  Val Loss: 0.2659, Val CER: 0.2594\n"
     ]
    },
    {
     "name": "stderr",
     "output_type": "stream",
     "text": [
      "Epoch 39/100 [Train]: 100%|██████████| 960/960 [00:32<00:00, 29.23it/s, loss=-0.142]   \n",
      "Epoch 39/100 [Val]: 100%|██████████| 54/54 [00:03<00:00, 15.97it/s, loss=0.676]  \n"
     ]
    },
    {
     "name": "stdout",
     "output_type": "stream",
     "text": [
      "Epoch 39/100:\n",
      "  Train Loss: 0.0956\n",
      "  Val Loss: 0.2680, Val CER: 0.2542\n"
     ]
    },
    {
     "name": "stderr",
     "output_type": "stream",
     "text": [
      "Epoch 40/100 [Train]: 100%|██████████| 960/960 [00:32<00:00, 29.23it/s, loss=-0.0383] \n",
      "Epoch 40/100 [Val]: 100%|██████████| 54/54 [00:03<00:00, 16.11it/s, loss=0.705] \n"
     ]
    },
    {
     "name": "stdout",
     "output_type": "stream",
     "text": [
      "Epoch 40/100:\n",
      "  Train Loss: 0.0942\n",
      "  Val Loss: 0.3388, Val CER: 0.2687\n"
     ]
    },
    {
     "name": "stderr",
     "output_type": "stream",
     "text": [
      "Epoch 41/100 [Train]: 100%|██████████| 960/960 [00:33<00:00, 29.06it/s, loss=0.0499]   \n",
      "Epoch 41/100 [Val]: 100%|██████████| 54/54 [00:03<00:00, 15.80it/s, loss=0.823]  \n"
     ]
    },
    {
     "name": "stdout",
     "output_type": "stream",
     "text": [
      "Epoch 41/100:\n",
      "  Train Loss: 0.0903\n",
      "  Val Loss: 0.3516, Val CER: 0.2821\n"
     ]
    },
    {
     "name": "stderr",
     "output_type": "stream",
     "text": [
      "Epoch 42/100 [Train]: 100%|██████████| 960/960 [00:32<00:00, 29.16it/s, loss=0.0201]   \n",
      "Epoch 42/100 [Val]: 100%|██████████| 54/54 [00:03<00:00, 15.98it/s, loss=0.0222]\n"
     ]
    },
    {
     "name": "stdout",
     "output_type": "stream",
     "text": [
      "Epoch 42/100:\n",
      "  Train Loss: 0.0807\n",
      "  Val Loss: 0.4436, Val CER: 0.3054\n"
     ]
    },
    {
     "name": "stderr",
     "output_type": "stream",
     "text": [
      "Epoch 43/100 [Train]: 100%|██████████| 960/960 [00:33<00:00, 28.67it/s, loss=0.12]     \n",
      "Epoch 43/100 [Val]: 100%|██████████| 54/54 [00:03<00:00, 16.15it/s, loss=0.378]  \n"
     ]
    },
    {
     "name": "stdout",
     "output_type": "stream",
     "text": [
      "Epoch 43/100:\n",
      "  Train Loss: 0.0660\n",
      "  Val Loss: 0.2871, Val CER: 0.2648\n"
     ]
    },
    {
     "name": "stderr",
     "output_type": "stream",
     "text": [
      "Epoch 44/100 [Train]: 100%|██████████| 960/960 [00:33<00:00, 28.94it/s, loss=-0.0105]  \n",
      "Epoch 44/100 [Val]: 100%|██████████| 54/54 [00:03<00:00, 15.93it/s, loss=0.41]   \n"
     ]
    },
    {
     "name": "stdout",
     "output_type": "stream",
     "text": [
      "Epoch 44/100:\n",
      "  Train Loss: 0.0527\n",
      "  Val Loss: 0.2638, Val CER: 0.2454\n"
     ]
    },
    {
     "name": "stderr",
     "output_type": "stream",
     "text": [
      "Epoch 45/100 [Train]: 100%|██████████| 960/960 [00:32<00:00, 29.28it/s, loss=0.31]     \n",
      "Epoch 45/100 [Val]: 100%|██████████| 54/54 [00:03<00:00, 16.03it/s, loss=0.723]  \n"
     ]
    },
    {
     "name": "stdout",
     "output_type": "stream",
     "text": [
      "Epoch 45/100:\n",
      "  Train Loss: 0.0359\n",
      "  Val Loss: 0.2622, Val CER: 0.2570\n"
     ]
    },
    {
     "name": "stderr",
     "output_type": "stream",
     "text": [
      "Epoch 46/100 [Train]: 100%|██████████| 960/960 [00:32<00:00, 29.14it/s, loss=-0.15]    \n",
      "Epoch 46/100 [Val]: 100%|██████████| 54/54 [00:03<00:00, 16.13it/s, loss=0.0643]\n"
     ]
    },
    {
     "name": "stdout",
     "output_type": "stream",
     "text": [
      "Epoch 46/100:\n",
      "  Train Loss: 0.0429\n",
      "  Val Loss: 0.4788, Val CER: 0.3211\n"
     ]
    },
    {
     "name": "stderr",
     "output_type": "stream",
     "text": [
      "Epoch 47/100 [Train]: 100%|██████████| 960/960 [00:32<00:00, 29.29it/s, loss=-0.242]   \n",
      "Epoch 47/100 [Val]: 100%|██████████| 54/54 [00:03<00:00, 15.82it/s, loss=0.529]  \n"
     ]
    },
    {
     "name": "stdout",
     "output_type": "stream",
     "text": [
      "Epoch 47/100:\n",
      "  Train Loss: 0.0228\n",
      "  Val Loss: 0.2664, Val CER: 0.2466\n"
     ]
    },
    {
     "name": "stderr",
     "output_type": "stream",
     "text": [
      "Epoch 48/100 [Train]: 100%|██████████| 960/960 [00:33<00:00, 29.01it/s, loss=-0.0166]  \n",
      "Epoch 48/100 [Val]: 100%|██████████| 54/54 [00:03<00:00, 16.12it/s, loss=1.14]   \n"
     ]
    },
    {
     "name": "stdout",
     "output_type": "stream",
     "text": [
      "Epoch 48/100:\n",
      "  Train Loss: 0.0207\n",
      "  Val Loss: 0.2744, Val CER: 0.2434\n"
     ]
    },
    {
     "name": "stderr",
     "output_type": "stream",
     "text": [
      "Epoch 49/100 [Train]: 100%|██████████| 960/960 [00:32<00:00, 29.29it/s, loss=0.0907]   \n",
      "Epoch 49/100 [Val]: 100%|██████████| 54/54 [00:03<00:00, 15.84it/s, loss=0.226] \n"
     ]
    },
    {
     "name": "stdout",
     "output_type": "stream",
     "text": [
      "Epoch 49/100:\n",
      "  Train Loss: 0.0103\n",
      "  Val Loss: 0.2995, Val CER: 0.2574\n"
     ]
    },
    {
     "name": "stderr",
     "output_type": "stream",
     "text": [
      "Epoch 50/100 [Train]: 100%|██████████| 960/960 [00:32<00:00, 29.37it/s, loss=-0.225]   \n",
      "Epoch 50/100 [Val]: 100%|██████████| 54/54 [00:03<00:00, 16.35it/s, loss=0.731]  \n"
     ]
    },
    {
     "name": "stdout",
     "output_type": "stream",
     "text": [
      "Epoch 50/100:\n",
      "  Train Loss: 0.0007\n",
      "  Val Loss: 0.2653, Val CER: 0.2430\n"
     ]
    },
    {
     "name": "stderr",
     "output_type": "stream",
     "text": [
      "Epoch 51/100 [Train]: 100%|██████████| 960/960 [00:33<00:00, 29.06it/s, loss=0.353]    \n",
      "Epoch 51/100 [Val]: 100%|██████████| 54/54 [00:03<00:00, 15.90it/s, loss=0.473]  \n"
     ]
    },
    {
     "name": "stdout",
     "output_type": "stream",
     "text": [
      "Epoch 51/100:\n",
      "  Train Loss: -0.0040\n",
      "  Val Loss: 0.2683, Val CER: 0.2475\n"
     ]
    },
    {
     "name": "stderr",
     "output_type": "stream",
     "text": [
      "Epoch 52/100 [Train]: 100%|██████████| 960/960 [00:32<00:00, 29.31it/s, loss=-0.0136]  \n",
      "Epoch 52/100 [Val]: 100%|██████████| 54/54 [00:03<00:00, 16.27it/s, loss=0.681]  \n"
     ]
    },
    {
     "name": "stdout",
     "output_type": "stream",
     "text": [
      "Epoch 52/100:\n",
      "  Train Loss: -0.0049\n",
      "  Val Loss: 0.3096, Val CER: 0.2609\n"
     ]
    },
    {
     "name": "stderr",
     "output_type": "stream",
     "text": [
      "Epoch 53/100 [Train]: 100%|██████████| 960/960 [00:33<00:00, 29.01it/s, loss=-0.0213]  \n",
      "Epoch 53/100 [Val]: 100%|██████████| 54/54 [00:03<00:00, 16.07it/s, loss=0.0446] \n"
     ]
    },
    {
     "name": "stdout",
     "output_type": "stream",
     "text": [
      "Epoch 53/100:\n",
      "  Train Loss: -0.0177\n",
      "  Val Loss: 0.3217, Val CER: 0.2602\n"
     ]
    },
    {
     "name": "stderr",
     "output_type": "stream",
     "text": [
      "Epoch 54/100 [Train]: 100%|██████████| 960/960 [00:33<00:00, 29.07it/s, loss=0.0714]   \n",
      "Epoch 54/100 [Val]: 100%|██████████| 54/54 [00:03<00:00, 16.06it/s, loss=1.2]    \n"
     ]
    },
    {
     "name": "stdout",
     "output_type": "stream",
     "text": [
      "Epoch 54/100:\n",
      "  Train Loss: -0.0218\n",
      "  Val Loss: 0.3421, Val CER: 0.2626\n"
     ]
    },
    {
     "name": "stderr",
     "output_type": "stream",
     "text": [
      "Epoch 55/100 [Train]: 100%|██████████| 960/960 [00:33<00:00, 29.07it/s, loss=0.0639]  \n",
      "Epoch 55/100 [Val]: 100%|██████████| 54/54 [00:03<00:00, 15.83it/s, loss=0.394]  \n"
     ]
    },
    {
     "name": "stdout",
     "output_type": "stream",
     "text": [
      "Epoch 55/100:\n",
      "  Train Loss: -0.0342\n",
      "  Val Loss: 0.2789, Val CER: 0.2459\n"
     ]
    },
    {
     "name": "stderr",
     "output_type": "stream",
     "text": [
      "Epoch 56/100 [Train]: 100%|██████████| 960/960 [00:33<00:00, 29.06it/s, loss=-0.0981]  \n",
      "Epoch 56/100 [Val]: 100%|██████████| 54/54 [00:03<00:00, 16.02it/s, loss=0.404]  \n"
     ]
    },
    {
     "name": "stdout",
     "output_type": "stream",
     "text": [
      "Epoch 56/100:\n",
      "  Train Loss: -0.0358\n",
      "  Val Loss: 0.3599, Val CER: 0.2660\n"
     ]
    },
    {
     "name": "stderr",
     "output_type": "stream",
     "text": [
      "Epoch 57/100 [Train]: 100%|██████████| 960/960 [00:33<00:00, 28.81it/s, loss=0.0702]   \n",
      "Epoch 57/100 [Val]: 100%|██████████| 54/54 [00:03<00:00, 15.46it/s, loss=0.382]  \n"
     ]
    },
    {
     "name": "stdout",
     "output_type": "stream",
     "text": [
      "Epoch 57/100:\n",
      "  Train Loss: -0.0389\n",
      "  Val Loss: 0.2754, Val CER: 0.2344\n"
     ]
    },
    {
     "name": "stderr",
     "output_type": "stream",
     "text": [
      "Epoch 58/100 [Train]: 100%|██████████| 960/960 [00:33<00:00, 29.05it/s, loss=0.049]   \n",
      "Epoch 58/100 [Val]: 100%|██████████| 54/54 [00:03<00:00, 15.52it/s, loss=0.72]   \n"
     ]
    },
    {
     "name": "stdout",
     "output_type": "stream",
     "text": [
      "Epoch 58/100:\n",
      "  Train Loss: -0.0438\n",
      "  Val Loss: 0.2939, Val CER: 0.2469\n"
     ]
    },
    {
     "name": "stderr",
     "output_type": "stream",
     "text": [
      "Epoch 59/100 [Train]: 100%|██████████| 960/960 [00:33<00:00, 29.00it/s, loss=-0.267]   \n",
      "Epoch 59/100 [Val]: 100%|██████████| 54/54 [00:03<00:00, 15.71it/s, loss=0.316]  \n"
     ]
    },
    {
     "name": "stdout",
     "output_type": "stream",
     "text": [
      "Epoch 59/100:\n",
      "  Train Loss: -0.0553\n",
      "  Val Loss: 0.3484, Val CER: 0.2569\n"
     ]
    },
    {
     "name": "stderr",
     "output_type": "stream",
     "text": [
      "Epoch 60/100 [Train]: 100%|██████████| 960/960 [00:33<00:00, 28.44it/s, loss=0.127]    \n",
      "Epoch 60/100 [Val]: 100%|██████████| 54/54 [00:03<00:00, 15.30it/s, loss=0.375]   \n"
     ]
    },
    {
     "name": "stdout",
     "output_type": "stream",
     "text": [
      "Epoch 60/100:\n",
      "  Train Loss: -0.0595\n",
      "  Val Loss: 0.3355, Val CER: 0.2532\n"
     ]
    },
    {
     "name": "stderr",
     "output_type": "stream",
     "text": [
      "Epoch 61/100 [Train]: 100%|██████████| 960/960 [00:33<00:00, 28.93it/s, loss=0.0419]   \n",
      "Epoch 61/100 [Val]: 100%|██████████| 54/54 [00:03<00:00, 15.47it/s, loss=1.78]   \n"
     ]
    },
    {
     "name": "stdout",
     "output_type": "stream",
     "text": [
      "Epoch 61/100:\n",
      "  Train Loss: -0.0666\n",
      "  Val Loss: 0.3161, Val CER: 0.2379\n"
     ]
    },
    {
     "name": "stderr",
     "output_type": "stream",
     "text": [
      "Epoch 62/100 [Train]: 100%|██████████| 960/960 [00:32<00:00, 29.20it/s, loss=-0.235]  \n",
      "Epoch 62/100 [Val]: 100%|██████████| 54/54 [00:03<00:00, 15.98it/s, loss=1.34]    \n"
     ]
    },
    {
     "name": "stdout",
     "output_type": "stream",
     "text": [
      "Epoch 62/100:\n",
      "  Train Loss: -0.0751\n",
      "  Val Loss: 0.3172, Val CER: 0.2382\n"
     ]
    },
    {
     "name": "stderr",
     "output_type": "stream",
     "text": [
      "Epoch 63/100 [Train]: 100%|██████████| 960/960 [00:33<00:00, 28.97it/s, loss=-0.0368]  \n",
      "Epoch 63/100 [Val]: 100%|██████████| 54/54 [00:03<00:00, 15.82it/s, loss=0.668]  \n"
     ]
    },
    {
     "name": "stdout",
     "output_type": "stream",
     "text": [
      "Epoch 63/100:\n",
      "  Train Loss: -0.0855\n",
      "  Val Loss: 0.3012, Val CER: 0.2370\n"
     ]
    },
    {
     "name": "stderr",
     "output_type": "stream",
     "text": [
      "Epoch 64/100 [Train]: 100%|██████████| 960/960 [00:33<00:00, 28.85it/s, loss=-0.247]   \n",
      "Epoch 64/100 [Val]: 100%|██████████| 54/54 [00:03<00:00, 15.93it/s, loss=0.737]  \n"
     ]
    },
    {
     "name": "stdout",
     "output_type": "stream",
     "text": [
      "Epoch 64/100:\n",
      "  Train Loss: -0.0803\n",
      "  Val Loss: 0.3356, Val CER: 0.2430\n"
     ]
    },
    {
     "name": "stderr",
     "output_type": "stream",
     "text": [
      "Epoch 65/100 [Train]: 100%|██████████| 960/960 [00:38<00:00, 25.14it/s, loss=0.023]   \n",
      "Epoch 65/100 [Val]: 100%|██████████| 54/54 [00:03<00:00, 16.24it/s, loss=0.899]   \n"
     ]
    },
    {
     "name": "stdout",
     "output_type": "stream",
     "text": [
      "Epoch 65/100:\n",
      "  Train Loss: -0.0871\n",
      "  Val Loss: 0.3660, Val CER: 0.2629\n"
     ]
    },
    {
     "name": "stderr",
     "output_type": "stream",
     "text": [
      "Epoch 66/100 [Train]: 100%|██████████| 960/960 [00:39<00:00, 24.06it/s, loss=-0.352]   \n",
      "Epoch 66/100 [Val]: 100%|██████████| 54/54 [00:03<00:00, 15.64it/s, loss=0.314]   \n"
     ]
    },
    {
     "name": "stdout",
     "output_type": "stream",
     "text": [
      "Epoch 66/100:\n",
      "  Train Loss: -0.0940\n",
      "  Val Loss: 0.2995, Val CER: 0.2360\n"
     ]
    },
    {
     "name": "stderr",
     "output_type": "stream",
     "text": [
      "Epoch 67/100 [Train]: 100%|██████████| 960/960 [00:36<00:00, 26.18it/s, loss=-0.223]   \n",
      "Epoch 67/100 [Val]: 100%|██████████| 54/54 [00:03<00:00, 15.39it/s, loss=0.853]  \n"
     ]
    },
    {
     "name": "stdout",
     "output_type": "stream",
     "text": [
      "Epoch 67/100:\n",
      "  Train Loss: -0.0981\n",
      "  Val Loss: 0.3378, Val CER: 0.2468\n"
     ]
    },
    {
     "name": "stderr",
     "output_type": "stream",
     "text": [
      "Epoch 68/100 [Train]:  12%|█▏        | 116/960 [00:05<00:41, 20.27it/s, loss=0.155]  \n"
     ]
    },
    {
     "ename": "KeyboardInterrupt",
     "evalue": "",
     "output_type": "error",
     "traceback": [
      "\u001b[31m---------------------------------------------------------------------------\u001b[39m",
      "\u001b[31mKeyboardInterrupt\u001b[39m                         Traceback (most recent call last)",
      "\u001b[36mCell\u001b[39m\u001b[36m \u001b[39m\u001b[32mIn[15]\u001b[39m\u001b[32m, line 38\u001b[39m\n\u001b[32m     36\u001b[39m     \u001b[38;5;66;03m# Now try the training\u001b[39;00m\n\u001b[32m     37\u001b[39m     \u001b[38;5;28mprint\u001b[39m(\u001b[33m\"\u001b[39m\u001b[33mStarting training...\u001b[39m\u001b[33m\"\u001b[39m)\n\u001b[32m---> \u001b[39m\u001b[32m38\u001b[39m     history = \u001b[43mtrain_model\u001b[49m\u001b[43m(\u001b[49m\n\u001b[32m     39\u001b[39m \u001b[43m        \u001b[49m\u001b[43mmodel\u001b[49m\u001b[43m=\u001b[49m\u001b[43mmodel\u001b[49m\u001b[43m,\u001b[49m\n\u001b[32m     40\u001b[39m \u001b[43m        \u001b[49m\u001b[43mtrain_loader\u001b[49m\u001b[43m=\u001b[49m\u001b[43mtrain_loader\u001b[49m\u001b[43m,\u001b[49m\n\u001b[32m     41\u001b[39m \u001b[43m        \u001b[49m\u001b[43mval_loader\u001b[49m\u001b[43m=\u001b[49m\u001b[43mval_loader\u001b[49m\u001b[43m,\u001b[49m\n\u001b[32m     42\u001b[39m \u001b[43m        \u001b[49m\u001b[43mdevice\u001b[49m\u001b[43m=\u001b[49m\u001b[43mdevice\u001b[49m\u001b[43m,\u001b[49m\n\u001b[32m     43\u001b[39m \u001b[43m        \u001b[49m\u001b[43mepochs\u001b[49m\u001b[43m=\u001b[49m\u001b[32;43m100\u001b[39;49m\u001b[43m,\u001b[49m\u001b[43m      \u001b[49m\u001b[38;5;66;43;03m# Train for more epochs\u001b[39;49;00m\n\u001b[32m     44\u001b[39m \u001b[43m        \u001b[49m\u001b[43mlr\u001b[49m\u001b[43m=\u001b[49m\u001b[32;43m0.001\u001b[39;49m\u001b[43m,\u001b[49m\u001b[43m        \u001b[49m\u001b[38;5;66;43;03m# Better learning rate\u001b[39;49;00m\n\u001b[32m     45\u001b[39m \u001b[43m        \u001b[49m\u001b[43mweight_decay\u001b[49m\u001b[43m=\u001b[49m\u001b[32;43m1e-4\u001b[39;49m\u001b[43m  \u001b[49m\u001b[38;5;66;43;03m# Slightly reduced weight decay\u001b[39;49;00m\n\u001b[32m     46\u001b[39m \u001b[43m    \u001b[49m\u001b[43m)\u001b[49m\n\u001b[32m     47\u001b[39m \u001b[38;5;28;01mexcept\u001b[39;00m \u001b[38;5;167;01mException\u001b[39;00m \u001b[38;5;28;01mas\u001b[39;00m e:\n\u001b[32m     48\u001b[39m     \u001b[38;5;28mprint\u001b[39m(\u001b[33mf\u001b[39m\u001b[33m\"\u001b[39m\u001b[33mError encountered: \u001b[39m\u001b[38;5;132;01m{\u001b[39;00m\u001b[38;5;28mtype\u001b[39m(e).\u001b[34m__name__\u001b[39m\u001b[38;5;132;01m}\u001b[39;00m\u001b[33m: \u001b[39m\u001b[38;5;132;01m{\u001b[39;00me\u001b[38;5;132;01m}\u001b[39;00m\u001b[33m\"\u001b[39m)\n",
      "\u001b[36mCell\u001b[39m\u001b[36m \u001b[39m\u001b[32mIn[14]\u001b[39m\u001b[32m, line 62\u001b[39m, in \u001b[36mtrain_model\u001b[39m\u001b[34m(model, train_loader, val_loader, device, epochs, lr, weight_decay)\u001b[39m\n\u001b[32m     59\u001b[39m loss = criterion(log_probs, targets.T, input_lengths, target_lengths)\n\u001b[32m     61\u001b[39m \u001b[38;5;66;03m# Backward and optimize\u001b[39;00m\n\u001b[32m---> \u001b[39m\u001b[32m62\u001b[39m \u001b[43moptimizer\u001b[49m\u001b[43m.\u001b[49m\u001b[43mzero_grad\u001b[49m\u001b[43m(\u001b[49m\u001b[43m)\u001b[49m\n\u001b[32m     63\u001b[39m loss.backward()\n\u001b[32m     65\u001b[39m \u001b[38;5;66;03m# Gradient clipping to prevent exploding gradients\u001b[39;00m\n",
      "\u001b[36mFile \u001b[39m\u001b[32m~\\AppData\\Local\\Packages\\PythonSoftwareFoundation.Python.3.11_qbz5n2kfra8p0\\LocalCache\\local-packages\\Python311\\site-packages\\torch\\_compile.py:22\u001b[39m, in \u001b[36m_disable_dynamo.<locals>.inner\u001b[39m\u001b[34m(*args, **kwargs)\u001b[39m\n\u001b[32m     11\u001b[39m \u001b[38;5;250m\u001b[39m\u001b[33;03m\"\"\"\u001b[39;00m\n\u001b[32m     12\u001b[39m \u001b[33;03mThis API should be only used inside torch, external users should still use\u001b[39;00m\n\u001b[32m     13\u001b[39m \u001b[33;03mtorch._dynamo.disable. The main goal of this API is to avoid circular\u001b[39;00m\n\u001b[32m   (...)\u001b[39m\u001b[32m     18\u001b[39m \u001b[33;03mthe invocation of the decorated function.\u001b[39;00m\n\u001b[32m     19\u001b[39m \u001b[33;03m\"\"\"\u001b[39;00m\n\u001b[32m     20\u001b[39m \u001b[38;5;28;01mif\u001b[39;00m fn \u001b[38;5;129;01mis\u001b[39;00m \u001b[38;5;129;01mnot\u001b[39;00m \u001b[38;5;28;01mNone\u001b[39;00m:\n\u001b[32m---> \u001b[39m\u001b[32m22\u001b[39m     \u001b[38;5;129m@functools\u001b[39m.wraps(fn)\n\u001b[32m     23\u001b[39m     \u001b[38;5;28;01mdef\u001b[39;00m\u001b[38;5;250m \u001b[39m\u001b[34minner\u001b[39m(*args, **kwargs):\n\u001b[32m     24\u001b[39m         \u001b[38;5;66;03m# cache this on the first invocation to avoid adding too much overhead.\u001b[39;00m\n\u001b[32m     25\u001b[39m         disable_fn = \u001b[38;5;28mgetattr\u001b[39m(fn, \u001b[33m\"\u001b[39m\u001b[33m__dynamo_disable\u001b[39m\u001b[33m\"\u001b[39m, \u001b[38;5;28;01mNone\u001b[39;00m)\n\u001b[32m     26\u001b[39m         \u001b[38;5;28;01mif\u001b[39;00m disable_fn \u001b[38;5;129;01mis\u001b[39;00m \u001b[38;5;28;01mNone\u001b[39;00m:\n",
      "\u001b[31mKeyboardInterrupt\u001b[39m: "
     ]
    }
   ],
   "source": [
    "# Dont Run Below Code \n",
    "# Set device\n",
    "device = torch.device('cuda' if torch.cuda.is_available() else 'cpu')\n",
    "print(f\"Using device: {device}\")\n",
    "\n",
    "# Initialize the EMGConformer model with better parameters\n",
    "model = EMGConformer(\n",
    "    num_classes=99,\n",
    "    d_model=256,        # Increased from 128 for better representation\n",
    "    nhead=8,            # Increased from 4 for more attention heads\n",
    "    num_layers=4,       # Increased from 2 for deeper model\n",
    "    dropout=0.3         # Reduced from 0.5 to prevent overfitting\n",
    ")\n",
    "\n",
    "# Print model architecture and parameter count\n",
    "print(model)\n",
    "total_params = sum(p.numel() for p in model.parameters())\n",
    "print(f\"Total parameters: {total_params:,}\")\n",
    "\n",
    "# Move the model to the device\n",
    "model = model.to(device)\n",
    "\n",
    "# Test with a small batch\n",
    "try:\n",
    "    print(\"Testing model with a small batch...\")\n",
    "    # Get a small batch\n",
    "    test_batch = next(iter(train_loader))\n",
    "    test_inputs = test_batch['inputs'].to(device)\n",
    "    test_lengths = test_batch['input_lengths'].to(device)\n",
    "    \n",
    "    # Test forward pass\n",
    "    with torch.no_grad():\n",
    "        outputs = model(test_inputs, test_lengths)\n",
    "    \n",
    "    print(f\"Forward pass successful! Output shape: {outputs.shape}\")\n",
    "    \n",
    "    # Now try the training\n",
    "    print(\"Starting training...\")\n",
    "    history = train_model(\n",
    "        model=model,\n",
    "        train_loader=train_loader,\n",
    "        val_loader=val_loader,\n",
    "        device=device,\n",
    "        epochs=100,      # Train for more epochs\n",
    "        lr=0.001,        # Better learning rate\n",
    "        weight_decay=1e-4  # Slightly reduced weight decay\n",
    "    )\n",
    "except Exception as e:\n",
    "    print(f\"Error encountered: {type(e).__name__}: {e}\")\n",
    "    \n",
    "    # Try with small batch only for debugging\n",
    "    if 'small_train_loader' in globals() and 'small_val_loader' in globals():\n",
    "        print(\"Trying with small data loaders for debugging...\")\n",
    "        try:\n",
    "            history = train_model(\n",
    "                model=model,\n",
    "                train_loader=small_train_loader,\n",
    "                val_loader=small_val_loader,\n",
    "                device=device,\n",
    "                epochs=2,  # Just a few epochs\n",
    "                lr=0.001,\n",
    "                weight_decay=1e-4\n",
    "            )\n",
    "        except Exception as e2:\n",
    "            print(f\"Error with small data loaders: {type(e2).__name__}: {e2}\")"
   ]
  },
  {
   "cell_type": "code",
   "execution_count": 15,
   "metadata": {},
   "outputs": [
    {
     "name": "stdout",
     "output_type": "stream",
     "text": [
      "Using results from epoch 59\n",
      "Number of epochs with predictions: 60\n",
      "Number of samples in epoch 59: 1698\n",
      "Sample 12 prediction: [ 0  0  0  0  0  7  7  0  0  0  0 19 19 19  0  0  0 14  0  0  0  0  0  0\n",
      "  0  0  0  0  0  0  0  0  0  0  0 96 96  0  0  0  0  0  0  0  0  0  0 14\n",
      " 14 14  0  0  0  0  0  0  0  0  0  0  0  0  0  0  0  0  0  0  0  0  0  0\n",
      "  0]\n",
      "Number of targets in epoch 59: 1698\n",
      "Sample 12 target: [ 1 17 14 22 13 96  5 14 23 96]\n",
      "prediction: ahataoa aoa\n",
      "target    : brown fox \n",
      "\n",
      "Additional examples:\n",
      "Example 1:\n",
      "  prediction: a\n",
      "  target    : \n",
      "Example 2:\n",
      "  prediction: a\n",
      "  target    : \n",
      "Example 3:\n",
      "  prediction: a\n",
      "  target    : \n",
      "Example 4:\n",
      "  prediction: a\n",
      "  target    : \n",
      "Example 5:\n",
      "  prediction: a\n",
      "  target    : \n"
     ]
    }
   ],
   "source": [
    "all_predictions_lst = history['all_predictions']\n",
    "all_targets_lst = history['all_targets']\n",
    "\n",
    "# Make sure this epoch exists in your history\n",
    "epoch_id = min(60-1, len(all_predictions_lst)-1)  # Get the last epoch by default\n",
    "print(f\"Using results from epoch {epoch_id}\")\n",
    "\n",
    "# Output how many epochs of predictions we have\n",
    "print(f\"Number of epochs with predictions: {len(all_predictions_lst)}\")\n",
    "\n",
    "# Make sure we have predictions for this epoch\n",
    "if epoch_id < len(all_predictions_lst) and all_predictions_lst[epoch_id]:\n",
    "    # Get number of samples and choose one that exists\n",
    "    num_samples = len(all_predictions_lst[epoch_id])\n",
    "    it = min(12, num_samples-1)  # Default to sample 12 or the last one if fewer\n",
    "    \n",
    "    print(f\"Number of samples in epoch {epoch_id}: {num_samples}\")\n",
    "    print(f\"Sample {it} prediction: {all_predictions_lst[epoch_id][it]}\")\n",
    "    pred = all_predictions_lst[epoch_id][it]\n",
    "    \n",
    "    print(f\"Number of targets in epoch {epoch_id}: {len(all_targets_lst[epoch_id])}\")\n",
    "    print(f\"Sample {it} target: {all_targets_lst[epoch_id][it]}\")\n",
    "    target = all_targets_lst[epoch_id][it]\n",
    "    \n",
    "    # Convert indices to characters\n",
    "    char_set = charset()\n",
    "    \n",
    "    # Filter out null class tokens and duplicates from predictions\n",
    "    filtered_pred = []\n",
    "    prev = None\n",
    "    for p in pred:\n",
    "        if p != char_set.null_class and p != prev:\n",
    "            filtered_pred.append(p)\n",
    "        prev = p\n",
    "    \n",
    "    pred_chars = char_set.labels_to_str(filtered_pred)\n",
    "    target_chars = char_set.labels_to_str(target)\n",
    "    print(f'prediction: {pred_chars}')\n",
    "    print(f'target    : {target_chars}')\n",
    "    \n",
    "    # Show additional examples\n",
    "    print(\"\\nAdditional examples:\")\n",
    "    for i in range(5):\n",
    "        sample_idx = min(i, num_samples-1)\n",
    "        pred = all_predictions_lst[epoch_id][sample_idx]\n",
    "        target = all_targets_lst[epoch_id][sample_idx]\n",
    "        \n",
    "        # Filter out null class tokens and duplicates\n",
    "        filtered_pred = []\n",
    "        prev = None\n",
    "        for p in pred:\n",
    "            if p != char_set.null_class and p != prev:\n",
    "                filtered_pred.append(p)\n",
    "            prev = p\n",
    "            \n",
    "        pred_chars = char_set.labels_to_str(filtered_pred)\n",
    "        target_chars = char_set.labels_to_str(target)\n",
    "        print(f'Example {i+1}:')\n",
    "        print(f'  prediction: {pred_chars}')\n",
    "        print(f'  target    : {target_chars}')\n",
    "else:\n",
    "    print(f\"No predictions available for epoch {epoch_id}\")"
   ]
  },
  {
   "cell_type": "code",
   "execution_count": null,
   "metadata": {},
   "outputs": [],
   "source": [
    "'''class SimpleEMGConformer(nn.Module):\n",
    "    def __init__(self, num_classes=99, d_model=128, nhead=4, num_layers=2, dropout=0.5):\n",
    "        super().__init__()\n",
    "        \n",
    "        # Input EMG signal dimensions\n",
    "        self.features = 1056  # 2 bands * 16 channels * 33 frequencies\n",
    "        \n",
    "        # Enhanced CNN feature extraction\n",
    "        self.conv_layers = nn.Sequential(\n",
    "            nn.Conv1d(self.features, 256, kernel_size=3, stride=1, padding=1),\n",
    "            nn.BatchNorm1d(256),\n",
    "            nn.ReLU(),\n",
    "            nn.Dropout(dropout),\n",
    "            \n",
    "            nn.Conv1d(256, d_model, kernel_size=3, stride=1, padding=1),\n",
    "            nn.BatchNorm1d(d_model),\n",
    "            nn.ReLU(),\n",
    "            nn.MaxPool1d(kernel_size=2, stride=2),  # Only one pooling layer\n",
    "            nn.Dropout(dropout)\n",
    "        )\n",
    "        \n",
    "        # Positional encoding\n",
    "        self.pos_encoder = PositionalEncoding(d_model)\n",
    "        \n",
    "        # Simple Transformer encoder layers instead of full Conformer blocks\n",
    "        encoder_layer = nn.TransformerEncoderLayer(\n",
    "            d_model=d_model,\n",
    "            nhead=nhead,\n",
    "            dim_feedforward=d_model*2,\n",
    "            dropout=dropout,\n",
    "            batch_first=False\n",
    "        )\n",
    "        self.transformer_encoder = nn.TransformerEncoder(encoder_layer, num_layers)\n",
    "        \n",
    "        # Classification head\n",
    "        self.classifier = nn.Sequential(\n",
    "            nn.Linear(d_model, d_model),\n",
    "            nn.Dropout(dropout),\n",
    "            nn.ReLU(),\n",
    "            nn.Linear(d_model, num_classes)\n",
    "        )\n",
    "    \n",
    "    def forward(self, x, input_lengths=None):\n",
    "        # x shape: [T, N, B, C, F] - [time, batch, bands, channels, freq]\n",
    "        T, N, B, C, F = x.shape\n",
    "        device = x.device\n",
    "        \n",
    "        # Flatten features and prepare for Conv1d\n",
    "        x = x.reshape(T, N, B*C*F).permute(1, 2, 0)  # [N, B*C*F, T]\n",
    "        \n",
    "        # Apply CNN layers\n",
    "        x = self.conv_layers(x)  # [N, d_model, T//2]\n",
    "        \n",
    "        # Calculate new sequence lengths after CNN pooling (only one pooling layer)\n",
    "        if input_lengths is not None:\n",
    "            new_lengths = torch.div(input_lengths, 2, rounding_mode='floor')\n",
    "            new_lengths = torch.clamp(new_lengths, min=1)\n",
    "            # Create padding mask for transformer\n",
    "            max_len = x.size(2)\n",
    "            padding_mask = (torch.arange(max_len, device=device).expand(N, max_len) \n",
    "                           >= new_lengths.unsqueeze(1))\n",
    "        else:\n",
    "            padding_mask = None\n",
    "        \n",
    "        # Prepare for transformer: [T//2, N, d_model]\n",
    "        x = x.permute(2, 0, 1)\n",
    "        \n",
    "        # Apply positional encoding\n",
    "        x = self.pos_encoder(x)\n",
    "        \n",
    "        # Apply transformer encoder\n",
    "        x = self.transformer_encoder(x, src_key_padding_mask=padding_mask)\n",
    "        \n",
    "        # Apply classifier\n",
    "        time_steps, batch_size, hidden_dim = x.size()\n",
    "        x = x.reshape(-1, hidden_dim)\n",
    "        x = self.classifier(x)\n",
    "        x = x.view(time_steps, batch_size, -1)\n",
    "        \n",
    "        return x'''"
   ]
  }
 ],
 "metadata": {
  "kernelspec": {
   "display_name": "Python 3",
   "language": "python",
   "name": "python3"
  },
  "language_info": {
   "codemirror_mode": {
    "name": "ipython",
    "version": 3
   },
   "file_extension": ".py",
   "mimetype": "text/x-python",
   "name": "python",
   "nbconvert_exporter": "python",
   "pygments_lexer": "ipython3",
   "version": "3.11.9"
  }
 },
 "nbformat": 4,
 "nbformat_minor": 2
}
