{
 "cells": [
  {
   "cell_type": "code",
   "execution_count": 1,
   "metadata": {},
   "outputs": [],
   "source": [
    "%load_ext autoreload\n",
    "%autoreload 2"
   ]
  },
  {
   "cell_type": "code",
   "execution_count": 2,
   "metadata": {},
   "outputs": [
    {
     "name": "stdout",
     "output_type": "stream",
     "text": [
      "Requirement already satisfied: unidecode in c:\\users\\aisha\\appdata\\local\\packages\\pythonsoftwarefoundation.python.3.11_qbz5n2kfra8p0\\localcache\\local-packages\\python311\\site-packages (1.3.8)\n"
     ]
    },
    {
     "name": "stderr",
     "output_type": "stream",
     "text": [
      "\n",
      "[notice] A new release of pip is available: 24.0 -> 25.0.1\n",
      "[notice] To update, run: C:\\Users\\aisha\\AppData\\Local\\Microsoft\\WindowsApps\\PythonSoftwareFoundation.Python.3.11_qbz5n2kfra8p0\\python.exe -m pip install --upgrade pip\n"
     ]
    }
   ],
   "source": [
    "!pip install unidecode\n",
    "# !pip install -r requirements.txt"
   ]
  },
  {
   "cell_type": "code",
   "execution_count": 4,
   "metadata": {},
   "outputs": [
    {
     "name": "stdout",
     "output_type": "stream",
     "text": [
      "Created train_loader with 30713 windows\n",
      "Created val_loader with 1698 windows\n",
      "Created test_loader with 2251 windows\n"
     ]
    }
   ],
   "source": [
    "import yaml\n",
    "from pathlib import Path\n",
    "import torch\n",
    "from torch.utils.data import DataLoader, ConcatDataset, Subset\n",
    "from emg2qwerty.data import WindowedEMGDataset\n",
    "from emg2qwerty.transforms import Compose, ToTensor, LogSpectrogram, SpecAugment, RandomBandRotation, TemporalAlignmentJitter\n",
    "\n",
    "\n",
    "batch_size = 32\n",
    "num_workers = 2\n",
    "\n",
    "# 1. Load the configuration file\n",
    "config_path = Path(\"config/user/single_user.yaml\")\n",
    "with open(config_path, 'r') as f:\n",
    "    first_line = f.readline()\n",
    "    if first_line.startswith('# @package'):\n",
    "        cfg = yaml.safe_load(f)\n",
    "    else:\n",
    "        f.seek(0)\n",
    "        cfg = yaml.safe_load(f)\n",
    "\n",
    "# 2. Set the data root path\n",
    "data_root = Path(\"data\")\n",
    "\n",
    "# 3. Create transforms\n",
    "# Training transforms with augmentation\n",
    "train_transform = Compose([\n",
    "    ToTensor(),\n",
    "    LogSpectrogram(),\n",
    "    SpecAugment(),\n",
    "    RandomBandRotation()\n",
    "])\n",
    "\n",
    "# Validation/test transforms without augmentation\n",
    "eval_transform = Compose([\n",
    "    ToTensor(),\n",
    "    LogSpectrogram()\n",
    "])\n",
    "\n",
    "# 4. Create datasets\n",
    "train_datasets = []\n",
    "for session_info in cfg['dataset']['train']:\n",
    "    session_id = session_info['session']\n",
    "    file_path = data_root / f\"{session_id}.hdf5\"\n",
    "\n",
    "    dataset = WindowedEMGDataset(\n",
    "        hdf5_path=file_path,\n",
    "        window_length=2000,  # 1 second at 2kHz\n",
    "        stride=1000,         # 50% overlap\n",
    "        padding=(200, 200),  # 100ms context on each side\n",
    "        jitter=True,         # Apply jitter for training\n",
    "        transform=train_transform\n",
    "    )\n",
    "    train_datasets.append(dataset)\n",
    "\n",
    "val_datasets = []\n",
    "for session_info in cfg['dataset']['val']:\n",
    "    session_id = session_info['session']\n",
    "    file_path = data_root / f\"{session_id}.hdf5\"\n",
    "\n",
    "    dataset = WindowedEMGDataset(\n",
    "        hdf5_path=file_path,\n",
    "        window_length=2000,\n",
    "        stride=1000,\n",
    "        padding=(200, 200),\n",
    "        jitter=False,  # No jitter for validation\n",
    "        transform=eval_transform\n",
    "    )\n",
    "    val_datasets.append(dataset)\n",
    "\n",
    "test_datasets = []\n",
    "for session_info in cfg['dataset']['test']:\n",
    "    session_id = session_info['session']\n",
    "    file_path = data_root / f\"{session_id}.hdf5\"\n",
    "\n",
    "    dataset = WindowedEMGDataset(\n",
    "        hdf5_path=file_path,\n",
    "        window_length=2000,\n",
    "        stride=1000,\n",
    "        padding=(200, 200),\n",
    "        jitter=False,  # No jitter for testing\n",
    "        transform=eval_transform\n",
    "    )\n",
    "    test_datasets.append(dataset)\n",
    "\n",
    "# 5. Combine datasets and create DataLoaders\n",
    "train_dataset = ConcatDataset(train_datasets)\n",
    "val_dataset = ConcatDataset(val_datasets)\n",
    "test_dataset = ConcatDataset(test_datasets)\n",
    "\n",
    "train_loader = DataLoader(\n",
    "    train_dataset,\n",
    "    batch_size=batch_size,\n",
    "    shuffle=True,\n",
    "    collate_fn=WindowedEMGDataset.collate,\n",
    "    num_workers=num_workers\n",
    ")\n",
    "\n",
    "\n",
    "val_loader = DataLoader(\n",
    "    val_dataset,\n",
    "    batch_size=batch_size,\n",
    "    shuffle=False,  # No shuffle for validation\n",
    "    collate_fn=WindowedEMGDataset.collate,\n",
    "    num_workers=num_workers\n",
    ")\n",
    "\n",
    "test_loader = DataLoader(\n",
    "    test_dataset,\n",
    "    batch_size=batch_size,\n",
    "    shuffle=False,  # No shuffle for testing\n",
    "    collate_fn=WindowedEMGDataset.collate,\n",
    "    num_workers=num_workers\n",
    ")\n",
    "\n",
    "# for debugging\n",
    "small_train_loader = DataLoader(\n",
    "    Subset(train_dataset, list(range(100))),\n",
    "    batch_size=batch_size,\n",
    "    shuffle=True,\n",
    "    collate_fn=WindowedEMGDataset.collate,\n",
    "    num_workers=num_workers\n",
    ")\n",
    "\n",
    "small_val_loader = DataLoader(\n",
    "    Subset(val_dataset, list(range(100))),\n",
    "    batch_size=batch_size,\n",
    "    shuffle=False,  # No shuffle for validation\n",
    "    collate_fn=WindowedEMGDataset.collate,\n",
    "    num_workers=num_workers\n",
    ")\n",
    "\n",
    "print(f\"Created train_loader with {len(train_dataset)} windows\")\n",
    "print(f\"Created val_loader with {len(val_dataset)} windows\")\n",
    "print(f\"Created test_loader with {len(test_dataset)} windows\")\n"
   ]
  },
  {
   "cell_type": "code",
   "execution_count": 5,
   "metadata": {},
   "outputs": [
    {
     "name": "stdout",
     "output_type": "stream",
     "text": [
      "        user                                            session  \\\n",
      "0   89335547  2021-06-03-1622765527-keystrokes-dca-study@1-0...   \n",
      "1   89335547  2021-06-02-1622681518-keystrokes-dca-study@1-0...   \n",
      "2   89335547  2021-06-04-1622863166-keystrokes-dca-study@1-0...   \n",
      "3   89335547  2021-07-22-1627003020-keystrokes-dca-study@1-0...   \n",
      "4   89335547  2021-07-21-1626916256-keystrokes-dca-study@1-0...   \n",
      "5   89335547  2021-07-22-1627004019-keystrokes-dca-study@1-0...   \n",
      "6   89335547  2021-06-05-1622885888-keystrokes-dca-study@1-0...   \n",
      "7   89335547  2021-06-02-1622679967-keystrokes-dca-study@1-0...   \n",
      "8   89335547  2021-06-03-1622764398-keystrokes-dca-study@1-0...   \n",
      "9   89335547  2021-07-21-1626917264-keystrokes-dca-study@1-0...   \n",
      "10  89335547  2021-06-05-1622889105-keystrokes-dca-study@1-0...   \n",
      "11  89335547  2021-06-03-1622766673-keystrokes-dca-study@1-0...   \n",
      "12  89335547  2021-06-04-1622861066-keystrokes-dca-study@1-0...   \n",
      "13  89335547  2021-07-22-1627001995-keystrokes-dca-study@1-0...   \n",
      "14  89335547  2021-06-05-1622884635-keystrokes-dca-study@1-0...   \n",
      "15  89335547  2021-07-21-1626915176-keystrokes-dca-study@1-0...   \n",
      "16  89335547  2021-06-04-1622862148-keystrokes-dca-study@1-0...   \n",
      "17  89335547  2021-06-02-1622682789-keystrokes-dca-study@1-0...   \n",
      "\n",
      "    duration_mins  duration_hours  num_keystrokes  num_prompts  split  \n",
      "0       16.055175        0.267586            4667          154  train  \n",
      "1       18.069472        0.301158            4591          154  train  \n",
      "2       14.921639        0.248694            4695          154  train  \n",
      "3       15.145979        0.252433            4438          154  train  \n",
      "4       15.131067        0.252184            4504          154  train  \n",
      "5       14.922270        0.248705            4432          154  train  \n",
      "6       17.357376        0.289290            4636          154  train  \n",
      "7       19.807583        0.330126            4690          154  train  \n",
      "8       15.610410        0.260173            4532          154  train  \n",
      "9       14.662873        0.244381            4450          154  train  \n",
      "10      16.961649        0.282694            4558          154  train  \n",
      "11      15.617070        0.260285            4480          154  train  \n",
      "12      14.928824        0.248814            4569          154  train  \n",
      "13      14.546556        0.242443            4383          154  train  \n",
      "14      17.746499        0.295775            4647          154  train  \n",
      "15      14.518713        0.241979            4375          154  train  \n",
      "16      14.165903        0.236098            4524          153    val  \n",
      "17      18.768094        0.312802            4627          154   test  \n",
      "Overall statistics:\n",
      "Number of sessions: 18\n",
      "Total duration (hours): 4.82\n",
      "Total keystrokes: 81798\n",
      "Total prompts: 2771\n",
      "\n",
      "Statistics by split:\n",
      "       count  duration_hours  num_keystrokes  num_prompts\n",
      "split                                                    \n",
      "test       1        0.312802            4627          154\n",
      "train     16        4.266719           72647         2464\n",
      "val        1        0.236098            4524          153\n",
      "\n",
      "Train set statistics:\n",
      "Number of sessions: 16\n",
      "Total duration (hours): 4.27\n",
      "Total keystrokes: 72647\n",
      "Total prompts: 2464\n",
      "\n",
      "Val set statistics:\n",
      "Number of sessions: 1\n",
      "Total duration (hours): 0.24\n",
      "Total keystrokes: 4524\n",
      "Total prompts: 153\n",
      "\n",
      "Test set statistics:\n",
      "Number of sessions: 1\n",
      "Total duration (hours): 0.31\n",
      "Total keystrokes: 4627\n",
      "Total prompts: 154\n"
     ]
    }
   ],
   "source": [
    "import pandas as pd\n",
    "import h5py\n",
    "from pathlib import Path\n",
    "import yaml\n",
    "import json\n",
    "\n",
    "# Load the configuration file\n",
    "config_path = Path(\"C:/Users/aisha/OneDrive/Documents/cs247_project/config/user/single_user.yaml\")\n",
    "with open(config_path, 'r') as f:\n",
    "    # Skip the first line which contains \"# @package _global_\"\n",
    "    first_line = f.readline()\n",
    "    if first_line.startswith('# @package'):\n",
    "        cfg = yaml.safe_load(f)\n",
    "    else:\n",
    "        # If the first line doesn't have the package declaration, reset to beginning of file\n",
    "        f.seek(0)\n",
    "        cfg = yaml.safe_load(f)\n",
    "\n",
    "# Set the data root path (adjust this to your actual data location)\n",
    "data_root = Path(\"C:/Users/aisha/OneDrive/Documents/cs247_project/data\")  # Update this to your actual data path\n",
    "\n",
    "# Function to extract metadata from a session file\n",
    "def extract_session_metadata(file_path):\n",
    "    try:\n",
    "        with h5py.File(file_path, 'r') as f:\n",
    "            emg2qwerty_group = f['emg2qwerty']\n",
    "\n",
    "            # Get metadata attributes\n",
    "            metadata = {}\n",
    "            for key, val in emg2qwerty_group.attrs.items():\n",
    "                if key in ['keystrokes', 'prompts']:\n",
    "                    try:\n",
    "                        metadata[key] = json.loads(val)\n",
    "                    except json.JSONDecodeError:\n",
    "                        # Fall back to yaml if json fails\n",
    "                        metadata[key] = yaml.safe_load(val)\n",
    "                else:\n",
    "                    metadata[key] = val\n",
    "\n",
    "            # Calculate basic statistics\n",
    "            session_stats = {\n",
    "                'user': metadata.get('user', 'unknown'),\n",
    "                'session': metadata.get('session_name', 'unknown'),\n",
    "                'duration_mins': metadata.get('duration_mins', 0),\n",
    "                'duration_hours': metadata.get('duration_mins', 0) / 60.0,\n",
    "                'num_keystrokes': len(metadata.get('keystrokes', [])),\n",
    "                'num_prompts': len(metadata.get('prompts', [])),\n",
    "                'split': 'unknown'  # Will be set later\n",
    "            }\n",
    "\n",
    "            return session_stats\n",
    "    except Exception as e:\n",
    "        print(f\"Error processing {file_path}: {str(e)}\")\n",
    "        return None\n",
    "\n",
    "# Collect all sessions from config\n",
    "all_sessions = []\n",
    "splits = ['train', 'val', 'test']\n",
    "\n",
    "for split in splits:\n",
    "    if split in cfg['dataset']:\n",
    "        for session_info in cfg['dataset'][split]:\n",
    "            session_info_dict = {\n",
    "                'user': session_info['user'],\n",
    "                'session': session_info['session'],\n",
    "                'split': split\n",
    "            }\n",
    "            all_sessions.append(session_info_dict)\n",
    "\n",
    "# Process each session to get metadata\n",
    "session_stats = []\n",
    "\n",
    "for session_info in all_sessions:\n",
    "    user_id = session_info['user']\n",
    "    session_id = session_info['session']\n",
    "    split = session_info['split']\n",
    "    file_path = data_root / f\"{session_id}.hdf5\"\n",
    "\n",
    "    if file_path.exists():\n",
    "        stats = extract_session_metadata(file_path)\n",
    "        if stats:\n",
    "            stats['split'] = split  # Add which split this session belongs to\n",
    "            session_stats.append(stats)\n",
    "    else:\n",
    "        print(f\"Warning: File not found: {file_path}\")\n",
    "\n",
    "# Create a DataFrame from the collected statistics\n",
    "df = pd.DataFrame(session_stats)\n",
    "print(df)\n",
    "\n",
    "# Calculate aggregated statistics per split\n",
    "split_stats = df.groupby('split').agg({\n",
    "    'session': 'count',\n",
    "    'duration_hours': 'sum',\n",
    "    'num_keystrokes': 'sum',\n",
    "    'num_prompts': 'sum'\n",
    "}).rename(columns={'session': 'count'})\n",
    "\n",
    "# Calculate overall statistics\n",
    "num_sessions = len(df)\n",
    "total_duration_hours = df[\"duration_hours\"].sum()\n",
    "total_keystrokes = df[\"num_keystrokes\"].sum()\n",
    "total_prompts = df[\"num_prompts\"].sum()\n",
    "\n",
    "# Print the results\n",
    "print(\"Overall statistics:\")\n",
    "print(f\"Number of sessions: {num_sessions}\")\n",
    "print(f\"Total duration (hours): {total_duration_hours:.2f}\")\n",
    "print(f\"Total keystrokes: {total_keystrokes}\")\n",
    "print(f\"Total prompts: {total_prompts}\")\n",
    "\n",
    "print(\"\\nStatistics by split:\")\n",
    "print(split_stats)\n",
    "\n",
    "# Also print individual statistics for train, val, and test sets\n",
    "for split in splits:\n",
    "    if split in df['split'].values:\n",
    "        split_df = df[df['split'] == split]\n",
    "        print(f\"\\n{split.capitalize()} set statistics:\")\n",
    "        print(f\"Number of sessions: {len(split_df)}\")\n",
    "        print(f\"Total duration (hours): {split_df['duration_hours'].sum():.2f}\")\n",
    "        print(f\"Total keystrokes: {split_df['num_keystrokes'].sum()}\")\n",
    "        print(f\"Total prompts: {split_df['num_prompts'].sum()}\")\n",
    "\n",
    "# Save to CSV files\n",
    "df.to_csv(\"all_session_metadata.csv\", index=False)\n",
    "split_stats.to_csv(\"split_statistics.csv\")\n"
   ]
  },
  {
   "cell_type": "code",
   "execution_count": 6,
   "metadata": {},
   "outputs": [],
   "source": [
    "import torch\n",
    "import torch.nn as nn\n",
    "import torch.nn.functional as F\n",
    "import torch.optim as optim\n",
    "import math\n",
    "import numpy as np\n",
    "from tqdm import tqdm\n",
    "from pathlib import Path\n",
    "import matplotlib.pyplot as plt\n",
    "from emg2qwerty.charset import charset"
   ]
  },
  {
   "cell_type": "code",
   "execution_count": 7,
   "metadata": {},
   "outputs": [],
   "source": [
    "class PositionalEncoding(nn.Module):\n",
    "    def __init__(self, d_model, max_len=5000):\n",
    "        super().__init__()\n",
    "        # Create position encodings\n",
    "        pe = torch.zeros(max_len, d_model)\n",
    "        position = torch.arange(0, max_len, dtype=torch.float).unsqueeze(1)\n",
    "        div_term = torch.exp(torch.arange(0, d_model, 2).float() * (-math.log(10000.0) / d_model))\n",
    "        pe[:, 0::2] = torch.sin(position * div_term)\n",
    "        pe[:, 1::2] = torch.cos(position * div_term)\n",
    "        pe = pe.unsqueeze(0).transpose(0, 1)\n",
    "        self.register_buffer('pe', pe)\n",
    "\n",
    "    def forward(self, x):\n",
    "        # x is [seq_len, batch, features]\n",
    "        return x + self.pe[:x.size(0), :]"
   ]
  },
  {
   "cell_type": "code",
   "execution_count": 8,
   "metadata": {},
   "outputs": [],
   "source": [
    "class ConvModule(nn.Module):\n",
    "    def __init__(self, d_model, kernel_size=15, expansion_factor=2, dropout=0.1):\n",
    "        super().__init__()\n",
    "\n",
    "        # Pointwise Conv -> Depthwise Conv -> Pointwise Conv\n",
    "        self.layer_norm = nn.LayerNorm(d_model)\n",
    "        self.pointwise_conv1 = nn.Conv1d(d_model, d_model * expansion_factor, kernel_size=1)\n",
    "        self.glu = nn.GLU(dim=1)\n",
    "        self.depthwise_conv = nn.Conv1d(\n",
    "            d_model, d_model,\n",
    "            kernel_size=kernel_size,\n",
    "            padding=(kernel_size-1)//2,\n",
    "            groups=d_model\n",
    "        )\n",
    "        self.batch_norm = nn.BatchNorm1d(d_model)\n",
    "        self.swish = nn.SiLU()\n",
    "        self.pointwise_conv2 = nn.Conv1d(d_model, d_model, kernel_size=1)\n",
    "        self.dropout = nn.Dropout(dropout)\n",
    "\n",
    "    def forward(self, x):\n",
    "        # x is [batch, seq_len, d_model]\n",
    "        residual = x\n",
    "\n",
    "        # Layer norm\n",
    "        x = self.layer_norm(x)\n",
    "\n",
    "        # Transpose to [batch, d_model, seq_len] for Conv1d\n",
    "        x = x.transpose(1, 2)\n",
    "\n",
    "        # Pointwise conv and GLU activation\n",
    "        x = self.pointwise_conv1(x)\n",
    "        x = self.glu(x)\n",
    "\n",
    "        # Depthwise conv\n",
    "        x = self.depthwise_conv(x)\n",
    "        x = self.batch_norm(x)\n",
    "        x = self.swish(x)\n",
    "\n",
    "        # Pointwise conv\n",
    "        x = self.pointwise_conv2(x)\n",
    "        x = self.dropout(x)\n",
    "\n",
    "        # Transpose back to [batch, seq_len, d_model]\n",
    "        x = x.transpose(1, 2)\n",
    "\n",
    "        # Residual connection\n",
    "        return x + residual"
   ]
  },
  {
   "cell_type": "code",
   "execution_count": 9,
   "metadata": {},
   "outputs": [],
   "source": [
    "class FeedForwardModule(nn.Module):\n",
    "    def __init__(self, d_model, expansion_factor=4, dropout=0.1):\n",
    "        super().__init__()\n",
    "\n",
    "        self.layer_norm = nn.LayerNorm(d_model)\n",
    "        self.linear1 = nn.Linear(d_model, d_model * expansion_factor)\n",
    "        self.swish = nn.SiLU()\n",
    "        self.dropout1 = nn.Dropout(dropout)\n",
    "        self.linear2 = nn.Linear(d_model * expansion_factor, d_model)\n",
    "        self.dropout2 = nn.Dropout(dropout)\n",
    "\n",
    "    def forward(self, x):\n",
    "        residual = x\n",
    "\n",
    "        x = self.layer_norm(x)\n",
    "        x = self.linear1(x)\n",
    "        x = self.swish(x)\n",
    "        x = self.dropout1(x)\n",
    "        x = self.linear2(x)\n",
    "        x = self.dropout2(x)\n",
    "\n",
    "        return x + residual"
   ]
  },
  {
   "cell_type": "code",
   "execution_count": 10,
   "metadata": {},
   "outputs": [],
   "source": [
    "class ConformerBlock(nn.Module):\n",
    "    def __init__(self, d_model, nhead=8, dropout=0.1, kernel_size=15):\n",
    "        super().__init__()\n",
    "\n",
    "        # First feed-forward module (half-step)\n",
    "        self.feed_forward1 = FeedForwardModule(d_model, dropout=dropout)\n",
    "\n",
    "        # Multi-headed self-attention\n",
    "        self.self_attn_layer_norm = nn.LayerNorm(d_model)\n",
    "        self.self_attn = nn.MultiheadAttention(d_model, nhead, dropout=dropout, batch_first=False)\n",
    "        self.self_attn_dropout = nn.Dropout(dropout)\n",
    "\n",
    "        # Convolution module\n",
    "        self.conv_module = ConvModule(d_model, kernel_size=kernel_size, dropout=dropout)\n",
    "\n",
    "        # Second feed-forward module (half-step)\n",
    "        self.feed_forward2 = FeedForwardModule(d_model, dropout=dropout)\n",
    "\n",
    "        # Final layer norm\n",
    "        self.final_layer_norm = nn.LayerNorm(d_model)\n",
    "\n",
    "    def forward(self, x, attention_mask=None):\n",
    "        \"\"\"\n",
    "        Args:\n",
    "            x: input tensor of shape [seq_len, batch, d_model]\n",
    "            attention_mask: mask for self-attention of shape [batch, seq_len]\n",
    "        \"\"\"\n",
    "        # Apply first FFN (half step)\n",
    "        x = x + 0.5 * self.feed_forward1(x)\n",
    "\n",
    "        # Apply self-attention\n",
    "        residual = x\n",
    "        x = self.self_attn_layer_norm(x)\n",
    "\n",
    "        # For PyTorch's MultiheadAttention when batch_first=False:\n",
    "        # x shape should be [seq_len, batch, d_model]\n",
    "        # key_padding_mask should be [batch, seq_len]\n",
    "        attn_output, _ = self.self_attn(\n",
    "            x, x, x,\n",
    "            key_padding_mask=attention_mask  # Already in correct shape [batch, seq_len]\n",
    "        )\n",
    "\n",
    "        x = residual + self.self_attn_dropout(attn_output)\n",
    "\n",
    "        # Apply convolution module\n",
    "        residual = x\n",
    "        x_t = x.transpose(0, 1)  # [batch, seq_len, d_model]\n",
    "        x_t = self.conv_module(x_t)\n",
    "        x = residual + x_t.transpose(0, 1)  # [seq_len, batch, d_model]\n",
    "\n",
    "        # Apply second FFN (half step)\n",
    "        x = x + 0.5 * self.feed_forward2(x)\n",
    "\n",
    "        # Final layer norm\n",
    "        x = self.final_layer_norm(x)\n",
    "\n",
    "        return x"
   ]
  },
  {
   "cell_type": "code",
   "execution_count": 11,
   "metadata": {},
   "outputs": [],
   "source": [
    "import numpy as np\n",
    "\n",
    "def select_channels(emg_data, num_channels, channel_selection_method='first'):\n",
    "    \"\"\"\n",
    "    Select a subset of channels from the EMG data.\n",
    "    \n",
    "    Args:\n",
    "        emg_data: EMG data of shape [T, N, B, C, F] - [time, batch, bands, channels, freq]\n",
    "        num_channels: Number of channels to select (must be <= C)\n",
    "        channel_selection_method: Method to select channels ('first', 'random', 'uniform')\n",
    "    \n",
    "    Returns:\n",
    "        Modified EMG data with reduced channels\n",
    "    \"\"\"\n",
    "    T, N, B, C, F = emg_data.shape\n",
    "    \n",
    "    if num_channels >= C:\n",
    "        return emg_data  # No change needed\n",
    "    \n",
    "    if channel_selection_method == 'first':\n",
    "        # Take the first num_channels\n",
    "        return emg_data[:, :, :, :num_channels, :]\n",
    "    \n",
    "    elif channel_selection_method == 'random':\n",
    "        # Randomly select num_channels\n",
    "        import random\n",
    "        channel_indices = sorted(random.sample(range(C), num_channels))\n",
    "        return emg_data[:, :, :, channel_indices, :]\n",
    "    \n",
    "    elif channel_selection_method == 'uniform':\n",
    "        # Select uniformly spaced channels\n",
    "        channel_indices = np.linspace(0, C-1, num_channels, dtype=int)\n",
    "        return emg_data[:, :, :, channel_indices, :]\n",
    "    \n",
    "    else:\n",
    "        raise ValueError(f\"Unknown channel selection method: {channel_selection_method}\")"
   ]
  },
  {
   "cell_type": "code",
   "execution_count": 12,
   "metadata": {},
   "outputs": [],
   "source": [
    "class EMGConformer(nn.Module):\n",
    "    def __init__(self, num_classes=99, d_model=256, nhead=8, num_layers=4, dropout=0.3, num_channels=16):\n",
    "        super().__init__()\n",
    "        \n",
    "        # Input EMG signal dimensions - calculate based on channel count\n",
    "        self.num_channels = num_channels\n",
    "        self.features = 2 * self.num_channels * 33  # 2 bands * channels * 33 frequencies\n",
    "        \n",
    "        # CNN feature extraction with output channels = cnn_output_dim\n",
    "        cnn_output_dim = 256\n",
    "        \n",
    "        self.conv_layers = nn.Sequential(\n",
    "            nn.Conv1d(self.features, 512, kernel_size=3, stride=1, padding=1),\n",
    "            nn.BatchNorm1d(512),\n",
    "            nn.ReLU(),\n",
    "            nn.Dropout(dropout),\n",
    "            \n",
    "            nn.Conv1d(512, cnn_output_dim, kernel_size=3, stride=1, padding=1),\n",
    "            nn.BatchNorm1d(cnn_output_dim),\n",
    "            nn.ReLU(),\n",
    "            nn.MaxPool1d(kernel_size=2, stride=2),\n",
    "            nn.Dropout(dropout)\n",
    "        )\n",
    "        \n",
    "        # Add projection layer to ensure dimensions match\n",
    "        self.projection = nn.Linear(cnn_output_dim, d_model) if cnn_output_dim != d_model else nn.Identity()\n",
    "        \n",
    "        # Positional encoding\n",
    "        self.pos_encoder = PositionalEncoding(d_model)\n",
    "        \n",
    "        # Conformer blocks\n",
    "        self.conformer_blocks = nn.ModuleList([\n",
    "            ConformerBlock(d_model, nhead, dropout, kernel_size=15)\n",
    "            for _ in range(num_layers)\n",
    "        ])\n",
    "        \n",
    "        # Classification head\n",
    "        self.classifier = nn.Linear(d_model, num_classes)\n",
    "    \n",
    "    def forward(self, x, input_lengths=None):\n",
    "        # x shape: [T, N, B, C, F] - [time, batch, bands, channels, freq]\n",
    "        T, N, B, C, F = x.shape\n",
    "        device = x.device\n",
    "        \n",
    "        # Select channels first, then flatten\n",
    "        if C > self.num_channels:\n",
    "            x = select_channels(x, self.num_channels, 'uniform')\n",
    "            # Update C with the new number of channels\n",
    "            C = self.num_channels\n",
    "        \n",
    "        # Flatten features and prepare for Conv1d\n",
    "        x = x.reshape(T, N, B*C*F).permute(1, 2, 0)  # [N, B*C*F, T]\n",
    "        \n",
    "        # Apply CNN layers\n",
    "        x = self.conv_layers(x)  # [N, cnn_output_dim, T//2]\n",
    "        \n",
    "        # Calculate new sequence lengths after CNN pooling \n",
    "        if input_lengths is not None:\n",
    "            new_lengths = torch.div(input_lengths, 2, rounding_mode='floor')\n",
    "            new_lengths = torch.clamp(new_lengths, min=1)\n",
    "            # Create padding mask for transformer\n",
    "            max_len = x.size(2)\n",
    "            padding_mask = (torch.arange(max_len, device=device).expand(N, max_len) \n",
    "                           >= new_lengths.unsqueeze(1))\n",
    "        else:\n",
    "            padding_mask = None\n",
    "        \n",
    "        # Prepare for conformer: [T//2, N, cnn_output_dim]\n",
    "        x = x.permute(2, 0, 1)\n",
    "        \n",
    "        # Apply projection if needed\n",
    "        x = self.projection(x)  # [T//2, N, d_model]\n",
    "        \n",
    "        # Apply positional encoding\n",
    "        x = self.pos_encoder(x)\n",
    "        \n",
    "        # Apply conformer blocks\n",
    "        for block in self.conformer_blocks:\n",
    "            x = block(x, padding_mask)\n",
    "        \n",
    "        # Apply classifier\n",
    "        x = self.classifier(x)\n",
    "        \n",
    "        return x"
   ]
  },
  {
   "cell_type": "code",
   "execution_count": 13,
   "metadata": {},
   "outputs": [],
   "source": [
    "def calculate_cer(predictions, targets):\n",
    "    \"\"\"\n",
    "    Calculate Character Error Rate\n",
    "    \"\"\"\n",
    "    total_edits = 0\n",
    "    total_length = 0\n",
    "\n",
    "    for pred, target in zip(predictions, targets):\n",
    "        # Remove blank tokens and duplicates\n",
    "        filtered_pred = []\n",
    "        prev = None\n",
    "        for p in pred:\n",
    "            if p != charset().null_class and p != prev:\n",
    "                filtered_pred.append(p)\n",
    "            prev = p\n",
    "\n",
    "        # Calculate edit distance\n",
    "        edit_distance = levenshtein_distance(filtered_pred, target)\n",
    "\n",
    "        total_edits += edit_distance\n",
    "        total_length += len(target)\n",
    "\n",
    "    # Return CER\n",
    "    return total_edits / max(1, total_length)\n",
    "\n",
    "def levenshtein_distance(s1, s2):\n",
    "    \"\"\"\n",
    "    Calculate Levenshtein distance between two sequences\n",
    "    \"\"\"\n",
    "    if len(s1) < len(s2):\n",
    "        return levenshtein_distance(s2, s1)\n",
    "\n",
    "    if len(s2) == 0:\n",
    "        return len(s1)\n",
    "\n",
    "    previous_row = range(len(s2) + 1)\n",
    "    for i, c1 in enumerate(s1):\n",
    "        current_row = [i + 1]\n",
    "        for j, c2 in enumerate(s2):\n",
    "            insertions = previous_row[j + 1] + 1\n",
    "            deletions = current_row[j] + 1\n",
    "            substitutions = previous_row[j] + (c1 != c2)\n",
    "            current_row.append(min(insertions, deletions, substitutions))\n",
    "        previous_row = current_row\n",
    "\n",
    "    return previous_row[-1]"
   ]
  },
  {
   "cell_type": "code",
   "execution_count": 14,
   "metadata": {},
   "outputs": [],
   "source": [
    "def decode_predictions(log_probs, input_lengths):\n",
    "    \"\"\"Perform CTC greedy decoding on log probabilities\"\"\"\n",
    "    predictions = log_probs.argmax(dim=2)\n",
    "    decoded = []\n",
    "    \n",
    "    for i in range(predictions.size(1)):  # Loop through batch\n",
    "        pred_len = input_lengths[i].item()\n",
    "        pred = predictions[:pred_len, i].tolist()\n",
    "        \n",
    "        # Remove consecutive duplicates and blanks (CTC decoding)\n",
    "        result = []\n",
    "        prev = None\n",
    "        for p in pred:\n",
    "            if p != 0:  # Not blank\n",
    "                if p != prev:  # Not a duplicate\n",
    "                    result.append(p)\n",
    "            prev = p\n",
    "        \n",
    "        decoded.append(result)\n",
    "    \n",
    "    return decoded"
   ]
  },
  {
   "cell_type": "code",
   "execution_count": 15,
   "metadata": {},
   "outputs": [],
   "source": [
    "def train_model(model, train_loader, val_loader, device, epochs=100, lr=0.001, weight_decay=1e-4):\n",
    "    \"\"\"\n",
    "    Train the Conformer model on EMG data\n",
    "    \"\"\"\n",
    "    model = model.to(device)\n",
    "\n",
    "    # CTC loss for sequence prediction\n",
    "    criterion = nn.CTCLoss(blank=0, reduction='mean', zero_infinity=True)\n",
    "\n",
    "    # Adam optimizer with improved parameters\n",
    "    optimizer = optim.AdamW(model.parameters(), lr=lr, weight_decay=weight_decay, betas=(0.9, 0.999), eps=1e-8)\n",
    "\n",
    "    # Learning rate scheduler with warmup\n",
    "    scheduler = optim.lr_scheduler.OneCycleLR(\n",
    "        optimizer,\n",
    "        max_lr=0.002,  # Lower max learning rate\n",
    "        steps_per_epoch=len(train_loader),\n",
    "        epochs=epochs,\n",
    "        pct_start=0.1,  # 10% warmup\n",
    "        div_factor=10,  # Initial lr = max_lr/div_factor\n",
    "        final_div_factor=100  # Final lr = initial_lr/final_div_factor\n",
    "    )\n",
    "    \n",
    "    # Training history\n",
    "    history = {\n",
    "        'train_loss': [],\n",
    "        'val_loss': [],\n",
    "        'val_cer': [],\n",
    "        'all_predictions': [],\n",
    "        'all_targets': []\n",
    "    }\n",
    "\n",
    "    # Training loop\n",
    "    for epoch in range(epochs):\n",
    "        # Training phase\n",
    "        model.train()\n",
    "        train_loss = 0.0\n",
    "        train_batches = 0\n",
    "\n",
    "        progress_bar = tqdm(train_loader, desc=f'Epoch {epoch+1}/{epochs} [Train]')\n",
    "        for batch_idx, batch in enumerate(progress_bar):\n",
    "            inputs = batch['inputs'].to(device)\n",
    "            targets = batch['targets'].to(device)\n",
    "            input_lengths = batch['input_lengths'].to(device)\n",
    "            target_lengths = batch['target_lengths'].to(device)\n",
    "\n",
    "            # Forward pass\n",
    "            outputs = model(inputs, input_lengths)\n",
    "\n",
    "            # Compute log probabilities\n",
    "            log_probs = outputs.log_softmax(2)\n",
    "\n",
    "            # Adjust input lengths for downsampling in the model\n",
    "            # We only have one pooling layer with stride 2\n",
    "            input_lengths = torch.div(input_lengths, 2, rounding_mode='floor')\n",
    "            input_lengths = torch.clamp(input_lengths, min=1)  # Ensure no zero lengths\n",
    "\n",
    "            # Compute loss\n",
    "            loss = criterion(log_probs, targets.T, input_lengths, target_lengths)\n",
    "\n",
    "            # Backward and optimize\n",
    "            optimizer.zero_grad()\n",
    "            loss.backward()\n",
    "\n",
    "            # Gradient clipping to prevent exploding gradients\n",
    "            torch.nn.utils.clip_grad_norm_(model.parameters(), max_norm=5.0)\n",
    "\n",
    "            optimizer.step()\n",
    "            scheduler.step()\n",
    "\n",
    "            # Update statistics\n",
    "            train_loss += loss.item()\n",
    "            train_batches += 1\n",
    "\n",
    "            # Update progress bar\n",
    "            progress_bar.set_postfix({'loss': loss.item()})\n",
    "\n",
    "        avg_train_loss = train_loss / train_batches\n",
    "        history['train_loss'].append(avg_train_loss)\n",
    "\n",
    "        # Validation phase\n",
    "        model.eval()\n",
    "        val_loss = 0.0\n",
    "        val_batches = 0\n",
    "        all_predictions = []\n",
    "        all_targets = []\n",
    "\n",
    "        with torch.no_grad():\n",
    "            progress_bar = tqdm(val_loader, desc=f'Epoch {epoch+1}/{epochs} [Val]')\n",
    "            for batch_idx, batch in enumerate(progress_bar):\n",
    "                inputs = batch['inputs'].to(device)\n",
    "                targets = batch['targets'].to(device)\n",
    "                input_lengths = batch['input_lengths'].to(device)\n",
    "                target_lengths = batch['target_lengths'].to(device)\n",
    "\n",
    "                # Forward pass\n",
    "                outputs = model(inputs, input_lengths)\n",
    "\n",
    "                # Compute log probabilities\n",
    "                log_probs = outputs.log_softmax(2)\n",
    "\n",
    "                # Adjust input lengths for downsampling in the model\n",
    "                input_lengths = torch.div(input_lengths, 2, rounding_mode='floor')\n",
    "                input_lengths = torch.clamp(input_lengths, min=1)  # Ensure no zero lengths\n",
    "\n",
    "                # Compute loss\n",
    "                loss = criterion(log_probs, targets.T, input_lengths, target_lengths)\n",
    "\n",
    "                # Update statistics\n",
    "                val_loss += loss.item()\n",
    "                val_batches += 1\n",
    "\n",
    "                # Decode predictions using proper CTC decoding\n",
    "                predictions = decode_predictions(log_probs.cpu(), input_lengths.cpu())\n",
    "                targets_np = targets.cpu().numpy()\n",
    "\n",
    "                # Store predictions and targets for CER calculation\n",
    "                for i in range(inputs.size(1)):  # Loop through batch\n",
    "                    target_seq = targets_np[:target_lengths[i].item(), i]\n",
    "                    all_predictions.append(predictions[i])  # Already processed by decode_predictions\n",
    "                    all_targets.append(target_seq)\n",
    "\n",
    "                # Update progress bar\n",
    "                progress_bar.set_postfix({'loss': loss.item()})\n",
    "\n",
    "        avg_val_loss = val_loss / val_batches\n",
    "        history['val_loss'].append(avg_val_loss)\n",
    "\n",
    "        # Calculate Character Error Rate\n",
    "        cer = calculate_cer(all_predictions, all_targets)\n",
    "        history['val_cer'].append(cer)\n",
    "        history['all_predictions'].append(all_predictions)\n",
    "        history['all_targets'].append(all_targets)\n",
    "\n",
    "        # Print epoch summary\n",
    "        print(f'Epoch {epoch+1}/{epochs}:')\n",
    "        print(f'  Train Loss: {avg_train_loss:.4f}')\n",
    "        print(f'  Val Loss: {avg_val_loss:.4f}, Val CER: {cer:.4f}')\n",
    "\n",
    "    return history"
   ]
  },
  {
   "cell_type": "code",
   "execution_count": 16,
   "metadata": {},
   "outputs": [],
   "source": [
    "def test_channel_counts(train_loader, val_loader, device, channel_counts=[2, 4, 8, 16], epochs=20):\n",
    "    \"\"\"\n",
    "    Test EMGConformer with different channel counts.\n",
    "    \n",
    "    Args:\n",
    "        train_loader: DataLoader for training data\n",
    "        val_loader: DataLoader for validation data\n",
    "        device: Device to run the model on\n",
    "        channel_counts: List of channel counts to test\n",
    "        epochs: Number of epochs to train each model\n",
    "    \n",
    "    Returns:\n",
    "        Dictionary with results for each channel count\n",
    "    \"\"\"\n",
    "    results = {}\n",
    "    \n",
    "    for num_channels in channel_counts:\n",
    "        print(f\"Testing with {num_channels} channels...\")\n",
    "        \n",
    "        # Initialize model with specified number of channels\n",
    "        model = EMGConformer(\n",
    "            num_classes=99,\n",
    "            d_model=256,\n",
    "            nhead=8,\n",
    "            num_layers=4,\n",
    "            dropout=0.3,\n",
    "            num_channels=num_channels\n",
    "        )\n",
    "        \n",
    "        # Train model\n",
    "        history = train_model(\n",
    "            model=model,\n",
    "            train_loader=train_loader,\n",
    "            val_loader=val_loader,\n",
    "            device=device,\n",
    "            epochs=epochs,\n",
    "            lr=0.001,\n",
    "            weight_decay=1e-4\n",
    "        )\n",
    "        \n",
    "        # Store results\n",
    "        results[num_channels] = {\n",
    "            'train_loss': history['train_loss'],\n",
    "            'val_loss': history['val_loss'],\n",
    "            'val_cer': history['val_cer'],\n",
    "            'final_cer': history['val_cer'][-1]\n",
    "        }\n",
    "        \n",
    "        # Save model checkpoint\n",
    "        torch.save(model.state_dict(), f\"emg_conformer_channels_{num_channels}.pth\")\n",
    "    \n",
    "    return results"
   ]
  },
  {
   "cell_type": "code",
   "execution_count": 17,
   "metadata": {},
   "outputs": [
    {
     "name": "stdout",
     "output_type": "stream",
     "text": [
      "Using device: cuda\n"
     ]
    }
   ],
   "source": [
    "# Set device\n",
    "device = torch.device('cuda' if torch.cuda.is_available() else 'cpu')\n",
    "print(f\"Using device: {device}\")"
   ]
  },
  {
   "cell_type": "code",
   "execution_count": 18,
   "metadata": {},
   "outputs": [
    {
     "name": "stdout",
     "output_type": "stream",
     "text": [
      "Testing with 2 channels...\n"
     ]
    },
    {
     "name": "stderr",
     "output_type": "stream",
     "text": [
      "Epoch 1/30 [Train]: 100%|██████████| 960/960 [00:34<00:00, 28.14it/s, loss=2.02]\n",
      "Epoch 1/30 [Val]: 100%|██████████| 54/54 [00:03<00:00, 16.10it/s, loss=2.35]\n"
     ]
    },
    {
     "name": "stdout",
     "output_type": "stream",
     "text": [
      "Epoch 1/30:\n",
      "  Train Loss: 2.8992\n",
      "  Val Loss: 2.0222, Val CER: 0.8110\n"
     ]
    },
    {
     "name": "stderr",
     "output_type": "stream",
     "text": [
      "Epoch 2/30 [Train]: 100%|██████████| 960/960 [00:36<00:00, 26.38it/s, loss=1.87]\n",
      "Epoch 2/30 [Val]: 100%|██████████| 54/54 [00:03<00:00, 15.75it/s, loss=2.27]\n"
     ]
    },
    {
     "name": "stdout",
     "output_type": "stream",
     "text": [
      "Epoch 2/30:\n",
      "  Train Loss: 1.8510\n",
      "  Val Loss: 1.9882, Val CER: 0.7347\n"
     ]
    },
    {
     "name": "stderr",
     "output_type": "stream",
     "text": [
      "Epoch 3/30 [Train]: 100%|██████████| 960/960 [00:38<00:00, 25.16it/s, loss=1.1] \n",
      "Epoch 3/30 [Val]: 100%|██████████| 54/54 [00:03<00:00, 16.35it/s, loss=2.57] \n"
     ]
    },
    {
     "name": "stdout",
     "output_type": "stream",
     "text": [
      "Epoch 3/30:\n",
      "  Train Loss: 1.6586\n",
      "  Val Loss: 1.4639, Val CER: 0.5919\n"
     ]
    },
    {
     "name": "stderr",
     "output_type": "stream",
     "text": [
      "Epoch 4/30 [Train]: 100%|██████████| 960/960 [00:38<00:00, 25.08it/s, loss=0.848]\n",
      "Epoch 4/30 [Val]: 100%|██████████| 54/54 [00:03<00:00, 15.95it/s, loss=1.94] \n"
     ]
    },
    {
     "name": "stdout",
     "output_type": "stream",
     "text": [
      "Epoch 4/30:\n",
      "  Train Loss: 1.4821\n",
      "  Val Loss: 1.3565, Val CER: 0.5435\n"
     ]
    },
    {
     "name": "stderr",
     "output_type": "stream",
     "text": [
      "Epoch 5/30 [Train]: 100%|██████████| 960/960 [00:38<00:00, 24.94it/s, loss=1.25] \n",
      "Epoch 5/30 [Val]: 100%|██████████| 54/54 [00:03<00:00, 16.15it/s, loss=1.29] \n"
     ]
    },
    {
     "name": "stdout",
     "output_type": "stream",
     "text": [
      "Epoch 5/30:\n",
      "  Train Loss: 1.3697\n",
      "  Val Loss: 1.2077, Val CER: 0.5417\n"
     ]
    },
    {
     "name": "stderr",
     "output_type": "stream",
     "text": [
      "Epoch 6/30 [Train]: 100%|██████████| 960/960 [00:38<00:00, 25.18it/s, loss=1.4]  \n",
      "Epoch 6/30 [Val]: 100%|██████████| 54/54 [00:03<00:00, 16.10it/s, loss=0.906]\n"
     ]
    },
    {
     "name": "stdout",
     "output_type": "stream",
     "text": [
      "Epoch 6/30:\n",
      "  Train Loss: 1.2879\n",
      "  Val Loss: 1.1838, Val CER: 0.5248\n"
     ]
    },
    {
     "name": "stderr",
     "output_type": "stream",
     "text": [
      "Epoch 7/30 [Train]: 100%|██████████| 960/960 [00:38<00:00, 25.21it/s, loss=1.17] \n",
      "Epoch 7/30 [Val]: 100%|██████████| 54/54 [00:03<00:00, 16.38it/s, loss=1.32] \n"
     ]
    },
    {
     "name": "stdout",
     "output_type": "stream",
     "text": [
      "Epoch 7/30:\n",
      "  Train Loss: 1.2346\n",
      "  Val Loss: 1.0811, Val CER: 0.5125\n"
     ]
    },
    {
     "name": "stderr",
     "output_type": "stream",
     "text": [
      "Epoch 8/30 [Train]: 100%|██████████| 960/960 [00:37<00:00, 25.50it/s, loss=1.05] \n",
      "Epoch 8/30 [Val]: 100%|██████████| 54/54 [00:03<00:00, 16.64it/s, loss=1.48] \n"
     ]
    },
    {
     "name": "stdout",
     "output_type": "stream",
     "text": [
      "Epoch 8/30:\n",
      "  Train Loss: 1.1807\n",
      "  Val Loss: 1.0574, Val CER: 0.4962\n"
     ]
    },
    {
     "name": "stderr",
     "output_type": "stream",
     "text": [
      "Epoch 9/30 [Train]: 100%|██████████| 960/960 [00:38<00:00, 25.26it/s, loss=1.38] \n",
      "Epoch 9/30 [Val]: 100%|██████████| 54/54 [00:03<00:00, 16.37it/s, loss=1.46] \n"
     ]
    },
    {
     "name": "stdout",
     "output_type": "stream",
     "text": [
      "Epoch 9/30:\n",
      "  Train Loss: 1.1295\n",
      "  Val Loss: 1.0329, Val CER: 0.4895\n"
     ]
    },
    {
     "name": "stderr",
     "output_type": "stream",
     "text": [
      "Epoch 10/30 [Train]: 100%|██████████| 960/960 [00:37<00:00, 25.40it/s, loss=1.06] \n",
      "Epoch 10/30 [Val]: 100%|██████████| 54/54 [00:03<00:00, 15.96it/s, loss=1.45] \n"
     ]
    },
    {
     "name": "stdout",
     "output_type": "stream",
     "text": [
      "Epoch 10/30:\n",
      "  Train Loss: 1.0763\n",
      "  Val Loss: 1.0451, Val CER: 0.4914\n"
     ]
    },
    {
     "name": "stderr",
     "output_type": "stream",
     "text": [
      "Epoch 11/30 [Train]: 100%|██████████| 960/960 [00:38<00:00, 25.17it/s, loss=1.31] \n",
      "Epoch 11/30 [Val]: 100%|██████████| 54/54 [00:03<00:00, 16.70it/s, loss=1.5]  \n"
     ]
    },
    {
     "name": "stdout",
     "output_type": "stream",
     "text": [
      "Epoch 11/30:\n",
      "  Train Loss: 1.0375\n",
      "  Val Loss: 1.0006, Val CER: 0.4820\n"
     ]
    },
    {
     "name": "stderr",
     "output_type": "stream",
     "text": [
      "Epoch 12/30 [Train]: 100%|██████████| 960/960 [00:37<00:00, 25.53it/s, loss=1.11] \n",
      "Epoch 12/30 [Val]: 100%|██████████| 54/54 [00:03<00:00, 16.12it/s, loss=0.975]\n"
     ]
    },
    {
     "name": "stdout",
     "output_type": "stream",
     "text": [
      "Epoch 12/30:\n",
      "  Train Loss: 0.9948\n",
      "  Val Loss: 1.1500, Val CER: 0.5208\n"
     ]
    },
    {
     "name": "stderr",
     "output_type": "stream",
     "text": [
      "Epoch 13/30 [Train]: 100%|██████████| 960/960 [00:38<00:00, 24.70it/s, loss=0.851]\n",
      "Epoch 13/30 [Val]: 100%|██████████| 54/54 [00:03<00:00, 15.93it/s, loss=1.2]  \n"
     ]
    },
    {
     "name": "stdout",
     "output_type": "stream",
     "text": [
      "Epoch 13/30:\n",
      "  Train Loss: 0.9473\n",
      "  Val Loss: 0.9625, Val CER: 0.4630\n"
     ]
    },
    {
     "name": "stderr",
     "output_type": "stream",
     "text": [
      "Epoch 14/30 [Train]: 100%|██████████| 960/960 [00:38<00:00, 25.05it/s, loss=0.878]\n",
      "Epoch 14/30 [Val]: 100%|██████████| 54/54 [00:03<00:00, 16.18it/s, loss=0.938]\n"
     ]
    },
    {
     "name": "stdout",
     "output_type": "stream",
     "text": [
      "Epoch 14/30:\n",
      "  Train Loss: 0.9301\n",
      "  Val Loss: 1.0046, Val CER: 0.4904\n"
     ]
    },
    {
     "name": "stderr",
     "output_type": "stream",
     "text": [
      "Epoch 15/30 [Train]: 100%|██████████| 960/960 [00:31<00:00, 30.63it/s, loss=0.91] \n",
      "Epoch 15/30 [Val]: 100%|██████████| 54/54 [00:03<00:00, 16.04it/s, loss=1.76]  \n"
     ]
    },
    {
     "name": "stdout",
     "output_type": "stream",
     "text": [
      "Epoch 15/30:\n",
      "  Train Loss: 0.8700\n",
      "  Val Loss: 0.9696, Val CER: 0.4682\n"
     ]
    },
    {
     "name": "stderr",
     "output_type": "stream",
     "text": [
      "Epoch 16/30 [Train]: 100%|██████████| 960/960 [00:32<00:00, 29.95it/s, loss=1.01] \n",
      "Epoch 16/30 [Val]: 100%|██████████| 54/54 [00:03<00:00, 15.98it/s, loss=1.28] \n"
     ]
    },
    {
     "name": "stdout",
     "output_type": "stream",
     "text": [
      "Epoch 16/30:\n",
      "  Train Loss: 0.8480\n",
      "  Val Loss: 0.9367, Val CER: 0.4610\n"
     ]
    },
    {
     "name": "stderr",
     "output_type": "stream",
     "text": [
      "Epoch 17/30 [Train]: 100%|██████████| 960/960 [00:32<00:00, 29.47it/s, loss=1.18] \n",
      "Epoch 17/30 [Val]: 100%|██████████| 54/54 [00:03<00:00, 15.76it/s, loss=1.52] \n"
     ]
    },
    {
     "name": "stdout",
     "output_type": "stream",
     "text": [
      "Epoch 17/30:\n",
      "  Train Loss: 0.8038\n",
      "  Val Loss: 0.9760, Val CER: 0.4678\n"
     ]
    },
    {
     "name": "stderr",
     "output_type": "stream",
     "text": [
      "Epoch 18/30 [Train]: 100%|██████████| 960/960 [00:31<00:00, 30.04it/s, loss=0.589]\n",
      "Epoch 18/30 [Val]: 100%|██████████| 54/54 [00:03<00:00, 15.74it/s, loss=1.61]  \n"
     ]
    },
    {
     "name": "stdout",
     "output_type": "stream",
     "text": [
      "Epoch 18/30:\n",
      "  Train Loss: 0.7640\n",
      "  Val Loss: 0.8854, Val CER: 0.4425\n"
     ]
    },
    {
     "name": "stderr",
     "output_type": "stream",
     "text": [
      "Epoch 19/30 [Train]: 100%|██████████| 960/960 [00:31<00:00, 30.06it/s, loss=0.962] \n",
      "Epoch 19/30 [Val]: 100%|██████████| 54/54 [00:03<00:00, 15.67it/s, loss=1.39] \n"
     ]
    },
    {
     "name": "stdout",
     "output_type": "stream",
     "text": [
      "Epoch 19/30:\n",
      "  Train Loss: 0.7262\n",
      "  Val Loss: 0.9032, Val CER: 0.4533\n"
     ]
    },
    {
     "name": "stderr",
     "output_type": "stream",
     "text": [
      "Epoch 20/30 [Train]: 100%|██████████| 960/960 [00:31<00:00, 30.06it/s, loss=0.512]\n",
      "Epoch 20/30 [Val]: 100%|██████████| 54/54 [00:03<00:00, 16.20it/s, loss=1.49]  \n"
     ]
    },
    {
     "name": "stdout",
     "output_type": "stream",
     "text": [
      "Epoch 20/30:\n",
      "  Train Loss: 0.6996\n",
      "  Val Loss: 0.8665, Val CER: 0.4371\n"
     ]
    },
    {
     "name": "stderr",
     "output_type": "stream",
     "text": [
      "Epoch 21/30 [Train]: 100%|██████████| 960/960 [00:32<00:00, 29.38it/s, loss=0.664] \n",
      "Epoch 21/30 [Val]: 100%|██████████| 54/54 [00:03<00:00, 16.04it/s, loss=1.42]  \n"
     ]
    },
    {
     "name": "stdout",
     "output_type": "stream",
     "text": [
      "Epoch 21/30:\n",
      "  Train Loss: 0.6625\n",
      "  Val Loss: 0.8780, Val CER: 0.4300\n"
     ]
    },
    {
     "name": "stderr",
     "output_type": "stream",
     "text": [
      "Epoch 22/30 [Train]: 100%|██████████| 960/960 [00:32<00:00, 29.42it/s, loss=-0.0842] \n",
      "Epoch 22/30 [Val]: 100%|██████████| 54/54 [00:03<00:00, 15.66it/s, loss=1]     \n"
     ]
    },
    {
     "name": "stdout",
     "output_type": "stream",
     "text": [
      "Epoch 22/30:\n",
      "  Train Loss: 0.6311\n",
      "  Val Loss: 0.8684, Val CER: 0.4424\n"
     ]
    },
    {
     "name": "stderr",
     "output_type": "stream",
     "text": [
      "Epoch 23/30 [Train]: 100%|██████████| 960/960 [00:32<00:00, 29.52it/s, loss=0.585]   \n",
      "Epoch 23/30 [Val]: 100%|██████████| 54/54 [00:03<00:00, 15.79it/s, loss=1.11] \n"
     ]
    },
    {
     "name": "stdout",
     "output_type": "stream",
     "text": [
      "Epoch 23/30:\n",
      "  Train Loss: 0.6090\n",
      "  Val Loss: 0.8549, Val CER: 0.4299\n"
     ]
    },
    {
     "name": "stderr",
     "output_type": "stream",
     "text": [
      "Epoch 24/30 [Train]: 100%|██████████| 960/960 [00:32<00:00, 29.10it/s, loss=1.41]    \n",
      "Epoch 24/30 [Val]: 100%|██████████| 54/54 [00:03<00:00, 16.21it/s, loss=1.32]  \n"
     ]
    },
    {
     "name": "stdout",
     "output_type": "stream",
     "text": [
      "Epoch 24/30:\n",
      "  Train Loss: 0.5797\n",
      "  Val Loss: 0.8593, Val CER: 0.4299\n"
     ]
    },
    {
     "name": "stderr",
     "output_type": "stream",
     "text": [
      "Epoch 25/30 [Train]: 100%|██████████| 960/960 [00:31<00:00, 30.10it/s, loss=0.172]  \n",
      "Epoch 25/30 [Val]: 100%|██████████| 54/54 [00:03<00:00, 15.93it/s, loss=1.12]  \n"
     ]
    },
    {
     "name": "stdout",
     "output_type": "stream",
     "text": [
      "Epoch 25/30:\n",
      "  Train Loss: 0.5616\n",
      "  Val Loss: 0.8541, Val CER: 0.4267\n"
     ]
    },
    {
     "name": "stderr",
     "output_type": "stream",
     "text": [
      "Epoch 26/30 [Train]: 100%|██████████| 960/960 [00:31<00:00, 30.11it/s, loss=0.928]  \n",
      "Epoch 26/30 [Val]: 100%|██████████| 54/54 [00:03<00:00, 16.10it/s, loss=1.34]  \n"
     ]
    },
    {
     "name": "stdout",
     "output_type": "stream",
     "text": [
      "Epoch 26/30:\n",
      "  Train Loss: 0.5502\n",
      "  Val Loss: 0.8530, Val CER: 0.4238\n"
     ]
    },
    {
     "name": "stderr",
     "output_type": "stream",
     "text": [
      "Epoch 27/30 [Train]: 100%|██████████| 960/960 [00:32<00:00, 29.88it/s, loss=0.17]    \n",
      "Epoch 27/30 [Val]: 100%|██████████| 54/54 [00:03<00:00, 15.96it/s, loss=1.19]  \n"
     ]
    },
    {
     "name": "stdout",
     "output_type": "stream",
     "text": [
      "Epoch 27/30:\n",
      "  Train Loss: 0.5339\n",
      "  Val Loss: 0.8408, Val CER: 0.4261\n"
     ]
    },
    {
     "name": "stderr",
     "output_type": "stream",
     "text": [
      "Epoch 28/30 [Train]: 100%|██████████| 960/960 [00:31<00:00, 30.38it/s, loss=0.856]  \n",
      "Epoch 28/30 [Val]: 100%|██████████| 54/54 [00:03<00:00, 16.14it/s, loss=1.28]   \n"
     ]
    },
    {
     "name": "stdout",
     "output_type": "stream",
     "text": [
      "Epoch 28/30:\n",
      "  Train Loss: 0.5217\n",
      "  Val Loss: 0.8467, Val CER: 0.4226\n"
     ]
    },
    {
     "name": "stderr",
     "output_type": "stream",
     "text": [
      "Epoch 29/30 [Train]: 100%|██████████| 960/960 [00:32<00:00, 29.95it/s, loss=0.341]   \n",
      "Epoch 29/30 [Val]: 100%|██████████| 54/54 [00:03<00:00, 16.18it/s, loss=1.25]   \n"
     ]
    },
    {
     "name": "stdout",
     "output_type": "stream",
     "text": [
      "Epoch 29/30:\n",
      "  Train Loss: 0.5192\n",
      "  Val Loss: 0.8565, Val CER: 0.4275\n"
     ]
    },
    {
     "name": "stderr",
     "output_type": "stream",
     "text": [
      "Epoch 30/30 [Train]: 100%|██████████| 960/960 [00:31<00:00, 30.16it/s, loss=0.533]   \n",
      "Epoch 30/30 [Val]: 100%|██████████| 54/54 [00:03<00:00, 15.95it/s, loss=1.27]   \n"
     ]
    },
    {
     "name": "stdout",
     "output_type": "stream",
     "text": [
      "Epoch 30/30:\n",
      "  Train Loss: 0.5106\n",
      "  Val Loss: 0.8541, Val CER: 0.4275\n",
      "Testing with 4 channels...\n"
     ]
    },
    {
     "name": "stderr",
     "output_type": "stream",
     "text": [
      "Epoch 1/30 [Train]: 100%|██████████| 960/960 [00:32<00:00, 29.11it/s, loss=0.712]\n",
      "Epoch 1/30 [Val]: 100%|██████████| 54/54 [00:03<00:00, 15.79it/s, loss=1.45] \n"
     ]
    },
    {
     "name": "stdout",
     "output_type": "stream",
     "text": [
      "Epoch 1/30:\n",
      "  Train Loss: 2.2981\n",
      "  Val Loss: 1.0669, Val CER: 0.5192\n"
     ]
    },
    {
     "name": "stderr",
     "output_type": "stream",
     "text": [
      "Epoch 2/30 [Train]: 100%|██████████| 960/960 [00:32<00:00, 29.28it/s, loss=1.3]  \n",
      "Epoch 2/30 [Val]: 100%|██████████| 54/54 [00:03<00:00, 15.70it/s, loss=2.07] \n"
     ]
    },
    {
     "name": "stdout",
     "output_type": "stream",
     "text": [
      "Epoch 2/30:\n",
      "  Train Loss: 1.1696\n",
      "  Val Loss: 0.9879, Val CER: 0.4776\n"
     ]
    },
    {
     "name": "stderr",
     "output_type": "stream",
     "text": [
      "Epoch 3/30 [Train]: 100%|██████████| 960/960 [00:32<00:00, 29.16it/s, loss=0.87] \n",
      "Epoch 3/30 [Val]: 100%|██████████| 54/54 [00:03<00:00, 15.50it/s, loss=1.82] \n"
     ]
    },
    {
     "name": "stdout",
     "output_type": "stream",
     "text": [
      "Epoch 3/30:\n",
      "  Train Loss: 1.0383\n",
      "  Val Loss: 0.8093, Val CER: 0.4125\n"
     ]
    },
    {
     "name": "stderr",
     "output_type": "stream",
     "text": [
      "Epoch 4/30 [Train]: 100%|██████████| 960/960 [00:33<00:00, 28.40it/s, loss=0.783]\n",
      "Epoch 4/30 [Val]: 100%|██████████| 54/54 [00:03<00:00, 15.68it/s, loss=1.04]    \n"
     ]
    },
    {
     "name": "stdout",
     "output_type": "stream",
     "text": [
      "Epoch 4/30:\n",
      "  Train Loss: 0.8778\n",
      "  Val Loss: 0.7652, Val CER: 0.4203\n"
     ]
    },
    {
     "name": "stderr",
     "output_type": "stream",
     "text": [
      "Epoch 5/30 [Train]: 100%|██████████| 960/960 [00:33<00:00, 28.58it/s, loss=1.08] \n",
      "Epoch 5/30 [Val]: 100%|██████████| 54/54 [00:03<00:00, 15.87it/s, loss=0.634]\n"
     ]
    },
    {
     "name": "stdout",
     "output_type": "stream",
     "text": [
      "Epoch 5/30:\n",
      "  Train Loss: 0.8052\n",
      "  Val Loss: 0.6239, Val CER: 0.3839\n"
     ]
    },
    {
     "name": "stderr",
     "output_type": "stream",
     "text": [
      "Epoch 6/30 [Train]: 100%|██████████| 960/960 [00:33<00:00, 28.75it/s, loss=1]    \n",
      "Epoch 6/30 [Val]: 100%|██████████| 54/54 [00:03<00:00, 15.28it/s, loss=1.07]  \n"
     ]
    },
    {
     "name": "stdout",
     "output_type": "stream",
     "text": [
      "Epoch 6/30:\n",
      "  Train Loss: 0.7341\n",
      "  Val Loss: 0.6170, Val CER: 0.3720\n"
     ]
    },
    {
     "name": "stderr",
     "output_type": "stream",
     "text": [
      "Epoch 7/30 [Train]: 100%|██████████| 960/960 [00:33<00:00, 29.02it/s, loss=0.808]  \n",
      "Epoch 7/30 [Val]: 100%|██████████| 54/54 [00:03<00:00, 15.62it/s, loss=1.19] \n"
     ]
    },
    {
     "name": "stdout",
     "output_type": "stream",
     "text": [
      "Epoch 7/30:\n",
      "  Train Loss: 0.6892\n",
      "  Val Loss: 0.5834, Val CER: 0.3653\n"
     ]
    },
    {
     "name": "stderr",
     "output_type": "stream",
     "text": [
      "Epoch 8/30 [Train]: 100%|██████████| 960/960 [00:38<00:00, 24.93it/s, loss=0.0637] \n",
      "Epoch 8/30 [Val]: 100%|██████████| 54/54 [00:03<00:00, 15.40it/s, loss=0.633] \n"
     ]
    },
    {
     "name": "stdout",
     "output_type": "stream",
     "text": [
      "Epoch 8/30:\n",
      "  Train Loss: 0.6441\n",
      "  Val Loss: 0.5096, Val CER: 0.3399\n"
     ]
    },
    {
     "name": "stderr",
     "output_type": "stream",
     "text": [
      "Epoch 9/30 [Train]: 100%|██████████| 960/960 [00:38<00:00, 24.86it/s, loss=0.95]  \n",
      "Epoch 9/30 [Val]: 100%|██████████| 54/54 [00:03<00:00, 15.60it/s, loss=0.881] \n"
     ]
    },
    {
     "name": "stdout",
     "output_type": "stream",
     "text": [
      "Epoch 9/30:\n",
      "  Train Loss: 0.6091\n",
      "  Val Loss: 0.5269, Val CER: 0.3443\n"
     ]
    },
    {
     "name": "stderr",
     "output_type": "stream",
     "text": [
      "Epoch 10/30 [Train]: 100%|██████████| 960/960 [00:39<00:00, 24.38it/s, loss=0.467]    \n",
      "Epoch 10/30 [Val]: 100%|██████████| 54/54 [00:03<00:00, 16.04it/s, loss=1.24]   \n"
     ]
    },
    {
     "name": "stdout",
     "output_type": "stream",
     "text": [
      "Epoch 10/30:\n",
      "  Train Loss: 0.5668\n",
      "  Val Loss: 0.4870, Val CER: 0.3364\n"
     ]
    },
    {
     "name": "stderr",
     "output_type": "stream",
     "text": [
      "Epoch 11/30 [Train]: 100%|██████████| 960/960 [00:38<00:00, 24.88it/s, loss=0.442]  \n",
      "Epoch 11/30 [Val]: 100%|██████████| 54/54 [00:03<00:00, 15.76it/s, loss=0.88]   \n"
     ]
    },
    {
     "name": "stdout",
     "output_type": "stream",
     "text": [
      "Epoch 11/30:\n",
      "  Train Loss: 0.5355\n",
      "  Val Loss: 0.4769, Val CER: 0.3345\n"
     ]
    },
    {
     "name": "stderr",
     "output_type": "stream",
     "text": [
      "Epoch 12/30 [Train]: 100%|██████████| 960/960 [00:38<00:00, 24.66it/s, loss=0.245]   \n",
      "Epoch 12/30 [Val]: 100%|██████████| 54/54 [00:03<00:00, 15.98it/s, loss=0.823] \n"
     ]
    },
    {
     "name": "stdout",
     "output_type": "stream",
     "text": [
      "Epoch 12/30:\n",
      "  Train Loss: 0.4963\n",
      "  Val Loss: 0.4459, Val CER: 0.3295\n"
     ]
    },
    {
     "name": "stderr",
     "output_type": "stream",
     "text": [
      "Epoch 13/30 [Train]: 100%|██████████| 960/960 [00:39<00:00, 24.56it/s, loss=0.35]   \n",
      "Epoch 13/30 [Val]: 100%|██████████| 54/54 [00:03<00:00, 16.09it/s, loss=0.792]  \n"
     ]
    },
    {
     "name": "stdout",
     "output_type": "stream",
     "text": [
      "Epoch 13/30:\n",
      "  Train Loss: 0.4697\n",
      "  Val Loss: 0.4852, Val CER: 0.3298\n"
     ]
    },
    {
     "name": "stderr",
     "output_type": "stream",
     "text": [
      "Epoch 14/30 [Train]: 100%|██████████| 960/960 [00:38<00:00, 24.79it/s, loss=0.365]    \n",
      "Epoch 14/30 [Val]: 100%|██████████| 54/54 [00:03<00:00, 15.81it/s, loss=0.85]   \n"
     ]
    },
    {
     "name": "stdout",
     "output_type": "stream",
     "text": [
      "Epoch 14/30:\n",
      "  Train Loss: 0.4458\n",
      "  Val Loss: 0.4260, Val CER: 0.3161\n"
     ]
    },
    {
     "name": "stderr",
     "output_type": "stream",
     "text": [
      "Epoch 15/30 [Train]: 100%|██████████| 960/960 [00:38<00:00, 24.63it/s, loss=0.133]    \n",
      "Epoch 15/30 [Val]: 100%|██████████| 54/54 [00:03<00:00, 15.65it/s, loss=1.1]   \n"
     ]
    },
    {
     "name": "stdout",
     "output_type": "stream",
     "text": [
      "Epoch 15/30:\n",
      "  Train Loss: 0.3975\n",
      "  Val Loss: 0.4407, Val CER: 0.3213\n"
     ]
    },
    {
     "name": "stderr",
     "output_type": "stream",
     "text": [
      "Epoch 16/30 [Train]: 100%|██████████| 960/960 [00:38<00:00, 24.69it/s, loss=0.307]   \n",
      "Epoch 16/30 [Val]: 100%|██████████| 54/54 [00:03<00:00, 15.86it/s, loss=1.16]    \n"
     ]
    },
    {
     "name": "stdout",
     "output_type": "stream",
     "text": [
      "Epoch 16/30:\n",
      "  Train Loss: 0.3768\n",
      "  Val Loss: 0.4181, Val CER: 0.3103\n"
     ]
    },
    {
     "name": "stderr",
     "output_type": "stream",
     "text": [
      "Epoch 17/30 [Train]: 100%|██████████| 960/960 [00:38<00:00, 24.78it/s, loss=-0.00797]\n",
      "Epoch 17/30 [Val]: 100%|██████████| 54/54 [00:03<00:00, 15.75it/s, loss=0.377]   \n"
     ]
    },
    {
     "name": "stdout",
     "output_type": "stream",
     "text": [
      "Epoch 17/30:\n",
      "  Train Loss: 0.3446\n",
      "  Val Loss: 0.3554, Val CER: 0.2921\n"
     ]
    },
    {
     "name": "stderr",
     "output_type": "stream",
     "text": [
      "Epoch 18/30 [Train]: 100%|██████████| 960/960 [00:39<00:00, 24.41it/s, loss=0.7]      \n",
      "Epoch 18/30 [Val]: 100%|██████████| 54/54 [00:03<00:00, 15.89it/s, loss=0.472]   \n"
     ]
    },
    {
     "name": "stdout",
     "output_type": "stream",
     "text": [
      "Epoch 18/30:\n",
      "  Train Loss: 0.3076\n",
      "  Val Loss: 0.3880, Val CER: 0.3066\n"
     ]
    },
    {
     "name": "stderr",
     "output_type": "stream",
     "text": [
      "Epoch 19/30 [Train]: 100%|██████████| 960/960 [00:38<00:00, 24.67it/s, loss=0.399]   \n",
      "Epoch 19/30 [Val]: 100%|██████████| 54/54 [00:03<00:00, 16.14it/s, loss=1]     \n"
     ]
    },
    {
     "name": "stdout",
     "output_type": "stream",
     "text": [
      "Epoch 19/30:\n",
      "  Train Loss: 0.2783\n",
      "  Val Loss: 0.4219, Val CER: 0.2998\n"
     ]
    },
    {
     "name": "stderr",
     "output_type": "stream",
     "text": [
      "Epoch 20/30 [Train]: 100%|██████████| 960/960 [00:38<00:00, 24.79it/s, loss=0.211]   \n",
      "Epoch 20/30 [Val]: 100%|██████████| 54/54 [00:03<00:00, 16.10it/s, loss=1.12]   \n"
     ]
    },
    {
     "name": "stdout",
     "output_type": "stream",
     "text": [
      "Epoch 20/30:\n",
      "  Train Loss: 0.2532\n",
      "  Val Loss: 0.3945, Val CER: 0.3023\n"
     ]
    },
    {
     "name": "stderr",
     "output_type": "stream",
     "text": [
      "Epoch 21/30 [Train]: 100%|██████████| 960/960 [00:39<00:00, 24.58it/s, loss=0.181]   \n",
      "Epoch 21/30 [Val]: 100%|██████████| 54/54 [00:03<00:00, 16.26it/s, loss=0.68]   \n"
     ]
    },
    {
     "name": "stdout",
     "output_type": "stream",
     "text": [
      "Epoch 21/30:\n",
      "  Train Loss: 0.2229\n",
      "  Val Loss: 0.4177, Val CER: 0.3017\n"
     ]
    },
    {
     "name": "stderr",
     "output_type": "stream",
     "text": [
      "Epoch 22/30 [Train]: 100%|██████████| 960/960 [00:38<00:00, 24.64it/s, loss=0.259]    \n",
      "Epoch 22/30 [Val]: 100%|██████████| 54/54 [00:03<00:00, 16.09it/s, loss=0.737]  \n"
     ]
    },
    {
     "name": "stdout",
     "output_type": "stream",
     "text": [
      "Epoch 22/30:\n",
      "  Train Loss: 0.2024\n",
      "  Val Loss: 0.4299, Val CER: 0.3025\n"
     ]
    },
    {
     "name": "stderr",
     "output_type": "stream",
     "text": [
      "Epoch 23/30 [Train]: 100%|██████████| 960/960 [00:39<00:00, 24.41it/s, loss=0.394]   \n",
      "Epoch 23/30 [Val]: 100%|██████████| 54/54 [00:03<00:00, 16.25it/s, loss=1.16]   \n"
     ]
    },
    {
     "name": "stdout",
     "output_type": "stream",
     "text": [
      "Epoch 23/30:\n",
      "  Train Loss: 0.1854\n",
      "  Val Loss: 0.3893, Val CER: 0.2916\n"
     ]
    },
    {
     "name": "stderr",
     "output_type": "stream",
     "text": [
      "Epoch 24/30 [Train]: 100%|██████████| 960/960 [00:39<00:00, 24.28it/s, loss=-0.164]   \n",
      "Epoch 24/30 [Val]: 100%|██████████| 54/54 [00:03<00:00, 15.97it/s, loss=0.942]   \n"
     ]
    },
    {
     "name": "stdout",
     "output_type": "stream",
     "text": [
      "Epoch 24/30:\n",
      "  Train Loss: 0.1667\n",
      "  Val Loss: 0.4054, Val CER: 0.2899\n"
     ]
    },
    {
     "name": "stderr",
     "output_type": "stream",
     "text": [
      "Epoch 25/30 [Train]: 100%|██████████| 960/960 [00:38<00:00, 24.76it/s, loss=0.238]    \n",
      "Epoch 25/30 [Val]: 100%|██████████| 54/54 [00:03<00:00, 16.02it/s, loss=1.04]  \n"
     ]
    },
    {
     "name": "stdout",
     "output_type": "stream",
     "text": [
      "Epoch 25/30:\n",
      "  Train Loss: 0.1477\n",
      "  Val Loss: 0.4116, Val CER: 0.2885\n"
     ]
    },
    {
     "name": "stderr",
     "output_type": "stream",
     "text": [
      "Epoch 26/30 [Train]: 100%|██████████| 960/960 [00:38<00:00, 24.71it/s, loss=0.0091]  \n",
      "Epoch 26/30 [Val]: 100%|██████████| 54/54 [00:03<00:00, 16.29it/s, loss=0.964]  \n"
     ]
    },
    {
     "name": "stdout",
     "output_type": "stream",
     "text": [
      "Epoch 26/30:\n",
      "  Train Loss: 0.1383\n",
      "  Val Loss: 0.4188, Val CER: 0.2881\n"
     ]
    },
    {
     "name": "stderr",
     "output_type": "stream",
     "text": [
      "Epoch 27/30 [Train]: 100%|██████████| 960/960 [00:38<00:00, 25.13it/s, loss=-0.0758]  \n",
      "Epoch 27/30 [Val]: 100%|██████████| 54/54 [00:03<00:00, 16.02it/s, loss=1.11]   \n"
     ]
    },
    {
     "name": "stdout",
     "output_type": "stream",
     "text": [
      "Epoch 27/30:\n",
      "  Train Loss: 0.1226\n",
      "  Val Loss: 0.3986, Val CER: 0.2872\n"
     ]
    },
    {
     "name": "stderr",
     "output_type": "stream",
     "text": [
      "Epoch 28/30 [Train]: 100%|██████████| 960/960 [00:37<00:00, 25.56it/s, loss=0.176]    \n",
      "Epoch 28/30 [Val]: 100%|██████████| 54/54 [00:03<00:00, 16.20it/s, loss=1.14]   \n"
     ]
    },
    {
     "name": "stdout",
     "output_type": "stream",
     "text": [
      "Epoch 28/30:\n",
      "  Train Loss: 0.1164\n",
      "  Val Loss: 0.4043, Val CER: 0.2905\n"
     ]
    },
    {
     "name": "stderr",
     "output_type": "stream",
     "text": [
      "Epoch 29/30 [Train]: 100%|██████████| 960/960 [00:37<00:00, 25.58it/s, loss=0.0828]  \n",
      "Epoch 29/30 [Val]: 100%|██████████| 54/54 [00:03<00:00, 15.39it/s, loss=1.12]   \n"
     ]
    },
    {
     "name": "stdout",
     "output_type": "stream",
     "text": [
      "Epoch 29/30:\n",
      "  Train Loss: 0.1150\n",
      "  Val Loss: 0.3956, Val CER: 0.2874\n"
     ]
    },
    {
     "name": "stderr",
     "output_type": "stream",
     "text": [
      "Epoch 30/30 [Train]: 100%|██████████| 960/960 [00:37<00:00, 25.38it/s, loss=0.199]    \n",
      "Epoch 30/30 [Val]: 100%|██████████| 54/54 [00:03<00:00, 15.63it/s, loss=1.04]   \n"
     ]
    },
    {
     "name": "stdout",
     "output_type": "stream",
     "text": [
      "Epoch 30/30:\n",
      "  Train Loss: 0.1106\n",
      "  Val Loss: 0.3986, Val CER: 0.2874\n",
      "Testing with 8 channels...\n"
     ]
    },
    {
     "name": "stderr",
     "output_type": "stream",
     "text": [
      "Epoch 1/30 [Train]: 100%|██████████| 960/960 [00:38<00:00, 25.19it/s, loss=0.857]\n",
      "Epoch 1/30 [Val]: 100%|██████████| 54/54 [00:03<00:00, 16.10it/s, loss=1.75] \n"
     ]
    },
    {
     "name": "stdout",
     "output_type": "stream",
     "text": [
      "Epoch 1/30:\n",
      "  Train Loss: 2.2258\n",
      "  Val Loss: 0.9857, Val CER: 0.4539\n"
     ]
    },
    {
     "name": "stderr",
     "output_type": "stream",
     "text": [
      "Epoch 2/30 [Train]: 100%|██████████| 960/960 [00:37<00:00, 25.57it/s, loss=1.54] \n",
      "Epoch 2/30 [Val]: 100%|██████████| 54/54 [00:03<00:00, 15.78it/s, loss=1.62] \n"
     ]
    },
    {
     "name": "stdout",
     "output_type": "stream",
     "text": [
      "Epoch 2/30:\n",
      "  Train Loss: 1.0180\n",
      "  Val Loss: 0.8851, Val CER: 0.4698\n"
     ]
    },
    {
     "name": "stderr",
     "output_type": "stream",
     "text": [
      "Epoch 3/30 [Train]: 100%|██████████| 960/960 [00:37<00:00, 25.54it/s, loss=1.32] \n",
      "Epoch 3/30 [Val]: 100%|██████████| 54/54 [00:03<00:00, 16.17it/s, loss=1.54]   \n"
     ]
    },
    {
     "name": "stdout",
     "output_type": "stream",
     "text": [
      "Epoch 3/30:\n",
      "  Train Loss: 0.9096\n",
      "  Val Loss: 0.7756, Val CER: 0.4107\n"
     ]
    },
    {
     "name": "stderr",
     "output_type": "stream",
     "text": [
      "Epoch 4/30 [Train]: 100%|██████████| 960/960 [00:37<00:00, 25.34it/s, loss=0.74]  \n",
      "Epoch 4/30 [Val]: 100%|██████████| 54/54 [00:03<00:00, 16.13it/s, loss=1.03]  \n"
     ]
    },
    {
     "name": "stdout",
     "output_type": "stream",
     "text": [
      "Epoch 4/30:\n",
      "  Train Loss: 0.7475\n",
      "  Val Loss: 0.5588, Val CER: 0.3621\n"
     ]
    },
    {
     "name": "stderr",
     "output_type": "stream",
     "text": [
      "Epoch 5/30 [Train]: 100%|██████████| 960/960 [00:37<00:00, 25.53it/s, loss=0.789] \n",
      "Epoch 5/30 [Val]: 100%|██████████| 54/54 [00:03<00:00, 15.66it/s, loss=0.924] \n"
     ]
    },
    {
     "name": "stdout",
     "output_type": "stream",
     "text": [
      "Epoch 5/30:\n",
      "  Train Loss: 0.6635\n",
      "  Val Loss: 0.5666, Val CER: 0.3493\n"
     ]
    },
    {
     "name": "stderr",
     "output_type": "stream",
     "text": [
      "Epoch 6/30 [Train]: 100%|██████████| 960/960 [00:38<00:00, 25.10it/s, loss=0.466]  \n",
      "Epoch 6/30 [Val]: 100%|██████████| 54/54 [00:03<00:00, 15.97it/s, loss=0.629] \n"
     ]
    },
    {
     "name": "stdout",
     "output_type": "stream",
     "text": [
      "Epoch 6/30:\n",
      "  Train Loss: 0.5977\n",
      "  Val Loss: 0.4270, Val CER: 0.3140\n"
     ]
    },
    {
     "name": "stderr",
     "output_type": "stream",
     "text": [
      "Epoch 7/30 [Train]: 100%|██████████| 960/960 [00:37<00:00, 25.36it/s, loss=0.388] \n",
      "Epoch 7/30 [Val]: 100%|██████████| 54/54 [00:03<00:00, 15.45it/s, loss=0.842] \n"
     ]
    },
    {
     "name": "stdout",
     "output_type": "stream",
     "text": [
      "Epoch 7/30:\n",
      "  Train Loss: 0.5495\n",
      "  Val Loss: 0.4254, Val CER: 0.3324\n"
     ]
    },
    {
     "name": "stderr",
     "output_type": "stream",
     "text": [
      "Epoch 8/30 [Train]: 100%|██████████| 960/960 [00:38<00:00, 25.23it/s, loss=0.492]   \n",
      "Epoch 8/30 [Val]: 100%|██████████| 54/54 [00:03<00:00, 15.72it/s, loss=0.37]   \n"
     ]
    },
    {
     "name": "stdout",
     "output_type": "stream",
     "text": [
      "Epoch 8/30:\n",
      "  Train Loss: 0.5017\n",
      "  Val Loss: 0.4243, Val CER: 0.3031\n"
     ]
    },
    {
     "name": "stderr",
     "output_type": "stream",
     "text": [
      "Epoch 9/30 [Train]: 100%|██████████| 960/960 [00:38<00:00, 25.19it/s, loss=0.312]   \n",
      "Epoch 9/30 [Val]: 100%|██████████| 54/54 [00:03<00:00, 15.90it/s, loss=0.714]  \n"
     ]
    },
    {
     "name": "stdout",
     "output_type": "stream",
     "text": [
      "Epoch 9/30:\n",
      "  Train Loss: 0.4512\n",
      "  Val Loss: 0.4665, Val CER: 0.3319\n"
     ]
    },
    {
     "name": "stderr",
     "output_type": "stream",
     "text": [
      "Epoch 10/30 [Train]: 100%|██████████| 960/960 [00:37<00:00, 25.30it/s, loss=0.571]   \n",
      "Epoch 10/30 [Val]: 100%|██████████| 54/54 [00:03<00:00, 15.76it/s, loss=0.24]  \n"
     ]
    },
    {
     "name": "stdout",
     "output_type": "stream",
     "text": [
      "Epoch 10/30:\n",
      "  Train Loss: 0.4456\n",
      "  Val Loss: 0.3774, Val CER: 0.3109\n"
     ]
    },
    {
     "name": "stderr",
     "output_type": "stream",
     "text": [
      "Epoch 11/30 [Train]: 100%|██████████| 960/960 [00:38<00:00, 24.82it/s, loss=0.501]   \n",
      "Epoch 11/30 [Val]: 100%|██████████| 54/54 [00:03<00:00, 15.67it/s, loss=0.762]  \n"
     ]
    },
    {
     "name": "stdout",
     "output_type": "stream",
     "text": [
      "Epoch 11/30:\n",
      "  Train Loss: 0.4067\n",
      "  Val Loss: 0.3764, Val CER: 0.3011\n"
     ]
    },
    {
     "name": "stderr",
     "output_type": "stream",
     "text": [
      "Epoch 12/30 [Train]: 100%|██████████| 960/960 [00:38<00:00, 24.94it/s, loss=0.41]    \n",
      "Epoch 12/30 [Val]: 100%|██████████| 54/54 [00:03<00:00, 15.70it/s, loss=0.697]  \n"
     ]
    },
    {
     "name": "stdout",
     "output_type": "stream",
     "text": [
      "Epoch 12/30:\n",
      "  Train Loss: 0.3665\n",
      "  Val Loss: 0.3342, Val CER: 0.2868\n"
     ]
    },
    {
     "name": "stderr",
     "output_type": "stream",
     "text": [
      "Epoch 13/30 [Train]: 100%|██████████| 960/960 [00:38<00:00, 25.17it/s, loss=0.0386]   \n",
      "Epoch 13/30 [Val]: 100%|██████████| 54/54 [00:03<00:00, 15.59it/s, loss=0.364]   \n"
     ]
    },
    {
     "name": "stdout",
     "output_type": "stream",
     "text": [
      "Epoch 13/30:\n",
      "  Train Loss: 0.3484\n",
      "  Val Loss: 0.3075, Val CER: 0.2826\n"
     ]
    },
    {
     "name": "stderr",
     "output_type": "stream",
     "text": [
      "Epoch 14/30 [Train]: 100%|██████████| 960/960 [00:37<00:00, 25.40it/s, loss=0.431]   \n",
      "Epoch 14/30 [Val]: 100%|██████████| 54/54 [00:03<00:00, 15.98it/s, loss=0.675]  \n"
     ]
    },
    {
     "name": "stdout",
     "output_type": "stream",
     "text": [
      "Epoch 14/30:\n",
      "  Train Loss: 0.3169\n",
      "  Val Loss: 0.3839, Val CER: 0.3190\n"
     ]
    },
    {
     "name": "stderr",
     "output_type": "stream",
     "text": [
      "Epoch 15/30 [Train]: 100%|██████████| 960/960 [00:38<00:00, 25.23it/s, loss=0.386]   \n",
      "Epoch 15/30 [Val]: 100%|██████████| 54/54 [00:03<00:00, 15.84it/s, loss=0.277]  \n"
     ]
    },
    {
     "name": "stdout",
     "output_type": "stream",
     "text": [
      "Epoch 15/30:\n",
      "  Train Loss: 0.2737\n",
      "  Val Loss: 0.3362, Val CER: 0.2866\n"
     ]
    },
    {
     "name": "stderr",
     "output_type": "stream",
     "text": [
      "Epoch 16/30 [Train]: 100%|██████████| 960/960 [00:39<00:00, 24.43it/s, loss=0.15]     \n",
      "Epoch 16/30 [Val]: 100%|██████████| 54/54 [00:03<00:00, 15.83it/s, loss=0.042]   \n"
     ]
    },
    {
     "name": "stdout",
     "output_type": "stream",
     "text": [
      "Epoch 16/30:\n",
      "  Train Loss: 0.2619\n",
      "  Val Loss: 0.3098, Val CER: 0.2773\n"
     ]
    },
    {
     "name": "stderr",
     "output_type": "stream",
     "text": [
      "Epoch 17/30 [Train]: 100%|██████████| 960/960 [00:39<00:00, 24.37it/s, loss=0.224]   \n",
      "Epoch 17/30 [Val]: 100%|██████████| 54/54 [00:03<00:00, 15.92it/s, loss=0.569]  \n"
     ]
    },
    {
     "name": "stdout",
     "output_type": "stream",
     "text": [
      "Epoch 17/30:\n",
      "  Train Loss: 0.2280\n",
      "  Val Loss: 0.3650, Val CER: 0.2898\n"
     ]
    },
    {
     "name": "stderr",
     "output_type": "stream",
     "text": [
      "Epoch 18/30 [Train]: 100%|██████████| 960/960 [00:38<00:00, 24.63it/s, loss=0.466]    \n",
      "Epoch 18/30 [Val]: 100%|██████████| 54/54 [00:03<00:00, 16.04it/s, loss=-0.16]   \n"
     ]
    },
    {
     "name": "stdout",
     "output_type": "stream",
     "text": [
      "Epoch 18/30:\n",
      "  Train Loss: 0.2082\n",
      "  Val Loss: 0.2559, Val CER: 0.2644\n"
     ]
    },
    {
     "name": "stderr",
     "output_type": "stream",
     "text": [
      "Epoch 19/30 [Train]: 100%|██████████| 960/960 [00:38<00:00, 24.63it/s, loss=0.795]    \n",
      "Epoch 19/30 [Val]: 100%|██████████| 54/54 [00:03<00:00, 16.21it/s, loss=0.341]  \n"
     ]
    },
    {
     "name": "stdout",
     "output_type": "stream",
     "text": [
      "Epoch 19/30:\n",
      "  Train Loss: 0.1793\n",
      "  Val Loss: 0.3516, Val CER: 0.2891\n"
     ]
    },
    {
     "name": "stderr",
     "output_type": "stream",
     "text": [
      "Epoch 20/30 [Train]: 100%|██████████| 960/960 [00:39<00:00, 24.46it/s, loss=0.404]   \n",
      "Epoch 20/30 [Val]: 100%|██████████| 54/54 [00:03<00:00, 15.92it/s, loss=0.102] \n"
     ]
    },
    {
     "name": "stdout",
     "output_type": "stream",
     "text": [
      "Epoch 20/30:\n",
      "  Train Loss: 0.1561\n",
      "  Val Loss: 0.3177, Val CER: 0.2724\n"
     ]
    },
    {
     "name": "stderr",
     "output_type": "stream",
     "text": [
      "Epoch 21/30 [Train]: 100%|██████████| 960/960 [00:39<00:00, 24.52it/s, loss=-0.144]  \n",
      "Epoch 21/30 [Val]: 100%|██████████| 54/54 [00:03<00:00, 15.83it/s, loss=0.15]  \n"
     ]
    },
    {
     "name": "stdout",
     "output_type": "stream",
     "text": [
      "Epoch 21/30:\n",
      "  Train Loss: 0.1295\n",
      "  Val Loss: 0.3166, Val CER: 0.2772\n"
     ]
    },
    {
     "name": "stderr",
     "output_type": "stream",
     "text": [
      "Epoch 22/30 [Train]: 100%|██████████| 960/960 [00:40<00:00, 23.96it/s, loss=-0.0111]  \n",
      "Epoch 22/30 [Val]: 100%|██████████| 54/54 [00:03<00:00, 16.61it/s, loss=0.0616] \n"
     ]
    },
    {
     "name": "stdout",
     "output_type": "stream",
     "text": [
      "Epoch 22/30:\n",
      "  Train Loss: 0.1067\n",
      "  Val Loss: 0.3124, Val CER: 0.2820\n"
     ]
    },
    {
     "name": "stderr",
     "output_type": "stream",
     "text": [
      "Epoch 23/30 [Train]: 100%|██████████| 960/960 [00:39<00:00, 24.54it/s, loss=0.232]    \n",
      "Epoch 23/30 [Val]: 100%|██████████| 54/54 [00:03<00:00, 14.92it/s, loss=0.117]  \n"
     ]
    },
    {
     "name": "stdout",
     "output_type": "stream",
     "text": [
      "Epoch 23/30:\n",
      "  Train Loss: 0.0840\n",
      "  Val Loss: 0.3243, Val CER: 0.2779\n"
     ]
    },
    {
     "name": "stderr",
     "output_type": "stream",
     "text": [
      "Epoch 24/30 [Train]: 100%|██████████| 960/960 [00:38<00:00, 24.75it/s, loss=0.0631]   \n",
      "Epoch 24/30 [Val]: 100%|██████████| 54/54 [00:03<00:00, 15.30it/s, loss=-0.0368] \n"
     ]
    },
    {
     "name": "stdout",
     "output_type": "stream",
     "text": [
      "Epoch 24/30:\n",
      "  Train Loss: 0.0709\n",
      "  Val Loss: 0.3037, Val CER: 0.2709\n"
     ]
    },
    {
     "name": "stderr",
     "output_type": "stream",
     "text": [
      "Epoch 25/30 [Train]: 100%|██████████| 960/960 [00:39<00:00, 24.10it/s, loss=-0.0941] \n",
      "Epoch 25/30 [Val]: 100%|██████████| 54/54 [00:03<00:00, 16.11it/s, loss=0.185]  \n"
     ]
    },
    {
     "name": "stdout",
     "output_type": "stream",
     "text": [
      "Epoch 25/30:\n",
      "  Train Loss: 0.0528\n",
      "  Val Loss: 0.3382, Val CER: 0.2835\n"
     ]
    },
    {
     "name": "stderr",
     "output_type": "stream",
     "text": [
      "Epoch 26/30 [Train]: 100%|██████████| 960/960 [00:38<00:00, 24.62it/s, loss=-0.125]   \n",
      "Epoch 26/30 [Val]: 100%|██████████| 54/54 [00:03<00:00, 16.05it/s, loss=0.173]  \n"
     ]
    },
    {
     "name": "stdout",
     "output_type": "stream",
     "text": [
      "Epoch 26/30:\n",
      "  Train Loss: 0.0496\n",
      "  Val Loss: 0.3072, Val CER: 0.2681\n"
     ]
    },
    {
     "name": "stderr",
     "output_type": "stream",
     "text": [
      "Epoch 27/30 [Train]: 100%|██████████| 960/960 [00:39<00:00, 24.54it/s, loss=-0.221]   \n",
      "Epoch 27/30 [Val]: 100%|██████████| 54/54 [00:03<00:00, 15.79it/s, loss=0.0881] \n"
     ]
    },
    {
     "name": "stdout",
     "output_type": "stream",
     "text": [
      "Epoch 27/30:\n",
      "  Train Loss: 0.0315\n",
      "  Val Loss: 0.2909, Val CER: 0.2657\n"
     ]
    },
    {
     "name": "stderr",
     "output_type": "stream",
     "text": [
      "Epoch 28/30 [Train]: 100%|██████████| 960/960 [00:38<00:00, 24.70it/s, loss=0.0133]   \n",
      "Epoch 28/30 [Val]: 100%|██████████| 54/54 [00:03<00:00, 15.75it/s, loss=0.167]  \n"
     ]
    },
    {
     "name": "stdout",
     "output_type": "stream",
     "text": [
      "Epoch 28/30:\n",
      "  Train Loss: 0.0307\n",
      "  Val Loss: 0.3390, Val CER: 0.2770\n"
     ]
    },
    {
     "name": "stderr",
     "output_type": "stream",
     "text": [
      "Epoch 29/30 [Train]: 100%|██████████| 960/960 [00:39<00:00, 24.32it/s, loss=-0.0619]  \n",
      "Epoch 29/30 [Val]: 100%|██████████| 54/54 [00:03<00:00, 15.74it/s, loss=0.0503]\n"
     ]
    },
    {
     "name": "stdout",
     "output_type": "stream",
     "text": [
      "Epoch 29/30:\n",
      "  Train Loss: 0.0298\n",
      "  Val Loss: 0.3047, Val CER: 0.2681\n"
     ]
    },
    {
     "name": "stderr",
     "output_type": "stream",
     "text": [
      "Epoch 30/30 [Train]: 100%|██████████| 960/960 [00:39<00:00, 24.48it/s, loss=-0.126]   \n",
      "Epoch 30/30 [Val]: 100%|██████████| 54/54 [00:03<00:00, 15.90it/s, loss=0.181]  \n"
     ]
    },
    {
     "name": "stdout",
     "output_type": "stream",
     "text": [
      "Epoch 30/30:\n",
      "  Train Loss: 0.0228\n",
      "  Val Loss: 0.3316, Val CER: 0.2769\n",
      "Testing with 12 channels...\n"
     ]
    },
    {
     "name": "stderr",
     "output_type": "stream",
     "text": [
      "Epoch 1/30 [Train]: 100%|██████████| 960/960 [00:38<00:00, 24.63it/s, loss=1.13] \n",
      "Epoch 1/30 [Val]: 100%|██████████| 54/54 [00:03<00:00, 15.61it/s, loss=1.58] \n"
     ]
    },
    {
     "name": "stdout",
     "output_type": "stream",
     "text": [
      "Epoch 1/30:\n",
      "  Train Loss: 2.2003\n",
      "  Val Loss: 0.9805, Val CER: 0.4969\n"
     ]
    },
    {
     "name": "stderr",
     "output_type": "stream",
     "text": [
      "Epoch 2/30 [Train]: 100%|██████████| 960/960 [00:39<00:00, 24.36it/s, loss=0.738]\n",
      "Epoch 2/30 [Val]: 100%|██████████| 54/54 [00:03<00:00, 15.86it/s, loss=1.47] \n"
     ]
    },
    {
     "name": "stdout",
     "output_type": "stream",
     "text": [
      "Epoch 2/30:\n",
      "  Train Loss: 0.9971\n",
      "  Val Loss: 1.1829, Val CER: 0.5087\n"
     ]
    },
    {
     "name": "stderr",
     "output_type": "stream",
     "text": [
      "Epoch 3/30 [Train]: 100%|██████████| 960/960 [00:39<00:00, 24.06it/s, loss=0.425]\n",
      "Epoch 3/30 [Val]: 100%|██████████| 54/54 [00:03<00:00, 15.82it/s, loss=0.794]\n"
     ]
    },
    {
     "name": "stdout",
     "output_type": "stream",
     "text": [
      "Epoch 3/30:\n",
      "  Train Loss: 0.8907\n",
      "  Val Loss: 0.7816, Val CER: 0.4243\n"
     ]
    },
    {
     "name": "stderr",
     "output_type": "stream",
     "text": [
      "Epoch 4/30 [Train]: 100%|██████████| 960/960 [00:39<00:00, 24.22it/s, loss=0.793]  \n",
      "Epoch 4/30 [Val]: 100%|██████████| 54/54 [00:03<00:00, 15.69it/s, loss=0.512]   \n"
     ]
    },
    {
     "name": "stdout",
     "output_type": "stream",
     "text": [
      "Epoch 4/30:\n",
      "  Train Loss: 0.7546\n",
      "  Val Loss: 0.5245, Val CER: 0.3510\n"
     ]
    },
    {
     "name": "stderr",
     "output_type": "stream",
     "text": [
      "Epoch 5/30 [Train]: 100%|██████████| 960/960 [00:39<00:00, 24.60it/s, loss=1.03]   \n",
      "Epoch 5/30 [Val]: 100%|██████████| 54/54 [00:03<00:00, 15.66it/s, loss=0.627] \n"
     ]
    },
    {
     "name": "stdout",
     "output_type": "stream",
     "text": [
      "Epoch 5/30:\n",
      "  Train Loss: 0.6561\n",
      "  Val Loss: 0.5430, Val CER: 0.3591\n"
     ]
    },
    {
     "name": "stderr",
     "output_type": "stream",
     "text": [
      "Epoch 6/30 [Train]: 100%|██████████| 960/960 [00:39<00:00, 24.09it/s, loss=0.215]  \n",
      "Epoch 6/30 [Val]: 100%|██████████| 54/54 [00:03<00:00, 15.85it/s, loss=0.664] \n"
     ]
    },
    {
     "name": "stdout",
     "output_type": "stream",
     "text": [
      "Epoch 6/30:\n",
      "  Train Loss: 0.5892\n",
      "  Val Loss: 0.4776, Val CER: 0.3375\n"
     ]
    },
    {
     "name": "stderr",
     "output_type": "stream",
     "text": [
      "Epoch 7/30 [Train]: 100%|██████████| 960/960 [00:40<00:00, 24.00it/s, loss=0.347]  \n",
      "Epoch 7/30 [Val]: 100%|██████████| 54/54 [00:03<00:00, 15.64it/s, loss=0.505]  \n"
     ]
    },
    {
     "name": "stdout",
     "output_type": "stream",
     "text": [
      "Epoch 7/30:\n",
      "  Train Loss: 0.5541\n",
      "  Val Loss: 0.4262, Val CER: 0.3377\n"
     ]
    },
    {
     "name": "stderr",
     "output_type": "stream",
     "text": [
      "Epoch 8/30 [Train]: 100%|██████████| 960/960 [00:39<00:00, 24.18it/s, loss=0.276]    \n",
      "Epoch 8/30 [Val]: 100%|██████████| 54/54 [00:03<00:00, 15.53it/s, loss=0.537] \n"
     ]
    },
    {
     "name": "stdout",
     "output_type": "stream",
     "text": [
      "Epoch 8/30:\n",
      "  Train Loss: 0.5122\n",
      "  Val Loss: 0.4009, Val CER: 0.3087\n"
     ]
    },
    {
     "name": "stderr",
     "output_type": "stream",
     "text": [
      "Epoch 9/30 [Train]: 100%|██████████| 960/960 [00:39<00:00, 24.51it/s, loss=0.49]    \n",
      "Epoch 9/30 [Val]: 100%|██████████| 54/54 [00:03<00:00, 15.76it/s, loss=0.389]   \n"
     ]
    },
    {
     "name": "stdout",
     "output_type": "stream",
     "text": [
      "Epoch 9/30:\n",
      "  Train Loss: 0.4778\n",
      "  Val Loss: 0.3240, Val CER: 0.2836\n"
     ]
    },
    {
     "name": "stderr",
     "output_type": "stream",
     "text": [
      "Epoch 10/30 [Train]: 100%|██████████| 960/960 [00:39<00:00, 24.09it/s, loss=0.309]    \n",
      "Epoch 10/30 [Val]: 100%|██████████| 54/54 [00:03<00:00, 15.95it/s, loss=0.707]  \n"
     ]
    },
    {
     "name": "stdout",
     "output_type": "stream",
     "text": [
      "Epoch 10/30:\n",
      "  Train Loss: 0.4219\n",
      "  Val Loss: 0.3245, Val CER: 0.2916\n"
     ]
    },
    {
     "name": "stderr",
     "output_type": "stream",
     "text": [
      "Epoch 11/30 [Train]: 100%|██████████| 960/960 [00:39<00:00, 24.25it/s, loss=0.374]    \n",
      "Epoch 11/30 [Val]: 100%|██████████| 54/54 [00:03<00:00, 15.29it/s, loss=0.695]  \n"
     ]
    },
    {
     "name": "stdout",
     "output_type": "stream",
     "text": [
      "Epoch 11/30:\n",
      "  Train Loss: 0.3976\n",
      "  Val Loss: 0.3451, Val CER: 0.2935\n"
     ]
    },
    {
     "name": "stderr",
     "output_type": "stream",
     "text": [
      "Epoch 12/30 [Train]: 100%|██████████| 960/960 [00:39<00:00, 24.21it/s, loss=0.327]  \n",
      "Epoch 12/30 [Val]: 100%|██████████| 54/54 [00:03<00:00, 15.72it/s, loss=0.967]    \n"
     ]
    },
    {
     "name": "stdout",
     "output_type": "stream",
     "text": [
      "Epoch 12/30:\n",
      "  Train Loss: 0.3706\n",
      "  Val Loss: 0.3344, Val CER: 0.2932\n"
     ]
    },
    {
     "name": "stderr",
     "output_type": "stream",
     "text": [
      "Epoch 13/30 [Train]: 100%|██████████| 960/960 [00:39<00:00, 24.33it/s, loss=0.388]    \n",
      "Epoch 13/30 [Val]: 100%|██████████| 54/54 [00:03<00:00, 15.39it/s, loss=1.12]   \n"
     ]
    },
    {
     "name": "stdout",
     "output_type": "stream",
     "text": [
      "Epoch 13/30:\n",
      "  Train Loss: 0.3230\n",
      "  Val Loss: 0.3354, Val CER: 0.2937\n"
     ]
    },
    {
     "name": "stderr",
     "output_type": "stream",
     "text": [
      "Epoch 14/30 [Train]: 100%|██████████| 960/960 [00:39<00:00, 24.22it/s, loss=0.196]   \n",
      "Epoch 14/30 [Val]: 100%|██████████| 54/54 [00:03<00:00, 15.51it/s, loss=0.753]  \n"
     ]
    },
    {
     "name": "stdout",
     "output_type": "stream",
     "text": [
      "Epoch 14/30:\n",
      "  Train Loss: 0.3271\n",
      "  Val Loss: 0.2958, Val CER: 0.2737\n"
     ]
    },
    {
     "name": "stderr",
     "output_type": "stream",
     "text": [
      "Epoch 15/30 [Train]: 100%|██████████| 960/960 [00:39<00:00, 24.21it/s, loss=0.0168]  \n",
      "Epoch 15/30 [Val]: 100%|██████████| 54/54 [00:03<00:00, 15.70it/s, loss=1.12]   \n"
     ]
    },
    {
     "name": "stdout",
     "output_type": "stream",
     "text": [
      "Epoch 15/30:\n",
      "  Train Loss: 0.2772\n",
      "  Val Loss: 0.2672, Val CER: 0.2678\n"
     ]
    },
    {
     "name": "stderr",
     "output_type": "stream",
     "text": [
      "Epoch 16/30 [Train]: 100%|██████████| 960/960 [00:39<00:00, 24.30it/s, loss=0.14]    \n",
      "Epoch 16/30 [Val]: 100%|██████████| 54/54 [00:03<00:00, 15.69it/s, loss=0.461]   \n"
     ]
    },
    {
     "name": "stdout",
     "output_type": "stream",
     "text": [
      "Epoch 16/30:\n",
      "  Train Loss: 0.2404\n",
      "  Val Loss: 0.2609, Val CER: 0.2734\n"
     ]
    },
    {
     "name": "stderr",
     "output_type": "stream",
     "text": [
      "Epoch 17/30 [Train]: 100%|██████████| 960/960 [00:39<00:00, 24.23it/s, loss=-0.15]    \n",
      "Epoch 17/30 [Val]: 100%|██████████| 54/54 [00:03<00:00, 15.95it/s, loss=0.919]  \n"
     ]
    },
    {
     "name": "stdout",
     "output_type": "stream",
     "text": [
      "Epoch 17/30:\n",
      "  Train Loss: 0.2218\n",
      "  Val Loss: 0.2627, Val CER: 0.2644\n"
     ]
    },
    {
     "name": "stderr",
     "output_type": "stream",
     "text": [
      "Epoch 18/30 [Train]: 100%|██████████| 960/960 [00:38<00:00, 24.78it/s, loss=-0.124]  \n",
      "Epoch 18/30 [Val]: 100%|██████████| 54/54 [00:03<00:00, 16.07it/s, loss=0.547]  \n"
     ]
    },
    {
     "name": "stdout",
     "output_type": "stream",
     "text": [
      "Epoch 18/30:\n",
      "  Train Loss: 0.1979\n",
      "  Val Loss: 0.2313, Val CER: 0.2656\n"
     ]
    },
    {
     "name": "stderr",
     "output_type": "stream",
     "text": [
      "Epoch 19/30 [Train]: 100%|██████████| 960/960 [00:39<00:00, 24.54it/s, loss=0.328]   \n",
      "Epoch 19/30 [Val]: 100%|██████████| 54/54 [00:03<00:00, 15.92it/s, loss=0.573]  \n"
     ]
    },
    {
     "name": "stdout",
     "output_type": "stream",
     "text": [
      "Epoch 19/30:\n",
      "  Train Loss: 0.1677\n",
      "  Val Loss: 0.2597, Val CER: 0.2648\n"
     ]
    },
    {
     "name": "stderr",
     "output_type": "stream",
     "text": [
      "Epoch 20/30 [Train]: 100%|██████████| 960/960 [00:39<00:00, 24.37it/s, loss=0.24]    \n",
      "Epoch 20/30 [Val]: 100%|██████████| 54/54 [00:03<00:00, 15.99it/s, loss=0.589]  \n"
     ]
    },
    {
     "name": "stdout",
     "output_type": "stream",
     "text": [
      "Epoch 20/30:\n",
      "  Train Loss: 0.1412\n",
      "  Val Loss: 0.2385, Val CER: 0.2587\n"
     ]
    },
    {
     "name": "stderr",
     "output_type": "stream",
     "text": [
      "Epoch 21/30 [Train]: 100%|██████████| 960/960 [00:39<00:00, 24.52it/s, loss=0.254]    \n",
      "Epoch 21/30 [Val]: 100%|██████████| 54/54 [00:03<00:00, 15.69it/s, loss=0.879]  \n"
     ]
    },
    {
     "name": "stdout",
     "output_type": "stream",
     "text": [
      "Epoch 21/30:\n",
      "  Train Loss: 0.1202\n",
      "  Val Loss: 0.3466, Val CER: 0.2808\n"
     ]
    },
    {
     "name": "stderr",
     "output_type": "stream",
     "text": [
      "Epoch 22/30 [Train]: 100%|██████████| 960/960 [00:39<00:00, 24.58it/s, loss=0.133]    \n",
      "Epoch 22/30 [Val]: 100%|██████████| 54/54 [00:03<00:00, 16.04it/s, loss=0.608]   \n"
     ]
    },
    {
     "name": "stdout",
     "output_type": "stream",
     "text": [
      "Epoch 22/30:\n",
      "  Train Loss: 0.1012\n",
      "  Val Loss: 0.2497, Val CER: 0.2550\n"
     ]
    },
    {
     "name": "stderr",
     "output_type": "stream",
     "text": [
      "Epoch 23/30 [Train]: 100%|██████████| 960/960 [00:39<00:00, 24.59it/s, loss=0.359]    \n",
      "Epoch 23/30 [Val]: 100%|██████████| 54/54 [00:03<00:00, 15.80it/s, loss=0.406]  \n"
     ]
    },
    {
     "name": "stdout",
     "output_type": "stream",
     "text": [
      "Epoch 23/30:\n",
      "  Train Loss: 0.0782\n",
      "  Val Loss: 0.2581, Val CER: 0.2572\n"
     ]
    },
    {
     "name": "stderr",
     "output_type": "stream",
     "text": [
      "Epoch 24/30 [Train]: 100%|██████████| 960/960 [00:39<00:00, 24.36it/s, loss=-0.136]   \n",
      "Epoch 24/30 [Val]: 100%|██████████| 54/54 [00:03<00:00, 15.60it/s, loss=0.449]  \n"
     ]
    },
    {
     "name": "stdout",
     "output_type": "stream",
     "text": [
      "Epoch 24/30:\n",
      "  Train Loss: 0.0619\n",
      "  Val Loss: 0.2746, Val CER: 0.2629\n"
     ]
    },
    {
     "name": "stderr",
     "output_type": "stream",
     "text": [
      "Epoch 25/30 [Train]: 100%|██████████| 960/960 [00:39<00:00, 24.40it/s, loss=0.081]   \n",
      "Epoch 25/30 [Val]: 100%|██████████| 54/54 [00:03<00:00, 15.69it/s, loss=0.693]  \n"
     ]
    },
    {
     "name": "stdout",
     "output_type": "stream",
     "text": [
      "Epoch 25/30:\n",
      "  Train Loss: 0.0449\n",
      "  Val Loss: 0.2557, Val CER: 0.2554\n"
     ]
    },
    {
     "name": "stderr",
     "output_type": "stream",
     "text": [
      "Epoch 26/30 [Train]: 100%|██████████| 960/960 [00:39<00:00, 24.53it/s, loss=-0.0978] \n",
      "Epoch 26/30 [Val]: 100%|██████████| 54/54 [00:03<00:00, 15.80it/s, loss=0.667]  \n"
     ]
    },
    {
     "name": "stdout",
     "output_type": "stream",
     "text": [
      "Epoch 26/30:\n",
      "  Train Loss: 0.0384\n",
      "  Val Loss: 0.2674, Val CER: 0.2576\n"
     ]
    },
    {
     "name": "stderr",
     "output_type": "stream",
     "text": [
      "Epoch 27/30 [Train]: 100%|██████████| 960/960 [00:39<00:00, 24.22it/s, loss=0.0916]   \n",
      "Epoch 27/30 [Val]: 100%|██████████| 54/54 [00:03<00:00, 15.78it/s, loss=0.615]  \n"
     ]
    },
    {
     "name": "stdout",
     "output_type": "stream",
     "text": [
      "Epoch 27/30:\n",
      "  Train Loss: 0.0305\n",
      "  Val Loss: 0.2688, Val CER: 0.2548\n"
     ]
    },
    {
     "name": "stderr",
     "output_type": "stream",
     "text": [
      "Epoch 28/30 [Train]: 100%|██████████| 960/960 [00:39<00:00, 24.51it/s, loss=0.374]    \n",
      "Epoch 28/30 [Val]: 100%|██████████| 54/54 [00:03<00:00, 16.04it/s, loss=0.752]  \n"
     ]
    },
    {
     "name": "stdout",
     "output_type": "stream",
     "text": [
      "Epoch 28/30:\n",
      "  Train Loss: 0.0283\n",
      "  Val Loss: 0.2880, Val CER: 0.2583\n"
     ]
    },
    {
     "name": "stderr",
     "output_type": "stream",
     "text": [
      "Epoch 29/30 [Train]: 100%|██████████| 960/960 [00:39<00:00, 24.36it/s, loss=0.269]    \n",
      "Epoch 29/30 [Val]: 100%|██████████| 54/54 [00:03<00:00, 15.98it/s, loss=0.629]  \n"
     ]
    },
    {
     "name": "stdout",
     "output_type": "stream",
     "text": [
      "Epoch 29/30:\n",
      "  Train Loss: 0.0242\n",
      "  Val Loss: 0.2791, Val CER: 0.2571\n"
     ]
    },
    {
     "name": "stderr",
     "output_type": "stream",
     "text": [
      "Epoch 30/30 [Train]: 100%|██████████| 960/960 [00:39<00:00, 24.30it/s, loss=0.0832]   \n",
      "Epoch 30/30 [Val]: 100%|██████████| 54/54 [00:03<00:00, 15.67it/s, loss=0.652]  \n"
     ]
    },
    {
     "name": "stdout",
     "output_type": "stream",
     "text": [
      "Epoch 30/30:\n",
      "  Train Loss: 0.0172\n",
      "  Val Loss: 0.2705, Val CER: 0.2553\n",
      "Testing with 16 channels...\n"
     ]
    },
    {
     "name": "stderr",
     "output_type": "stream",
     "text": [
      "Epoch 1/30 [Train]: 100%|██████████| 960/960 [00:39<00:00, 24.41it/s, loss=0.77] \n",
      "Epoch 1/30 [Val]: 100%|██████████| 54/54 [00:03<00:00, 15.46it/s, loss=1.48] \n"
     ]
    },
    {
     "name": "stdout",
     "output_type": "stream",
     "text": [
      "Epoch 1/30:\n",
      "  Train Loss: 2.0804\n",
      "  Val Loss: 1.0017, Val CER: 0.5231\n"
     ]
    },
    {
     "name": "stderr",
     "output_type": "stream",
     "text": [
      "Epoch 2/30 [Train]: 100%|██████████| 960/960 [00:39<00:00, 24.59it/s, loss=0.414]\n",
      "Epoch 2/30 [Val]: 100%|██████████| 54/54 [00:03<00:00, 15.80it/s, loss=1.39] \n"
     ]
    },
    {
     "name": "stdout",
     "output_type": "stream",
     "text": [
      "Epoch 2/30:\n",
      "  Train Loss: 0.9801\n",
      "  Val Loss: 0.8413, Val CER: 0.4494\n"
     ]
    },
    {
     "name": "stderr",
     "output_type": "stream",
     "text": [
      "Epoch 3/30 [Train]: 100%|██████████| 960/960 [00:38<00:00, 24.68it/s, loss=0.159]\n",
      "Epoch 3/30 [Val]: 100%|██████████| 54/54 [00:03<00:00, 16.04it/s, loss=0.946]   \n"
     ]
    },
    {
     "name": "stdout",
     "output_type": "stream",
     "text": [
      "Epoch 3/30:\n",
      "  Train Loss: 0.8709\n",
      "  Val Loss: 0.6850, Val CER: 0.3892\n"
     ]
    },
    {
     "name": "stderr",
     "output_type": "stream",
     "text": [
      "Epoch 4/30 [Train]: 100%|██████████| 960/960 [00:39<00:00, 24.36it/s, loss=0.857]  \n",
      "Epoch 4/30 [Val]: 100%|██████████| 54/54 [00:03<00:00, 16.02it/s, loss=0.553]  \n"
     ]
    },
    {
     "name": "stdout",
     "output_type": "stream",
     "text": [
      "Epoch 4/30:\n",
      "  Train Loss: 0.7001\n",
      "  Val Loss: 0.5376, Val CER: 0.3438\n"
     ]
    },
    {
     "name": "stderr",
     "output_type": "stream",
     "text": [
      "Epoch 5/30 [Train]: 100%|██████████| 960/960 [00:39<00:00, 24.07it/s, loss=0.708]  \n",
      "Epoch 5/30 [Val]: 100%|██████████| 54/54 [00:03<00:00, 15.40it/s, loss=1.71]  \n"
     ]
    },
    {
     "name": "stdout",
     "output_type": "stream",
     "text": [
      "Epoch 5/30:\n",
      "  Train Loss: 0.6161\n",
      "  Val Loss: 0.5905, Val CER: 0.3276\n"
     ]
    },
    {
     "name": "stderr",
     "output_type": "stream",
     "text": [
      "Epoch 6/30 [Train]: 100%|██████████| 960/960 [00:38<00:00, 24.64it/s, loss=0.566] \n",
      "Epoch 6/30 [Val]: 100%|██████████| 54/54 [00:03<00:00, 15.85it/s, loss=0.882]  \n"
     ]
    },
    {
     "name": "stdout",
     "output_type": "stream",
     "text": [
      "Epoch 6/30:\n",
      "  Train Loss: 0.5519\n",
      "  Val Loss: 0.4245, Val CER: 0.3216\n"
     ]
    },
    {
     "name": "stderr",
     "output_type": "stream",
     "text": [
      "Epoch 7/30 [Train]: 100%|██████████| 960/960 [00:39<00:00, 24.42it/s, loss=0.686]   \n",
      "Epoch 7/30 [Val]: 100%|██████████| 54/54 [00:03<00:00, 15.83it/s, loss=0.306] \n"
     ]
    },
    {
     "name": "stdout",
     "output_type": "stream",
     "text": [
      "Epoch 7/30:\n",
      "  Train Loss: 0.5245\n",
      "  Val Loss: 0.3681, Val CER: 0.3082\n"
     ]
    },
    {
     "name": "stderr",
     "output_type": "stream",
     "text": [
      "Epoch 8/30 [Train]: 100%|██████████| 960/960 [00:39<00:00, 24.31it/s, loss=0.438]   \n",
      "Epoch 8/30 [Val]: 100%|██████████| 54/54 [00:03<00:00, 15.74it/s, loss=0.405] \n"
     ]
    },
    {
     "name": "stdout",
     "output_type": "stream",
     "text": [
      "Epoch 8/30:\n",
      "  Train Loss: 0.4768\n",
      "  Val Loss: 0.3709, Val CER: 0.3065\n"
     ]
    },
    {
     "name": "stderr",
     "output_type": "stream",
     "text": [
      "Epoch 9/30 [Train]: 100%|██████████| 960/960 [00:39<00:00, 24.16it/s, loss=0.545]   \n",
      "Epoch 9/30 [Val]: 100%|██████████| 54/54 [00:03<00:00, 15.65it/s, loss=0.913] \n"
     ]
    },
    {
     "name": "stdout",
     "output_type": "stream",
     "text": [
      "Epoch 9/30:\n",
      "  Train Loss: 0.4254\n",
      "  Val Loss: 0.3261, Val CER: 0.2988\n"
     ]
    },
    {
     "name": "stderr",
     "output_type": "stream",
     "text": [
      "Epoch 10/30 [Train]: 100%|██████████| 960/960 [00:39<00:00, 24.48it/s, loss=0.403]   \n",
      "Epoch 10/30 [Val]: 100%|██████████| 54/54 [00:03<00:00, 15.63it/s, loss=0.966]    \n"
     ]
    },
    {
     "name": "stdout",
     "output_type": "stream",
     "text": [
      "Epoch 10/30:\n",
      "  Train Loss: 0.4099\n",
      "  Val Loss: 0.3145, Val CER: 0.2865\n"
     ]
    },
    {
     "name": "stderr",
     "output_type": "stream",
     "text": [
      "Epoch 11/30 [Train]: 100%|██████████| 960/960 [00:39<00:00, 24.44it/s, loss=0.508]    \n",
      "Epoch 11/30 [Val]: 100%|██████████| 54/54 [00:03<00:00, 15.63it/s, loss=0.933]  \n"
     ]
    },
    {
     "name": "stdout",
     "output_type": "stream",
     "text": [
      "Epoch 11/30:\n",
      "  Train Loss: 0.3788\n",
      "  Val Loss: 0.3086, Val CER: 0.2896\n"
     ]
    },
    {
     "name": "stderr",
     "output_type": "stream",
     "text": [
      "Epoch 12/30 [Train]: 100%|██████████| 960/960 [00:39<00:00, 24.52it/s, loss=0.459]   \n",
      "Epoch 12/30 [Val]: 100%|██████████| 54/54 [00:03<00:00, 15.80it/s, loss=0.709]  \n"
     ]
    },
    {
     "name": "stdout",
     "output_type": "stream",
     "text": [
      "Epoch 12/30:\n",
      "  Train Loss: 0.3586\n",
      "  Val Loss: 0.2901, Val CER: 0.2822\n"
     ]
    },
    {
     "name": "stderr",
     "output_type": "stream",
     "text": [
      "Epoch 13/30 [Train]: 100%|██████████| 960/960 [00:39<00:00, 24.31it/s, loss=0.618]   \n",
      "Epoch 13/30 [Val]: 100%|██████████| 54/54 [00:03<00:00, 15.73it/s, loss=0.929]  \n"
     ]
    },
    {
     "name": "stdout",
     "output_type": "stream",
     "text": [
      "Epoch 13/30:\n",
      "  Train Loss: 0.3252\n",
      "  Val Loss: 0.4687, Val CER: 0.3159\n"
     ]
    },
    {
     "name": "stderr",
     "output_type": "stream",
     "text": [
      "Epoch 14/30 [Train]: 100%|██████████| 960/960 [00:39<00:00, 24.49it/s, loss=0.271]   \n",
      "Epoch 14/30 [Val]: 100%|██████████| 54/54 [00:03<00:00, 15.52it/s, loss=0.906]  \n"
     ]
    },
    {
     "name": "stdout",
     "output_type": "stream",
     "text": [
      "Epoch 14/30:\n",
      "  Train Loss: 0.2960\n",
      "  Val Loss: 0.3416, Val CER: 0.2932\n"
     ]
    },
    {
     "name": "stderr",
     "output_type": "stream",
     "text": [
      "Epoch 15/30 [Train]: 100%|██████████| 960/960 [00:39<00:00, 24.26it/s, loss=0.21]    \n",
      "Epoch 15/30 [Val]: 100%|██████████| 54/54 [00:03<00:00, 15.71it/s, loss=1.15]   \n"
     ]
    },
    {
     "name": "stdout",
     "output_type": "stream",
     "text": [
      "Epoch 15/30:\n",
      "  Train Loss: 0.2642\n",
      "  Val Loss: 0.3055, Val CER: 0.2764\n"
     ]
    },
    {
     "name": "stderr",
     "output_type": "stream",
     "text": [
      "Epoch 16/30 [Train]: 100%|██████████| 960/960 [00:39<00:00, 24.26it/s, loss=0.205]   \n",
      "Epoch 16/30 [Val]: 100%|██████████| 54/54 [00:03<00:00, 15.61it/s, loss=0.826]  \n"
     ]
    },
    {
     "name": "stdout",
     "output_type": "stream",
     "text": [
      "Epoch 16/30:\n",
      "  Train Loss: 0.2387\n",
      "  Val Loss: 0.2439, Val CER: 0.2661\n"
     ]
    },
    {
     "name": "stderr",
     "output_type": "stream",
     "text": [
      "Epoch 17/30 [Train]: 100%|██████████| 960/960 [00:39<00:00, 24.21it/s, loss=0.0125]  \n",
      "Epoch 17/30 [Val]: 100%|██████████| 54/54 [00:03<00:00, 15.41it/s, loss=0.972]  \n"
     ]
    },
    {
     "name": "stdout",
     "output_type": "stream",
     "text": [
      "Epoch 17/30:\n",
      "  Train Loss: 0.2069\n",
      "  Val Loss: 0.3345, Val CER: 0.2858\n"
     ]
    },
    {
     "name": "stderr",
     "output_type": "stream",
     "text": [
      "Epoch 18/30 [Train]: 100%|██████████| 960/960 [00:39<00:00, 24.24it/s, loss=0.0061]   \n",
      "Epoch 18/30 [Val]: 100%|██████████| 54/54 [00:03<00:00, 15.50it/s, loss=0.819]   \n"
     ]
    },
    {
     "name": "stdout",
     "output_type": "stream",
     "text": [
      "Epoch 18/30:\n",
      "  Train Loss: 0.1841\n",
      "  Val Loss: 0.2216, Val CER: 0.2602\n"
     ]
    },
    {
     "name": "stderr",
     "output_type": "stream",
     "text": [
      "Epoch 19/30 [Train]: 100%|██████████| 960/960 [00:39<00:00, 24.20it/s, loss=0.21]    \n",
      "Epoch 19/30 [Val]: 100%|██████████| 54/54 [00:03<00:00, 15.57it/s, loss=0.876]  \n"
     ]
    },
    {
     "name": "stdout",
     "output_type": "stream",
     "text": [
      "Epoch 19/30:\n",
      "  Train Loss: 0.1560\n",
      "  Val Loss: 0.2638, Val CER: 0.2646\n"
     ]
    },
    {
     "name": "stderr",
     "output_type": "stream",
     "text": [
      "Epoch 20/30 [Train]: 100%|██████████| 960/960 [00:39<00:00, 24.22it/s, loss=0.218]    \n",
      "Epoch 20/30 [Val]: 100%|██████████| 54/54 [00:03<00:00, 15.60it/s, loss=0.936]  \n"
     ]
    },
    {
     "name": "stdout",
     "output_type": "stream",
     "text": [
      "Epoch 20/30:\n",
      "  Train Loss: 0.1296\n",
      "  Val Loss: 0.2459, Val CER: 0.2637\n"
     ]
    },
    {
     "name": "stderr",
     "output_type": "stream",
     "text": [
      "Epoch 21/30 [Train]: 100%|██████████| 960/960 [00:39<00:00, 24.17it/s, loss=0.251]   \n",
      "Epoch 21/30 [Val]: 100%|██████████| 54/54 [00:03<00:00, 15.62it/s, loss=0.591]   \n"
     ]
    },
    {
     "name": "stdout",
     "output_type": "stream",
     "text": [
      "Epoch 21/30:\n",
      "  Train Loss: 0.1076\n",
      "  Val Loss: 0.2393, Val CER: 0.2604\n"
     ]
    },
    {
     "name": "stderr",
     "output_type": "stream",
     "text": [
      "Epoch 22/30 [Train]: 100%|██████████| 960/960 [00:39<00:00, 24.25it/s, loss=0.0622]   \n",
      "Epoch 22/30 [Val]: 100%|██████████| 54/54 [00:03<00:00, 16.17it/s, loss=0.561]  \n"
     ]
    },
    {
     "name": "stdout",
     "output_type": "stream",
     "text": [
      "Epoch 22/30:\n",
      "  Train Loss: 0.0814\n",
      "  Val Loss: 0.2202, Val CER: 0.2487\n"
     ]
    },
    {
     "name": "stderr",
     "output_type": "stream",
     "text": [
      "Epoch 23/30 [Train]: 100%|██████████| 960/960 [00:39<00:00, 24.34it/s, loss=-0.0777]  \n",
      "Epoch 23/30 [Val]: 100%|██████████| 54/54 [00:03<00:00, 15.65it/s, loss=0.512]  \n"
     ]
    },
    {
     "name": "stdout",
     "output_type": "stream",
     "text": [
      "Epoch 23/30:\n",
      "  Train Loss: 0.0572\n",
      "  Val Loss: 0.2341, Val CER: 0.2579\n"
     ]
    },
    {
     "name": "stderr",
     "output_type": "stream",
     "text": [
      "Epoch 24/30 [Train]: 100%|██████████| 960/960 [00:39<00:00, 24.43it/s, loss=0.229]    \n",
      "Epoch 24/30 [Val]: 100%|██████████| 54/54 [00:03<00:00, 15.59it/s, loss=0.641]  \n"
     ]
    },
    {
     "name": "stdout",
     "output_type": "stream",
     "text": [
      "Epoch 24/30:\n",
      "  Train Loss: 0.0472\n",
      "  Val Loss: 0.2605, Val CER: 0.2679\n"
     ]
    },
    {
     "name": "stderr",
     "output_type": "stream",
     "text": [
      "Epoch 25/30 [Train]: 100%|██████████| 960/960 [00:39<00:00, 24.38it/s, loss=0.21]     \n",
      "Epoch 25/30 [Val]: 100%|██████████| 54/54 [00:03<00:00, 15.91it/s, loss=0.628]  \n"
     ]
    },
    {
     "name": "stdout",
     "output_type": "stream",
     "text": [
      "Epoch 25/30:\n",
      "  Train Loss: 0.0345\n",
      "  Val Loss: 0.3023, Val CER: 0.2664\n"
     ]
    },
    {
     "name": "stderr",
     "output_type": "stream",
     "text": [
      "Epoch 26/30 [Train]: 100%|██████████| 960/960 [00:39<00:00, 24.54it/s, loss=-0.172]   \n",
      "Epoch 26/30 [Val]: 100%|██████████| 54/54 [00:03<00:00, 15.65it/s, loss=0.667]  \n"
     ]
    },
    {
     "name": "stdout",
     "output_type": "stream",
     "text": [
      "Epoch 26/30:\n",
      "  Train Loss: 0.0211\n",
      "  Val Loss: 0.2624, Val CER: 0.2530\n"
     ]
    },
    {
     "name": "stderr",
     "output_type": "stream",
     "text": [
      "Epoch 27/30 [Train]: 100%|██████████| 960/960 [00:39<00:00, 24.56it/s, loss=-0.107]   \n",
      "Epoch 27/30 [Val]: 100%|██████████| 54/54 [00:03<00:00, 15.48it/s, loss=0.706]  \n"
     ]
    },
    {
     "name": "stdout",
     "output_type": "stream",
     "text": [
      "Epoch 27/30:\n",
      "  Train Loss: 0.0148\n",
      "  Val Loss: 0.2977, Val CER: 0.2656\n"
     ]
    },
    {
     "name": "stderr",
     "output_type": "stream",
     "text": [
      "Epoch 28/30 [Train]: 100%|██████████| 960/960 [00:39<00:00, 24.56it/s, loss=-0.349]   \n",
      "Epoch 28/30 [Val]: 100%|██████████| 54/54 [00:03<00:00, 15.88it/s, loss=0.646]  \n"
     ]
    },
    {
     "name": "stdout",
     "output_type": "stream",
     "text": [
      "Epoch 28/30:\n",
      "  Train Loss: 0.0102\n",
      "  Val Loss: 0.2686, Val CER: 0.2597\n"
     ]
    },
    {
     "name": "stderr",
     "output_type": "stream",
     "text": [
      "Epoch 29/30 [Train]: 100%|██████████| 960/960 [00:39<00:00, 24.31it/s, loss=-0.152]   \n",
      "Epoch 29/30 [Val]: 100%|██████████| 54/54 [00:03<00:00, 15.67it/s, loss=0.584]  \n"
     ]
    },
    {
     "name": "stdout",
     "output_type": "stream",
     "text": [
      "Epoch 29/30:\n",
      "  Train Loss: 0.0050\n",
      "  Val Loss: 0.2605, Val CER: 0.2549\n"
     ]
    },
    {
     "name": "stderr",
     "output_type": "stream",
     "text": [
      "Epoch 30/30 [Train]: 100%|██████████| 960/960 [00:39<00:00, 24.41it/s, loss=-0.034]   \n",
      "Epoch 30/30 [Val]: 100%|██████████| 54/54 [00:03<00:00, 15.96it/s, loss=0.656]   \n"
     ]
    },
    {
     "name": "stdout",
     "output_type": "stream",
     "text": [
      "Epoch 30/30:\n",
      "  Train Loss: 0.0041\n",
      "  Val Loss: 0.2752, Val CER: 0.2606\n"
     ]
    },
    {
     "data": {
      "image/png": "[encoded data removed]",
      "text/plain": [
       "<Figure size 1000x600 with 1 Axes>"
      ]
     },
     "metadata": {},
     "output_type": "display_data"
    },
    {
     "name": "stdout",
     "output_type": "stream",
     "text": [
      "Final CER for different channel counts:\n",
      "2 channels: 0.4275\n",
      "4 channels: 0.2874\n",
      "8 channels: 0.2769\n",
      "12 channels: 0.2553\n",
      "16 channels: 0.2606\n"
     ]
    }
   ],
   "source": [
    "# Run channel count experiments\n",
    "channel_counts = [2, 4, 8, 12, 16]  # Test different channel counts\n",
    "channel_results = test_channel_counts(\n",
    "    train_loader=train_loader,\n",
    "    val_loader=val_loader,\n",
    "    device=device,\n",
    "    channel_counts=channel_counts,\n",
    "    epochs=30  # Use fewer epochs per experiment to save time\n",
    ")\n",
    "\n",
    "# Plot results\n",
    "plt.figure(figsize=(10, 6))\n",
    "for num_channels, result in channel_results.items():\n",
    "    plt.plot(result['val_cer'], label=f'{num_channels} channels')\n",
    "plt.xlabel('Epoch')\n",
    "plt.ylabel('Character Error Rate (CER)')\n",
    "plt.title('Effect of Channel Count on CER')\n",
    "plt.legend()\n",
    "plt.grid(True)\n",
    "plt.savefig('channel_count_cer.png')\n",
    "plt.show()\n",
    "\n",
    "# Print final CERs\n",
    "print(\"Final CER for different channel counts:\")\n",
    "for num_channels, result in channel_results.items():\n",
    "    print(f\"{num_channels} channels: {result['final_cer']:.4f}\")"
   ]
  },
  {
   "cell_type": "code",
   "execution_count": null,
   "metadata": {},
   "outputs": [],
   "source": [
    "# Set device\n",
    "device = torch.device('cuda' if torch.cuda.is_available() else 'cpu')\n",
    "print(f\"Using device: {device}\")\n",
    "\n",
    "# Initialize the EMGConformer model with better parameters\n",
    "model = EMGConformer(\n",
    "    num_classes=99,\n",
    "    d_model=256,        # Increased from 128 for better representation\n",
    "    nhead=8,            # Increased from 4 for more attention heads\n",
    "    num_layers=4,       # Increased from 2 for deeper model\n",
    "    dropout=0.3         # Reduced from 0.5 to prevent overfitting\n",
    ")\n",
    "\n",
    "# Print model architecture and parameter count\n",
    "print(model)\n",
    "total_params = sum(p.numel() for p in model.parameters())\n",
    "print(f\"Total parameters: {total_params:,}\")\n",
    "\n",
    "# Move the model to the device\n",
    "model = model.to(device)\n",
    "\n",
    "# Test with a small batch\n",
    "try:\n",
    "    print(\"Testing model with a small batch...\")\n",
    "    # Get a small batch\n",
    "    test_batch = next(iter(train_loader))\n",
    "    test_inputs = test_batch['inputs'].to(device)\n",
    "    test_lengths = test_batch['input_lengths'].to(device)\n",
    "    \n",
    "    # Test forward pass\n",
    "    with torch.no_grad():\n",
    "        outputs = model(test_inputs, test_lengths)\n",
    "    \n",
    "    print(f\"Forward pass successful! Output shape: {outputs.shape}\")\n",
    "    \n",
    "    # Now try the training\n",
    "    print(\"Starting training...\")\n",
    "    history = train_model(\n",
    "        model=model,\n",
    "        train_loader=train_loader,\n",
    "        val_loader=val_loader,\n",
    "        device=device,\n",
    "        epochs=100,      # Train for more epochs\n",
    "        lr=0.001,        # Better learning rate\n",
    "        weight_decay=1e-4  # Slightly reduced weight decay\n",
    "    )\n",
    "except Exception as e:\n",
    "    print(f\"Error encountered: {type(e).__name__}: {e}\")\n",
    "    \n",
    "    # Try with small batch only for debugging\n",
    "    if 'small_train_loader' in globals() and 'small_val_loader' in globals():\n",
    "        print(\"Trying with small data loaders for debugging...\")\n",
    "        try:\n",
    "            history = train_model(\n",
    "                model=model,\n",
    "                train_loader=small_train_loader,\n",
    "                val_loader=small_val_loader,\n",
    "                device=device,\n",
    "                epochs=2,  # Just a few epochs\n",
    "                lr=0.001,\n",
    "                weight_decay=1e-4\n",
    "            )\n",
    "        except Exception as e2:\n",
    "            print(f\"Error with small data loaders: {type(e2).__name__}: {e2}\")"
   ]
  },
  {
   "cell_type": "code",
   "execution_count": null,
   "metadata": {},
   "outputs": [],
   "source": [
    "all_predictions_lst = history['all_predictions']\n",
    "all_targets_lst = history['all_targets']\n",
    "\n",
    "# Make sure this epoch exists in your history\n",
    "epoch_id = min(60-1, len(all_predictions_lst)-1)  # Get the last epoch by default\n",
    "print(f\"Using results from epoch {epoch_id}\")\n",
    "\n",
    "# Output how many epochs of predictions we have\n",
    "print(f\"Number of epochs with predictions: {len(all_predictions_lst)}\")\n",
    "\n",
    "# Make sure we have predictions for this epoch\n",
    "if epoch_id < len(all_predictions_lst) and all_predictions_lst[epoch_id]:\n",
    "    # Get number of samples and choose one that exists\n",
    "    num_samples = len(all_predictions_lst[epoch_id])\n",
    "    it = min(12, num_samples-1)  # Default to sample 12 or the last one if fewer\n",
    "    \n",
    "    print(f\"Number of samples in epoch {epoch_id}: {num_samples}\")\n",
    "    print(f\"Sample {it} prediction: {all_predictions_lst[epoch_id][it]}\")\n",
    "    pred = all_predictions_lst[epoch_id][it]\n",
    "    \n",
    "    print(f\"Number of targets in epoch {epoch_id}: {len(all_targets_lst[epoch_id])}\")\n",
    "    print(f\"Sample {it} target: {all_targets_lst[epoch_id][it]}\")\n",
    "    target = all_targets_lst[epoch_id][it]\n",
    "    \n",
    "    # Convert indices to characters\n",
    "    char_set = charset()\n",
    "    \n",
    "    # Filter out null class tokens and duplicates from predictions\n",
    "    filtered_pred = []\n",
    "    prev = None\n",
    "    for p in pred:\n",
    "        if p != char_set.null_class and p != prev:\n",
    "            filtered_pred.append(p)\n",
    "        prev = p\n",
    "    \n",
    "    pred_chars = char_set.labels_to_str(filtered_pred)\n",
    "    target_chars = char_set.labels_to_str(target)\n",
    "    print(f'prediction: {pred_chars}')\n",
    "    print(f'target    : {target_chars}')\n",
    "    \n",
    "    # Show additional examples\n",
    "    print(\"\\nAdditional examples:\")\n",
    "    for i in range(5):\n",
    "        sample_idx = min(i, num_samples-1)\n",
    "        pred = all_predictions_lst[epoch_id][sample_idx]\n",
    "        target = all_targets_lst[epoch_id][sample_idx]\n",
    "        \n",
    "        # Filter out null class tokens and duplicates\n",
    "        filtered_pred = []\n",
    "        prev = None\n",
    "        for p in pred:\n",
    "            if p != char_set.null_class and p != prev:\n",
    "                filtered_pred.append(p)\n",
    "            prev = p\n",
    "            \n",
    "        pred_chars = char_set.labels_to_str(filtered_pred)\n",
    "        target_chars = char_set.labels_to_str(target)\n",
    "        print(f'Example {i+1}:')\n",
    "        print(f'  prediction: {pred_chars}')\n",
    "        print(f'  target    : {target_chars}')\n",
    "else:\n",
    "    print(f\"No predictions available for epoch {epoch_id}\")"
   ]
  }
 ],
 "metadata": {
  "kernelspec": {
   "display_name": "Python 3",
   "language": "python",
   "name": "python3"
  },
  "language_info": {
   "codemirror_mode": {
    "name": "ipython",
    "version": 3
   },
   "file_extension": ".py",
   "mimetype": "text/x-python",
   "name": "python",
   "nbconvert_exporter": "python",
   "pygments_lexer": "ipython3",
   "version": "3.11.9"
  }
 },
 "nbformat": 4,
 "nbformat_minor": 2
}
