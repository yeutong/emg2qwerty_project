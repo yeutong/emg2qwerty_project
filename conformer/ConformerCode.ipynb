{
 "cells": [
  {
   "cell_type": "code",
   "execution_count": 1,
   "metadata": {},
   "outputs": [],
   "source": [
    "%load_ext autoreload\n",
    "%autoreload 2"
   ]
  },
  {
   "cell_type": "code",
   "execution_count": 2,
   "metadata": {},
   "outputs": [
    {
     "name": "stdout",
     "output_type": "stream",
     "text": [
      "Requirement already satisfied: unidecode in c:\\users\\aisha\\appdata\\local\\packages\\pythonsoftwarefoundation.python.3.11_qbz5n2kfra8p0\\localcache\\local-packages\\python311\\site-packages (1.3.8)\n"
     ]
    },
    {
     "name": "stderr",
     "output_type": "stream",
     "text": [
      "\n",
      "[notice] A new release of pip is available: 24.0 -> 25.0.1\n",
      "[notice] To update, run: C:\\Users\\aisha\\AppData\\Local\\Microsoft\\WindowsApps\\PythonSoftwareFoundation.Python.3.11_qbz5n2kfra8p0\\python.exe -m pip install --upgrade pip\n"
     ]
    }
   ],
   "source": [
    "!pip install unidecode\n",
    "# !pip install -r requirements.txt"
   ]
  },
  {
   "cell_type": "code",
   "execution_count": 3,
   "metadata": {},
   "outputs": [
    {
     "name": "stdout",
     "output_type": "stream",
     "text": [
      "Created train_loader with 30713 windows\n",
      "Created val_loader with 1698 windows\n",
      "Created test_loader with 2251 windows\n"
     ]
    }
   ],
   "source": [
    "import yaml\n",
    "from pathlib import Path\n",
    "import torch\n",
    "from torch.utils.data import DataLoader, ConcatDataset, Subset\n",
    "from emg2qwerty.data import WindowedEMGDataset\n",
    "from emg2qwerty.transforms import Compose, ToTensor, LogSpectrogram, SpecAugment, RandomBandRotation, TemporalAlignmentJitter\n",
    "\n",
    "\n",
    "batch_size = 32\n",
    "num_workers = 2\n",
    "\n",
    "# 1. Load the configuration file\n",
    "config_path = Path(\"config/user/single_user.yaml\")\n",
    "with open(config_path, 'r') as f:\n",
    "    first_line = f.readline()\n",
    "    if first_line.startswith('# @package'):\n",
    "        cfg = yaml.safe_load(f)\n",
    "    else:\n",
    "        f.seek(0)\n",
    "        cfg = yaml.safe_load(f)\n",
    "\n",
    "# 2. Set the data root path\n",
    "data_root = Path(\"data\")\n",
    "\n",
    "# 3. Create transforms\n",
    "# Training transforms with augmentation\n",
    "train_transform = Compose([\n",
    "    ToTensor(),\n",
    "    LogSpectrogram(),\n",
    "    SpecAugment(),\n",
    "    RandomBandRotation()\n",
    "])\n",
    "\n",
    "# Validation/test transforms without augmentation\n",
    "eval_transform = Compose([\n",
    "    ToTensor(),\n",
    "    LogSpectrogram()\n",
    "])\n",
    "\n",
    "# 4. Create datasets\n",
    "train_datasets = []\n",
    "for session_info in cfg['dataset']['train']:\n",
    "    session_id = session_info['session']\n",
    "    file_path = data_root / f\"{session_id}.hdf5\"\n",
    "\n",
    "    dataset = WindowedEMGDataset(\n",
    "        hdf5_path=file_path,\n",
    "        window_length=2000,  # 1 second at 2kHz\n",
    "        stride=1000,         # 50% overlap\n",
    "        padding=(200, 200),  # 100ms context on each side\n",
    "        jitter=True,         # Apply jitter for training\n",
    "        transform=train_transform\n",
    "    )\n",
    "    train_datasets.append(dataset)\n",
    "\n",
    "val_datasets = []\n",
    "for session_info in cfg['dataset']['val']:\n",
    "    session_id = session_info['session']\n",
    "    file_path = data_root / f\"{session_id}.hdf5\"\n",
    "\n",
    "    dataset = WindowedEMGDataset(\n",
    "        hdf5_path=file_path,\n",
    "        window_length=2000,\n",
    "        stride=1000,\n",
    "        padding=(200, 200),\n",
    "        jitter=False,  # No jitter for validation\n",
    "        transform=eval_transform\n",
    "    )\n",
    "    val_datasets.append(dataset)\n",
    "\n",
    "test_datasets = []\n",
    "for session_info in cfg['dataset']['test']:\n",
    "    session_id = session_info['session']\n",
    "    file_path = data_root / f\"{session_id}.hdf5\"\n",
    "\n",
    "    dataset = WindowedEMGDataset(\n",
    "        hdf5_path=file_path,\n",
    "        window_length=2000,\n",
    "        stride=1000,\n",
    "        padding=(200, 200),\n",
    "        jitter=False,  # No jitter for testing\n",
    "        transform=eval_transform\n",
    "    )\n",
    "    test_datasets.append(dataset)\n",
    "\n",
    "# 5. Combine datasets and create DataLoaders\n",
    "train_dataset = ConcatDataset(train_datasets)\n",
    "val_dataset = ConcatDataset(val_datasets)\n",
    "test_dataset = ConcatDataset(test_datasets)\n",
    "\n",
    "train_loader = DataLoader(\n",
    "    train_dataset,\n",
    "    batch_size=batch_size,\n",
    "    shuffle=True,\n",
    "    collate_fn=WindowedEMGDataset.collate,\n",
    "    num_workers=num_workers\n",
    ")\n",
    "\n",
    "\n",
    "val_loader = DataLoader(\n",
    "    val_dataset,\n",
    "    batch_size=batch_size,\n",
    "    shuffle=False,  # No shuffle for validation\n",
    "    collate_fn=WindowedEMGDataset.collate,\n",
    "    num_workers=num_workers\n",
    ")\n",
    "\n",
    "test_loader = DataLoader(\n",
    "    test_dataset,\n",
    "    batch_size=batch_size,\n",
    "    shuffle=False,  # No shuffle for testing\n",
    "    collate_fn=WindowedEMGDataset.collate,\n",
    "    num_workers=num_workers\n",
    ")\n",
    "\n",
    "# for debugging\n",
    "small_train_loader = DataLoader(\n",
    "    Subset(train_dataset, list(range(100))),\n",
    "    batch_size=batch_size,\n",
    "    shuffle=True,\n",
    "    collate_fn=WindowedEMGDataset.collate,\n",
    "    num_workers=num_workers\n",
    ")\n",
    "\n",
    "small_val_loader = DataLoader(\n",
    "    Subset(val_dataset, list(range(100))),\n",
    "    batch_size=batch_size,\n",
    "    shuffle=False,  # No shuffle for validation\n",
    "    collate_fn=WindowedEMGDataset.collate,\n",
    "    num_workers=num_workers\n",
    ")\n",
    "\n",
    "print(f\"Created train_loader with {len(train_dataset)} windows\")\n",
    "print(f\"Created val_loader with {len(val_dataset)} windows\")\n",
    "print(f\"Created test_loader with {len(test_dataset)} windows\")\n"
   ]
  },
  {
   "cell_type": "code",
   "execution_count": 4,
   "metadata": {},
   "outputs": [
    {
     "name": "stdout",
     "output_type": "stream",
     "text": [
      "        user                                            session  \\\n",
      "0   89335547  2021-06-03-1622765527-keystrokes-dca-study@1-0...   \n",
      "1   89335547  2021-06-02-1622681518-keystrokes-dca-study@1-0...   \n",
      "2   89335547  2021-06-04-1622863166-keystrokes-dca-study@1-0...   \n",
      "3   89335547  2021-07-22-1627003020-keystrokes-dca-study@1-0...   \n",
      "4   89335547  2021-07-21-1626916256-keystrokes-dca-study@1-0...   \n",
      "5   89335547  2021-07-22-1627004019-keystrokes-dca-study@1-0...   \n",
      "6   89335547  2021-06-05-1622885888-keystrokes-dca-study@1-0...   \n",
      "7   89335547  2021-06-02-1622679967-keystrokes-dca-study@1-0...   \n",
      "8   89335547  2021-06-03-1622764398-keystrokes-dca-study@1-0...   \n",
      "9   89335547  2021-07-21-1626917264-keystrokes-dca-study@1-0...   \n",
      "10  89335547  2021-06-05-1622889105-keystrokes-dca-study@1-0...   \n",
      "11  89335547  2021-06-03-1622766673-keystrokes-dca-study@1-0...   \n",
      "12  89335547  2021-06-04-1622861066-keystrokes-dca-study@1-0...   \n",
      "13  89335547  2021-07-22-1627001995-keystrokes-dca-study@1-0...   \n",
      "14  89335547  2021-06-05-1622884635-keystrokes-dca-study@1-0...   \n",
      "15  89335547  2021-07-21-1626915176-keystrokes-dca-study@1-0...   \n",
      "16  89335547  2021-06-04-1622862148-keystrokes-dca-study@1-0...   \n",
      "17  89335547  2021-06-02-1622682789-keystrokes-dca-study@1-0...   \n",
      "\n",
      "    duration_mins  duration_hours  num_keystrokes  num_prompts  split  \n",
      "0       16.055175        0.267586            4667          154  train  \n",
      "1       18.069472        0.301158            4591          154  train  \n",
      "2       14.921639        0.248694            4695          154  train  \n",
      "3       15.145979        0.252433            4438          154  train  \n",
      "4       15.131067        0.252184            4504          154  train  \n",
      "5       14.922270        0.248705            4432          154  train  \n",
      "6       17.357376        0.289290            4636          154  train  \n",
      "7       19.807583        0.330126            4690          154  train  \n",
      "8       15.610410        0.260173            4532          154  train  \n",
      "9       14.662873        0.244381            4450          154  train  \n",
      "10      16.961649        0.282694            4558          154  train  \n",
      "11      15.617070        0.260285            4480          154  train  \n",
      "12      14.928824        0.248814            4569          154  train  \n",
      "13      14.546556        0.242443            4383          154  train  \n",
      "14      17.746499        0.295775            4647          154  train  \n",
      "15      14.518713        0.241979            4375          154  train  \n",
      "16      14.165903        0.236098            4524          153    val  \n",
      "17      18.768094        0.312802            4627          154   test  \n",
      "Overall statistics:\n",
      "Number of sessions: 18\n",
      "Total duration (hours): 4.82\n",
      "Total keystrokes: 81798\n",
      "Total prompts: 2771\n",
      "\n",
      "Statistics by split:\n",
      "       count  duration_hours  num_keystrokes  num_prompts\n",
      "split                                                    \n",
      "test       1        0.312802            4627          154\n",
      "train     16        4.266719           72647         2464\n",
      "val        1        0.236098            4524          153\n",
      "\n",
      "Train set statistics:\n",
      "Number of sessions: 16\n",
      "Total duration (hours): 4.27\n",
      "Total keystrokes: 72647\n",
      "Total prompts: 2464\n",
      "\n",
      "Val set statistics:\n",
      "Number of sessions: 1\n",
      "Total duration (hours): 0.24\n",
      "Total keystrokes: 4524\n",
      "Total prompts: 153\n",
      "\n",
      "Test set statistics:\n",
      "Number of sessions: 1\n",
      "Total duration (hours): 0.31\n",
      "Total keystrokes: 4627\n",
      "Total prompts: 154\n"
     ]
    }
   ],
   "source": [
    "import pandas as pd\n",
    "import h5py\n",
    "from pathlib import Path\n",
    "import yaml\n",
    "import json\n",
    "\n",
    "# Load the configuration file\n",
    "config_path = Path(\"C:/Users/aisha/OneDrive/Documents/cs247_project/config/user/single_user.yaml\")\n",
    "with open(config_path, 'r') as f:\n",
    "    # Skip the first line which contains \"# @package _global_\"\n",
    "    first_line = f.readline()\n",
    "    if first_line.startswith('# @package'):\n",
    "        cfg = yaml.safe_load(f)\n",
    "    else:\n",
    "        # If the first line doesn't have the package declaration, reset to beginning of file\n",
    "        f.seek(0)\n",
    "        cfg = yaml.safe_load(f)\n",
    "\n",
    "# Set the data root path (adjust this to your actual data location)\n",
    "data_root = Path(\"C:/Users/aisha/OneDrive/Documents/cs247_project/data\")  # Update this to your actual data path\n",
    "\n",
    "# Function to extract metadata from a session file\n",
    "def extract_session_metadata(file_path):\n",
    "    try:\n",
    "        with h5py.File(file_path, 'r') as f:\n",
    "            emg2qwerty_group = f['emg2qwerty']\n",
    "\n",
    "            # Get metadata attributes\n",
    "            metadata = {}\n",
    "            for key, val in emg2qwerty_group.attrs.items():\n",
    "                if key in ['keystrokes', 'prompts']:\n",
    "                    try:\n",
    "                        metadata[key] = json.loads(val)\n",
    "                    except json.JSONDecodeError:\n",
    "                        # Fall back to yaml if json fails\n",
    "                        metadata[key] = yaml.safe_load(val)\n",
    "                else:\n",
    "                    metadata[key] = val\n",
    "\n",
    "            # Calculate basic statistics\n",
    "            session_stats = {\n",
    "                'user': metadata.get('user', 'unknown'),\n",
    "                'session': metadata.get('session_name', 'unknown'),\n",
    "                'duration_mins': metadata.get('duration_mins', 0),\n",
    "                'duration_hours': metadata.get('duration_mins', 0) / 60.0,\n",
    "                'num_keystrokes': len(metadata.get('keystrokes', [])),\n",
    "                'num_prompts': len(metadata.get('prompts', [])),\n",
    "                'split': 'unknown'  # Will be set later\n",
    "            }\n",
    "\n",
    "            return session_stats\n",
    "    except Exception as e:\n",
    "        print(f\"Error processing {file_path}: {str(e)}\")\n",
    "        return None\n",
    "\n",
    "# Collect all sessions from config\n",
    "all_sessions = []\n",
    "splits = ['train', 'val', 'test']\n",
    "\n",
    "for split in splits:\n",
    "    if split in cfg['dataset']:\n",
    "        for session_info in cfg['dataset'][split]:\n",
    "            session_info_dict = {\n",
    "                'user': session_info['user'],\n",
    "                'session': session_info['session'],\n",
    "                'split': split\n",
    "            }\n",
    "            all_sessions.append(session_info_dict)\n",
    "\n",
    "# Process each session to get metadata\n",
    "session_stats = []\n",
    "\n",
    "for session_info in all_sessions:\n",
    "    user_id = session_info['user']\n",
    "    session_id = session_info['session']\n",
    "    split = session_info['split']\n",
    "    file_path = data_root / f\"{session_id}.hdf5\"\n",
    "\n",
    "    if file_path.exists():\n",
    "        stats = extract_session_metadata(file_path)\n",
    "        if stats:\n",
    "            stats['split'] = split  # Add which split this session belongs to\n",
    "            session_stats.append(stats)\n",
    "    else:\n",
    "        print(f\"Warning: File not found: {file_path}\")\n",
    "\n",
    "# Create a DataFrame from the collected statistics\n",
    "df = pd.DataFrame(session_stats)\n",
    "print(df)\n",
    "\n",
    "# Calculate aggregated statistics per split\n",
    "split_stats = df.groupby('split').agg({\n",
    "    'session': 'count',\n",
    "    'duration_hours': 'sum',\n",
    "    'num_keystrokes': 'sum',\n",
    "    'num_prompts': 'sum'\n",
    "}).rename(columns={'session': 'count'})\n",
    "\n",
    "# Calculate overall statistics\n",
    "num_sessions = len(df)\n",
    "total_duration_hours = df[\"duration_hours\"].sum()\n",
    "total_keystrokes = df[\"num_keystrokes\"].sum()\n",
    "total_prompts = df[\"num_prompts\"].sum()\n",
    "\n",
    "# Print the results\n",
    "print(\"Overall statistics:\")\n",
    "print(f\"Number of sessions: {num_sessions}\")\n",
    "print(f\"Total duration (hours): {total_duration_hours:.2f}\")\n",
    "print(f\"Total keystrokes: {total_keystrokes}\")\n",
    "print(f\"Total prompts: {total_prompts}\")\n",
    "\n",
    "print(\"\\nStatistics by split:\")\n",
    "print(split_stats)\n",
    "\n",
    "# Also print individual statistics for train, val, and test sets\n",
    "for split in splits:\n",
    "    if split in df['split'].values:\n",
    "        split_df = df[df['split'] == split]\n",
    "        print(f\"\\n{split.capitalize()} set statistics:\")\n",
    "        print(f\"Number of sessions: {len(split_df)}\")\n",
    "        print(f\"Total duration (hours): {split_df['duration_hours'].sum():.2f}\")\n",
    "        print(f\"Total keystrokes: {split_df['num_keystrokes'].sum()}\")\n",
    "        print(f\"Total prompts: {split_df['num_prompts'].sum()}\")\n",
    "\n",
    "# Save to CSV files\n",
    "df.to_csv(\"all_session_metadata.csv\", index=False)\n",
    "split_stats.to_csv(\"split_statistics.csv\")\n"
   ]
  },
  {
   "cell_type": "code",
   "execution_count": 5,
   "metadata": {},
   "outputs": [],
   "source": [
    "import torch\n",
    "import torch.nn as nn\n",
    "import torch.nn.functional as F\n",
    "import torch.optim as optim\n",
    "import math\n",
    "import numpy as np\n",
    "from tqdm import tqdm\n",
    "from pathlib import Path\n",
    "import matplotlib.pyplot as plt\n",
    "from emg2qwerty.charset import charset"
   ]
  },
  {
   "cell_type": "code",
   "execution_count": 7,
   "metadata": {},
   "outputs": [],
   "source": [
    "class PositionalEncoding(nn.Module):\n",
    "    def __init__(self, d_model, max_len=5000):\n",
    "        super().__init__()\n",
    "        # Create position encodings\n",
    "        pe = torch.zeros(max_len, d_model)\n",
    "        position = torch.arange(0, max_len, dtype=torch.float).unsqueeze(1)\n",
    "        div_term = torch.exp(torch.arange(0, d_model, 2).float() * (-math.log(10000.0) / d_model))\n",
    "        pe[:, 0::2] = torch.sin(position * div_term)\n",
    "        pe[:, 1::2] = torch.cos(position * div_term)\n",
    "        pe = pe.unsqueeze(0).transpose(0, 1)\n",
    "        self.register_buffer('pe', pe)\n",
    "\n",
    "    def forward(self, x):\n",
    "        # x is [seq_len, batch, features]\n",
    "        return x + self.pe[:x.size(0), :]"
   ]
  },
  {
   "cell_type": "code",
   "execution_count": 8,
   "metadata": {},
   "outputs": [],
   "source": [
    "class ConvModule(nn.Module):\n",
    "    def __init__(self, d_model, kernel_size=15, expansion_factor=2, dropout=0.1):\n",
    "        super().__init__()\n",
    "\n",
    "        # Pointwise Conv -> Depthwise Conv -> Pointwise Conv\n",
    "        self.layer_norm = nn.LayerNorm(d_model)\n",
    "        self.pointwise_conv1 = nn.Conv1d(d_model, d_model * expansion_factor, kernel_size=1)\n",
    "        self.glu = nn.GLU(dim=1)\n",
    "        self.depthwise_conv = nn.Conv1d(\n",
    "            d_model, d_model,\n",
    "            kernel_size=kernel_size,\n",
    "            padding=(kernel_size-1)//2,\n",
    "            groups=d_model\n",
    "        )\n",
    "        self.batch_norm = nn.BatchNorm1d(d_model)\n",
    "        self.swish = nn.SiLU()\n",
    "        self.pointwise_conv2 = nn.Conv1d(d_model, d_model, kernel_size=1)\n",
    "        self.dropout = nn.Dropout(dropout)\n",
    "\n",
    "    def forward(self, x):\n",
    "        # x is [batch, seq_len, d_model]\n",
    "        residual = x\n",
    "\n",
    "        # Layer norm\n",
    "        x = self.layer_norm(x)\n",
    "\n",
    "        # Transpose to [batch, d_model, seq_len] for Conv1d\n",
    "        x = x.transpose(1, 2)\n",
    "\n",
    "        # Pointwise conv and GLU activation\n",
    "        x = self.pointwise_conv1(x)\n",
    "        x = self.glu(x)\n",
    "\n",
    "        # Depthwise conv\n",
    "        x = self.depthwise_conv(x)\n",
    "        x = self.batch_norm(x)\n",
    "        x = self.swish(x)\n",
    "\n",
    "        # Pointwise conv\n",
    "        x = self.pointwise_conv2(x)\n",
    "        x = self.dropout(x)\n",
    "\n",
    "        # Transpose back to [batch, seq_len, d_model]\n",
    "        x = x.transpose(1, 2)\n",
    "\n",
    "        # Residual connection\n",
    "        return x + residual"
   ]
  },
  {
   "cell_type": "code",
   "execution_count": 9,
   "metadata": {},
   "outputs": [],
   "source": [
    "class FeedForwardModule(nn.Module):\n",
    "    def __init__(self, d_model, expansion_factor=4, dropout=0.1):\n",
    "        super().__init__()\n",
    "\n",
    "        self.layer_norm = nn.LayerNorm(d_model)\n",
    "        self.linear1 = nn.Linear(d_model, d_model * expansion_factor)\n",
    "        self.swish = nn.SiLU()\n",
    "        self.dropout1 = nn.Dropout(dropout)\n",
    "        self.linear2 = nn.Linear(d_model * expansion_factor, d_model)\n",
    "        self.dropout2 = nn.Dropout(dropout)\n",
    "\n",
    "    def forward(self, x):\n",
    "        residual = x\n",
    "\n",
    "        x = self.layer_norm(x)\n",
    "        x = self.linear1(x)\n",
    "        x = self.swish(x)\n",
    "        x = self.dropout1(x)\n",
    "        x = self.linear2(x)\n",
    "        x = self.dropout2(x)\n",
    "\n",
    "        return x + residual"
   ]
  },
  {
   "cell_type": "code",
   "execution_count": 10,
   "metadata": {},
   "outputs": [],
   "source": [
    "class ConformerBlock(nn.Module):\n",
    "    def __init__(self, d_model, nhead=8, dropout=0.1, kernel_size=15):\n",
    "        super().__init__()\n",
    "\n",
    "        # First feed-forward module (half-step)\n",
    "        self.feed_forward1 = FeedForwardModule(d_model, dropout=dropout)\n",
    "\n",
    "        # Multi-headed self-attention\n",
    "        self.self_attn_layer_norm = nn.LayerNorm(d_model)\n",
    "        self.self_attn = nn.MultiheadAttention(d_model, nhead, dropout=dropout, batch_first=False)\n",
    "        self.self_attn_dropout = nn.Dropout(dropout)\n",
    "\n",
    "        # Convolution module\n",
    "        self.conv_module = ConvModule(d_model, kernel_size=kernel_size, dropout=dropout)\n",
    "\n",
    "        # Second feed-forward module (half-step)\n",
    "        self.feed_forward2 = FeedForwardModule(d_model, dropout=dropout)\n",
    "\n",
    "        # Final layer norm\n",
    "        self.final_layer_norm = nn.LayerNorm(d_model)\n",
    "\n",
    "    def forward(self, x, attention_mask=None):\n",
    "        \"\"\"\n",
    "        Args:\n",
    "            x: input tensor of shape [seq_len, batch, d_model]\n",
    "            attention_mask: mask for self-attention of shape [batch, seq_len]\n",
    "        \"\"\"\n",
    "        # Apply first FFN (half step)\n",
    "        x = x + 0.5 * self.feed_forward1(x)\n",
    "\n",
    "        # Apply self-attention\n",
    "        residual = x\n",
    "        x = self.self_attn_layer_norm(x)\n",
    "\n",
    "        # For PyTorch's MultiheadAttention when batch_first=False:\n",
    "        # x shape should be [seq_len, batch, d_model]\n",
    "        # key_padding_mask should be [batch, seq_len]\n",
    "        attn_output, _ = self.self_attn(\n",
    "            x, x, x,\n",
    "            key_padding_mask=attention_mask  # Already in correct shape [batch, seq_len]\n",
    "        )\n",
    "\n",
    "        x = residual + self.self_attn_dropout(attn_output)\n",
    "\n",
    "        # Apply convolution module\n",
    "        residual = x\n",
    "        x_t = x.transpose(0, 1)  # [batch, seq_len, d_model]\n",
    "        x_t = self.conv_module(x_t)\n",
    "        x = residual + x_t.transpose(0, 1)  # [seq_len, batch, d_model]\n",
    "\n",
    "        # Apply second FFN (half step)\n",
    "        x = x + 0.5 * self.feed_forward2(x)\n",
    "\n",
    "        # Final layer norm\n",
    "        x = self.final_layer_norm(x)\n",
    "\n",
    "        return x"
   ]
  },
  {
   "cell_type": "code",
   "execution_count": 11,
   "metadata": {},
   "outputs": [],
   "source": [
    "class EMGConformer(nn.Module):\n",
    "    def __init__(self, num_classes=99, d_model=256, nhead=8, num_layers=4, dropout=0.3):\n",
    "        super().__init__()\n",
    "        \n",
    "        # Input EMG signal dimensions\n",
    "        self.features = 1056  # 2 bands * 16 channels * 33 frequencies\n",
    "        \n",
    "        # CNN feature extraction with output channels = cnn_output_dim\n",
    "        cnn_output_dim = 256  # This should match your last CNN layer's output channels\n",
    "        \n",
    "        self.conv_layers = nn.Sequential(\n",
    "            nn.Conv1d(self.features, 512, kernel_size=3, stride=1, padding=1),\n",
    "            nn.BatchNorm1d(512),\n",
    "            nn.ReLU(),\n",
    "            nn.Dropout(dropout),\n",
    "            \n",
    "            nn.Conv1d(512, cnn_output_dim, kernel_size=3, stride=1, padding=1),\n",
    "            nn.BatchNorm1d(cnn_output_dim),\n",
    "            nn.ReLU(),\n",
    "            nn.MaxPool1d(kernel_size=2, stride=2),\n",
    "            nn.Dropout(dropout)\n",
    "        )\n",
    "        \n",
    "        # Add projection layer to ensure dimensions match\n",
    "        self.projection = nn.Linear(cnn_output_dim, d_model) if cnn_output_dim != d_model else nn.Identity()\n",
    "        \n",
    "        # Positional encoding\n",
    "        self.pos_encoder = PositionalEncoding(d_model)\n",
    "        \n",
    "        # Conformer blocks\n",
    "        self.conformer_blocks = nn.ModuleList([\n",
    "            ConformerBlock(d_model, nhead, dropout, kernel_size=15)\n",
    "            for _ in range(num_layers)\n",
    "        ])\n",
    "        \n",
    "        # Classification head\n",
    "        self.classifier = nn.Linear(d_model, num_classes)\n",
    "    \n",
    "    def forward(self, x, input_lengths=None):\n",
    "        # x shape: [T, N, B, C, F] - [time, batch, bands, channels, freq]\n",
    "        T, N, B, C, F = x.shape\n",
    "        device = x.device\n",
    "        \n",
    "        # Flatten features and prepare for Conv1d\n",
    "        x = x.reshape(T, N, B*C*F).permute(1, 2, 0)  # [N, B*C*F, T]\n",
    "        \n",
    "        # Apply CNN layers\n",
    "        x = self.conv_layers(x)  # [N, cnn_output_dim, T//2]\n",
    "        \n",
    "        # Calculate new sequence lengths after CNN pooling \n",
    "        if input_lengths is not None:\n",
    "            new_lengths = torch.div(input_lengths, 2, rounding_mode='floor')\n",
    "            new_lengths = torch.clamp(new_lengths, min=1)\n",
    "            # Create padding mask for transformer\n",
    "            max_len = x.size(2)\n",
    "            padding_mask = (torch.arange(max_len, device=device).expand(N, max_len) \n",
    "                           >= new_lengths.unsqueeze(1))\n",
    "        else:\n",
    "            padding_mask = None\n",
    "        \n",
    "        # Prepare for conformer: [T//2, N, cnn_output_dim]\n",
    "        x = x.permute(2, 0, 1)\n",
    "        \n",
    "        # Apply projection if needed\n",
    "        x = self.projection(x)  # [T//2, N, d_model]\n",
    "        \n",
    "        # Apply positional encoding\n",
    "        x = self.pos_encoder(x)\n",
    "        \n",
    "        # Apply conformer blocks\n",
    "        for block in self.conformer_blocks:\n",
    "            x = block(x, padding_mask)\n",
    "        \n",
    "        # Apply classifier\n",
    "        x = self.classifier(x)\n",
    "        \n",
    "        return x"
   ]
  },
  {
   "cell_type": "code",
   "execution_count": 12,
   "metadata": {},
   "outputs": [],
   "source": [
    "def calculate_cer(predictions, targets):\n",
    "    \"\"\"\n",
    "    Calculate Character Error Rate\n",
    "    \"\"\"\n",
    "    total_edits = 0\n",
    "    total_length = 0\n",
    "\n",
    "    for pred, target in zip(predictions, targets):\n",
    "        # Remove blank tokens and duplicates\n",
    "        filtered_pred = []\n",
    "        prev = None\n",
    "        for p in pred:\n",
    "            if p != charset().null_class and p != prev:\n",
    "                filtered_pred.append(p)\n",
    "            prev = p\n",
    "\n",
    "        # Calculate edit distance\n",
    "        edit_distance = levenshtein_distance(filtered_pred, target)\n",
    "\n",
    "        total_edits += edit_distance\n",
    "        total_length += len(target)\n",
    "\n",
    "    # Return CER\n",
    "    return total_edits / max(1, total_length)\n",
    "\n",
    "def levenshtein_distance(s1, s2):\n",
    "    \"\"\"\n",
    "    Calculate Levenshtein distance between two sequences\n",
    "    \"\"\"\n",
    "    if len(s1) < len(s2):\n",
    "        return levenshtein_distance(s2, s1)\n",
    "\n",
    "    if len(s2) == 0:\n",
    "        return len(s1)\n",
    "\n",
    "    previous_row = range(len(s2) + 1)\n",
    "    for i, c1 in enumerate(s1):\n",
    "        current_row = [i + 1]\n",
    "        for j, c2 in enumerate(s2):\n",
    "            insertions = previous_row[j + 1] + 1\n",
    "            deletions = current_row[j] + 1\n",
    "            substitutions = previous_row[j] + (c1 != c2)\n",
    "            current_row.append(min(insertions, deletions, substitutions))\n",
    "        previous_row = current_row\n",
    "\n",
    "    return previous_row[-1]"
   ]
  },
  {
   "cell_type": "code",
   "execution_count": 13,
   "metadata": {},
   "outputs": [],
   "source": [
    "def decode_predictions(log_probs, input_lengths):\n",
    "    \"\"\"Perform CTC greedy decoding on log probabilities\"\"\"\n",
    "    predictions = log_probs.argmax(dim=2)\n",
    "    decoded = []\n",
    "    \n",
    "    for i in range(predictions.size(1)):  # Loop through batch\n",
    "        pred_len = input_lengths[i].item()\n",
    "        pred = predictions[:pred_len, i].tolist()\n",
    "        \n",
    "        # Remove consecutive duplicates and blanks (CTC decoding)\n",
    "        result = []\n",
    "        prev = None\n",
    "        for p in pred:\n",
    "            if p != 0:  # Not blank\n",
    "                if p != prev:  # Not a duplicate\n",
    "                    result.append(p)\n",
    "            prev = p\n",
    "        \n",
    "        decoded.append(result)\n",
    "    \n",
    "    return decoded"
   ]
  },
  {
   "cell_type": "code",
   "execution_count": 14,
   "metadata": {},
   "outputs": [],
   "source": [
    "def train_model(model, train_loader, val_loader, device, epochs=100, lr=0.001, weight_decay=1e-4):\n",
    "    \"\"\"\n",
    "    Train the Conformer model on EMG data\n",
    "    \"\"\"\n",
    "    model = model.to(device)\n",
    "\n",
    "    # CTC loss for sequence prediction\n",
    "    criterion = nn.CTCLoss(blank=0, reduction='mean', zero_infinity=True)\n",
    "\n",
    "    # Adam optimizer with improved parameters\n",
    "    optimizer = optim.AdamW(model.parameters(), lr=lr, weight_decay=weight_decay, betas=(0.9, 0.999), eps=1e-8)\n",
    "\n",
    "    # Learning rate scheduler with warmup\n",
    "    scheduler = optim.lr_scheduler.OneCycleLR(\n",
    "        optimizer,\n",
    "        max_lr=0.002,  # Lower max learning rate\n",
    "        steps_per_epoch=len(train_loader),\n",
    "        epochs=epochs,\n",
    "        pct_start=0.1,  # 10% warmup\n",
    "        div_factor=10,  # Initial lr = max_lr/div_factor\n",
    "        final_div_factor=100  # Final lr = initial_lr/final_div_factor\n",
    "    )\n",
    "\n",
    "    # Add these variables at the beginning of the function:\n",
    "    best_val_cer = float('inf')\n",
    "    best_epoch = 0\n",
    "    \n",
    "    # Training history\n",
    "    history = {\n",
    "        'train_loss': [],\n",
    "        'val_loss': [],\n",
    "        'val_cer': [],\n",
    "        'all_predictions': [],\n",
    "        'all_targets': []\n",
    "    }\n",
    "\n",
    "    # Training loop\n",
    "    for epoch in range(epochs):\n",
    "        # Training phase\n",
    "        model.train()\n",
    "        train_loss = 0.0\n",
    "        train_batches = 0\n",
    "\n",
    "        progress_bar = tqdm(train_loader, desc=f'Epoch {epoch+1}/{epochs} [Train]')\n",
    "        for batch_idx, batch in enumerate(progress_bar):\n",
    "            inputs = batch['inputs'].to(device)\n",
    "            targets = batch['targets'].to(device)\n",
    "            input_lengths = batch['input_lengths'].to(device)\n",
    "            target_lengths = batch['target_lengths'].to(device)\n",
    "\n",
    "            # Forward pass\n",
    "            outputs = model(inputs, input_lengths)\n",
    "\n",
    "            # Compute log probabilities\n",
    "            log_probs = outputs.log_softmax(2)\n",
    "\n",
    "            # Adjust input lengths for downsampling in the model\n",
    "            # We only have one pooling layer with stride 2\n",
    "            input_lengths = torch.div(input_lengths, 2, rounding_mode='floor')\n",
    "            input_lengths = torch.clamp(input_lengths, min=1)  # Ensure no zero lengths\n",
    "\n",
    "            # Compute loss\n",
    "            loss = criterion(log_probs, targets.T, input_lengths, target_lengths)\n",
    "\n",
    "            # Backward and optimize\n",
    "            optimizer.zero_grad()\n",
    "            loss.backward()\n",
    "\n",
    "            # Gradient clipping to prevent exploding gradients\n",
    "            torch.nn.utils.clip_grad_norm_(model.parameters(), max_norm=5.0)\n",
    "\n",
    "            optimizer.step()\n",
    "            scheduler.step()\n",
    "\n",
    "            # Update statistics\n",
    "            train_loss += loss.item()\n",
    "            train_batches += 1\n",
    "\n",
    "            # Update progress bar\n",
    "            progress_bar.set_postfix({'loss': loss.item()})\n",
    "\n",
    "        avg_train_loss = train_loss / train_batches\n",
    "        history['train_loss'].append(avg_train_loss)\n",
    "\n",
    "        # Validation phase\n",
    "        model.eval()\n",
    "        val_loss = 0.0\n",
    "        val_batches = 0\n",
    "        all_predictions = []\n",
    "        all_targets = []\n",
    "\n",
    "        with torch.no_grad():\n",
    "            progress_bar = tqdm(val_loader, desc=f'Epoch {epoch+1}/{epochs} [Val]')\n",
    "            for batch_idx, batch in enumerate(progress_bar):\n",
    "                inputs = batch['inputs'].to(device)\n",
    "                targets = batch['targets'].to(device)\n",
    "                input_lengths = batch['input_lengths'].to(device)\n",
    "                target_lengths = batch['target_lengths'].to(device)\n",
    "\n",
    "                # Forward pass\n",
    "                outputs = model(inputs, input_lengths)\n",
    "\n",
    "                # Compute log probabilities\n",
    "                log_probs = outputs.log_softmax(2)\n",
    "\n",
    "                # Adjust input lengths for downsampling in the model\n",
    "                input_lengths = torch.div(input_lengths, 2, rounding_mode='floor')\n",
    "                input_lengths = torch.clamp(input_lengths, min=1)  # Ensure no zero lengths\n",
    "\n",
    "                # Compute loss\n",
    "                loss = criterion(log_probs, targets.T, input_lengths, target_lengths)\n",
    "\n",
    "                # Update statistics\n",
    "                val_loss += loss.item()\n",
    "                val_batches += 1\n",
    "\n",
    "                # Decode predictions using proper CTC decoding\n",
    "                predictions = decode_predictions(log_probs.cpu(), input_lengths.cpu())\n",
    "                targets_np = targets.cpu().numpy()\n",
    "\n",
    "                # Store predictions and targets for CER calculation\n",
    "                for i in range(inputs.size(1)):  # Loop through batch\n",
    "                    target_seq = targets_np[:target_lengths[i].item(), i]\n",
    "                    all_predictions.append(predictions[i])  # Already processed by decode_predictions\n",
    "                    all_targets.append(target_seq)\n",
    "\n",
    "                # Update progress bar\n",
    "                progress_bar.set_postfix({'loss': loss.item()})\n",
    "\n",
    "        avg_val_loss = val_loss / val_batches\n",
    "        history['val_loss'].append(avg_val_loss)\n",
    "\n",
    "        # Calculate Character Error Rate\n",
    "        cer = calculate_cer(all_predictions, all_targets)\n",
    "        history['val_cer'].append(cer)\n",
    "        history['all_predictions'].append(all_predictions)\n",
    "        history['all_targets'].append(all_targets)\n",
    "\n",
    "        # Add checkpoint saving here:\n",
    "        if cer < best_val_cer:\n",
    "            best_val_cer = cer\n",
    "            best_epoch = epoch + 1\n",
    "            torch.save(model.state_dict(), 'conformer_best.pth')\n",
    "            print(f\"Saved checkpoint at epoch {epoch+1} with CER: {best_val_cer:.4f}\")\n",
    "\n",
    "        # Print epoch summary\n",
    "        print(f'Epoch {epoch+1}/{epochs}:')\n",
    "        print(f'  Train Loss: {avg_train_loss:.4f}')\n",
    "        print(f'  Val Loss: {avg_val_loss:.4f}, Val CER: {cer:.4f}')\n",
    "\n",
    "    return history, best_epoch, best_val_cer"
   ]
  },
  {
   "cell_type": "code",
   "execution_count": 15,
   "metadata": {},
   "outputs": [
    {
     "name": "stdout",
     "output_type": "stream",
     "text": [
      "Using device: cuda\n",
      "EMGConformer(\n",
      "  (conv_layers): Sequential(\n",
      "    (0): Conv1d(1056, 512, kernel_size=(3,), stride=(1,), padding=(1,))\n",
      "    (1): BatchNorm1d(512, eps=1e-05, momentum=0.1, affine=True, track_running_stats=True)\n",
      "    (2): ReLU()\n",
      "    (3): Dropout(p=0.3, inplace=False)\n",
      "    (4): Conv1d(512, 256, kernel_size=(3,), stride=(1,), padding=(1,))\n",
      "    (5): BatchNorm1d(256, eps=1e-05, momentum=0.1, affine=True, track_running_stats=True)\n",
      "    (6): ReLU()\n",
      "    (7): MaxPool1d(kernel_size=2, stride=2, padding=0, dilation=1, ceil_mode=False)\n",
      "    (8): Dropout(p=0.3, inplace=False)\n",
      "  )\n",
      "  (projection): Identity()\n",
      "  (pos_encoder): PositionalEncoding()\n",
      "  (conformer_blocks): ModuleList(\n",
      "    (0-3): 4 x ConformerBlock(\n",
      "      (feed_forward1): FeedForwardModule(\n",
      "        (layer_norm): LayerNorm((256,), eps=1e-05, elementwise_affine=True)\n",
      "        (linear1): Linear(in_features=256, out_features=1024, bias=True)\n",
      "        (swish): SiLU()\n",
      "        (dropout1): Dropout(p=0.3, inplace=False)\n",
      "        (linear2): Linear(in_features=1024, out_features=256, bias=True)\n",
      "        (dropout2): Dropout(p=0.3, inplace=False)\n",
      "      )\n",
      "      (self_attn_layer_norm): LayerNorm((256,), eps=1e-05, elementwise_affine=True)\n",
      "      (self_attn): MultiheadAttention(\n",
      "        (out_proj): NonDynamicallyQuantizableLinear(in_features=256, out_features=256, bias=True)\n",
      "      )\n",
      "      (self_attn_dropout): Dropout(p=0.3, inplace=False)\n",
      "      (conv_module): ConvModule(\n",
      "        (layer_norm): LayerNorm((256,), eps=1e-05, elementwise_affine=True)\n",
      "        (pointwise_conv1): Conv1d(256, 512, kernel_size=(1,), stride=(1,))\n",
      "        (glu): GLU(dim=1)\n",
      "        (depthwise_conv): Conv1d(256, 256, kernel_size=(15,), stride=(1,), padding=(7,), groups=256)\n",
      "        (batch_norm): BatchNorm1d(256, eps=1e-05, momentum=0.1, affine=True, track_running_stats=True)\n",
      "        (swish): SiLU()\n",
      "        (pointwise_conv2): Conv1d(256, 256, kernel_size=(1,), stride=(1,))\n",
      "        (dropout): Dropout(p=0.3, inplace=False)\n",
      "      )\n",
      "      (feed_forward2): FeedForwardModule(\n",
      "        (layer_norm): LayerNorm((256,), eps=1e-05, elementwise_affine=True)\n",
      "        (linear1): Linear(in_features=256, out_features=1024, bias=True)\n",
      "        (swish): SiLU()\n",
      "        (dropout1): Dropout(p=0.3, inplace=False)\n",
      "        (linear2): Linear(in_features=1024, out_features=256, bias=True)\n",
      "        (dropout2): Dropout(p=0.3, inplace=False)\n",
      "      )\n",
      "      (final_layer_norm): LayerNorm((256,), eps=1e-05, elementwise_affine=True)\n",
      "    )\n",
      "  )\n",
      "  (classifier): Linear(in_features=256, out_features=99, bias=True)\n",
      ")\n",
      "Total parameters: 8,118,371\n",
      "Testing model with a small batch...\n",
      "Forward pass successful! Output shape: torch.Size([73, 32, 99])\n",
      "Starting training...\n"
     ]
    },
    {
     "name": "stderr",
     "output_type": "stream",
     "text": [
      "Epoch 1/80 [Train]: 100%|██████████| 960/960 [00:33<00:00, 28.46it/s, loss=1.14] \n",
      "Epoch 1/80 [Val]: 100%|██████████| 54/54 [00:03<00:00, 15.98it/s, loss=1.4]  \n"
     ]
    },
    {
     "name": "stdout",
     "output_type": "stream",
     "text": [
      "Saved checkpoint at epoch 1 with CER: 0.5106\n",
      "Epoch 1/80:\n",
      "  Train Loss: 2.2054\n",
      "  Val Loss: 0.9225, Val CER: 0.5106\n"
     ]
    },
    {
     "name": "stderr",
     "output_type": "stream",
     "text": [
      "Epoch 2/80 [Train]: 100%|██████████| 960/960 [00:33<00:00, 29.09it/s, loss=0.624]\n",
      "Epoch 2/80 [Val]: 100%|██████████| 54/54 [00:03<00:00, 15.69it/s, loss=0.972] \n"
     ]
    },
    {
     "name": "stdout",
     "output_type": "stream",
     "text": [
      "Saved checkpoint at epoch 2 with CER: 0.3709\n",
      "Epoch 2/80:\n",
      "  Train Loss: 0.9118\n",
      "  Val Loss: 0.6061, Val CER: 0.3709\n"
     ]
    },
    {
     "name": "stderr",
     "output_type": "stream",
     "text": [
      "Epoch 3/80 [Train]: 100%|██████████| 960/960 [00:33<00:00, 28.71it/s, loss=1.35]   \n",
      "Epoch 3/80 [Val]: 100%|██████████| 54/54 [00:03<00:00, 15.76it/s, loss=1.16]  \n"
     ]
    },
    {
     "name": "stdout",
     "output_type": "stream",
     "text": [
      "Epoch 3/80:\n",
      "  Train Loss: 0.7622\n",
      "  Val Loss: 0.6117, Val CER: 0.3822\n"
     ]
    },
    {
     "name": "stderr",
     "output_type": "stream",
     "text": [
      "Epoch 4/80 [Train]: 100%|██████████| 960/960 [00:32<00:00, 29.11it/s, loss=0.423]  \n",
      "Epoch 4/80 [Val]: 100%|██████████| 54/54 [00:03<00:00, 15.80it/s, loss=1.21]  \n"
     ]
    },
    {
     "name": "stdout",
     "output_type": "stream",
     "text": [
      "Saved checkpoint at epoch 4 with CER: 0.3577\n",
      "Epoch 4/80:\n",
      "  Train Loss: 0.7273\n",
      "  Val Loss: 0.5580, Val CER: 0.3577\n"
     ]
    },
    {
     "name": "stderr",
     "output_type": "stream",
     "text": [
      "Epoch 5/80 [Train]: 100%|██████████| 960/960 [00:33<00:00, 28.92it/s, loss=0.692]  \n",
      "Epoch 5/80 [Val]: 100%|██████████| 54/54 [00:03<00:00, 15.74it/s, loss=0.579] \n"
     ]
    },
    {
     "name": "stdout",
     "output_type": "stream",
     "text": [
      "Epoch 5/80:\n",
      "  Train Loss: 0.7142\n",
      "  Val Loss: 0.5184, Val CER: 0.3591\n"
     ]
    },
    {
     "name": "stderr",
     "output_type": "stream",
     "text": [
      "Epoch 6/80 [Train]: 100%|██████████| 960/960 [00:32<00:00, 29.42it/s, loss=0.822] \n",
      "Epoch 6/80 [Val]: 100%|██████████| 54/54 [00:03<00:00, 16.42it/s, loss=1.13]   \n"
     ]
    },
    {
     "name": "stdout",
     "output_type": "stream",
     "text": [
      "Epoch 6/80:\n",
      "  Train Loss: 0.6616\n",
      "  Val Loss: 0.6099, Val CER: 0.3610\n"
     ]
    },
    {
     "name": "stderr",
     "output_type": "stream",
     "text": [
      "Epoch 7/80 [Train]: 100%|██████████| 960/960 [00:32<00:00, 29.40it/s, loss=0.39]   \n",
      "Epoch 7/80 [Val]: 100%|██████████| 54/54 [00:03<00:00, 16.04it/s, loss=0.525] \n"
     ]
    },
    {
     "name": "stdout",
     "output_type": "stream",
     "text": [
      "Epoch 7/80:\n",
      "  Train Loss: 0.6237\n",
      "  Val Loss: 0.5552, Val CER: 0.3578\n"
     ]
    },
    {
     "name": "stderr",
     "output_type": "stream",
     "text": [
      "Epoch 8/80 [Train]: 100%|██████████| 960/960 [00:32<00:00, 29.33it/s, loss=0.593]  \n",
      "Epoch 8/80 [Val]: 100%|██████████| 54/54 [00:03<00:00, 16.17it/s, loss=0.555] \n"
     ]
    },
    {
     "name": "stdout",
     "output_type": "stream",
     "text": [
      "Saved checkpoint at epoch 8 with CER: 0.3275\n",
      "Epoch 8/80:\n",
      "  Train Loss: 0.5768\n",
      "  Val Loss: 0.4302, Val CER: 0.3275\n"
     ]
    },
    {
     "name": "stderr",
     "output_type": "stream",
     "text": [
      "Epoch 9/80 [Train]: 100%|██████████| 960/960 [00:33<00:00, 28.99it/s, loss=0.362]   \n",
      "Epoch 9/80 [Val]: 100%|██████████| 54/54 [00:03<00:00, 15.85it/s, loss=0.889] \n"
     ]
    },
    {
     "name": "stdout",
     "output_type": "stream",
     "text": [
      "Epoch 9/80:\n",
      "  Train Loss: 0.5261\n",
      "  Val Loss: 0.4848, Val CER: 0.3328\n"
     ]
    },
    {
     "name": "stderr",
     "output_type": "stream",
     "text": [
      "Epoch 10/80 [Train]: 100%|██████████| 960/960 [00:32<00:00, 29.54it/s, loss=0.886]  \n",
      "Epoch 10/80 [Val]: 100%|██████████| 54/54 [00:03<00:00, 16.22it/s, loss=0.577]  \n"
     ]
    },
    {
     "name": "stdout",
     "output_type": "stream",
     "text": [
      "Saved checkpoint at epoch 10 with CER: 0.3096\n",
      "Epoch 10/80:\n",
      "  Train Loss: 0.5010\n",
      "  Val Loss: 0.4183, Val CER: 0.3096\n"
     ]
    },
    {
     "name": "stderr",
     "output_type": "stream",
     "text": [
      "Epoch 11/80 [Train]: 100%|██████████| 960/960 [00:32<00:00, 29.29it/s, loss=0.324]   \n",
      "Epoch 11/80 [Val]: 100%|██████████| 54/54 [00:03<00:00, 16.17it/s, loss=0.922]  \n"
     ]
    },
    {
     "name": "stdout",
     "output_type": "stream",
     "text": [
      "Saved checkpoint at epoch 11 with CER: 0.3040\n",
      "Epoch 11/80:\n",
      "  Train Loss: 0.4649\n",
      "  Val Loss: 0.3967, Val CER: 0.3040\n"
     ]
    },
    {
     "name": "stderr",
     "output_type": "stream",
     "text": [
      "Epoch 12/80 [Train]: 100%|██████████| 960/960 [00:33<00:00, 28.34it/s, loss=0.369]   \n",
      "Epoch 12/80 [Val]: 100%|██████████| 54/54 [00:03<00:00, 15.98it/s, loss=0.387] \n"
     ]
    },
    {
     "name": "stdout",
     "output_type": "stream",
     "text": [
      "Saved checkpoint at epoch 12 with CER: 0.2864\n",
      "Epoch 12/80:\n",
      "  Train Loss: 0.4270\n",
      "  Val Loss: 0.3429, Val CER: 0.2864\n"
     ]
    },
    {
     "name": "stderr",
     "output_type": "stream",
     "text": [
      "Epoch 13/80 [Train]: 100%|██████████| 960/960 [00:39<00:00, 24.17it/s, loss=0.46]     \n",
      "Epoch 13/80 [Val]: 100%|██████████| 54/54 [00:03<00:00, 16.52it/s, loss=0.494]  \n"
     ]
    },
    {
     "name": "stdout",
     "output_type": "stream",
     "text": [
      "Epoch 13/80:\n",
      "  Train Loss: 0.4006\n",
      "  Val Loss: 0.4266, Val CER: 0.3299\n"
     ]
    },
    {
     "name": "stderr",
     "output_type": "stream",
     "text": [
      "Epoch 14/80 [Train]: 100%|██████████| 960/960 [00:38<00:00, 24.85it/s, loss=0.411]   \n",
      "Epoch 14/80 [Val]: 100%|██████████| 54/54 [00:03<00:00, 16.36it/s, loss=0.392] \n"
     ]
    },
    {
     "name": "stdout",
     "output_type": "stream",
     "text": [
      "Epoch 14/80:\n",
      "  Train Loss: 0.4020\n",
      "  Val Loss: 0.4204, Val CER: 0.3160\n"
     ]
    },
    {
     "name": "stderr",
     "output_type": "stream",
     "text": [
      "Epoch 15/80 [Train]: 100%|██████████| 960/960 [00:38<00:00, 24.86it/s, loss=0.433]   \n",
      "Epoch 15/80 [Val]: 100%|██████████| 54/54 [00:03<00:00, 16.38it/s, loss=0.667]   \n"
     ]
    },
    {
     "name": "stdout",
     "output_type": "stream",
     "text": [
      "Epoch 15/80:\n",
      "  Train Loss: 0.3708\n",
      "  Val Loss: 0.3177, Val CER: 0.2879\n"
     ]
    },
    {
     "name": "stderr",
     "output_type": "stream",
     "text": [
      "Epoch 16/80 [Train]: 100%|██████████| 960/960 [00:39<00:00, 24.29it/s, loss=0.393]   \n",
      "Epoch 16/80 [Val]: 100%|██████████| 54/54 [00:03<00:00, 16.16it/s, loss=0.573]  \n"
     ]
    },
    {
     "name": "stdout",
     "output_type": "stream",
     "text": [
      "Epoch 16/80:\n",
      "  Train Loss: 0.3397\n",
      "  Val Loss: 0.3063, Val CER: 0.2905\n"
     ]
    },
    {
     "name": "stderr",
     "output_type": "stream",
     "text": [
      "Epoch 17/80 [Train]: 100%|██████████| 960/960 [00:39<00:00, 24.29it/s, loss=0.852]   \n",
      "Epoch 17/80 [Val]: 100%|██████████| 54/54 [00:03<00:00, 16.30it/s, loss=0.732]  \n"
     ]
    },
    {
     "name": "stdout",
     "output_type": "stream",
     "text": [
      "Saved checkpoint at epoch 17 with CER: 0.2856\n",
      "Epoch 17/80:\n",
      "  Train Loss: 0.3168\n",
      "  Val Loss: 0.2780, Val CER: 0.2856\n"
     ]
    },
    {
     "name": "stderr",
     "output_type": "stream",
     "text": [
      "Epoch 18/80 [Train]: 100%|██████████| 960/960 [00:39<00:00, 24.58it/s, loss=0.281]   \n",
      "Epoch 18/80 [Val]: 100%|██████████| 54/54 [00:03<00:00, 16.85it/s, loss=0.387]  \n"
     ]
    },
    {
     "name": "stdout",
     "output_type": "stream",
     "text": [
      "Saved checkpoint at epoch 18 with CER: 0.2730\n",
      "Epoch 18/80:\n",
      "  Train Loss: 0.3066\n",
      "  Val Loss: 0.2858, Val CER: 0.2730\n"
     ]
    },
    {
     "name": "stderr",
     "output_type": "stream",
     "text": [
      "Epoch 19/80 [Train]: 100%|██████████| 960/960 [00:38<00:00, 24.69it/s, loss=0.0928]   \n",
      "Epoch 19/80 [Val]: 100%|██████████| 54/54 [00:03<00:00, 15.44it/s, loss=0.0928] \n"
     ]
    },
    {
     "name": "stdout",
     "output_type": "stream",
     "text": [
      "Saved checkpoint at epoch 19 with CER: 0.2651\n",
      "Epoch 19/80:\n",
      "  Train Loss: 0.2905\n",
      "  Val Loss: 0.2598, Val CER: 0.2651\n"
     ]
    },
    {
     "name": "stderr",
     "output_type": "stream",
     "text": [
      "Epoch 20/80 [Train]: 100%|██████████| 960/960 [00:40<00:00, 23.89it/s, loss=0.195]    \n",
      "Epoch 20/80 [Val]: 100%|██████████| 54/54 [00:03<00:00, 15.83it/s, loss=0.724]  \n"
     ]
    },
    {
     "name": "stdout",
     "output_type": "stream",
     "text": [
      "Epoch 20/80:\n",
      "  Train Loss: 0.2932\n",
      "  Val Loss: 0.2891, Val CER: 0.2768\n"
     ]
    },
    {
     "name": "stderr",
     "output_type": "stream",
     "text": [
      "Epoch 21/80 [Train]: 100%|██████████| 960/960 [00:40<00:00, 23.75it/s, loss=0.523]    \n",
      "Epoch 21/80 [Val]: 100%|██████████| 54/54 [00:03<00:00, 15.72it/s, loss=0.568]  \n"
     ]
    },
    {
     "name": "stdout",
     "output_type": "stream",
     "text": [
      "Saved checkpoint at epoch 21 with CER: 0.2626\n",
      "Epoch 21/80:\n",
      "  Train Loss: 0.2658\n",
      "  Val Loss: 0.2769, Val CER: 0.2626\n"
     ]
    },
    {
     "name": "stderr",
     "output_type": "stream",
     "text": [
      "Epoch 22/80 [Train]: 100%|██████████| 960/960 [00:40<00:00, 23.69it/s, loss=0.547]   \n",
      "Epoch 22/80 [Val]: 100%|██████████| 54/54 [00:03<00:00, 15.31it/s, loss=0.983]  \n"
     ]
    },
    {
     "name": "stdout",
     "output_type": "stream",
     "text": [
      "Epoch 22/80:\n",
      "  Train Loss: 0.2509\n",
      "  Val Loss: 0.3676, Val CER: 0.3025\n"
     ]
    },
    {
     "name": "stderr",
     "output_type": "stream",
     "text": [
      "Epoch 23/80 [Train]: 100%|██████████| 960/960 [00:39<00:00, 24.09it/s, loss=0.548]    \n",
      "Epoch 23/80 [Val]: 100%|██████████| 54/54 [00:03<00:00, 15.67it/s, loss=0.567]  \n"
     ]
    },
    {
     "name": "stdout",
     "output_type": "stream",
     "text": [
      "Epoch 23/80:\n",
      "  Train Loss: 0.2599\n",
      "  Val Loss: 0.2906, Val CER: 0.2711\n"
     ]
    },
    {
     "name": "stderr",
     "output_type": "stream",
     "text": [
      "Epoch 24/80 [Train]: 100%|██████████| 960/960 [00:40<00:00, 23.83it/s, loss=0.421]   \n",
      "Epoch 24/80 [Val]: 100%|██████████| 54/54 [00:03<00:00, 15.50it/s, loss=0.0397] \n"
     ]
    },
    {
     "name": "stdout",
     "output_type": "stream",
     "text": [
      "Epoch 24/80:\n",
      "  Train Loss: 0.2240\n",
      "  Val Loss: 0.2479, Val CER: 0.2629\n"
     ]
    },
    {
     "name": "stderr",
     "output_type": "stream",
     "text": [
      "Epoch 25/80 [Train]: 100%|██████████| 960/960 [00:40<00:00, 23.50it/s, loss=0.305]   \n",
      "Epoch 25/80 [Val]: 100%|██████████| 54/54 [00:03<00:00, 15.47it/s, loss=0.672]   \n"
     ]
    },
    {
     "name": "stdout",
     "output_type": "stream",
     "text": [
      "Saved checkpoint at epoch 25 with CER: 0.2550\n",
      "Epoch 25/80:\n",
      "  Train Loss: 0.2234\n",
      "  Val Loss: 0.2140, Val CER: 0.2550\n"
     ]
    },
    {
     "name": "stderr",
     "output_type": "stream",
     "text": [
      "Epoch 26/80 [Train]: 100%|██████████| 960/960 [00:40<00:00, 23.61it/s, loss=0.207]   \n",
      "Epoch 26/80 [Val]: 100%|██████████| 54/54 [00:03<00:00, 15.55it/s, loss=0.356] \n"
     ]
    },
    {
     "name": "stdout",
     "output_type": "stream",
     "text": [
      "Epoch 26/80:\n",
      "  Train Loss: 0.2012\n",
      "  Val Loss: 0.2771, Val CER: 0.2608\n"
     ]
    },
    {
     "name": "stderr",
     "output_type": "stream",
     "text": [
      "Epoch 27/80 [Train]: 100%|██████████| 960/960 [00:39<00:00, 24.01it/s, loss=0.212]   \n",
      "Epoch 27/80 [Val]: 100%|██████████| 54/54 [00:03<00:00, 15.72it/s, loss=0.66]    \n"
     ]
    },
    {
     "name": "stdout",
     "output_type": "stream",
     "text": [
      "Epoch 27/80:\n",
      "  Train Loss: 0.1867\n",
      "  Val Loss: 0.2468, Val CER: 0.2576\n"
     ]
    },
    {
     "name": "stderr",
     "output_type": "stream",
     "text": [
      "Epoch 28/80 [Train]: 100%|██████████| 960/960 [00:39<00:00, 24.37it/s, loss=0.61]     \n",
      "Epoch 28/80 [Val]: 100%|██████████| 54/54 [00:03<00:00, 16.17it/s, loss=0.484]  \n"
     ]
    },
    {
     "name": "stdout",
     "output_type": "stream",
     "text": [
      "Epoch 28/80:\n",
      "  Train Loss: 0.1725\n",
      "  Val Loss: 0.2572, Val CER: 0.2609\n"
     ]
    },
    {
     "name": "stderr",
     "output_type": "stream",
     "text": [
      "Epoch 29/80 [Train]: 100%|██████████| 960/960 [00:40<00:00, 23.81it/s, loss=0.0386]  \n",
      "Epoch 29/80 [Val]: 100%|██████████| 54/54 [00:03<00:00, 15.97it/s, loss=0.249]  \n"
     ]
    },
    {
     "name": "stdout",
     "output_type": "stream",
     "text": [
      "Saved checkpoint at epoch 29 with CER: 0.2493\n",
      "Epoch 29/80:\n",
      "  Train Loss: 0.1660\n",
      "  Val Loss: 0.2479, Val CER: 0.2493\n"
     ]
    },
    {
     "name": "stderr",
     "output_type": "stream",
     "text": [
      "Epoch 30/80 [Train]: 100%|██████████| 960/960 [00:39<00:00, 24.41it/s, loss=0.457]    \n",
      "Epoch 30/80 [Val]: 100%|██████████| 54/54 [00:03<00:00, 16.15it/s, loss=0.508]  \n"
     ]
    },
    {
     "name": "stdout",
     "output_type": "stream",
     "text": [
      "Epoch 30/80:\n",
      "  Train Loss: 0.1616\n",
      "  Val Loss: 0.3018, Val CER: 0.2802\n"
     ]
    },
    {
     "name": "stderr",
     "output_type": "stream",
     "text": [
      "Epoch 31/80 [Train]: 100%|██████████| 960/960 [00:39<00:00, 24.49it/s, loss=0.15]    \n",
      "Epoch 31/80 [Val]: 100%|██████████| 54/54 [00:03<00:00, 16.39it/s, loss=0.0587] \n"
     ]
    },
    {
     "name": "stdout",
     "output_type": "stream",
     "text": [
      "Epoch 31/80:\n",
      "  Train Loss: 0.1661\n",
      "  Val Loss: 0.2962, Val CER: 0.2721\n"
     ]
    },
    {
     "name": "stderr",
     "output_type": "stream",
     "text": [
      "Epoch 32/80 [Train]: 100%|██████████| 960/960 [00:39<00:00, 24.36it/s, loss=0.247]    \n",
      "Epoch 32/80 [Val]: 100%|██████████| 54/54 [00:03<00:00, 16.21it/s, loss=0.222]  \n"
     ]
    },
    {
     "name": "stdout",
     "output_type": "stream",
     "text": [
      "Epoch 32/80:\n",
      "  Train Loss: 0.1487\n",
      "  Val Loss: 0.2747, Val CER: 0.2649\n"
     ]
    },
    {
     "name": "stderr",
     "output_type": "stream",
     "text": [
      "Epoch 33/80 [Train]: 100%|██████████| 960/960 [00:41<00:00, 23.23it/s, loss=0.197]   \n",
      "Epoch 33/80 [Val]: 100%|██████████| 54/54 [00:03<00:00, 16.45it/s, loss=0.495] \n"
     ]
    },
    {
     "name": "stdout",
     "output_type": "stream",
     "text": [
      "Epoch 33/80:\n",
      "  Train Loss: 0.1169\n",
      "  Val Loss: 0.3345, Val CER: 0.2828\n"
     ]
    },
    {
     "name": "stderr",
     "output_type": "stream",
     "text": [
      "Epoch 34/80 [Train]: 100%|██████████| 960/960 [00:40<00:00, 23.67it/s, loss=0.393]    \n",
      "Epoch 34/80 [Val]: 100%|██████████| 54/54 [00:03<00:00, 16.13it/s, loss=0.509]  \n"
     ]
    },
    {
     "name": "stdout",
     "output_type": "stream",
     "text": [
      "Epoch 34/80:\n",
      "  Train Loss: 0.1127\n",
      "  Val Loss: 0.2756, Val CER: 0.2596\n"
     ]
    },
    {
     "name": "stderr",
     "output_type": "stream",
     "text": [
      "Epoch 35/80 [Train]: 100%|██████████| 960/960 [00:40<00:00, 23.63it/s, loss=0.137]    \n",
      "Epoch 35/80 [Val]: 100%|██████████| 54/54 [00:03<00:00, 16.31it/s, loss=0.603] \n"
     ]
    },
    {
     "name": "stdout",
     "output_type": "stream",
     "text": [
      "Epoch 35/80:\n",
      "  Train Loss: 0.0957\n",
      "  Val Loss: 0.3416, Val CER: 0.2723\n"
     ]
    },
    {
     "name": "stderr",
     "output_type": "stream",
     "text": [
      "Epoch 36/80 [Train]: 100%|██████████| 960/960 [00:40<00:00, 23.75it/s, loss=0.0285]   \n",
      "Epoch 36/80 [Val]: 100%|██████████| 54/54 [00:03<00:00, 16.48it/s, loss=0.0522]  \n"
     ]
    },
    {
     "name": "stdout",
     "output_type": "stream",
     "text": [
      "Epoch 36/80:\n",
      "  Train Loss: 0.1057\n",
      "  Val Loss: 0.2494, Val CER: 0.2545\n"
     ]
    },
    {
     "name": "stderr",
     "output_type": "stream",
     "text": [
      "Epoch 37/80 [Train]: 100%|██████████| 960/960 [00:40<00:00, 23.96it/s, loss=0.203]    \n",
      "Epoch 37/80 [Val]: 100%|██████████| 54/54 [00:03<00:00, 16.21it/s, loss=0.327]   \n"
     ]
    },
    {
     "name": "stdout",
     "output_type": "stream",
     "text": [
      "Epoch 37/80:\n",
      "  Train Loss: 0.0795\n",
      "  Val Loss: 0.2790, Val CER: 0.2650\n"
     ]
    },
    {
     "name": "stderr",
     "output_type": "stream",
     "text": [
      "Epoch 38/80 [Train]: 100%|██████████| 960/960 [00:40<00:00, 23.42it/s, loss=0.0552]   \n",
      "Epoch 38/80 [Val]: 100%|██████████| 54/54 [00:03<00:00, 16.36it/s, loss=0.109]   \n"
     ]
    },
    {
     "name": "stdout",
     "output_type": "stream",
     "text": [
      "Epoch 38/80:\n",
      "  Train Loss: 0.0631\n",
      "  Val Loss: 0.2727, Val CER: 0.2565\n"
     ]
    },
    {
     "name": "stderr",
     "output_type": "stream",
     "text": [
      "Epoch 39/80 [Train]: 100%|██████████| 960/960 [00:40<00:00, 23.45it/s, loss=0.0177]   \n",
      "Epoch 39/80 [Val]: 100%|██████████| 54/54 [00:03<00:00, 16.24it/s, loss=0.332]  \n"
     ]
    },
    {
     "name": "stdout",
     "output_type": "stream",
     "text": [
      "Epoch 39/80:\n",
      "  Train Loss: 0.0611\n",
      "  Val Loss: 0.3360, Val CER: 0.2815\n"
     ]
    },
    {
     "name": "stderr",
     "output_type": "stream",
     "text": [
      "Epoch 40/80 [Train]: 100%|██████████| 960/960 [00:41<00:00, 23.38it/s, loss=0.196]    \n",
      "Epoch 40/80 [Val]: 100%|██████████| 54/54 [00:03<00:00, 16.37it/s, loss=0.495]  \n"
     ]
    },
    {
     "name": "stdout",
     "output_type": "stream",
     "text": [
      "Epoch 40/80:\n",
      "  Train Loss: 0.0526\n",
      "  Val Loss: 0.3599, Val CER: 0.2786\n"
     ]
    },
    {
     "name": "stderr",
     "output_type": "stream",
     "text": [
      "Epoch 41/80 [Train]: 100%|██████████| 960/960 [00:40<00:00, 23.58it/s, loss=-0.0945]  \n",
      "Epoch 41/80 [Val]: 100%|██████████| 54/54 [00:03<00:00, 16.22it/s, loss=0.126]  \n"
     ]
    },
    {
     "name": "stdout",
     "output_type": "stream",
     "text": [
      "Epoch 41/80:\n",
      "  Train Loss: 0.0367\n",
      "  Val Loss: 0.3366, Val CER: 0.2733\n"
     ]
    },
    {
     "name": "stderr",
     "output_type": "stream",
     "text": [
      "Epoch 42/80 [Train]: 100%|██████████| 960/960 [00:41<00:00, 23.41it/s, loss=-0.145]   \n",
      "Epoch 42/80 [Val]: 100%|██████████| 54/54 [00:03<00:00, 16.34it/s, loss=0.464] \n"
     ]
    },
    {
     "name": "stdout",
     "output_type": "stream",
     "text": [
      "Saved checkpoint at epoch 42 with CER: 0.2486\n",
      "Epoch 42/80:\n",
      "  Train Loss: 0.0181\n",
      "  Val Loss: 0.2574, Val CER: 0.2486\n"
     ]
    },
    {
     "name": "stderr",
     "output_type": "stream",
     "text": [
      "Epoch 43/80 [Train]: 100%|██████████| 960/960 [00:39<00:00, 24.09it/s, loss=-0.281]   \n",
      "Epoch 43/80 [Val]: 100%|██████████| 54/54 [00:03<00:00, 16.31it/s, loss=0.162]  \n"
     ]
    },
    {
     "name": "stdout",
     "output_type": "stream",
     "text": [
      "Epoch 43/80:\n",
      "  Train Loss: 0.0257\n",
      "  Val Loss: 0.2492, Val CER: 0.2569\n"
     ]
    },
    {
     "name": "stderr",
     "output_type": "stream",
     "text": [
      "Epoch 44/80 [Train]: 100%|██████████| 960/960 [00:35<00:00, 27.18it/s, loss=-0.0184] \n",
      "Epoch 44/80 [Val]: 100%|██████████| 54/54 [00:03<00:00, 15.74it/s, loss=0.342]   \n"
     ]
    },
    {
     "name": "stdout",
     "output_type": "stream",
     "text": [
      "Epoch 44/80:\n",
      "  Train Loss: 0.0196\n",
      "  Val Loss: 0.2868, Val CER: 0.2637\n"
     ]
    },
    {
     "name": "stderr",
     "output_type": "stream",
     "text": [
      "Epoch 45/80 [Train]: 100%|██████████| 960/960 [00:33<00:00, 28.85it/s, loss=-0.227]  \n",
      "Epoch 45/80 [Val]: 100%|██████████| 54/54 [00:03<00:00, 15.43it/s, loss=0.415]  \n"
     ]
    },
    {
     "name": "stdout",
     "output_type": "stream",
     "text": [
      "Epoch 45/80:\n",
      "  Train Loss: -0.0002\n",
      "  Val Loss: 0.3639, Val CER: 0.2869\n"
     ]
    },
    {
     "name": "stderr",
     "output_type": "stream",
     "text": [
      "Epoch 46/80 [Train]: 100%|██████████| 960/960 [00:32<00:00, 29.12it/s, loss=0.0876]   \n",
      "Epoch 46/80 [Val]: 100%|██████████| 54/54 [00:03<00:00, 15.69it/s, loss=0.0137]\n"
     ]
    },
    {
     "name": "stdout",
     "output_type": "stream",
     "text": [
      "Epoch 46/80:\n",
      "  Train Loss: -0.0062\n",
      "  Val Loss: 0.3565, Val CER: 0.2790\n"
     ]
    },
    {
     "name": "stderr",
     "output_type": "stream",
     "text": [
      "Epoch 47/80 [Train]: 100%|██████████| 960/960 [00:33<00:00, 28.91it/s, loss=0.194]    \n",
      "Epoch 47/80 [Val]: 100%|██████████| 54/54 [00:03<00:00, 15.68it/s, loss=0.113]  \n"
     ]
    },
    {
     "name": "stdout",
     "output_type": "stream",
     "text": [
      "Epoch 47/80:\n",
      "  Train Loss: -0.0199\n",
      "  Val Loss: 0.3026, Val CER: 0.2555\n"
     ]
    },
    {
     "name": "stderr",
     "output_type": "stream",
     "text": [
      "Epoch 48/80 [Train]: 100%|██████████| 960/960 [00:33<00:00, 29.07it/s, loss=-0.137]  \n",
      "Epoch 48/80 [Val]: 100%|██████████| 54/54 [00:03<00:00, 15.65it/s, loss=0.526]  \n"
     ]
    },
    {
     "name": "stdout",
     "output_type": "stream",
     "text": [
      "Saved checkpoint at epoch 48 with CER: 0.2472\n",
      "Epoch 48/80:\n",
      "  Train Loss: -0.0281\n",
      "  Val Loss: 0.2541, Val CER: 0.2472\n"
     ]
    },
    {
     "name": "stderr",
     "output_type": "stream",
     "text": [
      "Epoch 49/80 [Train]: 100%|██████████| 960/960 [00:32<00:00, 29.15it/s, loss=0.19]     \n",
      "Epoch 49/80 [Val]: 100%|██████████| 54/54 [00:03<00:00, 15.59it/s, loss=0.188]  \n"
     ]
    },
    {
     "name": "stdout",
     "output_type": "stream",
     "text": [
      "Saved checkpoint at epoch 49 with CER: 0.2399\n",
      "Epoch 49/80:\n",
      "  Train Loss: -0.0287\n",
      "  Val Loss: 0.2417, Val CER: 0.2399\n"
     ]
    },
    {
     "name": "stderr",
     "output_type": "stream",
     "text": [
      "Epoch 50/80 [Train]: 100%|██████████| 960/960 [00:32<00:00, 29.11it/s, loss=-0.126]   \n",
      "Epoch 50/80 [Val]: 100%|██████████| 54/54 [00:03<00:00, 15.52it/s, loss=0.724]  \n"
     ]
    },
    {
     "name": "stdout",
     "output_type": "stream",
     "text": [
      "Epoch 50/80:\n",
      "  Train Loss: -0.0421\n",
      "  Val Loss: 0.3180, Val CER: 0.2514\n"
     ]
    },
    {
     "name": "stderr",
     "output_type": "stream",
     "text": [
      "Epoch 51/80 [Train]: 100%|██████████| 960/960 [00:33<00:00, 29.07it/s, loss=0.172]    \n",
      "Epoch 51/80 [Val]: 100%|██████████| 54/54 [00:03<00:00, 15.57it/s, loss=0.6]   \n"
     ]
    },
    {
     "name": "stdout",
     "output_type": "stream",
     "text": [
      "Epoch 51/80:\n",
      "  Train Loss: -0.0489\n",
      "  Val Loss: 0.3614, Val CER: 0.2591\n"
     ]
    },
    {
     "name": "stderr",
     "output_type": "stream",
     "text": [
      "Epoch 52/80 [Train]: 100%|██████████| 960/960 [00:32<00:00, 29.20it/s, loss=0.205]    \n",
      "Epoch 52/80 [Val]: 100%|██████████| 54/54 [00:03<00:00, 15.79it/s, loss=0.222]  \n"
     ]
    },
    {
     "name": "stdout",
     "output_type": "stream",
     "text": [
      "Epoch 52/80:\n",
      "  Train Loss: -0.0536\n",
      "  Val Loss: 0.2685, Val CER: 0.2470\n"
     ]
    },
    {
     "name": "stderr",
     "output_type": "stream",
     "text": [
      "Epoch 53/80 [Train]: 100%|██████████| 960/960 [00:32<00:00, 29.13it/s, loss=0.144]    \n",
      "Epoch 53/80 [Val]: 100%|██████████| 54/54 [00:03<00:00, 15.70it/s, loss=0.473]  \n"
     ]
    },
    {
     "name": "stdout",
     "output_type": "stream",
     "text": [
      "Saved checkpoint at epoch 53 with CER: 0.2330\n",
      "Epoch 53/80:\n",
      "  Train Loss: -0.0559\n",
      "  Val Loss: 0.2345, Val CER: 0.2330\n"
     ]
    },
    {
     "name": "stderr",
     "output_type": "stream",
     "text": [
      "Epoch 54/80 [Train]: 100%|██████████| 960/960 [00:32<00:00, 29.24it/s, loss=-0.124]   \n",
      "Epoch 54/80 [Val]: 100%|██████████| 54/54 [00:03<00:00, 16.17it/s, loss=0.461]  \n"
     ]
    },
    {
     "name": "stdout",
     "output_type": "stream",
     "text": [
      "Epoch 54/80:\n",
      "  Train Loss: -0.0684\n",
      "  Val Loss: 0.3040, Val CER: 0.2478\n"
     ]
    },
    {
     "name": "stderr",
     "output_type": "stream",
     "text": [
      "Epoch 55/80 [Train]: 100%|██████████| 960/960 [00:32<00:00, 29.45it/s, loss=-0.123]   \n",
      "Epoch 55/80 [Val]: 100%|██████████| 54/54 [00:03<00:00, 16.22it/s, loss=0.615] \n"
     ]
    },
    {
     "name": "stdout",
     "output_type": "stream",
     "text": [
      "Epoch 55/80:\n",
      "  Train Loss: -0.0782\n",
      "  Val Loss: 0.3588, Val CER: 0.2705\n"
     ]
    },
    {
     "name": "stderr",
     "output_type": "stream",
     "text": [
      "Epoch 56/80 [Train]: 100%|██████████| 960/960 [00:32<00:00, 29.61it/s, loss=-0.136]   \n",
      "Epoch 56/80 [Val]: 100%|██████████| 54/54 [00:03<00:00, 15.99it/s, loss=0.289]  \n"
     ]
    },
    {
     "name": "stdout",
     "output_type": "stream",
     "text": [
      "Epoch 56/80:\n",
      "  Train Loss: -0.0819\n",
      "  Val Loss: 0.3089, Val CER: 0.2468\n"
     ]
    },
    {
     "name": "stderr",
     "output_type": "stream",
     "text": [
      "Epoch 57/80 [Train]: 100%|██████████| 960/960 [00:32<00:00, 29.55it/s, loss=-0.28]    \n",
      "Epoch 57/80 [Val]: 100%|██████████| 54/54 [00:03<00:00, 16.13it/s, loss=0.0276] \n"
     ]
    },
    {
     "name": "stdout",
     "output_type": "stream",
     "text": [
      "Epoch 57/80:\n",
      "  Train Loss: -0.0881\n",
      "  Val Loss: 0.2875, Val CER: 0.2443\n"
     ]
    },
    {
     "name": "stderr",
     "output_type": "stream",
     "text": [
      "Epoch 58/80 [Train]: 100%|██████████| 960/960 [00:33<00:00, 29.07it/s, loss=0.27]     \n",
      "Epoch 58/80 [Val]: 100%|██████████| 54/54 [00:03<00:00, 16.27it/s, loss=0.468]  \n"
     ]
    },
    {
     "name": "stdout",
     "output_type": "stream",
     "text": [
      "Epoch 58/80:\n",
      "  Train Loss: -0.0963\n",
      "  Val Loss: 0.2774, Val CER: 0.2360\n"
     ]
    },
    {
     "name": "stderr",
     "output_type": "stream",
     "text": [
      "Epoch 59/80 [Train]: 100%|██████████| 960/960 [00:32<00:00, 29.37it/s, loss=-0.124]  \n",
      "Epoch 59/80 [Val]: 100%|██████████| 54/54 [00:03<00:00, 16.07it/s, loss=0.334]  \n"
     ]
    },
    {
     "name": "stdout",
     "output_type": "stream",
     "text": [
      "Epoch 59/80:\n",
      "  Train Loss: -0.0984\n",
      "  Val Loss: 0.2804, Val CER: 0.2433\n"
     ]
    },
    {
     "name": "stderr",
     "output_type": "stream",
     "text": [
      "Epoch 60/80 [Train]: 100%|██████████| 960/960 [00:32<00:00, 29.38it/s, loss=0.074]    \n",
      "Epoch 60/80 [Val]: 100%|██████████| 54/54 [00:03<00:00, 16.23it/s, loss=0.139] \n"
     ]
    },
    {
     "name": "stdout",
     "output_type": "stream",
     "text": [
      "Epoch 60/80:\n",
      "  Train Loss: -0.1052\n",
      "  Val Loss: 0.3254, Val CER: 0.2514\n"
     ]
    },
    {
     "name": "stderr",
     "output_type": "stream",
     "text": [
      "Epoch 61/80 [Train]: 100%|██████████| 960/960 [00:32<00:00, 29.32it/s, loss=-0.257]   \n",
      "Epoch 61/80 [Val]: 100%|██████████| 54/54 [00:03<00:00, 16.46it/s, loss=0.544]  \n"
     ]
    },
    {
     "name": "stdout",
     "output_type": "stream",
     "text": [
      "Epoch 61/80:\n",
      "  Train Loss: -0.1118\n",
      "  Val Loss: 0.2960, Val CER: 0.2394\n"
     ]
    },
    {
     "name": "stderr",
     "output_type": "stream",
     "text": [
      "Epoch 62/80 [Train]: 100%|██████████| 960/960 [00:33<00:00, 28.89it/s, loss=0.0751]   \n",
      "Epoch 62/80 [Val]: 100%|██████████| 54/54 [00:03<00:00, 16.62it/s, loss=0.538]   \n"
     ]
    },
    {
     "name": "stdout",
     "output_type": "stream",
     "text": [
      "Epoch 62/80:\n",
      "  Train Loss: -0.1141\n",
      "  Val Loss: 0.2867, Val CER: 0.2346\n"
     ]
    },
    {
     "name": "stderr",
     "output_type": "stream",
     "text": [
      "Epoch 63/80 [Train]: 100%|██████████| 960/960 [00:33<00:00, 29.09it/s, loss=-0.112]   \n",
      "Epoch 63/80 [Val]: 100%|██████████| 54/54 [00:03<00:00, 16.54it/s, loss=0.285] \n"
     ]
    },
    {
     "name": "stdout",
     "output_type": "stream",
     "text": [
      "Epoch 63/80:\n",
      "  Train Loss: -0.1141\n",
      "  Val Loss: 0.3237, Val CER: 0.2460\n"
     ]
    },
    {
     "name": "stderr",
     "output_type": "stream",
     "text": [
      "Epoch 64/80 [Train]: 100%|██████████| 960/960 [00:32<00:00, 29.34it/s, loss=-0.16]    \n",
      "Epoch 64/80 [Val]: 100%|██████████| 54/54 [00:03<00:00, 16.31it/s, loss=0.401] \n"
     ]
    },
    {
     "name": "stdout",
     "output_type": "stream",
     "text": [
      "Epoch 64/80:\n",
      "  Train Loss: -0.1224\n",
      "  Val Loss: 0.3426, Val CER: 0.2490\n"
     ]
    },
    {
     "name": "stderr",
     "output_type": "stream",
     "text": [
      "Epoch 65/80 [Train]: 100%|██████████| 960/960 [00:32<00:00, 29.34it/s, loss=-0.413]   \n",
      "Epoch 65/80 [Val]: 100%|██████████| 54/54 [00:03<00:00, 16.87it/s, loss=0.525] \n"
     ]
    },
    {
     "name": "stdout",
     "output_type": "stream",
     "text": [
      "Epoch 65/80:\n",
      "  Train Loss: -0.1209\n",
      "  Val Loss: 0.3377, Val CER: 0.2493\n"
     ]
    },
    {
     "name": "stderr",
     "output_type": "stream",
     "text": [
      "Epoch 66/80 [Train]: 100%|██████████| 960/960 [00:32<00:00, 29.10it/s, loss=-0.0381]  \n",
      "Epoch 66/80 [Val]: 100%|██████████| 54/54 [00:03<00:00, 16.52it/s, loss=0.605]  \n"
     ]
    },
    {
     "name": "stdout",
     "output_type": "stream",
     "text": [
      "Epoch 66/80:\n",
      "  Train Loss: -0.1267\n",
      "  Val Loss: 0.3335, Val CER: 0.2436\n"
     ]
    },
    {
     "name": "stderr",
     "output_type": "stream",
     "text": [
      "Epoch 67/80 [Train]: 100%|██████████| 960/960 [00:32<00:00, 29.34it/s, loss=0.0604]   \n",
      "Epoch 67/80 [Val]: 100%|██████████| 54/54 [00:03<00:00, 16.36it/s, loss=0.314]  \n"
     ]
    },
    {
     "name": "stdout",
     "output_type": "stream",
     "text": [
      "Epoch 67/80:\n",
      "  Train Loss: -0.1325\n",
      "  Val Loss: 0.3191, Val CER: 0.2410\n"
     ]
    },
    {
     "name": "stderr",
     "output_type": "stream",
     "text": [
      "Epoch 68/80 [Train]: 100%|██████████| 960/960 [00:32<00:00, 29.24it/s, loss=-0.0355]  \n",
      "Epoch 68/80 [Val]: 100%|██████████| 54/54 [00:03<00:00, 16.52it/s, loss=0.394] \n"
     ]
    },
    {
     "name": "stdout",
     "output_type": "stream",
     "text": [
      "Epoch 68/80:\n",
      "  Train Loss: -0.1338\n",
      "  Val Loss: 0.3422, Val CER: 0.2480\n"
     ]
    },
    {
     "name": "stderr",
     "output_type": "stream",
     "text": [
      "Epoch 69/80 [Train]: 100%|██████████| 960/960 [00:33<00:00, 29.06it/s, loss=-0.133]  \n",
      "Epoch 69/80 [Val]: 100%|██████████| 54/54 [00:03<00:00, 16.67it/s, loss=0.656]  \n"
     ]
    },
    {
     "name": "stdout",
     "output_type": "stream",
     "text": [
      "Epoch 69/80:\n",
      "  Train Loss: -0.1340\n",
      "  Val Loss: 0.3087, Val CER: 0.2382\n"
     ]
    },
    {
     "name": "stderr",
     "output_type": "stream",
     "text": [
      "Epoch 70/80 [Train]: 100%|██████████| 960/960 [00:33<00:00, 29.08it/s, loss=-0.103]   \n",
      "Epoch 70/80 [Val]: 100%|██████████| 54/54 [00:03<00:00, 16.67it/s, loss=0.661] \n"
     ]
    },
    {
     "name": "stdout",
     "output_type": "stream",
     "text": [
      "Epoch 70/80:\n",
      "  Train Loss: -0.1396\n",
      "  Val Loss: 0.3529, Val CER: 0.2479\n"
     ]
    },
    {
     "name": "stderr",
     "output_type": "stream",
     "text": [
      "Epoch 71/80 [Train]: 100%|██████████| 960/960 [00:33<00:00, 28.88it/s, loss=-0.197]   \n",
      "Epoch 71/80 [Val]: 100%|██████████| 54/54 [00:03<00:00, 16.12it/s, loss=0.392]  \n"
     ]
    },
    {
     "name": "stdout",
     "output_type": "stream",
     "text": [
      "Epoch 71/80:\n",
      "  Train Loss: -0.1450\n",
      "  Val Loss: 0.3062, Val CER: 0.2405\n"
     ]
    },
    {
     "name": "stderr",
     "output_type": "stream",
     "text": [
      "Epoch 72/80 [Train]: 100%|██████████| 960/960 [00:32<00:00, 29.19it/s, loss=-0.0383]  \n",
      "Epoch 72/80 [Val]: 100%|██████████| 54/54 [00:03<00:00, 16.40it/s, loss=0.469]  \n"
     ]
    },
    {
     "name": "stdout",
     "output_type": "stream",
     "text": [
      "Epoch 72/80:\n",
      "  Train Loss: -0.1408\n",
      "  Val Loss: 0.3015, Val CER: 0.2362\n"
     ]
    },
    {
     "name": "stderr",
     "output_type": "stream",
     "text": [
      "Epoch 73/80 [Train]: 100%|██████████| 960/960 [00:32<00:00, 29.32it/s, loss=0.228]    \n",
      "Epoch 73/80 [Val]: 100%|██████████| 54/54 [00:03<00:00, 16.14it/s, loss=0.35]   \n"
     ]
    },
    {
     "name": "stdout",
     "output_type": "stream",
     "text": [
      "Epoch 73/80:\n",
      "  Train Loss: -0.1430\n",
      "  Val Loss: 0.3227, Val CER: 0.2416\n"
     ]
    },
    {
     "name": "stderr",
     "output_type": "stream",
     "text": [
      "Epoch 74/80 [Train]: 100%|██████████| 960/960 [00:32<00:00, 29.48it/s, loss=-0.0179]  \n",
      "Epoch 74/80 [Val]: 100%|██████████| 54/54 [00:03<00:00, 16.52it/s, loss=0.335] \n"
     ]
    },
    {
     "name": "stdout",
     "output_type": "stream",
     "text": [
      "Epoch 74/80:\n",
      "  Train Loss: -0.1386\n",
      "  Val Loss: 0.3196, Val CER: 0.2419\n"
     ]
    },
    {
     "name": "stderr",
     "output_type": "stream",
     "text": [
      "Epoch 75/80 [Train]: 100%|██████████| 960/960 [00:33<00:00, 28.70it/s, loss=-0.034]   \n",
      "Epoch 75/80 [Val]: 100%|██████████| 54/54 [00:03<00:00, 16.47it/s, loss=0.385]  \n"
     ]
    },
    {
     "name": "stdout",
     "output_type": "stream",
     "text": [
      "Epoch 75/80:\n",
      "  Train Loss: -0.1491\n",
      "  Val Loss: 0.3093, Val CER: 0.2383\n"
     ]
    },
    {
     "name": "stderr",
     "output_type": "stream",
     "text": [
      "Epoch 76/80 [Train]: 100%|██████████| 960/960 [00:32<00:00, 29.34it/s, loss=-0.232]   \n",
      "Epoch 76/80 [Val]: 100%|██████████| 54/54 [00:03<00:00, 16.27it/s, loss=0.445]  \n"
     ]
    },
    {
     "name": "stdout",
     "output_type": "stream",
     "text": [
      "Epoch 76/80:\n",
      "  Train Loss: -0.1487\n",
      "  Val Loss: 0.3119, Val CER: 0.2364\n"
     ]
    },
    {
     "name": "stderr",
     "output_type": "stream",
     "text": [
      "Epoch 77/80 [Train]: 100%|██████████| 960/960 [00:32<00:00, 29.13it/s, loss=-0.146]  \n",
      "Epoch 77/80 [Val]: 100%|██████████| 54/54 [00:03<00:00, 16.05it/s, loss=0.491]  \n"
     ]
    },
    {
     "name": "stdout",
     "output_type": "stream",
     "text": [
      "Epoch 77/80:\n",
      "  Train Loss: -0.1469\n",
      "  Val Loss: 0.3319, Val CER: 0.2444\n"
     ]
    },
    {
     "name": "stderr",
     "output_type": "stream",
     "text": [
      "Epoch 78/80 [Train]: 100%|██████████| 960/960 [00:33<00:00, 29.05it/s, loss=-0.057]  \n",
      "Epoch 78/80 [Val]: 100%|██████████| 54/54 [00:03<00:00, 16.12it/s, loss=0.359]   \n"
     ]
    },
    {
     "name": "stdout",
     "output_type": "stream",
     "text": [
      "Epoch 78/80:\n",
      "  Train Loss: -0.1488\n",
      "  Val Loss: 0.3195, Val CER: 0.2391\n"
     ]
    },
    {
     "name": "stderr",
     "output_type": "stream",
     "text": [
      "Epoch 79/80 [Train]: 100%|██████████| 960/960 [00:32<00:00, 29.43it/s, loss=0.0622]   \n",
      "Epoch 79/80 [Val]: 100%|██████████| 54/54 [00:03<00:00, 16.18it/s, loss=0.468]  \n"
     ]
    },
    {
     "name": "stdout",
     "output_type": "stream",
     "text": [
      "Epoch 79/80:\n",
      "  Train Loss: -0.1471\n",
      "  Val Loss: 0.3304, Val CER: 0.2420\n"
     ]
    },
    {
     "name": "stderr",
     "output_type": "stream",
     "text": [
      "Epoch 80/80 [Train]: 100%|██████████| 960/960 [00:32<00:00, 29.38it/s, loss=0.322]   \n",
      "Epoch 80/80 [Val]: 100%|██████████| 54/54 [00:03<00:00, 16.27it/s, loss=0.493] "
     ]
    },
    {
     "name": "stdout",
     "output_type": "stream",
     "text": [
      "Epoch 80/80:\n",
      "  Train Loss: -0.1494\n",
      "  Val Loss: 0.3460, Val CER: 0.2472\n",
      "Best validation CER: 0.2330 at epoch 53\n"
     ]
    },
    {
     "name": "stderr",
     "output_type": "stream",
     "text": [
      "\n"
     ]
    }
   ],
   "source": [
    "# Set device\n",
    "device = torch.device('cuda' if torch.cuda.is_available() else 'cpu')\n",
    "print(f\"Using device: {device}\")\n",
    "\n",
    "# Initialize the EMGConformer model with better parameters\n",
    "model = EMGConformer(\n",
    "    num_classes=99,\n",
    "    d_model=256,        # Increased from 128 for better representation\n",
    "    nhead=8,            # Increased from 4 for more attention heads\n",
    "    num_layers=4,       # Increased from 2 for deeper model\n",
    "    dropout=0.3         # Reduced from 0.5 to prevent overfitting\n",
    ")\n",
    "\n",
    "# Print model architecture and parameter count\n",
    "print(model)\n",
    "total_params = sum(p.numel() for p in model.parameters())\n",
    "print(f\"Total parameters: {total_params:,}\")\n",
    "\n",
    "# Move the model to the device\n",
    "model = model.to(device)\n",
    "\n",
    "# Test with a small batch\n",
    "try:\n",
    "    print(\"Testing model with a small batch...\")\n",
    "    # Get a small batch\n",
    "    test_batch = next(iter(train_loader))\n",
    "    test_inputs = test_batch['inputs'].to(device)\n",
    "    test_lengths = test_batch['input_lengths'].to(device)\n",
    "    \n",
    "    # Test forward pass\n",
    "    with torch.no_grad():\n",
    "        outputs = model(test_inputs, test_lengths)\n",
    "    \n",
    "    print(f\"Forward pass successful! Output shape: {outputs.shape}\")\n",
    "    \n",
    "    # Now try the training\n",
    "    print(\"Starting training...\")\n",
    "    history, best_epoch, best_val_cer = train_model(\n",
    "        model=model,\n",
    "        train_loader=train_loader,\n",
    "        val_loader=val_loader,\n",
    "        device=device,\n",
    "        epochs=80,      # Train for more epochs\n",
    "        lr=0.001,        # Better learning rate\n",
    "        weight_decay=1e-4  # Slightly reduced weight decay\n",
    "    )\n",
    "    print(f\"Best validation CER: {best_val_cer:.4f} at epoch {best_epoch}\")\n",
    "except Exception as e:\n",
    "    print(f\"Error encountered: {type(e).__name__}: {e}\")\n",
    "    \n",
    "    # Try with small batch only for debugging\n",
    "    if 'small_train_loader' in globals() and 'small_val_loader' in globals():\n",
    "        print(\"Trying with small data loaders for debugging...\")\n",
    "        try:\n",
    "            history = train_model(\n",
    "                model=model,\n",
    "                train_loader=small_train_loader,\n",
    "                val_loader=small_val_loader,\n",
    "                device=device,\n",
    "                epochs=2,  # Just a few epochs\n",
    "                lr=0.001,\n",
    "                weight_decay=1e-4\n",
    "            )\n",
    "        except Exception as e2:\n",
    "            print(f\"Error with small data loaders: {type(e2).__name__}: {e2}\")"
   ]
  },
  {
   "cell_type": "code",
   "execution_count": 20,
   "metadata": {},
   "outputs": [
    {
     "name": "stdout",
     "output_type": "stream",
     "text": [
      "Using results from epoch 59\n",
      "Number of epochs with predictions: 60\n",
      "Number of samples in epoch 59: 1698\n",
      "Sample 12 prediction: [1, 17, 14, 22, 7, 96, 5, 14, 96]\n",
      "Number of targets in epoch 59: 1698\n",
      "Sample 12 target: [ 1 17 14 22 13 96  5 14 23 96]\n",
      "prediction: browh fo \n",
      "target    : brown fox \n",
      "\n",
      "Additional examples:\n",
      "Example 1:\n",
      "  prediction: \n",
      "  target    : \n",
      "Example 2:\n",
      "  prediction: \n",
      "  target    : \n",
      "Example 3:\n",
      "  prediction: \n",
      "  target    : \n",
      "Example 4:\n",
      "  prediction: \n",
      "  target    : \n",
      "Example 5:\n",
      "  prediction: o\n",
      "  target    : \n"
     ]
    }
   ],
   "source": [
    "all_predictions_lst = history['all_predictions']\n",
    "all_targets_lst = history['all_targets']\n",
    "\n",
    "# Make sure this epoch exists in your history\n",
    "epoch_id = min(60-1, len(all_predictions_lst)-1)  # Get the last epoch by default\n",
    "print(f\"Using results from epoch {epoch_id}\")\n",
    "\n",
    "# Output how many epochs of predictions we have\n",
    "print(f\"Number of epochs with predictions: {len(all_predictions_lst)}\")\n",
    "\n",
    "# Make sure we have predictions for this epoch\n",
    "if epoch_id < len(all_predictions_lst) and all_predictions_lst[epoch_id]:\n",
    "    # Get number of samples and choose one that exists\n",
    "    num_samples = len(all_predictions_lst[epoch_id])\n",
    "    it = min(12, num_samples-1)  # Default to sample 12 or the last one if fewer\n",
    "    \n",
    "    print(f\"Number of samples in epoch {epoch_id}: {num_samples}\")\n",
    "    print(f\"Sample {it} prediction: {all_predictions_lst[epoch_id][it]}\")\n",
    "    pred = all_predictions_lst[epoch_id][it]\n",
    "    \n",
    "    print(f\"Number of targets in epoch {epoch_id}: {len(all_targets_lst[epoch_id])}\")\n",
    "    print(f\"Sample {it} target: {all_targets_lst[epoch_id][it]}\")\n",
    "    target = all_targets_lst[epoch_id][it]\n",
    "    \n",
    "    # Convert indices to characters\n",
    "    char_set = charset()\n",
    "    \n",
    "    # Filter out null class tokens and duplicates from predictions\n",
    "    filtered_pred = []\n",
    "    prev = None\n",
    "    for p in pred:\n",
    "        if p != char_set.null_class and p != prev:\n",
    "            filtered_pred.append(p)\n",
    "        prev = p\n",
    "    \n",
    "    pred_chars = char_set.labels_to_str(filtered_pred)\n",
    "    target_chars = char_set.labels_to_str(target)\n",
    "    print(f'prediction: {pred_chars}')\n",
    "    print(f'target    : {target_chars}')\n",
    "    \n",
    "    # Show additional examples\n",
    "    print(\"\\nAdditional examples:\")\n",
    "    for i in range(5):\n",
    "        sample_idx = min(i, num_samples-1)\n",
    "        pred = all_predictions_lst[epoch_id][sample_idx]\n",
    "        target = all_targets_lst[epoch_id][sample_idx]\n",
    "        \n",
    "        # Filter out null class tokens and duplicates\n",
    "        filtered_pred = []\n",
    "        prev = None\n",
    "        for p in pred:\n",
    "            if p != char_set.null_class and p != prev:\n",
    "                filtered_pred.append(p)\n",
    "            prev = p\n",
    "            \n",
    "        pred_chars = char_set.labels_to_str(filtered_pred)\n",
    "        target_chars = char_set.labels_to_str(target)\n",
    "        print(f'Example {i+1}:')\n",
    "        print(f'  prediction: {pred_chars}')\n",
    "        print(f'  target    : {target_chars}')\n",
    "else:\n",
    "    print(f\"No predictions available for epoch {epoch_id}\")"
   ]
  },
  {
   "cell_type": "code",
   "execution_count": 19,
   "metadata": {},
   "outputs": [
    {
     "name": "stdout",
     "output_type": "stream",
     "text": [
      "Loading best model from epoch 43...\n"
     ]
    },
    {
     "name": "stderr",
     "output_type": "stream",
     "text": [
      "Test Evaluation: 100%|██████████| 71/71 [00:04<00:00, 17.69it/s]"
     ]
    },
    {
     "name": "stdout",
     "output_type": "stream",
     "text": [
      "Test CER: 0.3058\n",
      "\n",
      "Test Examples:\n",
      "Example 1:\n",
      "  prediction: \n",
      "  target    : \n",
      "Example 2:\n",
      "  prediction: \n",
      "  target    : \n",
      "Example 3:\n",
      "  prediction: '\n",
      "  target    : \n",
      "Example 4:\n",
      "  prediction: \n",
      "  target    : \n",
      "Example 5:\n",
      "  prediction: \n",
      "  target    : \n"
     ]
    },
    {
     "name": "stderr",
     "output_type": "stream",
     "text": [
      "\n"
     ]
    }
   ],
   "source": [
    "def evaluate_on_test(model, test_loader, device):\n",
    "    \"\"\"Evaluate the model on test data and compute CER\"\"\"\n",
    "    model.eval()\n",
    "    all_predictions = []\n",
    "    all_targets = []\n",
    "    \n",
    "    with torch.no_grad():\n",
    "        progress_bar = tqdm(test_loader, desc=\"Test Evaluation\")\n",
    "        for batch in progress_bar:\n",
    "            inputs = batch['inputs'].to(device)\n",
    "            targets = batch['targets'].to(device)\n",
    "            input_lengths = batch['input_lengths'].to(device)\n",
    "            target_lengths = batch['target_lengths'].to(device)\n",
    "            \n",
    "            # Forward pass\n",
    "            outputs = model(inputs, input_lengths)\n",
    "            \n",
    "            # Compute log probabilities\n",
    "            log_probs = outputs.log_softmax(2)\n",
    "            \n",
    "            # Adjust input lengths for downsampling in the model\n",
    "            input_lengths = torch.div(input_lengths, 2, rounding_mode='floor')\n",
    "            input_lengths = torch.clamp(input_lengths, min=1)\n",
    "            \n",
    "            # Decode predictions\n",
    "            predictions = decode_predictions(log_probs.cpu(), input_lengths.cpu())\n",
    "            targets_np = targets.cpu().numpy()\n",
    "            \n",
    "            # Store predictions and targets for CER calculation\n",
    "            for i in range(inputs.size(1)):\n",
    "                target_seq = targets_np[:target_lengths[i].item(), i]\n",
    "                all_predictions.append(predictions[i])\n",
    "                all_targets.append(target_seq)\n",
    "    \n",
    "    # Calculate Character Error Rate\n",
    "    cer = calculate_cer(all_predictions, all_targets)\n",
    "    \n",
    "    return cer, all_predictions, all_targets\n",
    "\n",
    "# Load the best model\n",
    "print(f\"Loading best model from epoch {best_epoch}...\")\n",
    "best_model = EMGConformer(\n",
    "    num_classes=99,\n",
    "    d_model=256,\n",
    "    nhead=8,\n",
    "    num_layers=4,\n",
    "    dropout=0.3\n",
    ").to(device)\n",
    "best_model.load_state_dict(torch.load('conformer_best.pth'))\n",
    "\n",
    "# Evaluate on test data\n",
    "test_cer, test_predictions, test_targets = evaluate_on_test(best_model, test_loader, device)\n",
    "print(f\"Test CER: {test_cer:.4f}\")\n",
    "\n",
    "# Optional: Display a few examples\n",
    "char_set = charset()\n",
    "print(\"\\nTest Examples:\")\n",
    "for i in range(min(5, len(test_predictions))):\n",
    "    pred = test_predictions[i]\n",
    "    target = test_targets[i]\n",
    "    \n",
    "    # Filter out null class tokens and duplicates\n",
    "    filtered_pred = []\n",
    "    prev = None\n",
    "    for p in pred:\n",
    "        if p != char_set.null_class and p != prev:\n",
    "            filtered_pred.append(p)\n",
    "        prev = p\n",
    "    \n",
    "    pred_chars = char_set.labels_to_str(filtered_pred)\n",
    "    target_chars = char_set.labels_to_str(target)\n",
    "    print(f'Example {i+1}:')\n",
    "    print(f'  prediction: {pred_chars}')\n",
    "    print(f'  target    : {target_chars}')"
   ]
  },
  {
   "cell_type": "code",
   "execution_count": null,
   "metadata": {},
   "outputs": [],
   "source": []
  },
  {
   "cell_type": "code",
   "execution_count": null,
   "metadata": {},
   "outputs": [],
   "source": [
    "'''class SimpleEMGConformer(nn.Module):\n",
    "    def __init__(self, num_classes=99, d_model=128, nhead=4, num_layers=2, dropout=0.5):\n",
    "        super().__init__()\n",
    "        \n",
    "        # Input EMG signal dimensions\n",
    "        self.features = 1056  # 2 bands * 16 channels * 33 frequencies\n",
    "        \n",
    "        # Enhanced CNN feature extraction\n",
    "        self.conv_layers = nn.Sequential(\n",
    "            nn.Conv1d(self.features, 256, kernel_size=3, stride=1, padding=1),\n",
    "            nn.BatchNorm1d(256),\n",
    "            nn.ReLU(),\n",
    "            nn.Dropout(dropout),\n",
    "            \n",
    "            nn.Conv1d(256, d_model, kernel_size=3, stride=1, padding=1),\n",
    "            nn.BatchNorm1d(d_model),\n",
    "            nn.ReLU(),\n",
    "            nn.MaxPool1d(kernel_size=2, stride=2),  # Only one pooling layer\n",
    "            nn.Dropout(dropout)\n",
    "        )\n",
    "        \n",
    "        # Positional encoding\n",
    "        self.pos_encoder = PositionalEncoding(d_model)\n",
    "        \n",
    "        # Simple Transformer encoder layers instead of full Conformer blocks\n",
    "        encoder_layer = nn.TransformerEncoderLayer(\n",
    "            d_model=d_model,\n",
    "            nhead=nhead,\n",
    "            dim_feedforward=d_model*2,\n",
    "            dropout=dropout,\n",
    "            batch_first=False\n",
    "        )\n",
    "        self.transformer_encoder = nn.TransformerEncoder(encoder_layer, num_layers)\n",
    "        \n",
    "        # Classification head\n",
    "        self.classifier = nn.Sequential(\n",
    "            nn.Linear(d_model, d_model),\n",
    "            nn.Dropout(dropout),\n",
    "            nn.ReLU(),\n",
    "            nn.Linear(d_model, num_classes)\n",
    "        )\n",
    "    \n",
    "    def forward(self, x, input_lengths=None):\n",
    "        # x shape: [T, N, B, C, F] - [time, batch, bands, channels, freq]\n",
    "        T, N, B, C, F = x.shape\n",
    "        device = x.device\n",
    "        \n",
    "        # Flatten features and prepare for Conv1d\n",
    "        x = x.reshape(T, N, B*C*F).permute(1, 2, 0)  # [N, B*C*F, T]\n",
    "        \n",
    "        # Apply CNN layers\n",
    "        x = self.conv_layers(x)  # [N, d_model, T//2]\n",
    "        \n",
    "        # Calculate new sequence lengths after CNN pooling (only one pooling layer)\n",
    "        if input_lengths is not None:\n",
    "            new_lengths = torch.div(input_lengths, 2, rounding_mode='floor')\n",
    "            new_lengths = torch.clamp(new_lengths, min=1)\n",
    "            # Create padding mask for transformer\n",
    "            max_len = x.size(2)\n",
    "            padding_mask = (torch.arange(max_len, device=device).expand(N, max_len) \n",
    "                           >= new_lengths.unsqueeze(1))\n",
    "        else:\n",
    "            padding_mask = None\n",
    "        \n",
    "        # Prepare for transformer: [T//2, N, d_model]\n",
    "        x = x.permute(2, 0, 1)\n",
    "        \n",
    "        # Apply positional encoding\n",
    "        x = self.pos_encoder(x)\n",
    "        \n",
    "        # Apply transformer encoder\n",
    "        x = self.transformer_encoder(x, src_key_padding_mask=padding_mask)\n",
    "        \n",
    "        # Apply classifier\n",
    "        time_steps, batch_size, hidden_dim = x.size()\n",
    "        x = x.reshape(-1, hidden_dim)\n",
    "        x = self.classifier(x)\n",
    "        x = x.view(time_steps, batch_size, -1)\n",
    "        \n",
    "        return x'''"
   ]
  }
 ],
 "metadata": {
  "kernelspec": {
   "display_name": "Python 3",
   "language": "python",
   "name": "python3"
  },
  "language_info": {
   "codemirror_mode": {
    "name": "ipython",
    "version": 3
   },
   "file_extension": ".py",
   "mimetype": "text/x-python",
   "name": "python",
   "nbconvert_exporter": "python",
   "pygments_lexer": "ipython3",
   "version": "3.11.9"
  }
 },
 "nbformat": 4,
 "nbformat_minor": 2
}
